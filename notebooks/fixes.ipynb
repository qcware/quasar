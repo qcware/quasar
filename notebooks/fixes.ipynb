{
 "cells": [
  {
   "cell_type": "code",
   "execution_count": 1,
   "metadata": {},
   "outputs": [],
   "source": [
    "import quasar"
   ]
  },
  {
   "cell_type": "code",
   "execution_count": 24,
   "metadata": {},
   "outputs": [
    {
     "name": "stdout",
     "output_type": "stream",
     "text": [
      "T  : |0|1|2|\n",
      "            \n",
      "q0 : -H-@---\n",
      "        |   \n",
      "q1 : ---X-@-\n",
      "        | | \n",
      "q2 : ---|-X-\n",
      "        | | \n",
      "q3 : -H-@-X-\n",
      "            \n",
      "q4 : -------\n",
      "\n",
      "T  : |0|1|2|\n"
     ]
    }
   ],
   "source": [
    "circuit = quasar.Circuit(N=5)\n",
    "circuit.H(0)\n",
    "circuit.H(3)\n",
    "circuit.CCX(0,3,1)\n",
    "circuit.CSWAP(1,2,3)\n",
    "print(circuit)"
   ]
  },
  {
   "cell_type": "code",
   "execution_count": 25,
   "metadata": {},
   "outputs": [
    {
     "name": "stdout",
     "output_type": "stream",
     "text": [
      "[0.5+0.j 0. +0.j 0.5+0.j 0. +0.j 0. +0.j 0. +0.j 0. +0.j 0. +0.j 0. +0.j\n",
      " 0. +0.j 0. +0.j 0. +0.j 0. +0.j 0. +0.j 0. +0.j 0. +0.j 0.5+0.j 0. +0.j\n",
      " 0. +0.j 0. +0.j 0. +0.j 0. +0.j 0. +0.j 0. +0.j 0. +0.j 0. +0.j 0. +0.j\n",
      " 0. +0.j 0.5+0.j 0. +0.j 0. +0.j 0. +0.j]\n"
     ]
    }
   ],
   "source": [
    "print(circuit.simulate())"
   ]
  },
  {
   "cell_type": "code",
   "execution_count": 4,
   "metadata": {},
   "outputs": [],
   "source": [
    "import collections\n",
    "import numpy as np\n",
    "XII = quasar.Gate(\n",
    "    N=3,\n",
    "    Ufun=lambda x : np.kron(quasar.Matrix.X, np.kron(quasar.Matrix.I, quasar.Matrix.I)),\n",
    "    params=collections.OrderedDict(),\n",
    "    name='XII',\n",
    "    ascii_symbols=['X', 'I', 'I'],\n",
    "    )\n",
    "IXI = quasar.Gate(\n",
    "    N=3,\n",
    "    Ufun=lambda x : np.kron(quasar.Matrix.I, np.kron(quasar.Matrix.X, quasar.Matrix.I)),\n",
    "    params=collections.OrderedDict(),\n",
    "    name='IXI',\n",
    "    ascii_symbols=['I', 'X', 'I'],\n",
    "    )\n",
    "IIX = quasar.Gate(\n",
    "    N=3,\n",
    "    Ufun=lambda x : np.kron(quasar.Matrix.I, np.kron(quasar.Matrix.I, quasar.Matrix.X)),\n",
    "    params=collections.OrderedDict(),\n",
    "    name='IIX',\n",
    "    ascii_symbols=['I', 'I', 'X'],\n",
    "    )"
   ]
  },
  {
   "cell_type": "code",
   "execution_count": 11,
   "metadata": {},
   "outputs": [
    {
     "name": "stdout",
     "output_type": "stream",
     "text": [
      "T  : |0|\n",
      "        \n",
      "q0 : -I-\n",
      "      | \n",
      "q1 : -I-\n",
      "      | \n",
      "q2 : -|-\n",
      "      | \n",
      "q3 : -|-\n",
      "      | \n",
      "q4 : -X-\n",
      "\n",
      "T  : |0|\n",
      "|00001> : 1000\n",
      "\n",
      "T  : |0|\n",
      "        \n",
      "q0 : -I-\n",
      "      | \n",
      "q1 : -X-\n",
      "      | \n",
      "q2 : -|-\n",
      "      | \n",
      "q3 : -|-\n",
      "      | \n",
      "q4 : -I-\n",
      "\n",
      "T  : |0|\n",
      "|01000> : 1000\n",
      "\n",
      "T  : |0|\n",
      "        \n",
      "q0 : -I-\n",
      "      | \n",
      "q1 : -I-\n",
      "      | \n",
      "q2 : -|-\n",
      "      | \n",
      "q3 : -|-\n",
      "      | \n",
      "q4 : -X-\n",
      "\n",
      "T  : |0|\n",
      "|00001> : 1000\n",
      "\n",
      "T  : |0|\n",
      "        \n",
      "q0 : -X-\n",
      "      | \n",
      "q1 : -I-\n",
      "      | \n",
      "q2 : -|-\n",
      "      | \n",
      "q3 : -|-\n",
      "      | \n",
      "q4 : -I-\n",
      "\n",
      "T  : |0|\n",
      "|10000> : 1000\n",
      "\n",
      "T  : |0|\n",
      "        \n",
      "q0 : -I-\n",
      "      | \n",
      "q1 : -X-\n",
      "      | \n",
      "q2 : -|-\n",
      "      | \n",
      "q3 : -|-\n",
      "      | \n",
      "q4 : -I-\n",
      "\n",
      "T  : |0|\n",
      "|01000> : 1000\n",
      "\n",
      "T  : |0|\n",
      "        \n",
      "q0 : -X-\n",
      "      | \n",
      "q1 : -I-\n",
      "      | \n",
      "q2 : -|-\n",
      "      | \n",
      "q3 : -|-\n",
      "      | \n",
      "q4 : -I-\n",
      "\n",
      "T  : |0|\n",
      "|10000> : 1000\n",
      "\n"
     ]
    }
   ],
   "source": [
    "gate = IIX\n",
    "N=5\n",
    "circuit = quasar.Circuit(N=N).add_gate(gate, (0, 1, N-1))\n",
    "print(circuit)\n",
    "print(circuit.measure())\n",
    "circuit = quasar.Circuit(N=N).add_gate(gate, (0, N-1, 1))\n",
    "print(circuit)\n",
    "print(circuit.measure())\n",
    "circuit = quasar.Circuit(N=N).add_gate(gate, (1, 0, N-1))\n",
    "print(circuit)\n",
    "print(circuit.measure())\n",
    "circuit = quasar.Circuit(N=N).add_gate(gate, (1, N-1, 0))\n",
    "print(circuit)\n",
    "print(circuit.measure())\n",
    "circuit = quasar.Circuit(N=N).add_gate(gate, (N-1, 0, 1))\n",
    "print(circuit)\n",
    "print(circuit.measure())\n",
    "circuit = quasar.Circuit(N=N).add_gate(gate, (N-1, 1, 0))\n",
    "print(circuit)\n",
    "print(circuit.measure())"
   ]
  },
  {
   "cell_type": "code",
   "execution_count": 21,
   "metadata": {},
   "outputs": [
    {
     "name": "stdout",
     "output_type": "stream",
     "text": [
      "[[0.+0.j 0.+0.j 0.+0.j 1.+0.j]\n",
      " [0.+0.j 0.+0.j 1.+0.j 0.+0.j]\n",
      " [0.+0.j 1.+0.j 0.+0.j 0.+0.j]\n",
      " [1.+0.j 0.+0.j 0.+0.j 0.+0.j]]\n",
      "[[ 1.+0.j  0.+0.j  0.+0.j  0.+0.j]\n",
      " [ 0.+0.j -1.+0.j  0.+0.j -0.+0.j]\n",
      " [ 0.+0.j  0.+0.j -1.+0.j -0.+0.j]\n",
      " [ 0.+0.j -0.+0.j -0.+0.j  1.-0.j]]\n",
      "[[0.+0.j 0.+0.j 1.+0.j 0.+0.j]\n",
      " [0.+0.j 0.+0.j 0.+0.j 1.+0.j]\n",
      " [1.+0.j 0.+0.j 0.+0.j 0.+0.j]\n",
      " [0.+0.j 1.+0.j 0.+0.j 0.+0.j]]\n",
      "[[0.+0.j 1.+0.j 0.+0.j 0.+0.j]\n",
      " [1.+0.j 0.+0.j 0.+0.j 0.+0.j]\n",
      " [0.+0.j 0.+0.j 0.+0.j 1.+0.j]\n",
      " [0.+0.j 0.+0.j 1.+0.j 0.+0.j]]\n",
      "[[0.+0.j 0.+0.j 0.-1.j 0.-0.j]\n",
      " [0.+0.j 0.+0.j 0.-0.j 0.-1.j]\n",
      " [0.+1.j 0.+0.j 0.+0.j 0.+0.j]\n",
      " [0.+0.j 0.+1.j 0.+0.j 0.+0.j]]\n",
      "[[0.+0.j 0.-1.j 0.+0.j 0.-0.j]\n",
      " [0.+1.j 0.+0.j 0.+0.j 0.+0.j]\n",
      " [0.+0.j 0.-0.j 0.+0.j 0.-1.j]\n",
      " [0.+0.j 0.+0.j 0.+1.j 0.+0.j]]\n"
     ]
    }
   ],
   "source": [
    "print(quasar.Matrix.XX)\n",
    "print(quasar.Matrix.ZZ)\n",
    "print(quasar.Matrix.XI)\n",
    "print(quasar.Matrix.IX)\n",
    "print(quasar.Matrix.YI)\n",
    "print(quasar.Matrix.IY)"
   ]
  },
  {
   "cell_type": "code",
   "execution_count": 14,
   "metadata": {},
   "outputs": [
    {
     "ename": "RuntimeError",
     "evalue": "N > 2",
     "output_type": "error",
     "traceback": [
      "\u001b[0;31m---------------------------------------------------------------------------\u001b[0m",
      "\u001b[0;31mRuntimeError\u001b[0m                              Traceback (most recent call last)",
      "\u001b[0;32m<ipython-input-14-3eefa3aada87>\u001b[0m in \u001b[0;36m<module>\u001b[0;34m\u001b[0m\n\u001b[0;32m----> 1\u001b[0;31m \u001b[0mquasar\u001b[0m\u001b[0;34m.\u001b[0m\u001b[0mrun_statevector\u001b[0m\u001b[0;34m(\u001b[0m\u001b[0mquasar\u001b[0m\u001b[0;34m.\u001b[0m\u001b[0mQuasarSimulatorBackend\u001b[0m\u001b[0;34m(\u001b[0m\u001b[0;34m)\u001b[0m\u001b[0;34m,\u001b[0m \u001b[0mcircuit\u001b[0m\u001b[0;34m)\u001b[0m\u001b[0;34m\u001b[0m\u001b[0;34m\u001b[0m\u001b[0m\n\u001b[0m",
      "\u001b[0;32m~/Code/quasar-aws/quasar/run.py\u001b[0m in \u001b[0;36mrun_statevector\u001b[0;34m(backend, circuit, **kwargs)\u001b[0m\n\u001b[1;32m     31\u001b[0m         \u001b[0mcircuit\u001b[0m \u001b[0;34m=\u001b[0m \u001b[0mbuild_quasar_circuit\u001b[0m\u001b[0;34m(\u001b[0m\u001b[0mcircuit\u001b[0m\u001b[0;34m)\u001b[0m\u001b[0;34m\u001b[0m\u001b[0;34m\u001b[0m\u001b[0m\n\u001b[1;32m     32\u001b[0m \u001b[0;34m\u001b[0m\u001b[0m\n\u001b[0;32m---> 33\u001b[0;31m     \u001b[0;32mreturn\u001b[0m \u001b[0mbackend\u001b[0m\u001b[0;34m.\u001b[0m\u001b[0mrun_statevector\u001b[0m\u001b[0;34m(\u001b[0m\u001b[0mcircuit\u001b[0m\u001b[0;34m,\u001b[0m \u001b[0;34m**\u001b[0m\u001b[0mkwargs\u001b[0m\u001b[0;34m)\u001b[0m\u001b[0;34m\u001b[0m\u001b[0;34m\u001b[0m\u001b[0m\n\u001b[0m\u001b[1;32m     34\u001b[0m \u001b[0;34m\u001b[0m\u001b[0m\n\u001b[1;32m     35\u001b[0m def run_pauli_expectation(\n",
      "\u001b[0;32m~/Code/quasar-aws/quasar/quasar_backend.py\u001b[0m in \u001b[0;36mrun_statevector\u001b[0;34m(self, circuit, compressed)\u001b[0m\n\u001b[1;32m     77\u001b[0m         \u001b[0mcompressed\u001b[0m\u001b[0;34m=\u001b[0m\u001b[0;32mTrue\u001b[0m\u001b[0;34m,\u001b[0m\u001b[0;34m\u001b[0m\u001b[0;34m\u001b[0m\u001b[0m\n\u001b[1;32m     78\u001b[0m         ):\n\u001b[0;32m---> 79\u001b[0;31m         \u001b[0;32mreturn\u001b[0m \u001b[0;34m(\u001b[0m\u001b[0mcircuit\u001b[0m\u001b[0;34m.\u001b[0m\u001b[0mcompressed\u001b[0m\u001b[0;34m(\u001b[0m\u001b[0;34m)\u001b[0m \u001b[0;32mif\u001b[0m \u001b[0mcompressed\u001b[0m \u001b[0;32melse\u001b[0m \u001b[0mcircuit\u001b[0m\u001b[0;34m)\u001b[0m\u001b[0;34m.\u001b[0m\u001b[0msimulate\u001b[0m\u001b[0;34m(\u001b[0m\u001b[0;34m)\u001b[0m\u001b[0;34m\u001b[0m\u001b[0;34m\u001b[0m\u001b[0m\n\u001b[0m\u001b[1;32m     80\u001b[0m \u001b[0;34m\u001b[0m\u001b[0m\n\u001b[1;32m     81\u001b[0m     def run_measurement(\n",
      "\u001b[0;32m~/Code/quasar-aws/quasar/circuit.py\u001b[0m in \u001b[0;36mcompressed\u001b[0;34m(self)\u001b[0m\n\u001b[1;32m   1007\u001b[0m                 \u001b[0mplan\u001b[0m\u001b[0;34m[\u001b[0m\u001b[0mB\u001b[0m\u001b[0;34m]\u001b[0m\u001b[0;34m[\u001b[0m\u001b[0mT\u001b[0m\u001b[0;34m]\u001b[0m \u001b[0;34m=\u001b[0m \u001b[0;34m-\u001b[0m\u001b[0;36m2\u001b[0m\u001b[0;34m\u001b[0m\u001b[0;34m\u001b[0m\u001b[0m\n\u001b[1;32m   1008\u001b[0m             \u001b[0;32melse\u001b[0m\u001b[0;34m:\u001b[0m\u001b[0;34m\u001b[0m\u001b[0;34m\u001b[0m\u001b[0m\n\u001b[0;32m-> 1009\u001b[0;31m                 \u001b[0;32mraise\u001b[0m \u001b[0mRuntimeError\u001b[0m\u001b[0;34m(\u001b[0m\u001b[0;34m\"N > 2\"\u001b[0m\u001b[0;34m)\u001b[0m\u001b[0;34m\u001b[0m\u001b[0;34m\u001b[0m\u001b[0m\n\u001b[0m\u001b[1;32m   1010\u001b[0m         \u001b[0mcircuit2\u001b[0m \u001b[0;34m=\u001b[0m \u001b[0mCircuit\u001b[0m\u001b[0;34m(\u001b[0m\u001b[0mN\u001b[0m\u001b[0;34m=\u001b[0m\u001b[0mself\u001b[0m\u001b[0;34m.\u001b[0m\u001b[0mN\u001b[0m\u001b[0;34m)\u001b[0m\u001b[0;34m\u001b[0m\u001b[0;34m\u001b[0m\u001b[0m\n\u001b[1;32m   1011\u001b[0m         \u001b[0;32mfor\u001b[0m \u001b[0mA\u001b[0m\u001b[0;34m,\u001b[0m \u001b[0mrow\u001b[0m \u001b[0;32min\u001b[0m \u001b[0menumerate\u001b[0m\u001b[0;34m(\u001b[0m\u001b[0mplan\u001b[0m\u001b[0;34m)\u001b[0m\u001b[0;34m:\u001b[0m\u001b[0;34m\u001b[0m\u001b[0;34m\u001b[0m\u001b[0m\n",
      "\u001b[0;31mRuntimeError\u001b[0m: N > 2"
     ]
    }
   ],
   "source": [
    "quasar.run_statevector(quasar.QuasarSimulatorBackend(), circuit)"
   ]
  },
  {
   "cell_type": "code",
   "execution_count": null,
   "metadata": {},
   "outputs": [],
   "source": []
  }
 ],
 "metadata": {
  "kernelspec": {
   "display_name": "Python 3",
   "language": "python",
   "name": "python3"
  },
  "language_info": {
   "codemirror_mode": {
    "name": "ipython",
    "version": 3
   },
   "file_extension": ".py",
   "mimetype": "text/x-python",
   "name": "python",
   "nbconvert_exporter": "python",
   "pygments_lexer": "ipython3",
   "version": "3.7.1"
  }
 },
 "nbformat": 4,
 "nbformat_minor": 2
}
