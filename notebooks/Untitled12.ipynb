{
 "cells": [
  {
   "cell_type": "code",
   "execution_count": 1,
   "metadata": {},
   "outputs": [],
   "source": [
    "import quasar\n",
    "import mcvqe"
   ]
  },
  {
   "cell_type": "code",
   "execution_count": 2,
   "metadata": {},
   "outputs": [],
   "source": [
    "filenames = ['../data/aiem/bchl-a-8-stack/tc/%s/exciton.dat' \n",
    "             % (A) for A in range(1,8+1)]\n",
    "aiem_monomer = mcvqe.AIEMMonomer.from_tc_exciton_files(\n",
    "    filenames=filenames,\n",
    "    N=2,\n",
    "    connectivity='linear',\n",
    "    )"
   ]
  },
  {
   "cell_type": "code",
   "execution_count": 3,
   "metadata": {},
   "outputs": [],
   "source": [
    "optimizer = quasar.BFGSOptimizer.from_options()\n",
    "optimizer = quasar.PowellOptimizer.from_options()\n",
    "optimizer = quasar.JacobiOptimizer.from_options(jacobi_level=1)"
   ]
  },
  {
   "cell_type": "code",
   "execution_count": 4,
   "metadata": {},
   "outputs": [],
   "source": [
    "backend = quasar.QuasarSimulatorBackend()"
   ]
  },
  {
   "cell_type": "code",
   "execution_count": 5,
   "metadata": {},
   "outputs": [],
   "source": [
    "optimizer = quasar.JacobiOptimizer.from_options(\n",
    "    jacobi_level=2,\n",
    "    g_convergence=1.0E-6,\n",
    "    maxiter=100)"
   ]
  },
  {
   "cell_type": "code",
   "execution_count": 6,
   "metadata": {},
   "outputs": [
    {
     "name": "stdout",
     "output_type": "stream",
     "text": [
      "==> MC-VQE+AIEM <==\n",
      "\n",
      "Quantum Resources:\n",
      "  Backend        = Quasar Simulator Backend (Statevector)\n",
      "  Shots          = None\n",
      "  Shots Subspace = None\n",
      "  Shots Deriv    = None\n",
      "\n",
      "AIEM Problem:\n",
      " N            = 2\n",
      " Ncis         = 3\n",
      " Nstate       = 2\n",
      " Connectivity = linear\n",
      "\n",
      "CIS Verification:\n",
      "\n",
      "State:       Match\n",
      "0    :  -2.776E-17\n",
      "1    :   1.214E-17\n",
      "\n",
      "SA-VQE Weights:\n",
      "\n",
      "State:      Weight\n",
      "0    :   5.000E-01\n",
      "1    :   5.000E-01\n",
      "\n",
      "VQE Entangler Circuit:\n",
      "  vqe_circuit_type = mark1x\n",
      "  vqe_nparam       = 6\n",
      "\n",
      "Initital VQE params guessed as zero.\n",
      "\n",
      " > Jacobi Optimizer <\n",
      "\n",
      "MC-VQE Jacobi Iterations:\n",
      "\n",
      "Jacobi Level       = 2\n",
      "Jacobi Randomize   = False\n",
      "DIIS Type          = anderson\n",
      "DIIS Max Vectors   = 6\n",
      "DIIS Flush Vectors = 20\n",
      "\n",
      "Jacobi Tasks:\n",
      "(1, 0)\n",
      "(2, 0)\n",
      "(2, 1)\n",
      "(3, 0)\n",
      "(3, 1)\n",
      "(3, 2)\n",
      "(4, 0)\n",
      "(4, 1)\n",
      "(4, 2)\n",
      "(4, 3)\n",
      "(5, 0)\n",
      "(5, 1)\n",
      "(5, 2)\n",
      "(5, 3)\n",
      "(5, 4)\n",
      "\n",
      "Iter:                   Energy          dE          dG  Time[s]\n",
      "   0:  -5.0660024291555361E-02  -5.066E-02   1.348E-02    0.099\n",
      "   1:  -5.2058969074060081E-02  -1.399E-03   3.069E-04    1.209\n",
      "   2:  -5.2060693784412533E-02  -1.725E-06   1.622E-05    1.213\n",
      "   3:  -5.2060698287993347E-02  -4.504E-09   4.052E-06    1.203\n",
      "   4:  -5.2060698342122222E-02  -5.413E-11   3.664E-06    1.190\n",
      "   5:  -5.2060698525441762E-02  -1.833E-10   1.824E-06    1.211\n",
      "   6:  -5.2060698518182305E-02   7.259E-12   1.930E-06    1.178\n",
      "   7:  -5.2060698571247198E-02  -5.306E-11   9.085E-07    1.187\n",
      "\n",
      "Jacobi Iterations Converged\n",
      "\n",
      "Finished VQE Circuit:\n",
      "\n",
      "T  : |0 |1|2 |3|4 |\n",
      "                   \n",
      "q0 : -Ry-@-Ry-@-Ry-\n",
      "         |    |    \n",
      "q1 : -Ry-X-Ry-X-Ry-\n",
      "\n",
      "T  : |0 |1|2 |3|4 |\n",
      "\n",
      "Finished VQE Parameters:\n",
      "\n",
      "Index Time  Qubits     Name       Gate      :     Value\n",
      "0     0     (0,)       theta      Ry        :  0.074458\n",
      "1     0     (1,)       theta      Ry        : -0.000004\n",
      "2     2     (0,)       theta      Ry        : -0.007901\n",
      "3     2     (1,)       theta      Ry        : -0.197758\n",
      "4     4     (0,)       theta      Ry        :  0.115178\n",
      "5     4     (1,)       theta      Ry        :  0.089959\n",
      "\n",
      "State Energies (Total):\n",
      "\n",
      "State:                      FCI                      VQE                      CIS                     dVQE                     dCIS\n",
      "0    :  -2.6825781542973396E+03  -2.6825781542973386E+03  -2.6825770653328623E+03    9.094947017729282E-13   1.0889644772760221E-03\n",
      "1    :  -2.6825076718567448E+03  -2.6825076718567152E+03  -2.6825059594726322E+03    2.955857780762017E-11   1.7123841125794570E-03\n",
      "\n",
      "State Energies (Normal):\n",
      "\n",
      "State:                      FCI                      VQE                      CIS                     dVQE                     dCIS\n",
      "0    :  -8.7301918884035573E-02  -8.7301918882987467E-02  -8.6212954406634734E-02    1.048106046397379E-12   1.0889644774008389E-03\n",
      "1    :  -1.6819478288981431E-02  -1.6819478259506936E-02  -1.5107094176475966E-02    2.947449576073957E-11   1.7123841125054658E-03\n",
      "\n",
      "Excitation Energies:\n",
      "\n",
      "State:                      FCI                      VQE                      CIS                     dVQE                     dCIS\n",
      "1    :   7.0482440595054138E-02   7.0482440623480525E-02   7.1105860230158774E-02    2.842638624489524E-11   6.2341963510463561E-04\n",
      "\n",
      "Oscillator Strengths:\n",
      "\n",
      "State:                      FCI                      VQE                      CIS                     dVQE                     dCIS\n",
      "1    :   3.9666054763929690E-02   3.9673518725038312E-02   8.9250613172958584E-02    7.463961108622463E-06   4.9584558409028895E-02\n",
      "\n",
      "FCI Excitation Fractions:\n",
      "\n",
      "A  :  I=  0  I=  1  \n",
      "0  :  0.009  0.705  \n",
      "1  :  0.044  0.312  \n",
      "\n",
      "VQE Excitation Fractions:\n",
      "\n",
      "A  :  I=  0  I=  1  \n",
      "0  :  0.009  0.705  \n",
      "1  :  0.044  0.312  \n",
      "\n",
      "CIS Excitation Fractions:\n",
      "\n",
      "A  :  I=  0  I=  1  \n",
      "0  :  0.001  0.760  \n",
      "1  :  0.045  0.235  \n",
      "\n",
      "  Viper:    \"That's pretty arrogant, considering the company you're in.\"\n",
      "  Maverick: \"Yes, sir.\"\n",
      "  Viper:    \"I like that in a pilot.\"\n",
      "\n",
      "==> End MC-VQE+AIEM <==\n",
      "\n"
     ]
    }
   ],
   "source": [
    "mcvqe_solver = mcvqe.MCVQE.from_options(\n",
    "    optimizer=optimizer,\n",
    "    aiem_monomer=aiem_monomer,\n",
    "    nstate=2,\n",
    "    )\n",
    "mcvqe_solver.compute_energy()"
   ]
  },
  {
   "cell_type": "code",
   "execution_count": 7,
   "metadata": {},
   "outputs": [
    {
     "name": "stdout",
     "output_type": "stream",
     "text": [
      "T  : |0 |1|2 |3|4 |\n",
      "                   \n",
      "q0 : -Ry-@-Ry-@-Ry-\n",
      "         |    |    \n",
      "q1 : -Ry-X-Ry-X-Ry-\n",
      "\n",
      "T  : |0 |1|2 |3|4 |\n"
     ]
    }
   ],
   "source": [
    "print(mcvqe_solver.vqe_circuit)"
   ]
  },
  {
   "cell_type": "code",
   "execution_count": 8,
   "metadata": {},
   "outputs": [],
   "source": [
    "backend2 = quasar.CirqSimulatorBackend()"
   ]
  },
  {
   "cell_type": "code",
   "execution_count": 9,
   "metadata": {},
   "outputs": [],
   "source": [
    "circuit2 = backend2.build_native_circuit(mcvqe_solver.vqe_circuit)"
   ]
  },
  {
   "cell_type": "code",
   "execution_count": 10,
   "metadata": {},
   "outputs": [],
   "source": [
    "optimizer = quasar.JacobiOptimizer.from_options(\n",
    "    jacobi_level=2,\n",
    "    g_convergence=1.0E-6,\n",
    "    maxiter=100)"
   ]
  },
  {
   "cell_type": "code",
   "execution_count": 11,
   "metadata": {},
   "outputs": [
    {
     "name": "stdout",
     "output_type": "stream",
     "text": [
      "0: ───Ry(0.047π)───@───Ry(-0.005π)───@───Ry(0.073π)───\n",
      "                   │                 │\n",
      "1: ───Ry(-0.0π)────X───Ry(-0.126π)───X───Ry(0.057π)───\n",
      "<class 'cirq.circuits.circuit.Circuit'>\n"
     ]
    }
   ],
   "source": [
    "print(circuit2)\n",
    "print(type(circuit2))"
   ]
  },
  {
   "cell_type": "code",
   "execution_count": 12,
   "metadata": {},
   "outputs": [
    {
     "name": "stderr",
     "output_type": "stream",
     "text": [
      "/anaconda3/lib/python3.7/site-packages/marshmallow/schema.py:364: ChangedInMarshmallow3Warning: strict=False is not recommended. In marshmallow 3.0, schemas will always be strict. See https://marshmallow.readthedocs.io/en/latest/upgrading.html#schemas-are-always-strict\n",
      "  ChangedInMarshmallow3Warning\n"
     ]
    },
    {
     "name": "stdout",
     "output_type": "stream",
     "text": [
      "==> MC-VQE+AIEM <==\n",
      "\n",
      "Quantum Resources:\n",
      "  Backend        = Qiskit Simulator Backend\n",
      "  Shots          = None\n",
      "  Shots Subspace = None\n",
      "  Shots Deriv    = None\n",
      "\n",
      "AIEM Problem:\n",
      " N            = 2\n",
      " Ncis         = 3\n",
      " Nstate       = 2\n",
      " Connectivity = linear\n",
      "\n",
      "CIS Verification:\n",
      "\n",
      "State:       Match\n",
      "0    :  -2.776E-17\n",
      "1    :   1.214E-17\n",
      "\n",
      "SA-VQE Weights:\n",
      "\n",
      "State:      Weight\n",
      "0    :   5.000E-01\n",
      "1    :   5.000E-01\n",
      "\n",
      "VQE Entangler Circuit:\n",
      "  vqe_circuit_type = custom\n",
      "  vqe_nparam       = 6\n",
      "\n",
      "Initial VQE params taken from input circuit.\n",
      "\n",
      " > BFGS Optimizer <\n",
      "\n",
      "  maxiter       = 100\n",
      "  g_convergence = 1.000E-06\n",
      "\n",
      " > End BFGS Optimizer <\n",
      "\n",
      "Finished VQE Circuit:\n",
      "\n",
      "T  : |0 |1|2 |3|4 |\n",
      "                   \n",
      "q0 : -Ry-@-Ry-@-Ry-\n",
      "         |    |    \n",
      "q1 : -Ry-X-Ry-X-Ry-\n",
      "\n",
      "T  : |0 |1|2 |3|4 |\n",
      "\n",
      "Finished VQE Parameters:\n",
      "\n",
      "Index Time  Qubits     Name       Gate      :     Value\n",
      "0     0     (0,)       theta      Ry        :  0.074458\n",
      "1     0     (1,)       theta      Ry        : -0.000004\n",
      "2     2     (0,)       theta      Ry        : -0.007901\n",
      "3     2     (1,)       theta      Ry        : -0.197758\n",
      "4     4     (0,)       theta      Ry        :  0.115178\n",
      "5     4     (1,)       theta      Ry        :  0.089959\n",
      "\n",
      "State Energies (Total):\n",
      "\n",
      "State:                      FCI                      VQE                      CIS                     dVQE                     dCIS\n",
      "0    :  -2.6825781542973396E+03  -2.6825781542973386E+03  -2.6825770653328623E+03    9.094947017729282E-13   1.0889644772760221E-03\n",
      "1    :  -2.6825076718567448E+03  -2.6825076718567152E+03  -2.6825059594726322E+03    2.955857780762017E-11   1.7123841125794570E-03\n",
      "\n",
      "State Energies (Normal):\n",
      "\n",
      "State:                      FCI                      VQE                      CIS                     dVQE                     dCIS\n",
      "0    :  -8.7301918884035573E-02  -8.7301918882987467E-02  -8.6212954406634734E-02    1.048106046397379E-12   1.0889644774008389E-03\n",
      "1    :  -1.6819478288981431E-02  -1.6819478259506949E-02  -1.5107094176475966E-02    2.947448188295176E-11   1.7123841125054658E-03\n",
      "\n",
      "Excitation Energies:\n",
      "\n",
      "State:                      FCI                      VQE                      CIS                     dVQE                     dCIS\n",
      "1    :   7.0482440595054138E-02   7.0482440623480525E-02   7.1105860230158774E-02    2.842638624489524E-11   6.2341963510463561E-04\n",
      "\n",
      "Oscillator Strengths:\n",
      "\n",
      "State:                      FCI                      VQE                      CIS                     dVQE                     dCIS\n",
      "1    :   3.9666054763929690E-02   3.9673518725038236E-02   8.9250613172958584E-02    7.463961108546135E-06   4.9584558409028895E-02\n",
      "\n",
      "FCI Excitation Fractions:\n",
      "\n",
      "A  :  I=  0  I=  1  \n",
      "0  :  0.009  0.705  \n",
      "1  :  0.044  0.312  \n",
      "\n",
      "VQE Excitation Fractions:\n",
      "\n",
      "A  :  I=  0  I=  1  \n",
      "0  :  0.009  0.705  \n",
      "1  :  0.044  0.312  \n",
      "\n",
      "CIS Excitation Fractions:\n",
      "\n",
      "A  :  I=  0  I=  1  \n",
      "0  :  0.001  0.760  \n",
      "1  :  0.045  0.235  \n",
      "\n",
      "  Viper:    \"That's pretty arrogant, considering the company you're in.\"\n",
      "  Maverick: \"Yes, sir.\"\n",
      "  Viper:    \"I like that in a pilot.\"\n",
      "\n",
      "==> End MC-VQE+AIEM <==\n",
      "\n"
     ]
    }
   ],
   "source": [
    "mcvqe_solver = mcvqe.MCVQE.from_options(\n",
    "    backend=quasar.QiskitSimulatorBackend(),\n",
    "    vqe_circuit=circuit2,\n",
    "    aiem_monomer=aiem_monomer,\n",
    "    nstate=2,\n",
    "    )\n",
    "mcvqe_solver.compute_energy()"
   ]
  },
  {
   "cell_type": "code",
   "execution_count": null,
   "metadata": {},
   "outputs": [],
   "source": []
  }
 ],
 "metadata": {
  "kernelspec": {
   "display_name": "Python 3",
   "language": "python",
   "name": "python3"
  },
  "language_info": {
   "codemirror_mode": {
    "name": "ipython",
    "version": 3
   },
   "file_extension": ".py",
   "mimetype": "text/x-python",
   "name": "python",
   "nbconvert_exporter": "python",
   "pygments_lexer": "ipython3",
   "version": "3.7.1"
  }
 },
 "nbformat": 4,
 "nbformat_minor": 2
}
