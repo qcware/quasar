{
 "cells": [
  {
   "cell_type": "code",
   "execution_count": 1,
   "metadata": {},
   "outputs": [],
   "source": [
    "import quasar"
   ]
  },
  {
   "cell_type": "code",
   "execution_count": 2,
   "metadata": {},
   "outputs": [],
   "source": [
    "import cirq"
   ]
  },
  {
   "cell_type": "code",
   "execution_count": 11,
   "metadata": {},
   "outputs": [
    {
     "name": "stdout",
     "output_type": "stream",
     "text": [
      "0: ───Ry(0.0π)───@───Ry(0.0π)───@───Ry(0.0π)───\n",
      "                 │              │\n",
      "1: ───Ry(0.0π)───X───Ry(0.0π)───X───Ry(0.0π)───\n",
      "\n",
      "2: ───Ry(0.0π)───@───Ry(0.0π)───@───Ry(0.0π)───\n",
      "                 │              │\n",
      "3: ───Ry(0.0π)───X───Ry(0.0π)───X───Ry(0.0π)───\n"
     ]
    }
   ],
   "source": [
    "N = 4\n",
    "qs = [cirq.LineQubit(A) for A in range(N)]\n",
    "circuit = cirq.Circuit()\n",
    "for A in range(N):\n",
    "    circuit.append(cirq.Ry(0.0)(qs[A]))\n",
    "for A in range(0, N, 2):\n",
    "    circuit.append(cirq.CNOT(qs[A],qs[A+1]))\n",
    "for A in range(N):\n",
    "    circuit.append(cirq.Ry(0.0)(qs[A]))\n",
    "for A in range(0, N, 2):\n",
    "    circuit.append(cirq.CNOT(qs[A],qs[A+1]))\n",
    "for A in range(N):\n",
    "    circuit.append(cirq.Ry(0.0)(qs[A]))\n",
    "print(circuit)"
   ]
  },
  {
   "cell_type": "code",
   "execution_count": 12,
   "metadata": {},
   "outputs": [
    {
     "name": "stderr",
     "output_type": "stream",
     "text": [
      "/anaconda3/lib/python3.7/site-packages/marshmallow/schema.py:364: ChangedInMarshmallow3Warning: strict=False is not recommended. In marshmallow 3.0, schemas will always be strict. See https://marshmallow.readthedocs.io/en/latest/upgrading.html#schemas-are-always-strict\n",
      "  ChangedInMarshmallow3Warning\n"
     ]
    }
   ],
   "source": [
    "import qiskit"
   ]
  },
  {
   "cell_type": "code",
   "execution_count": 18,
   "metadata": {},
   "outputs": [
    {
     "name": "stdout",
     "output_type": "stream",
     "text": [
      "                                    ┌───────┐\n",
      "q5_0: |0>───────────────────────────┤ Ry(0) ├\n",
      "                           ┌───────┐└───────┘\n",
      "q5_1: |0>──────────────────┤ Ry(0) ├─────────\n",
      "                  ┌───────┐└───────┘         \n",
      "q5_2: |0>─────────┤ Ry(0) ├──────────────────\n",
      "         ┌───────┐└───────┘                  \n",
      "q5_3: |0>┤ Ry(0) ├───────────────────────────\n",
      "         └───────┘                           \n"
     ]
    }
   ],
   "source": [
    "qs = qiskit.QuantumRegister(N)\n",
    "circuit = qiskit.QuantumCircuit(qs)\n",
    "for A in range(N):\n",
    "    circuit.ry(0.0, qs[A])\n",
    "print(circuit)"
   ]
  },
  {
   "cell_type": "code",
   "execution_count": null,
   "metadata": {},
   "outputs": [],
   "source": []
  }
 ],
 "metadata": {
  "kernelspec": {
   "display_name": "Python 3",
   "language": "python",
   "name": "python3"
  },
  "language_info": {
   "codemirror_mode": {
    "name": "ipython",
    "version": 3
   },
   "file_extension": ".py",
   "mimetype": "text/x-python",
   "name": "python",
   "nbconvert_exporter": "python",
   "pygments_lexer": "ipython3",
   "version": "3.7.1"
  }
 },
 "nbformat": 4,
 "nbformat_minor": 2
}
