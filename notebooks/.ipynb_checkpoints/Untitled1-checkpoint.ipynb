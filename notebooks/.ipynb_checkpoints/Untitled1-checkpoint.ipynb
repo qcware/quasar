{
 "cells": [
  {
   "cell_type": "code",
   "execution_count": 1,
   "metadata": {},
   "outputs": [],
   "source": [
    "import quasar"
   ]
  },
  {
   "cell_type": "code",
   "execution_count": 2,
   "metadata": {},
   "outputs": [],
   "source": [
    "I, X, Y, Z = quasar.Pauli.IXYZ()"
   ]
  },
  {
   "cell_type": "code",
   "execution_count": 3,
   "metadata": {},
   "outputs": [],
   "source": [
    "class Fermionic(object):\n",
    "    \n",
    "    def __init__(\n",
    "        self,\n",
    "        creation=True,\n",
    "        ):\n",
    "        \n",
    "        self.creation = creation\n",
    "        \n",
    "    def __getitem__(\n",
    "        self,\n",
    "        index,\n",
    "        ):\n",
    "        \n",
    "        jw_string = []\n",
    "        for I in range(index):\n",
    "            jw_string.append(\n",
    "                quasar.PauliOperator((I, Z))\n",
    "        xstring = quasar.PauliString(tuple(jw_string + [\n",
    "            quasar.PauliOperator(char='X', index=index)]))\n",
    "        ystring = quasar.PauliString(tuple(jw_string + [\n",
    "            quasar.PauliOperator(char='Y', index=index)]))\n",
    "        return quasar.Pauli({\n",
    "            xstring : +0.5,\n",
    "            ystring : -0.5j if self.creation else +0.5j,\n",
    "        })\n",
    "        "
   ]
  },
  {
   "cell_type": "code",
   "execution_count": 4,
   "metadata": {},
   "outputs": [],
   "source": [
    "Q = Fermionic(creation=True)"
   ]
  },
  {
   "cell_type": "code",
   "execution_count": 5,
   "metadata": {},
   "outputs": [
    {
     "ename": "TypeError",
     "evalue": "__new__() got an unexpected keyword argument 'index'",
     "output_type": "error",
     "traceback": [
      "\u001b[0;31m---------------------------------------------------------------------------\u001b[0m",
      "\u001b[0;31mTypeError\u001b[0m                                 Traceback (most recent call last)",
      "\u001b[0;32m<ipython-input-5-229a61d2f3d9>\u001b[0m in \u001b[0;36m<module>\u001b[0;34m\u001b[0m\n\u001b[0;32m----> 1\u001b[0;31m \u001b[0mprint\u001b[0m\u001b[0;34m(\u001b[0m\u001b[0mQ\u001b[0m\u001b[0;34m[\u001b[0m\u001b[0;36m4\u001b[0m\u001b[0;34m]\u001b[0m\u001b[0;34m)\u001b[0m\u001b[0;34m\u001b[0m\u001b[0;34m\u001b[0m\u001b[0m\n\u001b[0m",
      "\u001b[0;32m<ipython-input-3-4eaebcc59214>\u001b[0m in \u001b[0;36m__getitem__\u001b[0;34m(self, index)\u001b[0m\n\u001b[1;32m     16\u001b[0m         \u001b[0;32mfor\u001b[0m \u001b[0mI\u001b[0m \u001b[0;32min\u001b[0m \u001b[0mrange\u001b[0m\u001b[0;34m(\u001b[0m\u001b[0mindex\u001b[0m\u001b[0;34m)\u001b[0m\u001b[0;34m:\u001b[0m\u001b[0;34m\u001b[0m\u001b[0;34m\u001b[0m\u001b[0m\n\u001b[1;32m     17\u001b[0m             jw_string.append(\n\u001b[0;32m---> 18\u001b[0;31m                 quasar.PauliOperator(char='Z', index=I))\n\u001b[0m\u001b[1;32m     19\u001b[0m         xstring = quasar.PauliString(tuple(jw_string + [\n\u001b[1;32m     20\u001b[0m             quasar.PauliOperator(char='X', index=index)]))\n",
      "\u001b[0;31mTypeError\u001b[0m: __new__() got an unexpected keyword argument 'index'"
     ]
    }
   ],
   "source": [
    "print(Q[4])"
   ]
  },
  {
   "cell_type": "code",
   "execution_count": null,
   "metadata": {},
   "outputs": [],
   "source": []
  }
 ],
 "metadata": {
  "kernelspec": {
   "display_name": "Python 3",
   "language": "python",
   "name": "python3"
  },
  "language_info": {
   "codemirror_mode": {
    "name": "ipython",
    "version": 3
   },
   "file_extension": ".py",
   "mimetype": "text/x-python",
   "name": "python",
   "nbconvert_exporter": "python",
   "pygments_lexer": "ipython3",
   "version": "3.7.1"
  }
 },
 "nbformat": 4,
 "nbformat_minor": 2
}
