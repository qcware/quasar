{
 "cells": [
  {
   "cell_type": "markdown",
   "metadata": {},
   "source": [
    "# Circuit Composition\n",
    "We provide some utility functions to join, cut, compress, and otherwise manipulate quantum circuits. The quick-reference guide is:\n",
    " * `copy` - make a copy of the circuit. Setting the params of the new circuit will not affect the params of the original circuit.\n",
    " * `concatenate` - join a list of circuits in time.\n",
    " * `subset` - slice out a subset of moments in time.\n",
    " * `adjoin` - join a list of circuits in qubit space.\n",
    " * `deadjoin` - slice out a subset of qubit space.\n",
    " * `reversed` - return a reversed version (does not transpose individual gates)\n",
    " * `nonredundant` - remove empty time moments.\n",
    " * `subcircuit` - return a subset of the circuit in both qubits and time, essentially a union of `subset` and `deadjoin`.\n",
    " * `add_gate` - an explicit method to add individual gates at specified qubits and time.\n",
    " * `add_circuit` - add another circuit into self, essentially a composite version of `add_gate`.\n",
    " * `compressed` - freezes the circuit in its current parameter state and then jams 1- and 2-qubit gate runs together into fewer composite 1- and 2- qubit gates.\n",
    "\n",
    "Each of these methods (after the first) has an optional `copy` kwarg (defaulted to `True`) - setting this to `False` will yield a new circuit with parameters tied to the original circuit(s)."
   ]
  },
  {
   "cell_type": "markdown",
   "metadata": {},
   "source": [
    "## Slicing and Dicing"
   ]
  },
  {
   "cell_type": "code",
   "execution_count": 1,
   "metadata": {},
   "outputs": [],
   "source": [
    "import numpy as np\n",
    "import quasar"
   ]
  },
  {
   "cell_type": "markdown",
   "metadata": {},
   "source": [
    "Use `adjoin` static method to join two or more circuits in qubit space:"
   ]
  },
  {
   "cell_type": "code",
   "execution_count": 2,
   "metadata": {},
   "outputs": [
    {
     "name": "stdout",
     "output_type": "stream",
     "text": [
      "T  : |0 |\n",
      "         \n",
      "|0> : -Ry-\n",
      "\n",
      "T  : |0 |\n"
     ]
    }
   ],
   "source": [
    "circuit_ry = quasar.Circuit(N=1)\n",
    "circuit_ry.Ry(0)\n",
    "print(circuit_ry)"
   ]
  },
  {
   "cell_type": "code",
   "execution_count": 3,
   "metadata": {},
   "outputs": [
    {
     "name": "stdout",
     "output_type": "stream",
     "text": [
      "T   : |0 |\n",
      "          \n",
      "|0> : -Ry-\n",
      "          \n",
      "|1> : -Ry-\n",
      "\n",
      "T   : |0 |\n"
     ]
    }
   ],
   "source": [
    "circuit_ry2 = quasar.Circuit.adjoin([circuit_ry]*2)\n",
    "print(circuit_ry2)"
   ]
  },
  {
   "cell_type": "markdown",
   "metadata": {},
   "source": [
    "Use the `concatenate` static method to join two or more circuits in time:"
   ]
  },
  {
   "cell_type": "code",
   "execution_count": 4,
   "metadata": {},
   "outputs": [
    {
     "name": "stdout",
     "output_type": "stream",
     "text": [
      "T   : |0|\n",
      "         \n",
      "|0> : -@-\n",
      "       | \n",
      "|1> : -X-\n",
      "\n",
      "T   : |0|\n"
     ]
    }
   ],
   "source": [
    "circuit_cx = quasar.Circuit(N=2)\n",
    "circuit_cx.CX(0,1)\n",
    "print(circuit_cx)"
   ]
  },
  {
   "cell_type": "code",
   "execution_count": 5,
   "metadata": {},
   "outputs": [
    {
     "name": "stdout",
     "output_type": "stream",
     "text": [
      "T   : |0 |1|2 |3|4 |\n",
      "                    \n",
      "|0> : -Ry-@-Ry-@-Ry-\n",
      "          |    |    \n",
      "|1> : -Ry-X-Ry-X-Ry-\n",
      "\n",
      "T   : |0 |1|2 |3|4 |\n"
     ]
    }
   ],
   "source": [
    "circuit = quasar.Circuit.concatenate([circuit_ry2, circuit_cx]*2 + [circuit_ry2])\n",
    "print(circuit)"
   ]
  },
  {
   "cell_type": "markdown",
   "metadata": {},
   "source": [
    "Use the `subset` method to extract a slice of a subset of time values:"
   ]
  },
  {
   "cell_type": "code",
   "execution_count": 6,
   "metadata": {},
   "outputs": [
    {
     "name": "stdout",
     "output_type": "stream",
     "text": [
      "T   : |0 |1|2 |\n",
      "               \n",
      "|0> : -Ry-@-Ry-\n",
      "          |    \n",
      "|1> : -Ry-X-Ry-\n",
      "\n",
      "T   : |0 |1|2 |\n"
     ]
    }
   ],
   "source": [
    "print(circuit.subset(times=[0,1,2]))"
   ]
  },
  {
   "cell_type": "markdown",
   "metadata": {},
   "source": [
    "Use the `deadjoin` method to extract a slice of a subset of qubit indices:"
   ]
  },
  {
   "cell_type": "code",
   "execution_count": 7,
   "metadata": {},
   "outputs": [
    {
     "name": "stdout",
     "output_type": "stream",
     "text": [
      "T  : |0 |1|2 |3|4 |\n",
      "                   \n",
      "|0> : -Ry---Ry---Ry-\n",
      "\n",
      "T  : |0 |1|2 |3|4 |\n"
     ]
    }
   ],
   "source": [
    "print(circuit.deadjoin(qubits=[1]))"
   ]
  },
  {
   "cell_type": "markdown",
   "metadata": {},
   "source": [
    "Use the `nonredundant` method to remove empty time indices:"
   ]
  },
  {
   "cell_type": "code",
   "execution_count": 8,
   "metadata": {},
   "outputs": [
    {
     "name": "stdout",
     "output_type": "stream",
     "text": [
      "T  : |0 |1 |2 |\n",
      "               \n",
      "|0> : -Ry-Ry-Ry-\n",
      "\n",
      "T  : |0 |1 |2 |\n"
     ]
    }
   ],
   "source": [
    "print(circuit.deadjoin(qubits=[1]).nonredundant())"
   ]
  },
  {
   "cell_type": "markdown",
   "metadata": {},
   "source": [
    "Use the `reversed` method to reverse the gate order (does not transpose gate operations => does not reverse time):"
   ]
  },
  {
   "cell_type": "code",
   "execution_count": 9,
   "metadata": {},
   "outputs": [
    {
     "name": "stdout",
     "output_type": "stream",
     "text": [
      "T   : |0 |1|2 |3|4 |\n",
      "                    \n",
      "|0> : -Ry-@-Ry-@-Ry-\n",
      "          |    |    \n",
      "|1> : -Ry-X-Ry-X-Ry-\n",
      "\n",
      "T   : |0 |1|2 |3|4 |\n"
     ]
    }
   ],
   "source": [
    "print(circuit.reversed())"
   ]
  },
  {
   "cell_type": "markdown",
   "metadata": {},
   "source": [
    "## Fine-Grained Control: add_gate and add_circuit"
   ]
  },
  {
   "cell_type": "markdown",
   "metadata": {},
   "source": [
    "Fine-grained control of circuit construction can be accomplished with the `add_gate` and `add_circuit` methods, and corresponding functionality in gate construction helper methods like `H`, `CX`, and `Ry`. For instance:"
   ]
  },
  {
   "cell_type": "code",
   "execution_count": 10,
   "metadata": {},
   "outputs": [
    {
     "name": "stdout",
     "output_type": "stream",
     "text": [
      "T   : |0 |1|2 |3 |4|5 |6 |7|8 |9 |10|11|12|13|\n",
      "                                              \n",
      "|0> : -Ry-@----X---------------------------H--\n",
      "          |    |                              \n",
      "|1> : -Ry-Z-Ry-@--@----X-------------------H--\n",
      "                  |    |                      \n",
      "|2> : ---------Ry-Z-Ry-@--@----X-----------H--\n",
      "                          |    |              \n",
      "|3> : -----------------Ry-Z-Ry-@--@-----X--H--\n",
      "                                  |     |     \n",
      "|4> : -------------------------Ry-Z--Ry-@--H--\n",
      "\n",
      "T   : |0 |1|2 |3 |4|5 |6 |7|8 |9 |10|11|12|13|\n"
     ]
    }
   ],
   "source": [
    "gadget = quasar.Circuit(N=2).Ry(1).CZ(0,1).Ry(1).CX(1,0)\n",
    "circuit = quasar.Circuit(N=5)\n",
    "circuit.Ry(qubit=0, time=0)\n",
    "circuit.add_circuit(gadget, (0,1), times=(0,1,2,3))\n",
    "circuit.add_circuit(gadget, (1,2), time=3)\n",
    "circuit.add_circuit(gadget, (2,3), time_placement='early')\n",
    "circuit.add_circuit(gadget, (3,4))\n",
    "circuit.H(0, time_placement='next')\n",
    "circuit.H(1, time_placement='late')\n",
    "circuit.H(2, time_placement='late')\n",
    "circuit.H(3, time_placement='late')\n",
    "circuit.H(4, time_placement='late')\n",
    "print(circuit)"
   ]
  },
  {
   "cell_type": "markdown",
   "metadata": {},
   "source": [
    "This example deserves a moment of study. First, note that all of the `Circuit` helper methods to add individual gates, such as `H`, `CX`, and `Ry` actually call the `add_gate` method, and pass along any keyword arguments. Therefore, these methods all act like the one-gate equivalent of `add_circuit`. Next, both `add_gate` and `add_circuit` always require the user to provide the `qubits` argument (either an `int` qubit index for a one-qubit gate or a `tuple` of `int` for one-or-more-qubit gates). For the helper methods such as `H`, `CX`, and `Ry`, an explicit list of qubit indices corresponding to, e.g., control (`qubitA`) and target (`qubitB`) qubits is used. For the time axis, the `add_gate` and `add_circuit` methods default to using the `'early'` `time_placement` argument, which adds the new gate or circuit at the right end of the circuit, and then slides the new gate or circuit as far to the left as possible. Optionally, the user can manually specify the `time_placement` argument as being `'early'`, `'late'`, or `'next'`. The `'late'` option tries to start adding the new gate or circuit in the last time moment present in the current circuit, but pushes the entry back to a new time moment if a conflict arises. The `'next'` option always opens a new time moment and starts entry from that point. The `time_placement` argument is trumped by the explicit `time` argument (an `int`), which always starts the entry of the new gate or circuit at the specfied `time`, and proceeds contiguously, with an error thrown if conflicts are found. For the `add_circuit` method, the `time` argument is trumped by the explicit `times` argument (a sequence of `int`) that explicitly specifies the logical mapping of added circuit time moments to the absolute time moments of `self`."
   ]
  },
  {
   "cell_type": "markdown",
   "metadata": {},
   "source": [
    "## Circuit Compression\n",
    "For large-scale simulations, CPU time can be saved by merging runs of neighboring 1- and 2-qubit gates into composite gates. To help with this, we provide the `compressed` method, which identifies a maximal compression to composite 1- and 2-qubit gates. "
   ]
  },
  {
   "cell_type": "code",
   "execution_count": 11,
   "metadata": {},
   "outputs": [
    {
     "name": "stdout",
     "output_type": "stream",
     "text": [
      "T   : |0  |1  |2  |3  |\n",
      "                       \n",
      "|0> : -U2A-------------\n",
      "       |               \n",
      "|1> : -U2B-U2A---------\n",
      "           |           \n",
      "|2> : -----U2B-U2A-----\n",
      "               |       \n",
      "|3> : ---------U2B-U2A-\n",
      "                   |   \n",
      "|4> : -------------U2B-\n",
      "\n",
      "T   : |0  |1  |2  |3  |\n"
     ]
    }
   ],
   "source": [
    "circuit_comp = circuit.compressed()\n",
    "print(circuit_comp)"
   ]
  },
  {
   "cell_type": "markdown",
   "metadata": {},
   "source": [
    "Note that `compressed` freezes the state of the circuit at the current parameter values - if you change the parameters of the original circuit, you will have to call `compressed` again before simulating:"
   ]
  },
  {
   "cell_type": "code",
   "execution_count": 12,
   "metadata": {},
   "outputs": [
    {
     "name": "stdout",
     "output_type": "stream",
     "text": [
      "Index Time  Qubits     Name       Gate      :                    Value\n",
      "\n",
      "Index Time  Qubits     Name       Gate      :                    Value\n",
      "0     0     (0,)       theta      Ry        :   0.0000000000000000E+00\n",
      "1     0     (1,)       theta      Ry        :   0.0000000000000000E+00\n",
      "2     2     (1,)       theta      Ry        :   0.0000000000000000E+00\n",
      "3     3     (2,)       theta      Ry        :   0.0000000000000000E+00\n",
      "4     5     (2,)       theta      Ry        :   0.0000000000000000E+00\n",
      "5     6     (3,)       theta      Ry        :   0.0000000000000000E+00\n",
      "6     8     (3,)       theta      Ry        :   0.0000000000000000E+00\n",
      "7     9     (4,)       theta      Ry        :   0.0000000000000000E+00\n",
      "8     11    (4,)       theta      Ry        :   0.0000000000000000E+00\n",
      "\n"
     ]
    }
   ],
   "source": [
    "print(circuit_comp.param_str)\n",
    "print(circuit.param_str)"
   ]
  }
 ],
 "metadata": {
  "kernelspec": {
   "display_name": "Python 3",
   "language": "python",
   "name": "python3"
  },
  "language_info": {
   "codemirror_mode": {
    "name": "ipython",
    "version": 3
   },
   "file_extension": ".py",
   "mimetype": "text/x-python",
   "name": "python",
   "nbconvert_exporter": "python",
   "pygments_lexer": "ipython3",
   "version": "3.7.1"
  }
 },
 "nbformat": 4,
 "nbformat_minor": 2
}
