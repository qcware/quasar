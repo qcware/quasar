{
 "cells": [
  {
   "cell_type": "markdown",
   "metadata": {},
   "source": [
    "# Circuit Composition\n",
    "We provide some utility functions to join, cut, compress, and otherwise manipulate quantum circuits. The quick-reference guide is:\n",
    " * `copy` - make a copy of the circuit. Setting the params of the new circuit will not affect the params of the original circuit.\n",
    " * `concatenate` - join a list of circuits in time.\n",
    " * `subset` - slice out a subset of moments in time.\n",
    " * `adjoin` - join a list of circuits in qubit space.\n",
    " * `deadjoin` - slice out a subset of qubit space.\n",
    " * `reversed` - return a reversed version (does not transpose individual gates)\n",
    " * `nonredundant` - remove empty time moments.\n",
    " * `compressed` - freezes the circuit in its current parameter state and then jams 1- and 2-qubit gate runs together into fewer composite 1- and 2- qubit gates.\n",
    "\n",
    "Each of these methods (after the first) has an optional `copy` kwarg (defaulted to `True`) - setting this to `False` will yield a new circuit with parameters tied to the original circuit(s)."
   ]
  },
  {
   "cell_type": "markdown",
   "metadata": {},
   "source": [
    "## Slicing and Dicing"
   ]
  },
  {
   "cell_type": "code",
   "execution_count": 1,
   "metadata": {},
   "outputs": [],
   "source": [
    "import numpy as np\n",
    "import quasar"
   ]
  },
  {
   "cell_type": "markdown",
   "metadata": {},
   "source": [
    "Use `adjoin` static method to join two or more circuits in qubit space:"
   ]
  },
  {
   "cell_type": "code",
   "execution_count": 2,
   "metadata": {},
   "outputs": [
    {
     "name": "stdout",
     "output_type": "stream",
     "text": [
      "T  : |0 |\n",
      "         \n",
      "|0> : -Ry-\n",
      "\n",
      "T  : |0 |\n"
     ]
    }
   ],
   "source": [
    "circuit_ry = quasar.Circuit(N=1)\n",
    "circuit_ry.add_gate(T=0, key=0, gate=quasar.Gate.Ry(theta=0.0))\n",
    "print(circuit_ry)"
   ]
  },
  {
   "cell_type": "code",
   "execution_count": 3,
   "metadata": {},
   "outputs": [
    {
     "name": "stdout",
     "output_type": "stream",
     "text": [
      "T   : |0 |\n",
      "          \n",
      "|0> : -Ry-\n",
      "          \n",
      "|1> : -Ry-\n",
      "\n",
      "T   : |0 |\n"
     ]
    }
   ],
   "source": [
    "circuit_ry2 = quasar.Circuit.adjoin([circuit_ry]*2)\n",
    "print(circuit_ry2)"
   ]
  },
  {
   "cell_type": "markdown",
   "metadata": {},
   "source": [
    "Use the `concatenate` static method to join two or more circuits in time:"
   ]
  },
  {
   "cell_type": "code",
   "execution_count": 4,
   "metadata": {},
   "outputs": [
    {
     "name": "stdout",
     "output_type": "stream",
     "text": [
      "T   : |0|\n",
      "         \n",
      "|0> : -@-\n",
      "       | \n",
      "|1> : -X-\n",
      "\n",
      "T   : |0|\n"
     ]
    }
   ],
   "source": [
    "circuit_cnot = quasar.Circuit(N=2)\n",
    "circuit_cnot.add_gate(T=0, key=(0,1), gate=quasar.Gate.CNOT)\n",
    "print(circuit_cnot)"
   ]
  },
  {
   "cell_type": "code",
   "execution_count": 5,
   "metadata": {},
   "outputs": [
    {
     "name": "stdout",
     "output_type": "stream",
     "text": [
      "T   : |0 |1|2 |3|4 |\n",
      "                    \n",
      "|0> : -Ry-@-Ry-@-Ry-\n",
      "          |    |    \n",
      "|1> : -Ry-X-Ry-X-Ry-\n",
      "\n",
      "T   : |0 |1|2 |3|4 |\n"
     ]
    }
   ],
   "source": [
    "circuit = quasar.Circuit.concatenate([circuit_ry2, circuit_cnot]*2 + [circuit_ry2])\n",
    "print(circuit)"
   ]
  },
  {
   "cell_type": "markdown",
   "metadata": {},
   "source": [
    "Use the `subset` method to extract a slice of a subset of time values:"
   ]
  },
  {
   "cell_type": "code",
   "execution_count": 6,
   "metadata": {},
   "outputs": [
    {
     "name": "stdout",
     "output_type": "stream",
     "text": [
      "T   : |0 |1|2 |\n",
      "               \n",
      "|0> : -Ry-@-Ry-\n",
      "          |    \n",
      "|1> : -Ry-X-Ry-\n",
      "\n",
      "T   : |0 |1|2 |\n"
     ]
    }
   ],
   "source": [
    "print(circuit.subset(Ts=[0,1,2]))"
   ]
  },
  {
   "cell_type": "markdown",
   "metadata": {},
   "source": [
    "Use the `deadjoin` method to extract a slice of a subset of qubit indices:"
   ]
  },
  {
   "cell_type": "code",
   "execution_count": 7,
   "metadata": {},
   "outputs": [
    {
     "name": "stdout",
     "output_type": "stream",
     "text": [
      "T  : |0 |1|2 |3|4 |\n",
      "                   \n",
      "|0> : -Ry---Ry---Ry-\n",
      "\n",
      "T  : |0 |1|2 |3|4 |\n"
     ]
    }
   ],
   "source": [
    "print(circuit.deadjoin(keys=[1]))"
   ]
  },
  {
   "cell_type": "markdown",
   "metadata": {},
   "source": [
    "Use the `nonredundant` method to remove empty time indices:"
   ]
  },
  {
   "cell_type": "code",
   "execution_count": 8,
   "metadata": {},
   "outputs": [
    {
     "name": "stdout",
     "output_type": "stream",
     "text": [
      "T  : |0 |1 |2 |\n",
      "               \n",
      "|0> : -Ry-Ry-Ry-\n",
      "\n",
      "T  : |0 |1 |2 |\n"
     ]
    }
   ],
   "source": [
    "print(circuit.deadjoin(keys=[1]).nonredundant())"
   ]
  },
  {
   "cell_type": "markdown",
   "metadata": {},
   "source": [
    "Use the `reversed` method to reverse the gate order (does not transpose gate operations => does not reverse time):"
   ]
  },
  {
   "cell_type": "code",
   "execution_count": 9,
   "metadata": {},
   "outputs": [
    {
     "name": "stdout",
     "output_type": "stream",
     "text": [
      "T   : |0 |1|2 |3|4 |\n",
      "                    \n",
      "|0> : -Ry-@-Ry-@-Ry-\n",
      "          |    |    \n",
      "|1> : -Ry-X-Ry-X-Ry-\n",
      "\n",
      "T   : |0 |1|2 |3|4 |\n"
     ]
    }
   ],
   "source": [
    "print(circuit.reversed())"
   ]
  },
  {
   "cell_type": "markdown",
   "metadata": {},
   "source": [
    "## Circuit Compression\n",
    "For large-scale simulations, CPU time can be saved by merging runs of neighboring 1- and 2-qubit gates into composite gates. To help with this, we provide the `compressed` method, which identifies a maximal compression to composite 1- and 2-qubit gates. "
   ]
  },
  {
   "cell_type": "code",
   "execution_count": 10,
   "metadata": {},
   "outputs": [
    {
     "name": "stdout",
     "output_type": "stream",
     "text": [
      "T   : |0  |\n",
      "           \n",
      "|0> : -U2A-\n",
      "       |   \n",
      "|1> : -U2B-\n",
      "\n",
      "T   : |0  |\n"
     ]
    }
   ],
   "source": [
    "circuit_comp = circuit.compressed()\n",
    "print(circuit_comp)"
   ]
  },
  {
   "cell_type": "markdown",
   "metadata": {},
   "source": [
    "Note that `compressed` freezes the state of the circuit at the current parameter values - if you change the parameters of the original circuit, you will have to call `compressed` again before simulating:"
   ]
  },
  {
   "cell_type": "code",
   "execution_count": 11,
   "metadata": {},
   "outputs": [
    {
     "name": "stdout",
     "output_type": "stream",
     "text": [
      "Index T     Qubits     Name       Gate      :                    Value\n",
      "\n",
      "Index T     Qubits     Name       Gate      :                    Value\n",
      "0     0     (0,)       theta      Ry        :   0.0000000000000000E+00\n",
      "1     0     (1,)       theta      Ry        :   0.0000000000000000E+00\n",
      "2     2     (0,)       theta      Ry        :   0.0000000000000000E+00\n",
      "3     2     (1,)       theta      Ry        :   0.0000000000000000E+00\n",
      "4     4     (0,)       theta      Ry        :   0.0000000000000000E+00\n",
      "5     4     (1,)       theta      Ry        :   0.0000000000000000E+00\n",
      "\n"
     ]
    }
   ],
   "source": [
    "print(circuit_comp.param_str)\n",
    "print(circuit.param_str)"
   ]
  }
 ],
 "metadata": {
  "kernelspec": {
   "display_name": "Python 3",
   "language": "python",
   "name": "python3"
  },
  "language_info": {
   "codemirror_mode": {
    "name": "ipython",
    "version": 3
   },
   "file_extension": ".py",
   "mimetype": "text/x-python",
   "name": "python",
   "nbconvert_exporter": "python",
   "pygments_lexer": "ipython3",
   "version": "3.7.1"
  }
 },
 "nbformat": 4,
 "nbformat_minor": 2
}
