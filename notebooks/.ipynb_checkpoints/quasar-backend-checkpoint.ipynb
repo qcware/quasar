{
 "cells": [
  {
   "cell_type": "markdown",
   "metadata": {},
   "source": [
    "# Cross-Compilation Demonstration"
   ]
  },
  {
   "cell_type": "markdown",
   "metadata": {},
   "source": [
    "## Introduction and Imports"
   ]
  },
  {
   "cell_type": "code",
   "execution_count": 1,
   "metadata": {},
   "outputs": [
    {
     "name": "stderr",
     "output_type": "stream",
     "text": [
      "/anaconda3/lib/python3.7/site-packages/marshmallow/schema.py:364: ChangedInMarshmallow3Warning: strict=False is not recommended. In marshmallow 3.0, schemas will always be strict. See https://marshmallow.readthedocs.io/en/latest/upgrading.html#schemas-are-always-strict\n",
      "  ChangedInMarshmallow3Warning\n"
     ]
    }
   ],
   "source": [
    "import quasar\n",
    "import qiskit\n",
    "import cirq"
   ]
  },
  {
   "cell_type": "markdown",
   "metadata": {},
   "source": [
    "## Backends"
   ]
  },
  {
   "cell_type": "code",
   "execution_count": 2,
   "metadata": {},
   "outputs": [
    {
     "name": "stdout",
     "output_type": "stream",
     "text": [
      "Quasar Simulator Backend (Statevector)\n",
      "Quasar: An Ultralite Quantum Circuit Simulator\n",
      "   By Rob Parrish (rob.parrish@qcware.com)    \n",
      "True\n",
      "True\n",
      "<class 'quasar.circuit.Circuit'>\n"
     ]
    }
   ],
   "source": [
    "quasar_backend = quasar.QuasarSimulatorBackend()\n",
    "print(quasar_backend)\n",
    "print(quasar_backend.summary_str)\n",
    "print(quasar_backend.has_statevector)\n",
    "print(quasar_backend.has_measurement)\n",
    "print(quasar_backend.native_circuit_type)"
   ]
  },
  {
   "cell_type": "code",
   "execution_count": 3,
   "metadata": {},
   "outputs": [
    {
     "name": "stdout",
     "output_type": "stream",
     "text": [
      "Qiskit Simulator Backend\n",
      "Qiskit Simulator Backend\n",
      "True\n",
      "True\n",
      "<class 'qiskit.circuit.quantumcircuit.QuantumCircuit'>\n"
     ]
    }
   ],
   "source": [
    "qiskit_backend = quasar.QiskitSimulatorBackend()\n",
    "print(qiskit_backend)\n",
    "print(qiskit_backend.summary_str)\n",
    "print(qiskit_backend.has_statevector)\n",
    "print(qiskit_backend.has_measurement)\n",
    "print(qiskit_backend.native_circuit_type)"
   ]
  },
  {
   "cell_type": "code",
   "execution_count": 4,
   "metadata": {},
   "outputs": [
    {
     "name": "stdout",
     "output_type": "stream",
     "text": [
      "Cirq Simulator Backend\n",
      "Cirq Simulator Backend\n",
      "True\n",
      "True\n",
      "<class 'cirq.circuits.circuit.Circuit'>\n"
     ]
    }
   ],
   "source": [
    "cirq_backend = quasar.CirqSimulatorBackend()\n",
    "print(cirq_backend)\n",
    "print(cirq_backend.summary_str)\n",
    "print(cirq_backend.has_statevector)\n",
    "print(cirq_backend.has_measurement)\n",
    "print(cirq_backend.native_circuit_type)"
   ]
  },
  {
   "cell_type": "markdown",
   "metadata": {},
   "source": [
    "## Circuit Construction"
   ]
  },
  {
   "cell_type": "code",
   "execution_count": 5,
   "metadata": {},
   "outputs": [
    {
     "name": "stdout",
     "output_type": "stream",
     "text": [
      "T   : |0|1|2|3|\n",
      "               \n",
      "|0> : -H-@-----\n",
      "         |     \n",
      "|1> : ---X-@---\n",
      "           |   \n",
      "|2> : -----X-@-\n",
      "             | \n",
      "|3> : -------X-\n",
      "\n",
      "T   : |0|1|2|3|\n"
     ]
    }
   ],
   "source": [
    "quasar_circuit = quasar.Circuit(N=4).H(0).CX(0,1).CX(1,2).CX(2,3)\n",
    "print(quasar_circuit)"
   ]
  },
  {
   "cell_type": "code",
   "execution_count": 6,
   "metadata": {},
   "outputs": [
    {
     "name": "stdout",
     "output_type": "stream",
     "text": [
      "0: ───H───@───────────\n",
      "          │\n",
      "1: ───────X───@───────\n",
      "              │\n",
      "2: ───────────X───@───\n",
      "                  │\n",
      "3: ───────────────X───\n"
     ]
    }
   ],
   "source": [
    "cirq_qubits = [cirq.LineQubit(A) for A in range(4)]\n",
    "cirq_circuit = cirq.Circuit()\n",
    "cirq_circuit.append(cirq.H(cirq_qubits[0]))\n",
    "cirq_circuit.append(cirq.CNOT(cirq_qubits[0], cirq_qubits[1]))\n",
    "cirq_circuit.append(cirq.CNOT(cirq_qubits[1], cirq_qubits[2]))\n",
    "cirq_circuit.append(cirq.CNOT(cirq_qubits[2], cirq_qubits[3]))\n",
    "print(cirq_circuit)"
   ]
  },
  {
   "cell_type": "code",
   "execution_count": 7,
   "metadata": {},
   "outputs": [
    {
     "name": "stdout",
     "output_type": "stream",
     "text": [
      "         ┌───┐               \n",
      "q0_0: |0>┤ H ├──■────────────\n",
      "         └───┘┌─┴─┐          \n",
      "q0_1: |0>─────┤ X ├──■───────\n",
      "              └───┘┌─┴─┐     \n",
      "q0_2: |0>──────────┤ X ├──■──\n",
      "                   └───┘┌─┴─┐\n",
      "q0_3: |0>───────────────┤ X ├\n",
      "                        └───┘\n"
     ]
    }
   ],
   "source": [
    "qiskit_register = qiskit.QuantumRegister(4)\n",
    "qiskit_circuit = qiskit.QuantumCircuit(qiskit_register)\n",
    "qiskit_circuit.h(qiskit_register[0])\n",
    "qiskit_circuit.cx(qiskit_register[0], qiskit_register[1])\n",
    "qiskit_circuit.cx(qiskit_register[1], qiskit_register[2])\n",
    "qiskit_circuit.cx(qiskit_register[2], qiskit_register[3])\n",
    "print(qiskit_circuit)"
   ]
  },
  {
   "cell_type": "markdown",
   "metadata": {},
   "source": [
    "## Cross-Compilation"
   ]
  },
  {
   "cell_type": "code",
   "execution_count": 8,
   "metadata": {},
   "outputs": [
    {
     "name": "stdout",
     "output_type": "stream",
     "text": [
      "T   : |0|1|2|3|\n",
      "               \n",
      "|0> : -H-@-----\n",
      "         |     \n",
      "|1> : ---X-@---\n",
      "           |   \n",
      "|2> : -----X-@-\n",
      "             | \n",
      "|3> : -------X-\n",
      "\n",
      "T   : |0|1|2|3|\n"
     ]
    }
   ],
   "source": [
    "print(quasar.build_native_circuit(quasar_backend, quasar_circuit))"
   ]
  },
  {
   "cell_type": "code",
   "execution_count": 9,
   "metadata": {},
   "outputs": [
    {
     "name": "stdout",
     "output_type": "stream",
     "text": [
      "T   : |0|1|2|3|\n",
      "               \n",
      "|0> : -H-@-----\n",
      "         |     \n",
      "|1> : ---X-@---\n",
      "           |   \n",
      "|2> : -----X-@-\n",
      "             | \n",
      "|3> : -------X-\n",
      "\n",
      "T   : |0|1|2|3|\n"
     ]
    }
   ],
   "source": [
    "print(quasar.build_native_circuit(quasar_backend, qiskit_circuit))"
   ]
  },
  {
   "cell_type": "code",
   "execution_count": 10,
   "metadata": {},
   "outputs": [
    {
     "name": "stdout",
     "output_type": "stream",
     "text": [
      "T   : |0|1|2|3|\n",
      "               \n",
      "|0> : -H-@-----\n",
      "         |     \n",
      "|1> : ---X-@---\n",
      "           |   \n",
      "|2> : -----X-@-\n",
      "             | \n",
      "|3> : -------X-\n",
      "\n",
      "T   : |0|1|2|3|\n"
     ]
    }
   ],
   "source": [
    "print(quasar.build_native_circuit(quasar_backend, cirq_circuit))"
   ]
  },
  {
   "cell_type": "code",
   "execution_count": 11,
   "metadata": {},
   "outputs": [
    {
     "name": "stdout",
     "output_type": "stream",
     "text": [
      "         ┌───┐               \n",
      "q1_0: |0>┤ H ├──■────────────\n",
      "         └───┘┌─┴─┐          \n",
      "q1_1: |0>─────┤ X ├──■───────\n",
      "              └───┘┌─┴─┐     \n",
      "q1_2: |0>──────────┤ X ├──■──\n",
      "                   └───┘┌─┴─┐\n",
      "q1_3: |0>───────────────┤ X ├\n",
      "                        └───┘\n"
     ]
    }
   ],
   "source": [
    "print(quasar.build_native_circuit(qiskit_backend, quasar_circuit))"
   ]
  },
  {
   "cell_type": "code",
   "execution_count": 12,
   "metadata": {},
   "outputs": [
    {
     "name": "stdout",
     "output_type": "stream",
     "text": [
      "         ┌───┐               \n",
      "q0_0: |0>┤ H ├──■────────────\n",
      "         └───┘┌─┴─┐          \n",
      "q0_1: |0>─────┤ X ├──■───────\n",
      "              └───┘┌─┴─┐     \n",
      "q0_2: |0>──────────┤ X ├──■──\n",
      "                   └───┘┌─┴─┐\n",
      "q0_3: |0>───────────────┤ X ├\n",
      "                        └───┘\n"
     ]
    }
   ],
   "source": [
    "print(quasar.build_native_circuit(qiskit_backend, qiskit_circuit))"
   ]
  },
  {
   "cell_type": "code",
   "execution_count": 13,
   "metadata": {},
   "outputs": [
    {
     "name": "stdout",
     "output_type": "stream",
     "text": [
      "         ┌───┐               \n",
      "q2_0: |0>┤ H ├──■────────────\n",
      "         └───┘┌─┴─┐          \n",
      "q2_1: |0>─────┤ X ├──■───────\n",
      "              └───┘┌─┴─┐     \n",
      "q2_2: |0>──────────┤ X ├──■──\n",
      "                   └───┘┌─┴─┐\n",
      "q2_3: |0>───────────────┤ X ├\n",
      "                        └───┘\n"
     ]
    }
   ],
   "source": [
    "print(quasar.build_native_circuit(qiskit_backend, cirq_circuit))"
   ]
  },
  {
   "cell_type": "code",
   "execution_count": 14,
   "metadata": {},
   "outputs": [
    {
     "name": "stdout",
     "output_type": "stream",
     "text": [
      "0: ───H───@───────────\n",
      "          │\n",
      "1: ───────X───@───────\n",
      "              │\n",
      "2: ───────────X───@───\n",
      "                  │\n",
      "3: ───────────────X───\n"
     ]
    }
   ],
   "source": [
    "print(quasar.build_native_circuit(cirq_backend, quasar_circuit))"
   ]
  },
  {
   "cell_type": "code",
   "execution_count": 15,
   "metadata": {},
   "outputs": [
    {
     "name": "stdout",
     "output_type": "stream",
     "text": [
      "0: ───H───@───────────\n",
      "          │\n",
      "1: ───────X───@───────\n",
      "              │\n",
      "2: ───────────X───@───\n",
      "                  │\n",
      "3: ───────────────X───\n"
     ]
    }
   ],
   "source": [
    "print(quasar.build_native_circuit(cirq_backend, qiskit_circuit))"
   ]
  },
  {
   "cell_type": "code",
   "execution_count": 16,
   "metadata": {},
   "outputs": [
    {
     "name": "stdout",
     "output_type": "stream",
     "text": [
      "0: ───H───@───────────\n",
      "          │\n",
      "1: ───────X───@───────\n",
      "              │\n",
      "2: ───────────X───@───\n",
      "                  │\n",
      "3: ───────────────X───\n"
     ]
    }
   ],
   "source": [
    "print(quasar.build_native_circuit(cirq_backend, cirq_circuit))"
   ]
  },
  {
   "cell_type": "markdown",
   "metadata": {},
   "source": [
    "## Statevector Simulation"
   ]
  },
  {
   "cell_type": "code",
   "execution_count": 17,
   "metadata": {},
   "outputs": [
    {
     "name": "stdout",
     "output_type": "stream",
     "text": [
      "[0.70710678+0.j 0.        +0.j 0.        +0.j 0.        +0.j\n",
      " 0.        +0.j 0.        +0.j 0.        +0.j 0.        +0.j\n",
      " 0.        +0.j 0.        +0.j 0.        +0.j 0.        +0.j\n",
      " 0.        +0.j 0.        +0.j 0.        +0.j 0.70710678+0.j]\n",
      "[0.70710678+0.j 0.        +0.j 0.        +0.j 0.        +0.j\n",
      " 0.        +0.j 0.        +0.j 0.        +0.j 0.        +0.j\n",
      " 0.        +0.j 0.        +0.j 0.        +0.j 0.        +0.j\n",
      " 0.        +0.j 0.        +0.j 0.        +0.j 0.70710678+0.j]\n",
      "[0.70710678+0.j 0.        +0.j 0.        +0.j 0.        +0.j\n",
      " 0.        +0.j 0.        +0.j 0.        +0.j 0.        +0.j\n",
      " 0.        +0.j 0.        +0.j 0.        +0.j 0.        +0.j\n",
      " 0.        +0.j 0.        +0.j 0.        +0.j 0.70710678+0.j]\n",
      "[0.70710678+0.j 0.        +0.j 0.        +0.j 0.        +0.j\n",
      " 0.        +0.j 0.        +0.j 0.        +0.j 0.        +0.j\n",
      " 0.        +0.j 0.        +0.j 0.        +0.j 0.        +0.j\n",
      " 0.        +0.j 0.        +0.j 0.        +0.j 0.70710678+0.j]\n",
      "[0.70710678+0.j 0.        +0.j 0.        +0.j 0.        +0.j\n",
      " 0.        +0.j 0.        +0.j 0.        +0.j 0.        +0.j\n",
      " 0.        +0.j 0.        +0.j 0.        +0.j 0.        +0.j\n",
      " 0.        +0.j 0.        +0.j 0.        +0.j 0.70710678+0.j]\n",
      "[0.70710678+0.j 0.        +0.j 0.        +0.j 0.        +0.j\n",
      " 0.        +0.j 0.        +0.j 0.        +0.j 0.        +0.j\n",
      " 0.        +0.j 0.        +0.j 0.        +0.j 0.        +0.j\n",
      " 0.        +0.j 0.        +0.j 0.        +0.j 0.70710678+0.j]\n",
      "[ 0.70710677+0.j  0.        +0.j  0.        +0.j  0.        +0.j\n",
      "  0.        +0.j  0.        +0.j  0.        +0.j  0.        +0.j\n",
      " -0.        +0.j -0.        +0.j -0.        +0.j -0.        +0.j\n",
      " -0.        +0.j -0.        +0.j -0.        +0.j  0.70710677+0.j]\n",
      "[ 0.70710677+0.j  0.        +0.j  0.        +0.j  0.        +0.j\n",
      "  0.        +0.j  0.        +0.j  0.        +0.j  0.        +0.j\n",
      " -0.        +0.j -0.        +0.j -0.        +0.j -0.        +0.j\n",
      " -0.        +0.j -0.        +0.j -0.        +0.j  0.70710677+0.j]\n",
      "[ 0.70710677+0.j  0.        +0.j  0.        +0.j  0.        +0.j\n",
      "  0.        +0.j  0.        +0.j  0.        +0.j  0.        +0.j\n",
      " -0.        +0.j -0.        +0.j -0.        +0.j -0.        +0.j\n",
      " -0.        +0.j -0.        +0.j -0.        +0.j  0.70710677+0.j]\n"
     ]
    },
    {
     "name": "stderr",
     "output_type": "stream",
     "text": [
      "/anaconda3/lib/python3.7/site-packages/marshmallow/schema.py:364: ChangedInMarshmallow3Warning: strict=False is not recommended. In marshmallow 3.0, schemas will always be strict. See https://marshmallow.readthedocs.io/en/latest/upgrading.html#schemas-are-always-strict\n",
      "  ChangedInMarshmallow3Warning\n"
     ]
    }
   ],
   "source": [
    "print(quasar.run_statevector(quasar_backend, quasar_circuit))\n",
    "print(quasar.run_statevector(quasar_backend, qiskit_circuit))\n",
    "print(quasar.run_statevector(quasar_backend, cirq_circuit))\n",
    "print(quasar.run_statevector(qiskit_backend, quasar_circuit))\n",
    "print(quasar.run_statevector(qiskit_backend, qiskit_circuit))\n",
    "print(quasar.run_statevector(qiskit_backend, cirq_circuit))\n",
    "print(quasar.run_statevector(cirq_backend, quasar_circuit))\n",
    "print(quasar.run_statevector(cirq_backend, qiskit_circuit))\n",
    "print(quasar.run_statevector(cirq_backend, cirq_circuit))"
   ]
  },
  {
   "cell_type": "code",
   "execution_count": 18,
   "metadata": {},
   "outputs": [
    {
     "name": "stdout",
     "output_type": "stream",
     "text": [
      "|0000> : 508\n",
      "|1111> : 492\n",
      "\n",
      "|0000> : 491\n",
      "|1111> : 509\n",
      "\n",
      "|0000> : 485\n",
      "|1111> : 515\n",
      "\n",
      "|0000> : 499\n",
      "|1111> : 501\n",
      "\n",
      "|0000> : 533\n",
      "|1111> : 467\n",
      "\n",
      "|0000> : 502\n",
      "|1111> : 498\n",
      "\n",
      "|0000> : 502\n",
      "|1111> : 498\n",
      "\n",
      "|0000> : 496\n",
      "|1111> : 504\n",
      "\n",
      "|0000> : 490\n",
      "|1111> : 510\n",
      "\n"
     ]
    }
   ],
   "source": [
    "print(quasar.run_measurement(quasar_backend, quasar_circuit, nmeasurement=1000))\n",
    "print(quasar.run_measurement(quasar_backend, qiskit_circuit, nmeasurement=1000))\n",
    "print(quasar.run_measurement(quasar_backend, cirq_circuit, nmeasurement=1000))\n",
    "print(quasar.run_measurement(qiskit_backend, quasar_circuit, nmeasurement=1000))\n",
    "print(quasar.run_measurement(qiskit_backend, qiskit_circuit, nmeasurement=1000))\n",
    "print(quasar.run_measurement(qiskit_backend, cirq_circuit, nmeasurement=1000))\n",
    "print(quasar.run_measurement(cirq_backend, quasar_circuit, nmeasurement=1000))\n",
    "print(quasar.run_measurement(cirq_backend, qiskit_circuit, nmeasurement=1000))\n",
    "print(quasar.run_measurement(cirq_backend, cirq_circuit, nmeasurement=1000))"
   ]
  },
  {
   "cell_type": "code",
   "execution_count": 19,
   "metadata": {},
   "outputs": [
    {
     "name": "stdout",
     "output_type": "stream",
     "text": [
      "+1.0*I\n",
      "+1.0*Z0\n",
      "+1.0*Z1\n",
      "+1.0*Z0*Z1\n",
      "+1.0*X0\n"
     ]
    }
   ],
   "source": [
    "I, X, Y, Z = quasar.Pauli.IXYZ()\n",
    "pauli = I + Z[0] + Z[1] + Z[0] * Z[1] + X[0]\n",
    "print(pauli)"
   ]
  },
  {
   "cell_type": "code",
   "execution_count": 20,
   "metadata": {},
   "outputs": [
    {
     "name": "stdout",
     "output_type": "stream",
     "text": [
      "+1.0*I\n",
      "+0.0*Z0\n",
      "+0.0*Z1\n",
      "+0.9999999999999998*Z0*Z1\n",
      "+0.0*X0\n",
      "+1.0*I\n",
      "+0.0*Z0\n",
      "+0.0*Z1\n",
      "+0.9999999999999998*Z0*Z1\n",
      "+0.0*X0\n",
      "+1.0*I\n",
      "+0.0*Z0\n",
      "+0.0*Z1\n",
      "+0.9999999999999998*Z0*Z1\n",
      "+0.0*X0\n",
      "+1.0*I\n",
      "+2.220446049250313e-16*Z0\n",
      "+2.220446049250313e-16*Z1\n",
      "+1.0*Z0*Z1\n",
      "+0.0*X0\n",
      "+1.0*I\n",
      "+2.220446049250313e-16*Z0\n",
      "+2.220446049250313e-16*Z1\n",
      "+1.0*Z0*Z1\n",
      "+0.0*X0\n",
      "+1.0*I\n",
      "+2.220446049250313e-16*Z0\n",
      "+2.220446049250313e-16*Z1\n",
      "+1.0*Z0*Z1\n",
      "+0.0*X0\n",
      "+1.0*I\n",
      "+0.0*Z0\n",
      "+0.0*Z1\n",
      "+0.9999999657714582*Z0*Z1\n",
      "+0.0*X0\n",
      "+1.0*I\n",
      "+0.0*Z0\n",
      "+0.0*Z1\n",
      "+0.9999999657714582*Z0*Z1\n",
      "+0.0*X0\n",
      "+1.0*I\n",
      "+0.0*Z0\n",
      "+0.0*Z1\n",
      "+0.9999999657714582*Z0*Z1\n",
      "+0.0*X0\n"
     ]
    }
   ],
   "source": [
    "print(quasar.run_pauli_expectation(quasar_backend, quasar_circuit, pauli, nmeasurement=None))\n",
    "print(quasar.run_pauli_expectation(quasar_backend, qiskit_circuit, pauli, nmeasurement=None))\n",
    "print(quasar.run_pauli_expectation(quasar_backend, cirq_circuit, pauli, nmeasurement=None))\n",
    "print(quasar.run_pauli_expectation(qiskit_backend, quasar_circuit, pauli, nmeasurement=None))\n",
    "print(quasar.run_pauli_expectation(qiskit_backend, qiskit_circuit, pauli, nmeasurement=None))\n",
    "print(quasar.run_pauli_expectation(qiskit_backend, cirq_circuit, pauli, nmeasurement=None))\n",
    "print(quasar.run_pauli_expectation(cirq_backend, quasar_circuit, pauli, nmeasurement=None))\n",
    "print(quasar.run_pauli_expectation(cirq_backend, qiskit_circuit, pauli, nmeasurement=None))\n",
    "print(quasar.run_pauli_expectation(cirq_backend, cirq_circuit, pauli, nmeasurement=None))"
   ]
  },
  {
   "cell_type": "code",
   "execution_count": 21,
   "metadata": {},
   "outputs": [
    {
     "name": "stdout",
     "output_type": "stream",
     "text": [
      "+1.0*I\n",
      "+0.004*Z0\n",
      "+0.005*Z1\n",
      "+1.0*Z0*Z1\n",
      "-0.03*X0\n",
      "+1.0*I\n",
      "+0.023*Z0\n",
      "+0.001*Z1\n",
      "+1.0*Z0*Z1\n",
      "-0.011*X0\n",
      "+1.0*I\n",
      "-0.057*Z0\n",
      "-0.022*Z1\n",
      "+1.0*Z0*Z1\n",
      "+0.005*X0\n",
      "+1.0*I\n",
      "+0.049*Z0\n",
      "+0.0*Z1\n",
      "+1.0*Z0*Z1\n",
      "-0.008*X0\n",
      "+1.0*I\n",
      "+0.007*Z0\n",
      "-0.009*Z1\n",
      "+1.0*Z0*Z1\n",
      "-0.011*X0\n",
      "+1.0*I\n",
      "+0.018*Z0\n",
      "+0.006*Z1\n",
      "+1.0*Z0*Z1\n",
      "+0.043*X0\n",
      "+1.0*I\n",
      "+0.017*Z0\n",
      "+0.009*Z1\n",
      "+1.0*Z0*Z1\n",
      "-0.014*X0\n",
      "+1.0*I\n",
      "-0.015*Z0\n",
      "-0.011*Z1\n",
      "+1.0*Z0*Z1\n",
      "+0.015*X0\n",
      "+1.0*I\n",
      "-0.022*Z0\n",
      "-0.008*Z1\n",
      "+1.0*Z0*Z1\n",
      "-0.01*X0\n"
     ]
    }
   ],
   "source": [
    "print(quasar.run_pauli_expectation(quasar_backend, quasar_circuit, pauli, nmeasurement=1000))\n",
    "print(quasar.run_pauli_expectation(quasar_backend, qiskit_circuit, pauli, nmeasurement=1000))\n",
    "print(quasar.run_pauli_expectation(quasar_backend, cirq_circuit, pauli, nmeasurement=1000))\n",
    "print(quasar.run_pauli_expectation(qiskit_backend, quasar_circuit, pauli, nmeasurement=1000))\n",
    "print(quasar.run_pauli_expectation(qiskit_backend, qiskit_circuit, pauli, nmeasurement=1000))\n",
    "print(quasar.run_pauli_expectation(qiskit_backend, cirq_circuit, pauli, nmeasurement=1000))\n",
    "print(quasar.run_pauli_expectation(cirq_backend, quasar_circuit, pauli, nmeasurement=1000))\n",
    "print(quasar.run_pauli_expectation(cirq_backend, qiskit_circuit, pauli, nmeasurement=1000))\n",
    "print(quasar.run_pauli_expectation(cirq_backend, cirq_circuit, pauli, nmeasurement=1000))"
   ]
  },
  {
   "cell_type": "code",
   "execution_count": null,
   "metadata": {},
   "outputs": [],
   "source": []
  }
 ],
 "metadata": {
  "kernelspec": {
   "display_name": "Python 3",
   "language": "python",
   "name": "python3"
  },
  "language_info": {
   "codemirror_mode": {
    "name": "ipython",
    "version": 3
   },
   "file_extension": ".py",
   "mimetype": "text/x-python",
   "name": "python",
   "nbconvert_exporter": "python",
   "pygments_lexer": "ipython3",
   "version": "3.7.1"
  }
 },
 "nbformat": 4,
 "nbformat_minor": 2
}
