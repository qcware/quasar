{
 "cells": [
  {
   "cell_type": "code",
   "execution_count": 1,
   "metadata": {},
   "outputs": [],
   "source": [
    "import quasar\n",
    "import numpy as np"
   ]
  },
  {
   "cell_type": "code",
   "execution_count": 2,
   "metadata": {},
   "outputs": [],
   "source": [
    "def random_so4():\n",
    "    \n",
    "    params = 2.0* np.pi * np.random.randn(6)\n",
    "    gate = quasar.Gate.SO4(\n",
    "        A=params[0],\n",
    "        B=params[1],\n",
    "        C=params[2],\n",
    "        D=params[3],\n",
    "        E=params[4],\n",
    "        F=params[5],\n",
    "        )\n",
    "    return gate"
   ]
  },
  {
   "cell_type": "code",
   "execution_count": 3,
   "metadata": {},
   "outputs": [],
   "source": [
    "def random_statevector():\n",
    "    \n",
    "    return random_so4().U[:,0]"
   ]
  },
  {
   "cell_type": "code",
   "execution_count": 4,
   "metadata": {},
   "outputs": [],
   "source": [
    "psi = random_statevector()\n",
    "psi = np.zeros_like(psi)\n",
    "psi[0] = 1.0\n",
    "U = random_so4()\n",
    "V = random_so4()\n",
    "U2 = U.U\n",
    "V2 = V.U"
   ]
  },
  {
   "cell_type": "code",
   "execution_count": 5,
   "metadata": {},
   "outputs": [],
   "source": [
    "I, X, Y, Z = quasar.Pauli.IXYZ()\n",
    "O = 0.1 * I \n",
    "O += 0.2 * X[0] + 0.3 * Y[0] + 0.4 * Z[0]\n",
    "O += 0.5 * X[1] + 0.6 * Y[1] + 0.7 * Z[1]\n",
    "O2 = O.compute_hilbert_matrix()\n",
    "I2 = np.eye(4, dtype=np.complex128)"
   ]
  },
  {
   "cell_type": "code",
   "execution_count": 6,
   "metadata": {},
   "outputs": [
    {
     "name": "stdout",
     "output_type": "stream",
     "text": [
      "(-0.22274429164632795-0.4220961739333571j)\n",
      "(0.6171391106244227+0j)\n"
     ]
    }
   ],
   "source": [
    "psiU = np.dot(U2, psi)\n",
    "psiV = np.dot(V2, psi)\n",
    "O3 = np.dot(psiU.conj(), np.dot(O2, psiV))\n",
    "I3 = np.dot(psiU.conj(), np.dot(I2, psiV))\n",
    "print(O3)\n",
    "print(I3)"
   ]
  },
  {
   "cell_type": "code",
   "execution_count": 7,
   "metadata": {},
   "outputs": [
    {
     "name": "stdout",
     "output_type": "stream",
     "text": [
      "T  : |0|1|2   |3|4   |\n",
      "                      \n",
      "q0 : -----SO4A---SO4A-\n",
      "          |      |    \n",
      "q1 : -----SO4B---SO4B-\n",
      "          |      |    \n",
      "q2 : -H-X-@----X-@----\n",
      "\n",
      "T  : |0|1|2   |3|4   |\n"
     ]
    }
   ],
   "source": [
    "circuit = quasar.Circuit(N=3)\n",
    "circuit.H(2)\n",
    "circuit.X(2)\n",
    "circuit.add_gate(quasar.ControlledGate(U), (2, 0, 1))\n",
    "circuit.X(2)\n",
    "circuit.add_gate(quasar.ControlledGate(V), (2, 0, 1))\n",
    "print(circuit)"
   ]
  },
  {
   "cell_type": "code",
   "execution_count": 8,
   "metadata": {},
   "outputs": [
    {
     "name": "stdout",
     "output_type": "stream",
     "text": [
      "(0.6171391106244226+0j)\n",
      "(0.6171391106244227+0j)\n"
     ]
    }
   ],
   "source": [
    "I4R = X[2]\n",
    "I4I = Y[2]\n",
    "backend = quasar.QuasarSimulatorBackend()\n",
    "I5R = quasar.run_observable_expectation_value(backend, circuit, pauli=I4R)\n",
    "I5I = quasar.run_observable_expectation_value(backend, circuit, pauli=I4I)\n",
    "I5 = I5R + 1.j * I5I\n",
    "print(I5)\n",
    "print(I3)"
   ]
  },
  {
   "cell_type": "code",
   "execution_count": 9,
   "metadata": {},
   "outputs": [
    {
     "name": "stdout",
     "output_type": "stream",
     "text": [
      "(-0.2227442916463278-0.42209617393335697j)\n",
      "(-0.22274429164632795-0.4220961739333571j)\n"
     ]
    }
   ],
   "source": [
    "O4R = X[2] * O\n",
    "O4I = Y[2] * O\n",
    "backend = quasar.QuasarSimulatorBackend()\n",
    "O5R = quasar.run_observable_expectation_value(backend, circuit, pauli=O4R)\n",
    "O5I = quasar.run_observable_expectation_value(backend, circuit, pauli=O4I)\n",
    "O5 = O5R + 1.j * O5I\n",
    "print(O5)\n",
    "print(O3)"
   ]
  },
  {
   "cell_type": "code",
   "execution_count": null,
   "metadata": {},
   "outputs": [],
   "source": []
  }
 ],
 "metadata": {
  "kernelspec": {
   "display_name": "Python 3",
   "language": "python",
   "name": "python3"
  },
  "language_info": {
   "codemirror_mode": {
    "name": "ipython",
    "version": 3
   },
   "file_extension": ".py",
   "mimetype": "text/x-python",
   "name": "python",
   "nbconvert_exporter": "python",
   "pygments_lexer": "ipython3",
   "version": "3.7.1"
  }
 },
 "nbformat": 4,
 "nbformat_minor": 2
}
