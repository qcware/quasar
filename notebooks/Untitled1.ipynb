{
 "cells": [
  {
   "cell_type": "code",
   "execution_count": 1,
   "metadata": {},
   "outputs": [],
   "source": [
    "import quasar"
   ]
  },
  {
   "cell_type": "code",
   "execution_count": 2,
   "metadata": {},
   "outputs": [],
   "source": [
    "I, X, Y, Z = quasar.Pauli.IXYZ()"
   ]
  },
  {
   "cell_type": "code",
   "execution_count": 3,
   "metadata": {},
   "outputs": [],
   "source": [
    "class Fermionic(object):\n",
    "    \n",
    "    def __init__(\n",
    "        self,\n",
    "        creation=True,\n",
    "        ):\n",
    "        \n",
    "        self.creation = creation\n",
    "        \n",
    "    def __getitem__(\n",
    "        self,\n",
    "        index,\n",
    "        ):\n",
    "        \n",
    "        jw_string = []\n",
    "        for I in range(index):\n",
    "            jw_string.append(\n",
    "                quasar.PauliOperator(qubit=I, char='Z'))\n",
    "        xstring = quasar.PauliString(tuple(jw_string + [\n",
    "            quasar.PauliOperator(qubit=index, char='X')]))\n",
    "        ystring = quasar.PauliString(tuple(jw_string + [\n",
    "            quasar.PauliOperator(qubit=index, char='Y')]))\n",
    "        return quasar.Pauli({\n",
    "            xstring : +0.5,\n",
    "            ystring : -0.5j if self.creation else +0.5j,\n",
    "        })\n",
    "        "
   ]
  },
  {
   "cell_type": "code",
   "execution_count": 4,
   "metadata": {},
   "outputs": [],
   "source": [
    "Qp = Fermionic(creation=True)\n",
    "Qm = Fermionic(creation=False)"
   ]
  },
  {
   "cell_type": "code",
   "execution_count": 5,
   "metadata": {},
   "outputs": [
    {
     "name": "stdout",
     "output_type": "stream",
     "text": [
      "+0.5*Z0*Z1*Z2*Z3*X4\n",
      "-0.5j*Z0*Z1*Z2*Z3*Y4\n"
     ]
    }
   ],
   "source": [
    "print(Qp[4])"
   ]
  },
  {
   "cell_type": "code",
   "execution_count": 6,
   "metadata": {},
   "outputs": [
    {
     "name": "stdout",
     "output_type": "stream",
     "text": [
      "+(0.5+0j)*I\n",
      "-(0.5-0j)*Z4\n"
     ]
    }
   ],
   "source": [
    "print(Qp[4]*Qm[4])"
   ]
  },
  {
   "cell_type": "code",
   "execution_count": 7,
   "metadata": {},
   "outputs": [
    {
     "name": "stdout",
     "output_type": "stream",
     "text": [
      "+0j*Y2*Z3*X4\n",
      "+(0.5+0j)*X2*Z3*X4\n",
      "+(0.5+0j)*Y2*Z3*Y4\n",
      "+0j*X2*Z3*Y4\n"
     ]
    }
   ],
   "source": [
    "print(Qp[4]*Qm[2] + Qp[2]*Qm[4])"
   ]
  },
  {
   "cell_type": "code",
   "execution_count": 8,
   "metadata": {},
   "outputs": [
    {
     "name": "stdout",
     "output_type": "stream",
     "text": [
      "+(0.5+0j)*X2*Z3*Z4*Z5*X6\n",
      "+(0.5+0j)*Y2*Z3*Z4*Z5*Y6\n"
     ]
    }
   ],
   "source": [
    "print((Qp[6]*Qm[2] + Qp[2]*Qm[6]).sieved())"
   ]
  },
  {
   "cell_type": "code",
   "execution_count": 9,
   "metadata": {},
   "outputs": [
    {
     "name": "stdout",
     "output_type": "stream",
     "text": [
      "-(0.5-0j)*X2*Z3*Z4*Z5*X6\n",
      "-(0.5-0j)*Y2*Z3*Z4*Z5*Y6\n"
     ]
    }
   ],
   "source": [
    "print((Qm[6]*Qp[2] + Qm[2]*Qp[6]).sieved())"
   ]
  },
  {
   "cell_type": "code",
   "execution_count": 10,
   "metadata": {},
   "outputs": [
    {
     "name": "stdout",
     "output_type": "stream",
     "text": [
      "+(0.25+0j)*X2*Z3*Z4*Z5*X6*X7*Z8*Z9*X10\n",
      "+(0.25+0j)*X2*Z3*Z4*Z5*X6*Y7*Z8*Z9*Y10\n",
      "+(0.25+0j)*Y2*Z3*Z4*Z5*Y6*X7*Z8*Z9*X10\n",
      "+(0.25+0j)*Y2*Z3*Z4*Z5*Y6*Y7*Z8*Z9*Y10\n"
     ]
    }
   ],
   "source": [
    "print(((Qp[6]*Qm[2] + Qp[2]*Qm[6]) * (Qp[10]*Qm[7] + Qp[7]*Qm[10])).sieved())"
   ]
  },
  {
   "cell_type": "code",
   "execution_count": 11,
   "metadata": {},
   "outputs": [],
   "source": [
    "Qp, Qm = quasar.PauliJordanWigner.composition_operators()"
   ]
  },
  {
   "cell_type": "code",
   "execution_count": 12,
   "metadata": {},
   "outputs": [
    {
     "name": "stdout",
     "output_type": "stream",
     "text": [
      "+(0.25+0j)*X2*Z3*Z4*Z5*X6*X7*Z8*Z9*X10\n",
      "+(0.25+0j)*X2*Z3*Z4*Z5*X6*Y7*Z8*Z9*Y10\n",
      "+(0.25+0j)*Y2*Z3*Z4*Z5*Y6*X7*Z8*Z9*X10\n",
      "+(0.25+0j)*Y2*Z3*Z4*Z5*Y6*Y7*Z8*Z9*Y10\n"
     ]
    }
   ],
   "source": [
    "print(((Qp[6]*Qm[2] + Qp[2]*Qm[6]) * (Qp[10]*Qm[7] + Qp[7]*Qm[10])).sieved())"
   ]
  },
  {
   "cell_type": "code",
   "execution_count": 13,
   "metadata": {},
   "outputs": [
    {
     "name": "stdout",
     "output_type": "stream",
     "text": [
      "-(0.5-0j)*X2*Z3*Z4*Z5*X6\n",
      "-(0.5-0j)*Y2*Z3*Z4*Z5*Y6\n"
     ]
    }
   ],
   "source": [
    "print((Qm[6]*Qp[2] + Qm[2]*Qp[6]).sieved())"
   ]
  },
  {
   "cell_type": "code",
   "execution_count": 16,
   "metadata": {},
   "outputs": [
    {
     "name": "stdout",
     "output_type": "stream",
     "text": [
      "+0j*X1*Z2*Z3*Z4*Z5*X6\n",
      "+0j*Y1*Z2*Z3*Z4*Z5*Y6\n",
      "+0j*Y1*Z2*Z3*Z4*Z5*X6\n",
      "+0j*X1*Z2*Z3*Z4*Z5*Y6\n"
     ]
    }
   ],
   "source": [
    "X1 = quasar.PauliJordanWigner.substitution1_operator()\n",
    "print(X1[1,6] - Qp[6]*Qm[1] - Qp[1]*Qm[6])"
   ]
  },
  {
   "cell_type": "code",
   "execution_count": 25,
   "metadata": {},
   "outputs": [
    {
     "name": "stdout",
     "output_type": "stream",
     "text": [
      "+(0.0625+0j)*Y3*X4*Y5*Z6*Z7*Z8*Z9*Z10*X11\n",
      "-0.0625j*Y3*X4*X5*Z6*Z7*Z8*Z9*Z10*X11\n",
      "+0.0625j*Y3*X4*Y5*Z6*Z7*Z8*Z9*Z10*Y11\n",
      "+(0.0625+0j)*Y3*X4*X5*Z6*Z7*Z8*Z9*Z10*Y11\n",
      "-0.0625j*Y3*Y4*Y5*Z6*Z7*Z8*Z9*Z10*X11\n",
      "-(0.0625-0j)*Y3*Y4*X5*Z6*Z7*Z8*Z9*Z10*X11\n",
      "+(0.0625+0j)*Y3*Y4*Y5*Z6*Z7*Z8*Z9*Z10*Y11\n",
      "-0.0625j*Y3*Y4*X5*Z6*Z7*Z8*Z9*Z10*Y11\n",
      "+0.0625j*X3*X4*Y5*Z6*Z7*Z8*Z9*Z10*X11\n",
      "+(0.0625+0j)*X3*X4*X5*Z6*Z7*Z8*Z9*Z10*X11\n",
      "-(0.0625-0j)*X3*X4*Y5*Z6*Z7*Z8*Z9*Z10*Y11\n",
      "+0.0625j*X3*X4*X5*Z6*Z7*Z8*Z9*Z10*Y11\n",
      "+(0.0625+0j)*X3*Y4*Y5*Z6*Z7*Z8*Z9*Z10*X11\n",
      "-0.0625j*X3*Y4*X5*Z6*Z7*Z8*Z9*Z10*X11\n",
      "+0.0625j*X3*Y4*Y5*Z6*Z7*Z8*Z9*Z10*Y11\n",
      "+(0.0625+0j)*X3*Y4*X5*Z6*Z7*Z8*Z9*Z10*Y11\n"
     ]
    }
   ],
   "source": [
    "print((Qp[3]*Qp[4]*Qm[11]*Qm[5]).sieved())"
   ]
  },
  {
   "cell_type": "code",
   "execution_count": null,
   "metadata": {},
   "outputs": [],
   "source": []
  }
 ],
 "metadata": {
  "kernelspec": {
   "display_name": "Python 3",
   "language": "python",
   "name": "python3"
  },
  "language_info": {
   "codemirror_mode": {
    "name": "ipython",
    "version": 3
   },
   "file_extension": ".py",
   "mimetype": "text/x-python",
   "name": "python",
   "nbconvert_exporter": "python",
   "pygments_lexer": "ipython3",
   "version": "3.7.1"
  }
 },
 "nbformat": 4,
 "nbformat_minor": 2
}
