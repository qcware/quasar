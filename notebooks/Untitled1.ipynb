{
 "cells": [
  {
   "cell_type": "code",
   "execution_count": 21,
   "metadata": {},
   "outputs": [],
   "source": [
    "import quasar\n",
    "import numpy as np\n",
    "import collections"
   ]
  },
  {
   "cell_type": "code",
   "execution_count": 16,
   "metadata": {},
   "outputs": [
    {
     "name": "stdout",
     "output_type": "stream",
     "text": [
      "T  : |0|1|2|\n",
      "            \n",
      "q0 : -H-H---\n",
      "            \n",
      "q1 : ---H-H-\n",
      "            \n",
      "q2 : -------\n",
      "\n",
      "T  : |0|1|2|\n"
     ]
    }
   ],
   "source": [
    "circuit = quasar.Circuit(N=3)\n",
    "circuit.H(0)\n",
    "circuit.add_gate(gate=quasar.Gate.H, qubits=0)\n",
    "circuit.H(1, time_placement='late')\n",
    "circuit.H(1, time_placement='late')\n",
    "print(circuit)"
   ]
  },
  {
   "cell_type": "code",
   "execution_count": 7,
   "metadata": {},
   "outputs": [
    {
     "name": "stdout",
     "output_type": "stream",
     "text": [
      "T  : |0|1|2|\n",
      "            \n",
      "q0 : -H-H-H-\n",
      "            \n",
      "q1 : -------\n",
      "            \n",
      "q2 : -------\n",
      "\n",
      "T  : |0|1|2|\n"
     ]
    }
   ],
   "source": [
    "print(circuit)"
   ]
  },
  {
   "cell_type": "code",
   "execution_count": 8,
   "metadata": {},
   "outputs": [
    {
     "name": "stdout",
     "output_type": "stream",
     "text": [
      "OrderedDict([((0, (0,)), <quasar.circuit.Gate object at 0x10cfc11d0>), ((1, (0,)), <quasar.circuit.Gate object at 0x11610b9e8>), ((2, (0,)), <quasar.circuit.Gate object at 0x11610bac8>)])\n"
     ]
    }
   ],
   "source": [
    "print(circuit.gates)"
   ]
  },
  {
   "cell_type": "code",
   "execution_count": 17,
   "metadata": {},
   "outputs": [
    {
     "name": "stdout",
     "output_type": "stream",
     "text": [
      "T  : |0|1|2|3|4|5|\n",
      "                  \n",
      "q0 : -H-H---H-H---\n",
      "                  \n",
      "q1 : ---H-H---H-H-\n",
      "                  \n",
      "q2 : -------------\n",
      "\n",
      "T  : |0|1|2|3|4|5|\n"
     ]
    }
   ],
   "source": [
    "circuit2 = quasar.Circuit.concatenate([circuit]*2)\n",
    "print(circuit2)"
   ]
  },
  {
   "cell_type": "code",
   "execution_count": 18,
   "metadata": {},
   "outputs": [
    {
     "name": "stdout",
     "output_type": "stream",
     "text": [
      "T  : |0|1|2|\n",
      "            \n",
      "q0 : -H-H---\n",
      "            \n",
      "q1 : ---H-H-\n",
      "            \n",
      "q2 : -------\n",
      "            \n",
      "q3 : -H-H---\n",
      "            \n",
      "q4 : ---H-H-\n",
      "            \n",
      "q5 : -------\n",
      "            \n",
      "q6 : -H-H---\n",
      "            \n",
      "q7 : ---H-H-\n",
      "            \n",
      "q8 : -------\n",
      "\n",
      "T  : |0|1|2|\n"
     ]
    }
   ],
   "source": [
    "circuit3 = quasar.Circuit.adjoin([circuit]*3)\n",
    "print(circuit3)"
   ]
  },
  {
   "cell_type": "code",
   "execution_count": 20,
   "metadata": {},
   "outputs": [],
   "source": [
    "def Uy(params):\n",
    "    \n",
    "    theta = params['theta']\n",
    "    c = np.cos(theta)\n",
    "    s = np.sin(theta)\n",
    "    return np.array([\n",
    "        [c, -s],\n",
    "        [+s, c]\n",
    "    ], dtype=np.complex128)"
   ]
  },
  {
   "cell_type": "code",
   "execution_count": 22,
   "metadata": {},
   "outputs": [
    {
     "name": "stdout",
     "output_type": "stream",
     "text": [
      "Help on class Gate in module quasar.circuit:\n",
      "\n",
      "class Gate(builtins.object)\n",
      " |  Gate(N, Ufun, params, name, ascii_symbols)\n",
      " |  \n",
      " |  Class Gate represents a general N-body quantum gate. \n",
      " |  \n",
      " |  An N-body quantum gate applies a unitary operator to the state of a subset\n",
      " |  of N qubits, with an implicit identity matrix acting on the remaining\n",
      " |  qubits. The Gate class specifies the (2**N,)*2 unitary matrix U for the N\n",
      " |  active qubits, but does not specify which qubits are active.\n",
      " |  \n",
      " |  Usually, most users will not initialize their own Gates, but will use gates\n",
      " |  from the standard library, which are defined as Gate class members (for\n",
      " |  parameter-free gates) or Gate class methods (for parameter-including gates).\n",
      " |  Some simple examples include:\n",
      " |  \n",
      " |  >>> I = Gate.I\n",
      " |  >>> Ry = Gate.Ry(theta=np.pi/4.0)\n",
      " |  >>> SO4 = Gate.SO4(A=0.0, B=0.0, C=0.0, D=0.0, E=0.0, F=0.0)\n",
      " |  >>> CF = Gate.CF(theta=np.pi/3.0)\n",
      " |  \n",
      " |  Methods defined here:\n",
      " |  \n",
      " |  R_ion = _GateR_ion(theta=0.0, phi=0.0)\n",
      " |  \n",
      " |  Rx_ion = _GateRx_ion(theta=0.0)\n",
      " |  \n",
      " |  Ry_ion = _GateRy_ion(theta=0.0)\n",
      " |  \n",
      " |  Rz_ion = _GateRz_ion(theta=0.0)\n",
      " |  \n",
      " |  XX_ion = _GateXX_ion(chi=0.0)\n",
      " |  \n",
      " |  __init__(self, N, Ufun, params, name, ascii_symbols)\n",
      " |      Initializer. Params are set as object attributes.\n",
      " |      \n",
      " |      Params:\n",
      " |          N (int > 0) - the dimensionality of the quantum gate, e.g, 1 for\n",
      " |              1-body, 2 for 2-body, etc.\n",
      " |          Ufun (function of OrderedDict of str : float -> np.ndarray of shape\n",
      " |              (2**N,)*2) - a function which generates the unitary\n",
      " |              matrix for this gate from the current parameter set.\n",
      " |          params (OrderedDict of str : float) - the dictionary of initial\n",
      " |              gate parameters.\n",
      " |          name (str) - a simple name for the gate, e.g., 'CX'\n",
      " |          ascii_symbols (list of str of len N) - a list of ASCII symbols for\n",
      " |              each active qubit of the gate, for use in generating textual diagrams, e.g.,\n",
      " |              ['@', 'X'] for CX.\n",
      " |  \n",
      " |  __str__(self)\n",
      " |      String representation of this Gate (self.name)\n",
      " |  \n",
      " |  copy(self)\n",
      " |      Make a deep copy of the current Gate. \n",
      " |      \n",
      " |      Returns:\n",
      " |          (Gate) - a copy of this Gate whose parameters may be modified\n",
      " |              without modifying the parameters of self.\n",
      " |  \n",
      " |  same_unitary(self, other)\n",
      " |      Returns true if the unitary generated by two gates are equivalent (up to a tolerance)\n",
      " |  \n",
      " |  set_param(self, key, param)\n",
      " |      Set the value of a parameter of this Gate. \n",
      " |      \n",
      " |      Params:\n",
      " |          key (str) - the key of the parameter\n",
      " |          param (float) - the value of the parameter\n",
      " |      Result:\n",
      " |          self.params[key] = param. If the Gate does not have a parameter\n",
      " |              corresponding to key, a RuntimeError is thrown.\n",
      " |  \n",
      " |  set_params(self, params)\n",
      " |      Set the values of multiple parameters of this Gate.\n",
      " |      \n",
      " |      Params:\n",
      " |          params (dict of str : float) -  dict of param values\n",
      " |      Result:\n",
      " |          self.params is updated with the contents of params by calling\n",
      " |              self.set_param for each key/value pair.\n",
      " |  \n",
      " |  ----------------------------------------------------------------------\n",
      " |  Static methods defined here:\n",
      " |  \n",
      " |  CF = _CF(theta=0.0)\n",
      " |      Controlled F gate\n",
      " |  \n",
      " |  Rx = _GateRx(theta=0.0)\n",
      " |      Rx (theta) = exp(-i * theta * x)\n",
      " |  \n",
      " |  Ry = _GateRy(theta=0.0)\n",
      " |      Ry (theta) = exp(-i * theta * Y)\n",
      " |  \n",
      " |  Rz = _GateRz(theta=0.0)\n",
      " |      Rz (theta) = exp(-i * theta * Z)\n",
      " |  \n",
      " |  SO4 = _GateSO4(A=0.0, B=0.0, C=0.0, D=0.0, E=0.0, F=0.0)\n",
      " |  \n",
      " |  SO42 = _GateSO42(thetaIY=0.0, thetaYI=0.0, thetaXY=0.0, thetaYX=0.0, thetaZY=0.0, thetaYZ=0.0)\n",
      " |  \n",
      " |  U1 = _GateU1(U)\n",
      " |      An explicit 1-body gate that is specified by the user.\n",
      " |  \n",
      " |  U2 = _GateU2(U)\n",
      " |      An explicit 2-body gate that is specified by the user.\n",
      " |  \n",
      " |  u1 = _Gateu1(lam=0.0)\n",
      " |  \n",
      " |  u2 = _Gateu2(phi=0.0, lam=0.0)\n",
      " |  \n",
      " |  u3 = _Gateu3(theta=0.0, phi=0.0, lam=0.0)\n",
      " |  \n",
      " |  ----------------------------------------------------------------------\n",
      " |  Data descriptors defined here:\n",
      " |  \n",
      " |  U\n",
      " |      The (2**N,)*2 unitary matrix underlying this Gate. \n",
      " |      \n",
      " |      The action of the gate on a given state is given graphically as,\n",
      " |      \n",
      " |      |\\Psi> -G- |\\Psi'>\n",
      " |      \n",
      " |      and mathematically as,\n",
      " |      \n",
      " |      |\\Psi_I'> = \\sum_J U_IJ |\\Psi_J>\n",
      " |      \n",
      " |      Returns:\n",
      " |          (np.ndarray of shape (2**N,)*2) - the unitary matrix underlying\n",
      " |              this gate, built from the current parameter state.\n",
      " |  \n",
      " |  __dict__\n",
      " |      dictionary for instance variables (if defined)\n",
      " |  \n",
      " |  __weakref__\n",
      " |      list of weak references to the object (if defined)\n",
      " |  \n",
      " |  ----------------------------------------------------------------------\n",
      " |  Data and other attributes defined here:\n",
      " |  \n",
      " |  CCX = <quasar.circuit.Gate object>\n",
      " |  \n",
      " |  CS = <quasar.circuit.Gate object>\n",
      " |  \n",
      " |  CSWAP = <quasar.circuit.Gate object>\n",
      " |  \n",
      " |  CX = <quasar.circuit.Gate object>\n",
      " |  \n",
      " |  CY = <quasar.circuit.Gate object>\n",
      " |  \n",
      " |  CZ = <quasar.circuit.Gate object>\n",
      " |  \n",
      " |  H = <quasar.circuit.Gate object>\n",
      " |  \n",
      " |  I = <quasar.circuit.Gate object>\n",
      " |  \n",
      " |  Rx2 = <quasar.circuit.Gate object>\n",
      " |  \n",
      " |  Rx2T = <quasar.circuit.Gate object>\n",
      " |  \n",
      " |  S = <quasar.circuit.Gate object>\n",
      " |  \n",
      " |  SWAP = <quasar.circuit.Gate object>\n",
      " |  \n",
      " |  T = <quasar.circuit.Gate object>\n",
      " |  \n",
      " |  X = <quasar.circuit.Gate object>\n",
      " |  \n",
      " |  Y = <quasar.circuit.Gate object>\n",
      " |  \n",
      " |  Z = <quasar.circuit.Gate object>\n",
      "\n"
     ]
    }
   ],
   "source": [
    "help(quasar.Gate)"
   ]
  },
  {
   "cell_type": "code",
   "execution_count": 27,
   "metadata": {},
   "outputs": [
    {
     "name": "stdout",
     "output_type": "stream",
     "text": [
      "T  : |0     |\n",
      "             \n",
      "q0 : --------\n",
      "             \n",
      "q1 : --------\n",
      "             \n",
      "q2 : -Ryfun2-\n",
      "\n",
      "T  : |0     |\n"
     ]
    }
   ],
   "source": [
    "gate = quasar.Gate(\n",
    "    N=1,\n",
    "    Ufun=Uy,\n",
    "    params=collections.OrderedDict([('theta', 0.0)]),\n",
    "    name='Ryfun',\n",
    "    ascii_symbols=['Ryfun2'],\n",
    "    )\n",
    "circuit = quasar.Circuit(N=3).add_gate(gate, 2)\n",
    "print(circuit)"
   ]
  },
  {
   "cell_type": "code",
   "execution_count": 33,
   "metadata": {},
   "outputs": [
    {
     "name": "stdout",
     "output_type": "stream",
     "text": [
      "1\n",
      "<function Uy at 0x10bf22a60>\n",
      "[[ 0.99500417+0.j -0.09983342+0.j]\n",
      " [ 0.09983342+0.j  0.99500417+0.j]]\n",
      "[[ 0.99500417+0.j -0.09983342+0.j]\n",
      " [ 0.09983342+0.j  0.99500417+0.j]]\n"
     ]
    }
   ],
   "source": [
    "print(gate.N)\n",
    "print(gate.Ufun)\n",
    "print(gate.U)\n",
    "gate.set_param('theta', 0.1)\n",
    "print(gate.U)"
   ]
  },
  {
   "cell_type": "code",
   "execution_count": null,
   "metadata": {},
   "outputs": [],
   "source": []
  }
 ],
 "metadata": {
  "kernelspec": {
   "display_name": "Python 3",
   "language": "python",
   "name": "python3"
  },
  "language_info": {
   "codemirror_mode": {
    "name": "ipython",
    "version": 3
   },
   "file_extension": ".py",
   "mimetype": "text/x-python",
   "name": "python",
   "nbconvert_exporter": "python",
   "pygments_lexer": "ipython3",
   "version": "3.7.1"
  }
 },
 "nbformat": 4,
 "nbformat_minor": 2
}
