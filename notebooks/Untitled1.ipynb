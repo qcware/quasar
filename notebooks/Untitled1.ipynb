{
 "cells": [
  {
   "cell_type": "code",
   "execution_count": 1,
   "metadata": {},
   "outputs": [],
   "source": [
    "import quasar"
   ]
  },
  {
   "cell_type": "code",
   "execution_count": 2,
   "metadata": {},
   "outputs": [],
   "source": [
    "X, Y, Z = quasar.Pauli.XYZ"
   ]
  },
  {
   "cell_type": "code",
   "execution_count": 3,
   "metadata": {},
   "outputs": [
    {
     "name": "stdout",
     "output_type": "stream",
     "text": [
      "4.0*Z0\n",
      "4.0*X1\n",
      "-4.0*X0*Z1\n",
      "2.0*X0*Y1*Z2\n",
      "2j*Z0*Y1*X2\n",
      "4.0*X0\n"
     ]
    }
   ],
   "source": [
    "pauli = Z[0] + X[1] - X[0] * Z[1] + 0.5 * X[0] * Y[1] * Z[2] - Z[0] * Y[1] * X[2] / 2.0j\n",
    "pauli += X[0]\n",
    "pauli *= 2.0\n",
    "pauli += pauli\n",
    "print(pauli)"
   ]
  },
  {
   "cell_type": "code",
   "execution_count": 4,
   "metadata": {},
   "outputs": [
    {
     "name": "stdout",
     "output_type": "stream",
     "text": [
      "0.0*Z0\n",
      "0.0*X1\n",
      "0.0*X0*Z1\n",
      "0.0*X0*Y1*Z2\n",
      "0j*Z0*Y1*X2\n",
      "0.0*X0\n"
     ]
    }
   ],
   "source": [
    "pauli -= pauli\n",
    "print(pauli)"
   ]
  },
  {
   "cell_type": "code",
   "execution_count": 5,
   "metadata": {},
   "outputs": [
    {
     "name": "stdout",
     "output_type": "stream",
     "text": [
      "6\n"
     ]
    }
   ],
   "source": [
    "print(pauli.nterm)"
   ]
  },
  {
   "cell_type": "code",
   "execution_count": 6,
   "metadata": {},
   "outputs": [
    {
     "name": "stdout",
     "output_type": "stream",
     "text": [
      "3\n"
     ]
    }
   ],
   "source": [
    "print(pauli.max_order)"
   ]
  },
  {
   "cell_type": "code",
   "execution_count": 7,
   "metadata": {},
   "outputs": [
    {
     "name": "stdout",
     "output_type": "stream",
     "text": [
      "Pauli:\n",
      "  N          = 3\n",
      "  nterm      = 6\n",
      "  max_order  = 3\n",
      "\n"
     ]
    }
   ],
   "source": [
    "print(pauli.summary_str)"
   ]
  },
  {
   "cell_type": "code",
   "execution_count": 8,
   "metadata": {},
   "outputs": [],
   "source": [
    "pauli += 1.0"
   ]
  },
  {
   "cell_type": "code",
   "execution_count": 9,
   "metadata": {},
   "outputs": [],
   "source": [
    "pauli[quasar.PauliString(tuple())] = 1.0"
   ]
  },
  {
   "cell_type": "code",
   "execution_count": 10,
   "metadata": {},
   "outputs": [
    {
     "name": "stdout",
     "output_type": "stream",
     "text": [
      "0.0*Z0\n",
      "0.0*X1\n",
      "0.0*X0*Z1\n",
      "0.0*X0*Y1*Z2\n",
      "0j*Z0*Y1*X2\n",
      "0.0*X0\n",
      "1.0*I\n"
     ]
    }
   ],
   "source": [
    "print(pauli)"
   ]
  },
  {
   "cell_type": "code",
   "execution_count": 11,
   "metadata": {},
   "outputs": [
    {
     "name": "stdout",
     "output_type": "stream",
     "text": [
      "0.0*Z0\n",
      "0.0*X1\n",
      "0.0*X0*Z1\n",
      "0.0*X0*Y1*Z2\n",
      "0j*Z0*Y1*X2\n",
      "0.0*X0\n",
      "2.0*I\n"
     ]
    }
   ],
   "source": [
    "pauli += 1.0 * quasar.Pauli.I\n",
    "print(pauli)"
   ]
  },
  {
   "cell_type": "code",
   "execution_count": 12,
   "metadata": {},
   "outputs": [],
   "source": [
    "pauli += 1.0 * quasar.Pauli.I * X[1]"
   ]
  },
  {
   "cell_type": "code",
   "execution_count": 13,
   "metadata": {},
   "outputs": [
    {
     "name": "stdout",
     "output_type": "stream",
     "text": [
      "0.0*Z0\n",
      "1.0*X1\n",
      "0.0*X0*Z1\n",
      "0.0*X0*Y1*Z2\n",
      "0j*Z0*Y1*X2\n",
      "0.0*X0\n",
      "2.0*I\n"
     ]
    }
   ],
   "source": [
    "print(pauli)"
   ]
  },
  {
   "cell_type": "code",
   "execution_count": 14,
   "metadata": {},
   "outputs": [
    {
     "name": "stdout",
     "output_type": "stream",
     "text": [
      "1.0*X1\n",
      "2.0*I\n"
     ]
    }
   ],
   "source": [
    "print(pauli.sieved())"
   ]
  },
  {
   "cell_type": "code",
   "execution_count": 15,
   "metadata": {},
   "outputs": [
    {
     "name": "stdout",
     "output_type": "stream",
     "text": [
      "0.0*Z0\n",
      "1.0*X1\n",
      "0.0*X0*Z1\n",
      "0.0*X0*Y1*Z2\n",
      "0j*Z0*Y1*X2\n",
      "0.0*X0\n",
      "2.0*I\n",
      "1j*X3\n"
     ]
    }
   ],
   "source": [
    "pauli += 1.j * X[3]\n",
    "print(pauli)"
   ]
  },
  {
   "cell_type": "code",
   "execution_count": 16,
   "metadata": {},
   "outputs": [],
   "source": [
    "pauli += 1.j"
   ]
  },
  {
   "cell_type": "code",
   "execution_count": 17,
   "metadata": {},
   "outputs": [
    {
     "name": "stdout",
     "output_type": "stream",
     "text": [
      "0.0*Z0\n",
      "1.0*X1\n",
      "0.0*X0*Z1\n",
      "0.0*X0*Y1*Z2\n",
      "0j*Z0*Y1*X2\n",
      "0.0*X0\n",
      "(2+1j)*I\n",
      "1j*X3\n"
     ]
    }
   ],
   "source": [
    "print(pauli)"
   ]
  },
  {
   "cell_type": "code",
   "execution_count": 18,
   "metadata": {},
   "outputs": [
    {
     "name": "stdout",
     "output_type": "stream",
     "text": [
      "1.0*X1*X2\n",
      "2.0*X1*X5\n",
      "1.0*X3*X2\n",
      "2.0*X3*X5\n"
     ]
    }
   ],
   "source": [
    "print((X[1] + X[3]) * (X[2] + 2.0 * X[5]))"
   ]
  },
  {
   "cell_type": "code",
   "execution_count": 19,
   "metadata": {},
   "outputs": [
    {
     "name": "stdout",
     "output_type": "stream",
     "text": [
      "\n"
     ]
    }
   ],
   "source": [
    "print(quasar.Pauli.zero())"
   ]
  },
  {
   "cell_type": "code",
   "execution_count": 20,
   "metadata": {},
   "outputs": [
    {
     "name": "stdout",
     "output_type": "stream",
     "text": [
      "1.0*I\n"
     ]
    }
   ],
   "source": [
    "print(X[1]*X[1])"
   ]
  },
  {
   "cell_type": "code",
   "execution_count": 21,
   "metadata": {},
   "outputs": [
    {
     "name": "stdout",
     "output_type": "stream",
     "text": [
      "1j*Z1\n"
     ]
    }
   ],
   "source": [
    "print(X[1]*Y[1])"
   ]
  },
  {
   "cell_type": "code",
   "execution_count": 22,
   "metadata": {},
   "outputs": [
    {
     "name": "stdout",
     "output_type": "stream",
     "text": [
      "-1j*Z1\n"
     ]
    }
   ],
   "source": [
    "print(Y[1]*X[1])"
   ]
  },
  {
   "cell_type": "code",
   "execution_count": 23,
   "metadata": {},
   "outputs": [
    {
     "name": "stdout",
     "output_type": "stream",
     "text": [
      "-1j*Y1\n"
     ]
    }
   ],
   "source": [
    "print(X[1]*Z[1])"
   ]
  },
  {
   "cell_type": "code",
   "execution_count": 25,
   "metadata": {},
   "outputs": [
    {
     "name": "stdout",
     "output_type": "stream",
     "text": [
      "3.0*I\n",
      "0j*Z0\n",
      "0j*Y0\n",
      "0j*X0\n"
     ]
    }
   ],
   "source": [
    "print((X[0] + Y[0] + Z[0]) * (X[0] + Y[0] + Z[0]))"
   ]
  },
  {
   "cell_type": "code",
   "execution_count": null,
   "metadata": {},
   "outputs": [],
   "source": []
  }
 ],
 "metadata": {
  "kernelspec": {
   "display_name": "Python 3",
   "language": "python",
   "name": "python3"
  },
  "language_info": {
   "codemirror_mode": {
    "name": "ipython",
    "version": 3
   },
   "file_extension": ".py",
   "mimetype": "text/x-python",
   "name": "python",
   "nbconvert_exporter": "python",
   "pygments_lexer": "ipython3",
   "version": "3.7.1"
  }
 },
 "nbformat": 4,
 "nbformat_minor": 2
}
