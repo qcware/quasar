{
 "cells": [
  {
   "cell_type": "code",
   "execution_count": 1,
   "metadata": {},
   "outputs": [],
   "source": [
    "import quasar"
   ]
  },
  {
   "cell_type": "code",
   "execution_count": 2,
   "metadata": {},
   "outputs": [
    {
     "name": "stdout",
     "output_type": "stream",
     "text": [
      "T  : |0 |1|2|\n",
      "\n",
      "q0 : -Ry-@---\n",
      "         |   \n",
      "q1 : ----X-@-\n",
      "           | \n",
      "q2 : ------X-\n",
      "             \n",
      "T  : |0 |1|2|\n",
      "\n"
     ]
    }
   ],
   "source": [
    "circuit = quasar.Circuit().Ry(0, theta=0.6).CX(0,1).CX(1,2)\n",
    "print(circuit)"
   ]
  },
  {
   "cell_type": "code",
   "execution_count": 3,
   "metadata": {},
   "outputs": [
    {
     "name": "stdout",
     "output_type": "stream",
     "text": [
      "[0.82533561+0.j 0.        +0.j 0.        +0.j 0.        +0.j\n",
      " 0.        +0.j 0.        +0.j 0.        +0.j 0.56464247+0.j]\n",
      "+0.825336|000>\n",
      "+0.564642|111>\n"
     ]
    }
   ],
   "source": [
    "backend = quasar.QuasarSimulatorBackend()\n",
    "statevector = backend.run_statevector(circuit)\n",
    "print(statevector)\n",
    "print(quasar.format_statevector(statevector, real=True))"
   ]
  },
  {
   "cell_type": "code",
   "execution_count": 4,
   "metadata": {},
   "outputs": [
    {
     "name": "stdout",
     "output_type": "stream",
     "text": [
      "nmeasurement : 1000\n",
      "|000> : 0.705000\n",
      "|111> : 0.295000\n",
      "\n",
      "nmeasurement : 1000\n",
      "|000> : 705\n",
      "|111> : 295\n",
      "\n"
     ]
    }
   ],
   "source": [
    "probabilities = backend.run_measurement(circuit, nmeasurement=1000)\n",
    "print(probabilities)\n",
    "counts = probabilities.to_count_histogram()\n",
    "print(counts)"
   ]
  },
  {
   "cell_type": "code",
   "execution_count": 5,
   "metadata": {},
   "outputs": [
    {
     "name": "stdout",
     "output_type": "stream",
     "text": [
      "nmeasurement : None\n",
      "|000> : 0.681179\n",
      "|001> : 0.000000\n",
      "|010> : 0.000000\n",
      "|011> : 0.000000\n",
      "|100> : 0.000000\n",
      "|101> : 0.000000\n",
      "|110> : 0.000000\n",
      "|111> : 0.318821\n",
      "\n"
     ]
    }
   ],
   "source": [
    "probabilities = backend.run_measurement(circuit, nmeasurement=None)\n",
    "print(probabilities)\n",
    "# counts = probabilities.to_count_histogram()\n",
    "# print(counts)"
   ]
  },
  {
   "cell_type": "code",
   "execution_count": 6,
   "metadata": {},
   "outputs": [
    {
     "name": "stdout",
     "output_type": "stream",
     "text": [
      "+0.1*Z0\n",
      "+0.2*Z1\n",
      "+0.3*Z2\n"
     ]
    }
   ],
   "source": [
    "I, X, Y, Z = quasar.Pauli.IXYZ()\n",
    "pauli = 0.1 * Z[0] + 0.2 * Z[1] + 0.3 * Z[2]\n",
    "print(pauli)"
   ]
  },
  {
   "cell_type": "code",
   "execution_count": 7,
   "metadata": {},
   "outputs": [
    {
     "name": "stdout",
     "output_type": "stream",
     "text": [
      "<Z0> = (0.36235775447667357+0j)\n",
      "<Z1> = (0.36235775447667357+0j)\n",
      "<Z2> = (0.36235775447667357+0j)\n"
     ]
    }
   ],
   "source": [
    "O = backend.run_pauli_expectation(circuit, pauli, nmeasurement=None)\n",
    "print(O)"
   ]
  },
  {
   "cell_type": "code",
   "execution_count": 8,
   "metadata": {},
   "outputs": [
    {
     "name": "stdout",
     "output_type": "stream",
     "text": [
      "(0.21741465268600416+0j)\n"
     ]
    }
   ],
   "source": [
    "O = backend.run_pauli_expectation_value(circuit, pauli, nmeasurement=None)\n",
    "print(O)"
   ]
  },
  {
   "cell_type": "code",
   "execution_count": 9,
   "metadata": {},
   "outputs": [
    {
     "name": "stdout",
     "output_type": "stream",
     "text": [
      "[-1.1184469+0.j]\n"
     ]
    }
   ],
   "source": [
    "G = backend.run_pauli_expectation_value_gradient(circuit, pauli, nmeasurement=None)\n",
    "print(G)"
   ]
  },
  {
   "cell_type": "code",
   "execution_count": 10,
   "metadata": {},
   "outputs": [
    {
     "name": "stdout",
     "output_type": "stream",
     "text": [
      "[-0.86965861+0.j]\n"
     ]
    }
   ],
   "source": [
    "H = backend.run_pauli_expectation_value_hessian(circuit, pauli, nmeasurement=None)\n",
    "print(H)"
   ]
  },
  {
   "cell_type": "code",
   "execution_count": null,
   "metadata": {},
   "outputs": [],
   "source": []
  }
 ],
 "metadata": {
  "kernelspec": {
   "display_name": "Python 3",
   "language": "python",
   "name": "python3"
  },
  "language_info": {
   "codemirror_mode": {
    "name": "ipython",
    "version": 3
   },
   "file_extension": ".py",
   "mimetype": "text/x-python",
   "name": "python",
   "nbconvert_exporter": "python",
   "pygments_lexer": "ipython3",
   "version": "3.7.1"
  }
 },
 "nbformat": 4,
 "nbformat_minor": 2
}
