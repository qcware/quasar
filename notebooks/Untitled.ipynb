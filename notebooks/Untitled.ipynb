{
 "cells": [
  {
   "cell_type": "code",
   "execution_count": 1,
   "metadata": {},
   "outputs": [
    {
     "name": "stdout",
     "output_type": "stream",
     "text": [
      "Help on package quasar:\n",
      "\n",
      "NAME\n",
      "    quasar\n",
      "\n",
      "PACKAGE CONTENTS\n",
      "    circuit\n",
      "    measurement\n",
      "    pauli\n",
      "    run\n",
      "\n",
      "FILE\n",
      "    /Users/parrish/Code/quasar-aws/quasar/__init__.py\n",
      "\n",
      "\n"
     ]
    }
   ],
   "source": [
    "import quasar\n",
    "help(quasar)"
   ]
  },
  {
   "cell_type": "code",
   "execution_count": 2,
   "metadata": {},
   "outputs": [
    {
     "name": "stdout",
     "output_type": "stream",
     "text": [
      "T   : |0|1|2|\n",
      "             \n",
      "|0> : -H-@---\n",
      "         |   \n",
      "|1> : ---X-@-\n",
      "           | \n",
      "|2> : -----X-\n",
      "\n",
      "T   : |0|1|2|\n"
     ]
    }
   ],
   "source": [
    "circuit = quasar.Circuit(N=3)\n",
    "circuit.H(0)\n",
    "circuit.CX(0,1)\n",
    "circuit.CX(1,2)\n",
    "print(circuit)"
   ]
  },
  {
   "cell_type": "code",
   "execution_count": 3,
   "metadata": {},
   "outputs": [
    {
     "name": "stdout",
     "output_type": "stream",
     "text": [
      "T   : |0|1|2|3|4|5|6|7 |8|9|\n",
      "                            \n",
      "|0> : -H-@------------------\n",
      "         |                  \n",
      "|1> : ---X-@----------------\n",
      "           |                \n",
      "|2> : -----X----------------\n",
      "                            \n",
      "|3> : ---------------Ry-@---\n",
      "                        |   \n",
      "|4> : ------------------X-@-\n",
      "                          | \n",
      "|5> : --------------------X-\n",
      "\n",
      "T   : |0|1|2|3|4|5|6|7 |8|9|\n"
     ]
    }
   ],
   "source": [
    "circuit = quasar.Circuit(N=6)\n",
    "circuit.H(0)\n",
    "circuit.CX(0,1)\n",
    "circuit.CX(1,2)\n",
    "circuit.Ry(3, time=7)\n",
    "circuit.CX(3,4)\n",
    "circuit.CX(4,5)\n",
    "print(circuit)"
   ]
  },
  {
   "cell_type": "code",
   "execution_count": 4,
   "metadata": {},
   "outputs": [
    {
     "name": "stdout",
     "output_type": "stream",
     "text": [
      "Index Time  Qubits     Name       Gate      :                    Value\n",
      "0     7     (3,)       theta      Ry        :   0.0000000000000000E+00\n",
      "\n"
     ]
    }
   ],
   "source": [
    "print(circuit.param_str)"
   ]
  },
  {
   "cell_type": "code",
   "execution_count": 5,
   "metadata": {},
   "outputs": [
    {
     "name": "stdout",
     "output_type": "stream",
     "text": [
      "T   : |0 |1|2 |3|\n",
      "                 \n",
      "|0> : ----@----@-\n",
      "          |    | \n",
      "|1> : -Ry-X-Ry-Z-\n",
      "\n",
      "T   : |0 |1|2 |3|\n"
     ]
    }
   ],
   "source": [
    "gadget = quasar.Circuit(N=2).Ry(1).CX(0,1).Ry(1).CZ(0,1)\n",
    "print(gadget)"
   ]
  },
  {
   "cell_type": "code",
   "execution_count": 6,
   "metadata": {},
   "outputs": [
    {
     "name": "stdout",
     "output_type": "stream",
     "text": [
      "T   : |0 |1|2 |3 |4|5 |6 |7|8 |9|10|11|12|13|14|15|16|17|18|19|20|21|22|23|24|25|26|27|28|29|30|31|32|33|\n",
      "                                                                                                         \n",
      "|0> : -Ry-@----@-----------------------------------------------------------------------------------------\n",
      "          |    |                                                                                         \n",
      "|1> : -Ry-X-Ry-Z--@----@---------------------------------------------------------------------------------\n",
      "                  |    |                                                                                 \n",
      "|2> : ---------Ry-X-Ry-Z--@----@-------------------------------------------------------------------------\n",
      "                          |    |                                                                         \n",
      "|3> : -----------------Ry-X-Ry-Z----@-----@--------------------------------------------------------------\n",
      "                                    |     |                                                              \n",
      "|4> : ---------------------------Ry-X--Ry-Z-----------@-----@-----------------------------------@-----@--\n",
      "                                                      |     |                                   |     |  \n",
      "|5> : ------------------------------------------------Z--Ry-X-----Ry-------------------------Ry-X--Ry-Z--\n",
      "\n",
      "T   : |0 |1|2 |3 |4|5 |6 |7|8 |9|10|11|12|13|14|15|16|17|18|19|20|21|22|23|24|25|26|27|28|29|30|31|32|33|\n"
     ]
    }
   ],
   "source": [
    "circuit = quasar.Circuit(N=6).Ry(0)\n",
    "circuit.add_circuit(gadget, (0,1))\n",
    "circuit.add_circuit(gadget, (1,2))\n",
    "circuit.add_circuit(gadget, (2,3))\n",
    "circuit.add_circuit(gadget, (3,4), time_placement='late')\n",
    "circuit.add_circuit(gadget, (4,5), times=(21,19,18,17))\n",
    "circuit.add_circuit(gadget, (4,5), time=30)\n",
    "print(circuit)"
   ]
  },
  {
   "cell_type": "code",
   "execution_count": 7,
   "metadata": {},
   "outputs": [
    {
     "name": "stdout",
     "output_type": "stream",
     "text": [
      "T   : |0 |1|2|3 |\n",
      "                 \n",
      "|0> : -Ry-X-Z-Ry-\n",
      "          | |    \n",
      "|1> : ----@-@----\n",
      "\n",
      "T   : |0 |1|2|3 |\n"
     ]
    }
   ],
   "source": [
    "print(circuit.subcircuit(times=[3,4,6,5], qubits=[2,1]))"
   ]
  },
  {
   "cell_type": "code",
   "execution_count": null,
   "metadata": {},
   "outputs": [],
   "source": []
  }
 ],
 "metadata": {
  "kernelspec": {
   "display_name": "Python 3",
   "language": "python",
   "name": "python3"
  },
  "language_info": {
   "codemirror_mode": {
    "name": "ipython",
    "version": 3
   },
   "file_extension": ".py",
   "mimetype": "text/x-python",
   "name": "python",
   "nbconvert_exporter": "python",
   "pygments_lexer": "ipython3",
   "version": "3.7.1"
  }
 },
 "nbformat": 4,
 "nbformat_minor": 2
}
