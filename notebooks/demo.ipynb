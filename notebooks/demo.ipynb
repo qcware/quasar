{
 "cells": [
  {
   "cell_type": "markdown",
   "metadata": {},
   "source": [
    "# Quasar Demo"
   ]
  },
  {
   "cell_type": "code",
   "execution_count": 1,
   "metadata": {},
   "outputs": [],
   "source": [
    "import quasar"
   ]
  },
  {
   "cell_type": "markdown",
   "metadata": {},
   "source": [
    "## Layer 1: The Quasar Circuit Class"
   ]
  },
  {
   "cell_type": "markdown",
   "metadata": {},
   "source": [
    "### Example 1: A GHZ Circuit"
   ]
  },
  {
   "cell_type": "code",
   "execution_count": 2,
   "metadata": {},
   "outputs": [
    {
     "name": "stdout",
     "output_type": "stream",
     "text": [
      "T  : |0|1|2|\n",
      "            \n",
      "q0 : -H-@---\n",
      "        |   \n",
      "q1 : ---X-@-\n",
      "          | \n",
      "q2 : -----X-\n",
      "\n",
      "T  : |0|1|2|\n",
      "Index Time  Qubits     Name       Gate      :     Value\n",
      "\n"
     ]
    }
   ],
   "source": [
    "circuit = quasar.Circuit(N=3).H(0).CX(0,1).CX(1,2)\n",
    "print(circuit)\n",
    "print(circuit.param_str)"
   ]
  },
  {
   "cell_type": "code",
   "execution_count": 3,
   "metadata": {},
   "outputs": [
    {
     "name": "stdout",
     "output_type": "stream",
     "text": [
      " 0    (0,): H\n",
      " 1  (0, 1): CX\n",
      " 2  (1, 2): CX\n"
     ]
    }
   ],
   "source": [
    "for key, gate in circuit.gates.items():\n",
    "    time, qubits = key\n",
    "    print('%2d %7s: %s' % (time, qubits, gate))"
   ]
  },
  {
   "cell_type": "code",
   "execution_count": 4,
   "metadata": {},
   "outputs": [
    {
     "name": "stdout",
     "output_type": "stream",
     "text": [
      "3\n",
      "3\n",
      "1\n",
      "2\n",
      "3\n"
     ]
    }
   ],
   "source": [
    "print(circuit.N)\n",
    "print(circuit.ngate)\n",
    "print(circuit.ngate1)\n",
    "print(circuit.ngate2)\n",
    "print(circuit.ntime)"
   ]
  },
  {
   "cell_type": "markdown",
   "metadata": {},
   "source": [
    "### Example 2: A CIS Circuit"
   ]
  },
  {
   "cell_type": "code",
   "execution_count": 5,
   "metadata": {},
   "outputs": [
    {
     "name": "stdout",
     "output_type": "stream",
     "text": [
      "T  : |0 |1|2 |3|\n",
      "                \n",
      "q0 : ----@----X-\n",
      "         |    | \n",
      "q1 : -Ry-Z-Ry-@-\n",
      "\n",
      "T  : |0 |1|2 |3|\n"
     ]
    }
   ],
   "source": [
    "gadget = quasar.Circuit(N=2).Ry(1).CZ(0,1).Ry(1).CX(1,0)\n",
    "print(gadget)"
   ]
  },
  {
   "cell_type": "code",
   "execution_count": 6,
   "metadata": {},
   "outputs": [
    {
     "name": "stdout",
     "output_type": "stream",
     "text": [
      "T  : |0 |1|2 |3 |4|5 |6 |7|8 |9|\n",
      "                                \n",
      "q0 : -Ry-@----X-----------------\n",
      "         |    |                 \n",
      "q1 : -Ry-Z-Ry-@--@----X---------\n",
      "                 |    |         \n",
      "q2 : ---------Ry-Z-Ry-@--@----X-\n",
      "                         |    | \n",
      "q3 : -----------------Ry-Z-Ry-@-\n",
      "\n",
      "T  : |0 |1|2 |3 |4|5 |6 |7|8 |9|\n"
     ]
    }
   ],
   "source": [
    "circuit = quasar.Circuit(N=4)\n",
    "circuit.Ry(0, theta=0.2)\n",
    "circuit.add_circuit(gadget, (0,1))\n",
    "circuit.add_circuit(gadget, (1,2))\n",
    "circuit.add_circuit(gadget, (2,3))\n",
    "print(circuit)"
   ]
  },
  {
   "cell_type": "code",
   "execution_count": 7,
   "metadata": {},
   "outputs": [
    {
     "name": "stdout",
     "output_type": "stream",
     "text": [
      "Index Time  Qubits     Name       Gate      :     Value\n",
      "0     0     (0,)       theta      Ry        :  0.200000\n",
      "1     0     (1,)       theta      Ry        :  0.000000\n",
      "2     2     (1,)       theta      Ry        :  0.000000\n",
      "3     3     (2,)       theta      Ry        :  0.000000\n",
      "4     5     (2,)       theta      Ry        :  0.000000\n",
      "5     6     (3,)       theta      Ry        :  0.000000\n",
      "6     8     (3,)       theta      Ry        :  0.000000\n",
      "\n"
     ]
    }
   ],
   "source": [
    "print(circuit.param_str)"
   ]
  },
  {
   "cell_type": "code",
   "execution_count": 8,
   "metadata": {},
   "outputs": [
    {
     "name": "stdout",
     "output_type": "stream",
     "text": [
      "Index Time  Qubits     Name       Gate      :     Value\n",
      "0     0     (0,)       theta      Ry        :  0.900000\n",
      "1     0     (1,)       theta      Ry        : -0.100000\n",
      "2     2     (1,)       theta      Ry        :  0.100000\n",
      "3     3     (2,)       theta      Ry        :  0.200000\n",
      "4     5     (2,)       theta      Ry        : -0.200000\n",
      "5     6     (3,)       theta      Ry        :  0.300000\n",
      "6     8     (3,)       theta      Ry        : -0.300000\n",
      "\n"
     ]
    }
   ],
   "source": [
    "circuit.set_param_values([0.9, -0.1, +0.1, +0.2, -0.2, +0.3, -0.3])\n",
    "print(circuit.param_str)"
   ]
  },
  {
   "cell_type": "code",
   "execution_count": 9,
   "metadata": {},
   "outputs": [
    {
     "name": "stdout",
     "output_type": "stream",
     "text": [
      "[(0, (0,), 'theta'), (0, (1,), 'theta'), (2, (1,), 'theta'), (3, (2,), 'theta'), (5, (2,), 'theta'), (6, (3,), 'theta'), (8, (3,), 'theta')]\n"
     ]
    }
   ],
   "source": [
    "print(circuit.param_keys)"
   ]
  },
  {
   "cell_type": "code",
   "execution_count": 10,
   "metadata": {},
   "outputs": [
    {
     "name": "stdout",
     "output_type": "stream",
     "text": [
      "[ 0.622  0.034 -0.05   0.     0.143  0.     0.     0.     0.768  0.\n",
      " -0.     0.     0.    -0.     0.    -0.   ]\n"
     ]
    }
   ],
   "source": [
    "print(circuit.simulate().real.round(3))"
   ]
  },
  {
   "cell_type": "code",
   "execution_count": 11,
   "metadata": {},
   "outputs": [
    {
     "name": "stdout",
     "output_type": "stream",
     "text": [
      "|0000> : 383\n",
      "|0001> :   1\n",
      "|0010> :   2\n",
      "|0100> :  18\n",
      "|1000> : 596\n",
      "\n",
      "383\n"
     ]
    }
   ],
   "source": [
    "measurement = circuit.measure(nmeasurement=1000)\n",
    "print(measurement)\n",
    "# measurement2 = measurement.mask_qubits([0,1]) # TODO\n",
    "print(measurement['0000'])"
   ]
  },
  {
   "cell_type": "code",
   "execution_count": 12,
   "metadata": {},
   "outputs": [
    {
     "name": "stdout",
     "output_type": "stream",
     "text": [
      "0000 383\n",
      "0001 1\n",
      "0010 2\n",
      "0100 18\n",
      "1000 596\n"
     ]
    }
   ],
   "source": [
    "for key, ncount in measurement.items():\n",
    "    print(key, ncount)"
   ]
  },
  {
   "cell_type": "code",
   "execution_count": 13,
   "metadata": {},
   "outputs": [
    {
     "name": "stdout",
     "output_type": "stream",
     "text": [
      "1\n",
      "0\n"
     ]
    }
   ],
   "source": [
    "print(key[0])\n",
    "print(key[1])"
   ]
  },
  {
   "cell_type": "markdown",
   "metadata": {},
   "source": [
    "## Layer 2: Backends, Statevectors, Measurements, and Paulis"
   ]
  },
  {
   "cell_type": "code",
   "execution_count": 14,
   "metadata": {},
   "outputs": [
    {
     "name": "stdout",
     "output_type": "stream",
     "text": [
      "Quasar Simulator Backend (Statevector)\n",
      "Quasar: An Ultralite Quantum Circuit Simulator\n",
      "   By Rob Parrish (rob.parrish@qcware.com)    \n",
      "True\n",
      "True\n",
      "<class 'quasar.circuit.Circuit'>\n"
     ]
    }
   ],
   "source": [
    "backend = quasar.QuasarSimulatorBackend()\n",
    "print(backend)\n",
    "print(backend.summary_str)\n",
    "print(backend.has_statevector)\n",
    "print(backend.has_measurement)\n",
    "print(backend.native_circuit_type)"
   ]
  },
  {
   "cell_type": "code",
   "execution_count": 15,
   "metadata": {},
   "outputs": [
    {
     "name": "stdout",
     "output_type": "stream",
     "text": [
      "Qiskit Simulator Backend\n",
      "Qiskit Simulator Backend\n",
      "True\n",
      "True\n",
      "<class 'qiskit.circuit.quantumcircuit.QuantumCircuit'>\n"
     ]
    },
    {
     "name": "stderr",
     "output_type": "stream",
     "text": [
      "/anaconda3/lib/python3.7/site-packages/marshmallow/schema.py:364: ChangedInMarshmallow3Warning: strict=False is not recommended. In marshmallow 3.0, schemas will always be strict. See https://marshmallow.readthedocs.io/en/latest/upgrading.html#schemas-are-always-strict\n",
      "  ChangedInMarshmallow3Warning\n"
     ]
    }
   ],
   "source": [
    "backend = quasar.QiskitSimulatorBackend()\n",
    "print(backend)\n",
    "print(backend.summary_str)\n",
    "print(backend.has_statevector)\n",
    "print(backend.has_measurement)\n",
    "print(backend.native_circuit_type)"
   ]
  },
  {
   "cell_type": "code",
   "execution_count": 16,
   "metadata": {},
   "outputs": [
    {
     "name": "stdout",
     "output_type": "stream",
     "text": [
      "Cirq Simulator Backend\n",
      "Cirq Simulator Backend\n",
      "True\n",
      "True\n",
      "<class 'cirq.circuits.circuit.Circuit'>\n"
     ]
    }
   ],
   "source": [
    "backend = quasar.CirqSimulatorBackend()\n",
    "print(backend)\n",
    "print(backend.summary_str)\n",
    "print(backend.has_statevector)\n",
    "print(backend.has_measurement)\n",
    "print(backend.native_circuit_type)"
   ]
  },
  {
   "cell_type": "code",
   "execution_count": 17,
   "metadata": {},
   "outputs": [],
   "source": [
    "backends = [\n",
    "    quasar.QuasarSimulatorBackend(),\n",
    "    quasar.QiskitSimulatorBackend(),\n",
    "    quasar.CirqSimulatorBackend(),\n",
    "]"
   ]
  },
  {
   "cell_type": "code",
   "execution_count": 18,
   "metadata": {},
   "outputs": [
    {
     "name": "stdout",
     "output_type": "stream",
     "text": [
      "T  : |0|1|2|\n",
      "            \n",
      "q0 : -H-@---\n",
      "        |   \n",
      "q1 : ---X-@-\n",
      "          | \n",
      "q2 : -----X-\n",
      "\n",
      "T  : |0|1|2|\n"
     ]
    }
   ],
   "source": [
    "circuit = quasar.Circuit(N=3).H(0).CX(0,1).CX(1,2)\n",
    "print(circuit)"
   ]
  },
  {
   "cell_type": "code",
   "execution_count": 19,
   "metadata": {},
   "outputs": [
    {
     "name": "stdout",
     "output_type": "stream",
     "text": [
      "T  : |0|1|2|\n",
      "            \n",
      "q0 : -H-@---\n",
      "        |   \n",
      "q1 : ---X-@-\n",
      "          | \n",
      "q2 : -----X-\n",
      "\n",
      "T  : |0|1|2|\n",
      "         ┌───┐          \n",
      "q0_0: |0>┤ H ├──■───────\n",
      "         └───┘┌─┴─┐     \n",
      "q0_1: |0>─────┤ X ├──■──\n",
      "              └───┘┌─┴─┐\n",
      "q0_2: |0>──────────┤ X ├\n",
      "                   └───┘\n",
      "0: ───H───@───────\n",
      "          │\n",
      "1: ───────X───@───\n",
      "              │\n",
      "2: ───────────X───\n"
     ]
    }
   ],
   "source": [
    "circuits = [quasar.build_native_circuit(backend, circuit) for backend in backends]\n",
    "for circuit in circuits:\n",
    "    print(circuit)"
   ]
  },
  {
   "cell_type": "code",
   "execution_count": 20,
   "metadata": {},
   "outputs": [
    {
     "name": "stdout",
     "output_type": "stream",
     "text": [
      "T  : |0|1|2|\n",
      "            \n",
      "q0 : -H-@---\n",
      "        |   \n",
      "q1 : ---X-@-\n",
      "          | \n",
      "q2 : -----X-\n",
      "\n",
      "T  : |0|1|2|\n",
      "T  : |0|1|2|\n",
      "            \n",
      "q0 : -H-@---\n",
      "        |   \n",
      "q1 : ---X-@-\n",
      "          | \n",
      "q2 : -----X-\n",
      "\n",
      "T  : |0|1|2|\n",
      "T  : |0|1|2|\n",
      "            \n",
      "q0 : -H-@---\n",
      "        |   \n",
      "q1 : ---X-@-\n",
      "          | \n",
      "q2 : -----X-\n",
      "\n",
      "T  : |0|1|2|\n",
      "         ┌───┐          \n",
      "q1_0: |0>┤ H ├──■───────\n",
      "         └───┘┌─┴─┐     \n",
      "q1_1: |0>─────┤ X ├──■──\n",
      "              └───┘┌─┴─┐\n",
      "q1_2: |0>──────────┤ X ├\n",
      "                   └───┘\n",
      "         ┌───┐          \n",
      "q0_0: |0>┤ H ├──■───────\n",
      "         └───┘┌─┴─┐     \n",
      "q0_1: |0>─────┤ X ├──■──\n",
      "              └───┘┌─┴─┐\n",
      "q0_2: |0>──────────┤ X ├\n",
      "                   └───┘\n",
      "         ┌───┐          \n",
      "q2_0: |0>┤ H ├──■───────\n",
      "         └───┘┌─┴─┐     \n",
      "q2_1: |0>─────┤ X ├──■──\n",
      "              └───┘┌─┴─┐\n",
      "q2_2: |0>──────────┤ X ├\n",
      "                   └───┘\n",
      "0: ───H───@───────\n",
      "          │\n",
      "1: ───────X───@───\n",
      "              │\n",
      "2: ───────────X───\n",
      "0: ───H───@───────\n",
      "          │\n",
      "1: ───────X───@───\n",
      "              │\n",
      "2: ───────────X───\n",
      "0: ───H───@───────\n",
      "          │\n",
      "1: ───────X───@───\n",
      "              │\n",
      "2: ───────────X───\n"
     ]
    }
   ],
   "source": [
    "for backend in backends:\n",
    "    for circuit in circuits:\n",
    "        print(quasar.build_native_circuit(backend, circuit))"
   ]
  },
  {
   "cell_type": "code",
   "execution_count": 21,
   "metadata": {},
   "outputs": [
    {
     "name": "stdout",
     "output_type": "stream",
     "text": [
      "[0.5 0.  0.  0.  0.  0.  0.  0.5]\n",
      "[0.5 0.  0.  0.  0.  0.  0.  0.5]\n",
      "[0.5 0.  0.  0.  0.  0.  0.  0.5]\n",
      "[0.5 0.  0.  0.  0.  0.  0.  0.5]\n",
      "[0.5 0.  0.  0.  0.  0.  0.  0.5]\n",
      "[0.5 0.  0.  0.  0.  0.  0.  0.5]\n",
      "[0.49999998 0.         0.         0.         0.         0.\n",
      " 0.         0.49999998]\n",
      "[0.49999998 0.         0.         0.         0.         0.\n",
      " 0.         0.49999998]\n",
      "[0.49999998 0.         0.         0.         0.         0.\n",
      " 0.         0.49999998]\n"
     ]
    },
    {
     "name": "stderr",
     "output_type": "stream",
     "text": [
      "/anaconda3/lib/python3.7/site-packages/marshmallow/schema.py:364: ChangedInMarshmallow3Warning: strict=False is not recommended. In marshmallow 3.0, schemas will always be strict. See https://marshmallow.readthedocs.io/en/latest/upgrading.html#schemas-are-always-strict\n",
      "  ChangedInMarshmallow3Warning\n"
     ]
    }
   ],
   "source": [
    "import numpy as np\n",
    "for backend in backends:\n",
    "    for circuit in circuits:\n",
    "        print(np.abs(quasar.run_statevector(backend, circuit)**2))"
   ]
  },
  {
   "cell_type": "code",
   "execution_count": 22,
   "metadata": {},
   "outputs": [
    {
     "name": "stdout",
     "output_type": "stream",
     "text": [
      "|000> : 505\n",
      "|111> : 495\n",
      "\n",
      "|000> : 515\n",
      "|111> : 485\n",
      "\n",
      "|000> : 508\n",
      "|111> : 492\n",
      "\n",
      "|000> : 498\n",
      "|111> : 502\n",
      "\n",
      "|000> : 556\n",
      "|111> : 444\n",
      "\n",
      "|000> : 514\n",
      "|111> : 486\n",
      "\n",
      "|000> : 493\n",
      "|111> : 507\n",
      "\n",
      "|000> : 472\n",
      "|111> : 528\n",
      "\n",
      "|000> : 486\n",
      "|111> : 514\n",
      "\n"
     ]
    }
   ],
   "source": [
    "for backend in backends:\n",
    "    for circuit in circuits:\n",
    "        print(quasar.run_measurement(backend, circuit, nmeasurement=1000))"
   ]
  },
  {
   "cell_type": "code",
   "execution_count": 23,
   "metadata": {},
   "outputs": [],
   "source": [
    "I, X, Y, Z = quasar.Pauli.IXYZ()"
   ]
  },
  {
   "cell_type": "code",
   "execution_count": 24,
   "metadata": {},
   "outputs": [
    {
     "name": "stdout",
     "output_type": "stream",
     "text": [
      "[[ 0.+0.j -0.-1.j]\n",
      " [ 0.+1.j  0.+0.j]]\n"
     ]
    }
   ],
   "source": [
    "print(quasar.Matrix.Y)"
   ]
  },
  {
   "cell_type": "code",
   "execution_count": 25,
   "metadata": {},
   "outputs": [
    {
     "name": "stdout",
     "output_type": "stream",
     "text": [
      "+1.0*I\n",
      "+1.0*Z0\n",
      "+1.0*Z1\n",
      "+1.0*Z2\n",
      "+1.0*Z0*Z1\n",
      "+1.0*Z1*Z2\n",
      "+1.0*Z0*Z1*Z2\n",
      "+1.0*X0\n"
     ]
    }
   ],
   "source": [
    "pauli = I + Z[0] + Z[1] + Z[2]\n",
    "pauli += Z[0] * Z[1] + Z[1] * Z[2]\n",
    "pauli += Z[0] * Z[1] * Z[2]\n",
    "pauli += X[0]\n",
    "print(pauli)"
   ]
  },
  {
   "cell_type": "code",
   "execution_count": 26,
   "metadata": {},
   "outputs": [
    {
     "name": "stdout",
     "output_type": "stream",
     "text": [
      "<I> = 1.0\n",
      "<Z0> = -0.014\n",
      "<Z1> = -0.036\n",
      "<Z2> = -0.014\n",
      "<Z0*Z1> = 1.0\n",
      "<Z1*Z2> = 1.0\n",
      "<Z0*Z1*Z2> = -0.07\n",
      "<X0> = 0.02\n",
      "\n",
      "<I> = 1.0\n",
      "<Z0> = -0.001\n",
      "<Z1> = -0.05\n",
      "<Z2> = -0.001\n",
      "<Z0*Z1> = 1.0\n",
      "<Z1*Z2> = 1.0\n",
      "<Z0*Z1*Z2> = -0.032\n",
      "<X0> = 0.022\n",
      "\n",
      "<I> = 1.0\n",
      "<Z0> = 0.015\n",
      "<Z1> = -0.004\n",
      "<Z2> = 0.015\n",
      "<Z0*Z1> = 1.0\n",
      "<Z1*Z2> = 1.0\n",
      "<Z0*Z1*Z2> = 0.012\n",
      "<X0> = 0.046\n",
      "\n",
      "<I> = 1.0\n",
      "<Z0> = 0.017\n",
      "<Z1> = 0.006\n",
      "<Z2> = 0.017\n",
      "<Z0*Z1> = 1.0\n",
      "<Z1*Z2> = 1.0\n",
      "<Z0*Z1*Z2> = 0.018\n",
      "<X0> = -0.005\n",
      "\n",
      "<I> = 1.0\n",
      "<Z0> = -0.02\n",
      "<Z1> = -0.051\n",
      "<Z2> = -0.02\n",
      "<Z0*Z1> = 1.0\n",
      "<Z1*Z2> = 1.0\n",
      "<Z0*Z1*Z2> = -0.044\n",
      "<X0> = 0.012\n",
      "\n",
      "<I> = 1.0\n",
      "<Z0> = -0.001\n",
      "<Z1> = 0.008\n",
      "<Z2> = -0.001\n",
      "<Z0*Z1> = 1.0\n",
      "<Z1*Z2> = 1.0\n",
      "<Z0*Z1*Z2> = -0.02\n",
      "<X0> = -0.009\n",
      "\n",
      "<I> = 1.0\n",
      "<Z0> = 0.008\n",
      "<Z1> = -0.014\n",
      "<Z2> = 0.008\n",
      "<Z0*Z1> = 1.0\n",
      "<Z1*Z2> = 1.0\n",
      "<Z0*Z1*Z2> = 0.01\n",
      "<X0> = -0.004\n",
      "\n",
      "<I> = 1.0\n",
      "<Z0> = 0.034\n",
      "<Z1> = 0.001\n",
      "<Z2> = 0.034\n",
      "<Z0*Z1> = 1.0\n",
      "<Z1*Z2> = 1.0\n",
      "<Z0*Z1*Z2> = 0.008\n",
      "<X0> = 0.0\n",
      "\n",
      "<I> = 1.0\n",
      "<Z0> = 0.035\n",
      "<Z1> = -0.003\n",
      "<Z2> = 0.035\n",
      "<Z0*Z1> = 1.0\n",
      "<Z1*Z2> = 1.0\n",
      "<Z0*Z1*Z2> = 0.022\n",
      "<X0> = -0.015\n",
      "\n"
     ]
    }
   ],
   "source": [
    "for backend in backends:\n",
    "    for circuit in circuits:\n",
    "        print(quasar.run_pauli_expectation(backend, circuit, pauli, nmeasurement=1000))\n",
    "        print('')"
   ]
  },
  {
   "cell_type": "markdown",
   "metadata": {},
   "source": [
    "## Layer 3: Gradients, Hessians, and Tomography"
   ]
  },
  {
   "cell_type": "code",
   "execution_count": null,
   "metadata": {},
   "outputs": [],
   "source": []
  },
  {
   "cell_type": "code",
   "execution_count": 27,
   "metadata": {},
   "outputs": [
    {
     "ename": "NameError",
     "evalue": "name 'run_observable_expectation_value' is not defined",
     "output_type": "error",
     "traceback": [
      "\u001b[0;31m---------------------------------------------------------------------------\u001b[0m",
      "\u001b[0;31mNameError\u001b[0m                                 Traceback (most recent call last)",
      "\u001b[0;32m<ipython-input-27-9b4c7d4bdd9d>\u001b[0m in \u001b[0;36m<module>\u001b[0;34m\u001b[0m\n\u001b[0;32m----> 1\u001b[0;31m \u001b[0mrun_observable_expectation_value\u001b[0m\u001b[0;34m(\u001b[0m\u001b[0mbackend\u001b[0m\u001b[0;34m,\u001b[0m \u001b[0mcircuit\u001b[0m\u001b[0;34m,\u001b[0m \u001b[0mpauli\u001b[0m\u001b[0;34m)\u001b[0m\u001b[0;34m\u001b[0m\u001b[0;34m\u001b[0m\u001b[0m\n\u001b[0m",
      "\u001b[0;31mNameError\u001b[0m: name 'run_observable_expectation_value' is not defined"
     ]
    }
   ],
   "source": [
    "run_observable_expectation_value(backend, circuit, pauli)"
   ]
  }
 ],
 "metadata": {
  "kernelspec": {
   "display_name": "Python 3",
   "language": "python",
   "name": "python3"
  },
  "language_info": {
   "codemirror_mode": {
    "name": "ipython",
    "version": 3
   },
   "file_extension": ".py",
   "mimetype": "text/x-python",
   "name": "python",
   "nbconvert_exporter": "python",
   "pygments_lexer": "ipython3",
   "version": "3.7.1"
  }
 },
 "nbformat": 4,
 "nbformat_minor": 2
}
