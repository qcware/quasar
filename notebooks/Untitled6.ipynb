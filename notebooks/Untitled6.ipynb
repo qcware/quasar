{
 "cells": [
  {
   "cell_type": "code",
   "execution_count": 1,
   "metadata": {},
   "outputs": [],
   "source": [
    "import quasar\n",
    "import numpy as np"
   ]
  },
  {
   "cell_type": "code",
   "execution_count": 2,
   "metadata": {},
   "outputs": [
    {
     "name": "stdout",
     "output_type": "stream",
     "text": [
      "[[0.+0.j 0.+0.j]\n",
      " [0.+0.j 0.+0.j]]\n",
      "[[-1.11022302e-16+0.00000000e+00j  0.00000000e+00+0.00000000e+00j]\n",
      " [ 0.00000000e+00+0.00000000e+00j -1.11022302e-16-5.55111512e-17j]]\n",
      "[[ 0.98690667+0.j         -0.15178826-0.05454853j]\n",
      " [ 0.15684295+0.03762324j  0.82527793+0.5412034j ]]\n"
     ]
    }
   ],
   "source": [
    "phi = 0.23543\n",
    "lam = 0.345\n",
    "theta = 0.324\n",
    "u1 = quasar.Matrix.u1(lam) - quasar.Matrix.u3(0.0, 0.0, lam)\n",
    "u2 = quasar.Matrix.u2(phi, lam) - quasar.Matrix.u3(np.pi / 2.0, phi, lam)\n",
    "u3 = quasar.Matrix.u3(theta, phi, lam)\n",
    "print(u1)\n",
    "print(u2)\n",
    "print(u3)"
   ]
  },
  {
   "cell_type": "code",
   "execution_count": 3,
   "metadata": {},
   "outputs": [
    {
     "name": "stdout",
     "output_type": "stream",
     "text": [
      "['CCX', 'CF', 'CS', 'CSWAP', 'CX', 'CY', 'CZ', 'H', 'I', 'Rx', 'Rx2', 'Rx2T', 'Ry', 'Rz', 'S', 'SO4', 'SO42', 'SWAP', 'T', 'U', 'U1', 'U2', 'X', 'Y', 'Z', '__class__', '__delattr__', '__dict__', '__dir__', '__doc__', '__eq__', '__format__', '__ge__', '__getattribute__', '__gt__', '__hash__', '__init__', '__init_subclass__', '__le__', '__lt__', '__module__', '__ne__', '__new__', '__reduce__', '__reduce_ex__', '__repr__', '__setattr__', '__sizeof__', '__str__', '__subclasshook__', '__weakref__', 'copy', 'set_param', 'set_params', 'u1', 'u2', 'u3']\n"
     ]
    }
   ],
   "source": [
    "print(dir(quasar.Gate))"
   ]
  },
  {
   "cell_type": "code",
   "execution_count": 4,
   "metadata": {},
   "outputs": [
    {
     "name": "stdout",
     "output_type": "stream",
     "text": [
      "T  : |0 |1 |2 |\n",
      "               \n",
      "q0 : -u1-u2-u3-\n",
      "\n",
      "T  : |0 |1 |2 |\n",
      "Index Time  Qubits     Name       Gate      :     Value\n",
      "0     0     (0,)       lam        u1        :  0.000000\n",
      "1     1     (0,)       phi        u2        :  0.000000\n",
      "2     1     (0,)       lam        u2        :  0.000000\n",
      "3     2     (0,)       theta      u3        :  0.000000\n",
      "4     2     (0,)       phi        u3        :  0.000000\n",
      "5     2     (0,)       lam        u3        :  0.000000\n",
      "\n"
     ]
    }
   ],
   "source": [
    "circuit = quasar.Circuit(N=1).u1(0).u2(0).u3(0)\n",
    "print(circuit)\n",
    "print(circuit.param_str)"
   ]
  },
  {
   "cell_type": "code",
   "execution_count": null,
   "metadata": {},
   "outputs": [],
   "source": []
  }
 ],
 "metadata": {
  "kernelspec": {
   "display_name": "Python 3",
   "language": "python",
   "name": "python3"
  },
  "language_info": {
   "codemirror_mode": {
    "name": "ipython",
    "version": 3
   },
   "file_extension": ".py",
   "mimetype": "text/x-python",
   "name": "python",
   "nbconvert_exporter": "python",
   "pygments_lexer": "ipython3",
   "version": "3.7.1"
  }
 },
 "nbformat": 4,
 "nbformat_minor": 2
}
