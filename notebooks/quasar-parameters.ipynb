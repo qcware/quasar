{
 "cells": [
  {
   "cell_type": "markdown",
   "metadata": {},
   "source": [
    "# Circuit Parameter Manipulation"
   ]
  },
  {
   "cell_type": "markdown",
   "metadata": {},
   "source": [
    "This tutorial covers the common use case of constructing a circuit with continuously variable parameters (today only in `Rx`, `Ry`, or `Rz` gates), evaluating the expectation value of a Hermitian operator supplied in sparse Pauli form using ideal statevector simulation, and then taking the gradient of the expectation value with respect to the values of the circuit rotation angle parameters. Such exercises are ubiquitous in variational quantum algorithms such as QAOA and VQE, e.g., in gradient-based algorithms to optimize the variational quantum circuit parameters. We have provided some utility functions to make these exercises easy to implement and rather fast to run (particularly when ideal statevector simulation in the infinite statistical sampling limit is invoked)."
   ]
  },
  {
   "cell_type": "code",
   "execution_count": null,
   "metadata": {},
   "outputs": [],
   "source": [
    "import quasar\n",
    "import time # We'll roughly time some quasar operations below"
   ]
  },
  {
   "cell_type": "markdown",
   "metadata": {},
   "source": [
    "## Case-Study Circuit"
   ]
  },
  {
   "cell_type": "markdown",
   "metadata": {},
   "source": [
    "First, let's build a CIS state preparation circuit. We start by building a gadget to move amplitude from one singly-excited ket to another:"
   ]
  },
  {
   "cell_type": "code",
   "execution_count": null,
   "metadata": {},
   "outputs": [],
   "source": [
    "gadget = quasar.Circuit().Ry(1).CZ(0,1).Ry(1).CX(1,0)\n",
    "print(gadget)"
   ]
  },
  {
   "cell_type": "markdown",
   "metadata": {},
   "source": [
    "Then use the ``add_gates`` utility function to quickly build up the full CIS state preparation circuit:"
   ]
  },
  {
   "cell_type": "code",
   "execution_count": null,
   "metadata": {},
   "outputs": [],
   "source": [
    "N = 10 # Increase this to get some more dramatic timing examples below\n",
    "circuit = quasar.Circuit().X(0)\n",
    "for I in range(N):\n",
    "    circuit.add_gates(circuit=gadget, qubits=(I, I+1))\n",
    "print(circuit)"
   ]
  },
  {
   "cell_type": "markdown",
   "metadata": {},
   "source": [
    "## Parameter Manipulation"
   ]
  },
  {
   "cell_type": "markdown",
   "metadata": {},
   "source": [
    "Cool circuit, bro. So where are all the parameters, how do we figure out what they are, and how do we set their values? To get started with this, let's invoke the `parameter_str` utility property of `Circuit`:"
   ]
  },
  {
   "cell_type": "code",
   "execution_count": null,
   "metadata": {},
   "outputs": [],
   "source": [
    "print(circuit.parameter_str)"
   ]
  },
  {
   "cell_type": "markdown",
   "metadata": {},
   "source": [
    "This provides a textual summary of all mutable parameters in `Circuit`, including a breakdown of the `times` and `qubits` key of the involved `Gate`, the name of that `Gate`, and the parameter name within that `Gate`, as well as the current value of the parameter. The parameters of a `Circuit` object have a strong lexical indexing order (referred to as the `parameter_index` order) determined first by the `times` and `qubits` key of the involved `Gate` (i.e., the underlying lexical `Gate` index order), followed by the definitional ordering of each parameter within the `Gate` (for multi-parameter `Gate` objects). For instance, the `10`-th `parameter_index` in our `Circuit` corresponds to the `theta` parameter of the `Ry` gates at `time` index `15` and `qubit` index `6` - its value is currently `0.0`."
   ]
  },
  {
   "cell_type": "markdown",
   "metadata": {},
   "source": [
    "Before we start setting parameters, let's look at some more attributes that help us to locate and characterize these parameters. The `nparameter` property tells how many total parameters are in the `Circuit` object:"
   ]
  },
  {
   "cell_type": "code",
   "execution_count": null,
   "metadata": {},
   "outputs": [],
   "source": [
    "print(circuit.nparameter)"
   ]
  },
  {
   "cell_type": "markdown",
   "metadata": {},
   "source": [
    "The `parameters` property is an `OrderedDict` of parameter (`times`, `qubits`, `parameter_key`) keys to parameter values. We'll print this out somewhat reasonably here: "
   ]
  },
  {
   "cell_type": "code",
   "execution_count": null,
   "metadata": {},
   "outputs": [],
   "source": [
    "# print(circuit.parameters)\n",
    "for key, value in circuit.parameters.items():\n",
    "    times, qubits, parameter_key = key\n",
    "    print('%10r %10r %10r: %8.6f' % (times, qubits, parameter_key, value))"
   ]
  },
  {
   "cell_type": "markdown",
   "metadata": {},
   "source": [
    "If you don't want the whole `parameters` dictionary, you can also have either the `parameter_keys` or `parameter_values` in isolation:"
   ]
  },
  {
   "cell_type": "code",
   "execution_count": null,
   "metadata": {},
   "outputs": [],
   "source": [
    "print(circuit.parameter_keys)\n",
    "print(circuit.parameter_values)"
   ]
  },
  {
   "cell_type": "markdown",
   "metadata": {},
   "source": [
    "In another common use case, you have the `times` and `qubits` key of a `Gate` object, and want to know what parameter indices it covers in the `Circuit` object. For this, the `parameter_indices` property is provided:"
   ]
  },
  {
   "cell_type": "code",
   "execution_count": null,
   "metadata": {},
   "outputs": [],
   "source": [
    "# print(circuit.parameter_indices)\n",
    "for key, parameter_indices in circuit.parameter_indices.items():\n",
    "    times, qubits = key\n",
    "    print('%10r %10r: %r' % (times, qubits, parameter_indices))"
   ]
  },
  {
   "cell_type": "markdown",
   "metadata": {},
   "source": [
    "Note how the `H`, `CX`, and `CZ` gates do not have any parameters, while the `Ry` gates have one each. The `parameter_indices` method can often be used in concert with automatic time placement in the `add_gate` method and the `return_key` optional argument to `add_gate` to determine where each `Gate` object is automatically added in time and from thence which lexical parameter indices correspond to that `Gate`. `return_key` falls through any gate addition sugar methods. For instance:"
   ]
  },
  {
   "cell_type": "code",
   "execution_count": null,
   "metadata": {},
   "outputs": [],
   "source": [
    "circuit2 = quasar.Circuit().Rx(0).Ry(1)\n",
    "# Where is the following Rz gate added? \n",
    "# (Note that time placement is determined automatically)\n",
    "Rz_times, Rz_qubits = circuit2.Rz(0, return_key=True)\n",
    "print(circuit2)\n",
    "print(Rz_times, Rz_qubits)\n",
    "# Maybe add more gates here\n",
    "# ...\n",
    "# At this point, what parameter indices are represented by the Rz gate?\n",
    "print(circuit2.parameter_indices[(Rz_times, Rz_qubits)])"
   ]
  },
  {
   "cell_type": "markdown",
   "metadata": {},
   "source": [
    "Now to set the values of the parameters. You can set these one at a time with full knowledge of the parameter key via the `set_parameter` method:"
   ]
  },
  {
   "cell_type": "code",
   "execution_count": null,
   "metadata": {},
   "outputs": [],
   "source": [
    "circuit.set_parameter(((23,), (8,), 'theta'), 1.0)\n",
    "print(circuit.parameter_str)"
   ]
  },
  {
   "cell_type": "markdown",
   "metadata": {},
   "source": [
    "Or several at a time with the `set_parameters` method:"
   ]
  },
  {
   "cell_type": "code",
   "execution_count": null,
   "metadata": {},
   "outputs": [],
   "source": [
    "circuit.set_parameters({\n",
    "    ((20,), (7,), 'theta') : 0.2,\n",
    "    ((21,), (8,), 'theta') : 0.3,\n",
    "    })\n",
    "print(circuit.parameter_str)"
   ]
  },
  {
   "cell_type": "markdown",
   "metadata": {},
   "source": [
    "However, full knowledge of the parameter key is somewhat verbose, and is entirely equivalent to knowledge of the integer parameter index. To set parameters instead in terms of parameter index, we provide the `set_parameter_values` method, which takes a `parameter_values` list and an optional `parameter_indices` list (needed if only a subset and/or a number of non-sequential parameters are set):"
   ]
  },
  {
   "cell_type": "code",
   "execution_count": null,
   "metadata": {},
   "outputs": [],
   "source": [
    "circuit.set_parameter_values([0.4, 0.5], parameter_indices=[4,2])\n",
    "print(circuit.parameter_str)"
   ]
  },
  {
   "cell_type": "markdown",
   "metadata": {},
   "source": [
    "Here's a quick example of how things look a little different if `Gate` objects have multiple parameters:"
   ]
  },
  {
   "cell_type": "code",
   "execution_count": null,
   "metadata": {},
   "outputs": [],
   "source": [
    "circuit3 = quasar.Circuit().Ry(0).SO4(0,1)\n",
    "print(circuit3)\n",
    "print(circuit3.parameter_str)\n",
    "for key, parameter_indices in circuit3.parameter_indices.items():\n",
    "    times, qubits = key\n",
    "    print('%10r %10r: %r' % (times, qubits, parameter_indices))"
   ]
  },
  {
   "cell_type": "markdown",
   "metadata": {},
   "source": [
    "Now back to our case-study CIS circuit. We'll set the parameters to something deterministic but sensible before proceeding to the rest of the exercise:"
   ]
  },
  {
   "cell_type": "code",
   "execution_count": null,
   "metadata": {},
   "outputs": [],
   "source": [
    "parameter_values = []\n",
    "for I in range(N):\n",
    "    value = (1.0 - I / 17.0)\n",
    "    parameter_values.append(+value)\n",
    "    parameter_values.append(-value)\n",
    "circuit.set_parameter_values(parameter_values)\n",
    "print(circuit.parameter_str)"
   ]
  },
  {
   "cell_type": "markdown",
   "metadata": {},
   "source": [
    "## Pauli Expectation Values and Gradients"
   ]
  },
  {
   "cell_type": "markdown",
   "metadata": {},
   "source": [
    "Let us define $|\\Psi (\\{ \\theta_g \\}) \\rangle$ as the statevector generated by `circuit` at the current parameter values:"
   ]
  },
  {
   "cell_type": "code",
   "execution_count": null,
   "metadata": {},
   "outputs": [],
   "source": [
    "print(circuit)\n",
    "print(circuit.parameter_str)"
   ]
  },
  {
   "cell_type": "markdown",
   "metadata": {},
   "source": [
    "We can also define a Pauli-sparse Hermitian operator $\\hat O$:"
   ]
  },
  {
   "cell_type": "code",
   "execution_count": null,
   "metadata": {},
   "outputs": [],
   "source": [
    "I, X, Y, Z = quasar.Pauli.IXYZ()\n",
    "pauli = quasar.Pauli.zero()\n",
    "for k in range(N+1):\n",
    "    pauli += (k + 1) / 10.0 * Z[k]\n",
    "print(pauli)"
   ]
  },
  {
   "cell_type": "markdown",
   "metadata": {},
   "source": [
    "A common quantum primitive is to compute the total observable expectation value $O (\\{ \\theta_g \\}) \\equiv \\langle \\Psi (\\{ \\theta_g \\} ) | \\hat O | \\Psi (\\{ \\theta_g \\})\\rangle$ at the current parameter set $\\{ \\theta_g \\}$:"
   ]
  },
  {
   "cell_type": "code",
   "execution_count": null,
   "metadata": {},
   "outputs": [],
   "source": [
    "backend1 = quasar.QuasarSimulatorBackend()\n",
    "start = time.time()\n",
    "print(backend1.run_pauli_expectation_value(\n",
    "    circuit=circuit,\n",
    "    pauli=pauli,\n",
    "    ))\n",
    "print('%11.3E s' % (time.time() - start))"
   ]
  },
  {
   "cell_type": "markdown",
   "metadata": {},
   "source": [
    "Another useful quantum primitive is to compute the gradient of the total observable expectation value with respect to the circuit parameters $\\frac{\\partial O}{\\partial \\theta_g}$. This can be done in either the ideal infinite sampling limit or with finite sampling by using the parameter shift method [e.g., $\\frac{\\partial O}{\\partial \\theta_g} = O (\\theta_g + \\pi/4) - O(\\theta_g - \\pi / 4)$ for $\\hat R$ gates]."
   ]
  },
  {
   "cell_type": "code",
   "execution_count": null,
   "metadata": {},
   "outputs": [],
   "source": [
    "backend1 = quasar.QuasarSimulatorBackend()\n",
    "start = time.time()\n",
    "print(backend1.run_pauli_expectation_value_gradient(\n",
    "    circuit=circuit,\n",
    "    pauli=pauli,\n",
    "    ))\n",
    "print('%11.3E s' % (time.time() - start))"
   ]
  },
  {
   "cell_type": "markdown",
   "metadata": {},
   "source": [
    "This can be restricted to user-desired parameter indices to lower the cost, using the `parameter_indices` optional argument:"
   ]
  },
  {
   "cell_type": "code",
   "execution_count": null,
   "metadata": {},
   "outputs": [],
   "source": [
    "backend1 = quasar.QuasarSimulatorBackend()\n",
    "start = time.time()\n",
    "print(backend1.run_pauli_expectation_value_gradient(\n",
    "    circuit=circuit,\n",
    "    pauli=pauli,\n",
    "    parameter_indices=[0,1,2,3]\n",
    "    ))\n",
    "print('%11.3E s' % (time.time() - start))"
   ]
  }
 ],
 "metadata": {
  "kernelspec": {
   "display_name": "Python 3",
   "language": "python",
   "name": "python3"
  },
  "language_info": {
   "codemirror_mode": {
    "name": "ipython",
    "version": 3
   },
   "file_extension": ".py",
   "mimetype": "text/x-python",
   "name": "python",
   "nbconvert_exporter": "python",
   "pygments_lexer": "ipython3",
   "version": "3.8.2"
  }
 },
 "nbformat": 4,
 "nbformat_minor": 4
}
