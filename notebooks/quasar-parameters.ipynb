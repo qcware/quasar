{
 "cells": [
  {
   "cell_type": "markdown",
   "metadata": {},
   "source": [
    "# Circuit Parameter Manipulation and Ultrafast Derivatives"
   ]
  },
  {
   "cell_type": "markdown",
   "metadata": {},
   "source": [
    "This tutorial covers the common use case of constructing a circuit with continuously variable parameters (today only in `Rx`, `Ry`, or `Rz` gates), evaluating the expectation value of a Hermitian operator supplied in sparse Pauli form using ideal statevector simulation, and then taking the gradient of the expectation value with respect to the values of the circuit rotation angle parameters. Such exercises are ubiquitous in variational quantum algorithms such as QAOA and VQE, e.g., in gradient-based algorithms to optimize the variational quantum circuit parameters. We have provided some utility functions to make these exercises easy to implement and rather fast to run (particularly when ideal statevector simulation in the infinite statistical sampling limit is invoked)."
   ]
  },
  {
   "cell_type": "code",
   "execution_count": 1,
   "metadata": {},
   "outputs": [],
   "source": [
    "import quasar\n",
    "import time # We'll roughly time some quasar operations below"
   ]
  },
  {
   "cell_type": "markdown",
   "metadata": {},
   "source": [
    "## Case-Study Circuit"
   ]
  },
  {
   "cell_type": "markdown",
   "metadata": {},
   "source": [
    "First, let's build a CIS state preparation circuit. We start by building a gadget to move amplitude from one singly-excited ket to another:"
   ]
  },
  {
   "cell_type": "code",
   "execution_count": 2,
   "metadata": {},
   "outputs": [
    {
     "name": "stdout",
     "output_type": "stream",
     "text": [
      "T  : |0 |1|2 |3|\n",
      "\n",
      "q0 : ----@----X-\n",
      "         |    | \n",
      "q1 : -Ry-Z-Ry-@-\n",
      "                \n",
      "T  : |0 |1|2 |3|\n",
      "\n"
     ]
    }
   ],
   "source": [
    "gadget = quasar.Circuit().Ry(1).CZ(0,1).Ry(1).CX(1,0)\n",
    "print(gadget)"
   ]
  },
  {
   "cell_type": "markdown",
   "metadata": {},
   "source": [
    "Then use the ``add_gates`` utility function to quickly build up the full CIS state preparation circuit:"
   ]
  },
  {
   "cell_type": "code",
   "execution_count": 3,
   "metadata": {},
   "outputs": [
    {
     "name": "stdout",
     "output_type": "stream",
     "text": [
      "T  : |0 |1|2 |3 |4|5 |6 |7|8 |9 |10|11|12|13|14|15|16|17|18|19|20|21|22|23|24|\n",
      "\n",
      "q0 : -X--@----X---------------------------------------------------------------\n",
      "         |    |                                                               \n",
      "q1 : -Ry-Z-Ry-@--@----X-------------------------------------------------------\n",
      "                 |    |                                                       \n",
      "q2 : ---------Ry-Z-Ry-@--@----X-----------------------------------------------\n",
      "                         |    |                                               \n",
      "q3 : -----------------Ry-Z-Ry-@--@-----X--------------------------------------\n",
      "                                 |     |                                      \n",
      "q4 : -------------------------Ry-Z--Ry-@--@-----X-----------------------------\n",
      "                                          |     |                             \n",
      "q5 : ----------------------------------Ry-Z--Ry-@--@-----X--------------------\n",
      "                                                   |     |                    \n",
      "q6 : -------------------------------------------Ry-Z--Ry-@--@-----X-----------\n",
      "                                                            |     |           \n",
      "q7 : ----------------------------------------------------Ry-Z--Ry-@--@-----X--\n",
      "                                                                     |     |  \n",
      "q8 : -------------------------------------------------------------Ry-Z--Ry-@--\n",
      "                                                                              \n",
      "T  : |0 |1|2 |3 |4|5 |6 |7|8 |9 |10|11|12|13|14|15|16|17|18|19|20|21|22|23|24|\n",
      "\n"
     ]
    }
   ],
   "source": [
    "N = 8 # Increase this to get some more dramatic timing examples below\n",
    "circuit = quasar.Circuit().X(0)\n",
    "for I in range(N):\n",
    "    circuit.add_gates(circuit=gadget, qubits=(I, I+1))\n",
    "print(circuit)"
   ]
  },
  {
   "cell_type": "markdown",
   "metadata": {},
   "source": [
    "## Parameter Manipulation"
   ]
  },
  {
   "cell_type": "markdown",
   "metadata": {},
   "source": [
    "Cool circuit, bro. So where are all the parameters, how do we figure out what they are, and how do we set their values? To get started with this, let's invoke the `parameter_str` utility property of `Circuit`:"
   ]
  },
  {
   "cell_type": "code",
   "execution_count": 4,
   "metadata": {},
   "outputs": [
    {
     "name": "stdout",
     "output_type": "stream",
     "text": [
      "Index Time       Qubits     Name       Gate      :     Value\n",
      "0     (0,)       (1,)       theta      Ry        :  0.000000\n",
      "1     (2,)       (1,)       theta      Ry        :  0.000000\n",
      "2     (3,)       (2,)       theta      Ry        :  0.000000\n",
      "3     (5,)       (2,)       theta      Ry        :  0.000000\n",
      "4     (6,)       (3,)       theta      Ry        :  0.000000\n",
      "5     (8,)       (3,)       theta      Ry        :  0.000000\n",
      "6     (9,)       (4,)       theta      Ry        :  0.000000\n",
      "7     (11,)      (4,)       theta      Ry        :  0.000000\n",
      "8     (12,)      (5,)       theta      Ry        :  0.000000\n",
      "9     (14,)      (5,)       theta      Ry        :  0.000000\n",
      "10    (15,)      (6,)       theta      Ry        :  0.000000\n",
      "11    (17,)      (6,)       theta      Ry        :  0.000000\n",
      "12    (18,)      (7,)       theta      Ry        :  0.000000\n",
      "13    (20,)      (7,)       theta      Ry        :  0.000000\n",
      "14    (21,)      (8,)       theta      Ry        :  0.000000\n",
      "15    (23,)      (8,)       theta      Ry        :  0.000000\n",
      "\n"
     ]
    }
   ],
   "source": [
    "print(circuit.parameter_str)"
   ]
  },
  {
   "cell_type": "markdown",
   "metadata": {},
   "source": [
    "This provides a textual summary of all mutable parameters in `Circuit`, including a breakdown of the `times` and `qubits` key of the involved `Gate`, the name of that `Gate`, and the parameter name within that `Gate`, as well as the current value of the parameter. The parameters of a `Circuit` object have a strong lexical indexing order (referred to as the `parameter_index` order) determined first by the `times` and `qubits` key of the involved `Gate` (i.e., the underlying lexical `Gate` index order), followed by the definitional ordering of each parameter within the `Gate` (for multi-parameter `Gate` objects). For instance, the `10`-th `parameter_index` in our `Circuit` corresponds to the `theta` parameter of the `Ry` gates at `time` index `15` and `qubit` index `6` - its value is currently `0.0`."
   ]
  },
  {
   "cell_type": "markdown",
   "metadata": {},
   "source": [
    "Before we start setting parameters, let's look at some more attributes that help us to locate and characterize these parameters. The `nparameter` property tells how many total parameters are in the `Circuit` object:"
   ]
  },
  {
   "cell_type": "code",
   "execution_count": 5,
   "metadata": {},
   "outputs": [
    {
     "name": "stdout",
     "output_type": "stream",
     "text": [
      "16\n"
     ]
    }
   ],
   "source": [
    "print(circuit.nparameter)"
   ]
  },
  {
   "cell_type": "markdown",
   "metadata": {},
   "source": [
    "The `parameters` property is an `OrderedDict` of parameter (`times`, `qubits`, `parameter_key`) keys to parameter values. We'll print this out somewhat reasonably here: "
   ]
  },
  {
   "cell_type": "code",
   "execution_count": 6,
   "metadata": {},
   "outputs": [
    {
     "name": "stdout",
     "output_type": "stream",
     "text": [
      "      (0,)       (1,)    'theta': 0.000000\n",
      "      (2,)       (1,)    'theta': 0.000000\n",
      "      (3,)       (2,)    'theta': 0.000000\n",
      "      (5,)       (2,)    'theta': 0.000000\n",
      "      (6,)       (3,)    'theta': 0.000000\n",
      "      (8,)       (3,)    'theta': 0.000000\n",
      "      (9,)       (4,)    'theta': 0.000000\n",
      "     (11,)       (4,)    'theta': 0.000000\n",
      "     (12,)       (5,)    'theta': 0.000000\n",
      "     (14,)       (5,)    'theta': 0.000000\n",
      "     (15,)       (6,)    'theta': 0.000000\n",
      "     (17,)       (6,)    'theta': 0.000000\n",
      "     (18,)       (7,)    'theta': 0.000000\n",
      "     (20,)       (7,)    'theta': 0.000000\n",
      "     (21,)       (8,)    'theta': 0.000000\n",
      "     (23,)       (8,)    'theta': 0.000000\n"
     ]
    }
   ],
   "source": [
    "# print(circuit.parameters)\n",
    "for key, value in circuit.parameters.items():\n",
    "    times, qubits, parameter_key = key\n",
    "    print('%10r %10r %10r: %8.6f' % (times, qubits, parameter_key, value))"
   ]
  },
  {
   "cell_type": "markdown",
   "metadata": {},
   "source": [
    "If you don't want the whole `parameters` dictionary, you can also have either the `parameter_keys` or `parameter_values` in isolation:"
   ]
  },
  {
   "cell_type": "code",
   "execution_count": 7,
   "metadata": {},
   "outputs": [
    {
     "name": "stdout",
     "output_type": "stream",
     "text": [
      "[((0,), (1,), 'theta'), ((2,), (1,), 'theta'), ((3,), (2,), 'theta'), ((5,), (2,), 'theta'), ((6,), (3,), 'theta'), ((8,), (3,), 'theta'), ((9,), (4,), 'theta'), ((11,), (4,), 'theta'), ((12,), (5,), 'theta'), ((14,), (5,), 'theta'), ((15,), (6,), 'theta'), ((17,), (6,), 'theta'), ((18,), (7,), 'theta'), ((20,), (7,), 'theta'), ((21,), (8,), 'theta'), ((23,), (8,), 'theta')]\n",
      "[0.0, 0.0, 0.0, 0.0, 0.0, 0.0, 0.0, 0.0, 0.0, 0.0, 0.0, 0.0, 0.0, 0.0, 0.0, 0.0]\n"
     ]
    }
   ],
   "source": [
    "print(circuit.parameter_keys)\n",
    "print(circuit.parameter_values)"
   ]
  },
  {
   "cell_type": "markdown",
   "metadata": {},
   "source": [
    "In another common use case, you have the `times` and `qubits` key of a `Gate` object, and want to know what parameter indices it covers in the `Circuit` object. For this, the `parameter_indices` property is provided:"
   ]
  },
  {
   "cell_type": "code",
   "execution_count": 8,
   "metadata": {},
   "outputs": [
    {
     "name": "stdout",
     "output_type": "stream",
     "text": [
      "      (0,)       (0,): ()\n",
      "      (0,)       (1,): (0,)\n",
      "      (1,)     (0, 1): ()\n",
      "      (2,)       (1,): (1,)\n",
      "      (3,)     (1, 0): ()\n",
      "      (3,)       (2,): (2,)\n",
      "      (4,)     (1, 2): ()\n",
      "      (5,)       (2,): (3,)\n",
      "      (6,)     (2, 1): ()\n",
      "      (6,)       (3,): (4,)\n",
      "      (7,)     (2, 3): ()\n",
      "      (8,)       (3,): (5,)\n",
      "      (9,)     (3, 2): ()\n",
      "      (9,)       (4,): (6,)\n",
      "     (10,)     (3, 4): ()\n",
      "     (11,)       (4,): (7,)\n",
      "     (12,)     (4, 3): ()\n",
      "     (12,)       (5,): (8,)\n",
      "     (13,)     (4, 5): ()\n",
      "     (14,)       (5,): (9,)\n",
      "     (15,)     (5, 4): ()\n",
      "     (15,)       (6,): (10,)\n",
      "     (16,)     (5, 6): ()\n",
      "     (17,)       (6,): (11,)\n",
      "     (18,)     (6, 5): ()\n",
      "     (18,)       (7,): (12,)\n",
      "     (19,)     (6, 7): ()\n",
      "     (20,)       (7,): (13,)\n",
      "     (21,)     (7, 6): ()\n",
      "     (21,)       (8,): (14,)\n",
      "     (22,)     (7, 8): ()\n",
      "     (23,)       (8,): (15,)\n",
      "     (24,)     (8, 7): ()\n"
     ]
    }
   ],
   "source": [
    "# print(circuit.parameter_indices)\n",
    "for key, parameter_indices in circuit.parameter_indices.items():\n",
    "    times, qubits = key\n",
    "    print('%10r %10r: %r' % (times, qubits, parameter_indices))"
   ]
  },
  {
   "cell_type": "markdown",
   "metadata": {},
   "source": [
    "Note how the `H`, `CX`, and `CZ` gates do not have any parameters, while the `Ry` gates have one each. The `parameter_indices` method can often be used in concert with automatic time placement in the `add_gate` method and the `last_qubits` and `last_times` attribute of `Circuit` to figure out where each `Gate` object was automatically added in time and from thence which lexical parameter indices correspond to that `Gate`. For instance:"
   ]
  },
  {
   "cell_type": "code",
   "execution_count": 9,
   "metadata": {},
   "outputs": [
    {
     "name": "stdout",
     "output_type": "stream",
     "text": [
      "T  : |0 |1 |\n",
      "\n",
      "q0 : -Rx-Rz-\n",
      "            \n",
      "q1 : -Ry----\n",
      "            \n",
      "T  : |0 |1 |\n",
      "\n",
      "(1,) (0,)\n",
      "(2,)\n"
     ]
    }
   ],
   "source": [
    "circuit2 = quasar.Circuit().Rx(0).Ry(1).Rz(0)\n",
    "print(circuit2)\n",
    "# Where was the Rz gate added? (time placement was determined automatically)\n",
    "Rz_times  = circuit2.last_times\n",
    "Rz_qubits = circuit2.last_qubits\n",
    "print(Rz_times, Rz_qubits)\n",
    "# Maybe add more gates here\n",
    "# ...\n",
    "# At this point, what parameter indices are represented by the Rz gate?\n",
    "print(circuit2.parameter_indices[(Rz_times, Rz_qubits)])"
   ]
  },
  {
   "cell_type": "markdown",
   "metadata": {},
   "source": [
    "Now to set the values of the parameters. You can set these one at a time with full knowledge of the parameter key via the `set_parameter` method:"
   ]
  },
  {
   "cell_type": "code",
   "execution_count": 10,
   "metadata": {},
   "outputs": [
    {
     "name": "stdout",
     "output_type": "stream",
     "text": [
      "Index Time       Qubits     Name       Gate      :     Value\n",
      "0     (0,)       (1,)       theta      Ry        :  0.000000\n",
      "1     (2,)       (1,)       theta      Ry        :  0.000000\n",
      "2     (3,)       (2,)       theta      Ry        :  0.000000\n",
      "3     (5,)       (2,)       theta      Ry        :  0.000000\n",
      "4     (6,)       (3,)       theta      Ry        :  0.000000\n",
      "5     (8,)       (3,)       theta      Ry        :  0.000000\n",
      "6     (9,)       (4,)       theta      Ry        :  0.000000\n",
      "7     (11,)      (4,)       theta      Ry        :  0.000000\n",
      "8     (12,)      (5,)       theta      Ry        :  0.000000\n",
      "9     (14,)      (5,)       theta      Ry        :  0.000000\n",
      "10    (15,)      (6,)       theta      Ry        :  0.000000\n",
      "11    (17,)      (6,)       theta      Ry        :  0.000000\n",
      "12    (18,)      (7,)       theta      Ry        :  0.000000\n",
      "13    (20,)      (7,)       theta      Ry        :  0.000000\n",
      "14    (21,)      (8,)       theta      Ry        :  0.000000\n",
      "15    (23,)      (8,)       theta      Ry        :  1.000000\n",
      "\n"
     ]
    }
   ],
   "source": [
    "circuit.set_parameter(((23,), (8,), 'theta'), 1.0)\n",
    "print(circuit.parameter_str)"
   ]
  },
  {
   "cell_type": "markdown",
   "metadata": {},
   "source": [
    "Or several at a time with the `set_parameters` method:"
   ]
  },
  {
   "cell_type": "code",
   "execution_count": 11,
   "metadata": {},
   "outputs": [
    {
     "name": "stdout",
     "output_type": "stream",
     "text": [
      "Index Time       Qubits     Name       Gate      :     Value\n",
      "0     (0,)       (1,)       theta      Ry        :  0.000000\n",
      "1     (2,)       (1,)       theta      Ry        :  0.000000\n",
      "2     (3,)       (2,)       theta      Ry        :  0.000000\n",
      "3     (5,)       (2,)       theta      Ry        :  0.000000\n",
      "4     (6,)       (3,)       theta      Ry        :  0.000000\n",
      "5     (8,)       (3,)       theta      Ry        :  0.000000\n",
      "6     (9,)       (4,)       theta      Ry        :  0.000000\n",
      "7     (11,)      (4,)       theta      Ry        :  0.000000\n",
      "8     (12,)      (5,)       theta      Ry        :  0.000000\n",
      "9     (14,)      (5,)       theta      Ry        :  0.000000\n",
      "10    (15,)      (6,)       theta      Ry        :  0.000000\n",
      "11    (17,)      (6,)       theta      Ry        :  0.000000\n",
      "12    (18,)      (7,)       theta      Ry        :  0.000000\n",
      "13    (20,)      (7,)       theta      Ry        :  0.200000\n",
      "14    (21,)      (8,)       theta      Ry        :  0.300000\n",
      "15    (23,)      (8,)       theta      Ry        :  1.000000\n",
      "\n"
     ]
    }
   ],
   "source": [
    "circuit.set_parameters({\n",
    "    ((20,), (7,), 'theta') : 0.2,\n",
    "    ((21,), (8,), 'theta') : 0.3,\n",
    "    })\n",
    "print(circuit.parameter_str)"
   ]
  },
  {
   "cell_type": "markdown",
   "metadata": {},
   "source": [
    "However, full knowledge of the parameter key is somewhat verbose, and is entirely equivalent to knowledge of the integer parameter index. To set parameters instead in terms of parameter index, we provide the `set_parameter_values` method, which takes a `parameter_values` list and an optional `parameter_indices` list (needed if only a subset and/or a number of non-sequential parameters are set):"
   ]
  },
  {
   "cell_type": "code",
   "execution_count": 12,
   "metadata": {},
   "outputs": [
    {
     "name": "stdout",
     "output_type": "stream",
     "text": [
      "Index Time       Qubits     Name       Gate      :     Value\n",
      "0     (0,)       (1,)       theta      Ry        :  0.000000\n",
      "1     (2,)       (1,)       theta      Ry        :  0.000000\n",
      "2     (3,)       (2,)       theta      Ry        :  0.500000\n",
      "3     (5,)       (2,)       theta      Ry        :  0.000000\n",
      "4     (6,)       (3,)       theta      Ry        :  0.400000\n",
      "5     (8,)       (3,)       theta      Ry        :  0.000000\n",
      "6     (9,)       (4,)       theta      Ry        :  0.000000\n",
      "7     (11,)      (4,)       theta      Ry        :  0.000000\n",
      "8     (12,)      (5,)       theta      Ry        :  0.000000\n",
      "9     (14,)      (5,)       theta      Ry        :  0.000000\n",
      "10    (15,)      (6,)       theta      Ry        :  0.000000\n",
      "11    (17,)      (6,)       theta      Ry        :  0.000000\n",
      "12    (18,)      (7,)       theta      Ry        :  0.000000\n",
      "13    (20,)      (7,)       theta      Ry        :  0.200000\n",
      "14    (21,)      (8,)       theta      Ry        :  0.300000\n",
      "15    (23,)      (8,)       theta      Ry        :  1.000000\n",
      "\n"
     ]
    }
   ],
   "source": [
    "circuit.set_parameter_values([0.4, 0.5], parameter_indices=[4,2])\n",
    "print(circuit.parameter_str)"
   ]
  },
  {
   "cell_type": "markdown",
   "metadata": {},
   "source": [
    "Here's a quick example of how things look a little different if `Gate` objects have multiple parameters:"
   ]
  },
  {
   "cell_type": "code",
   "execution_count": 13,
   "metadata": {},
   "outputs": [
    {
     "name": "stdout",
     "output_type": "stream",
     "text": [
      "T  : |0 |1   |\n",
      "\n",
      "q0 : -Ry-SO4A-\n",
      "         |    \n",
      "q1 : ----SO4B-\n",
      "              \n",
      "T  : |0 |1   |\n",
      "\n",
      "Index Time       Qubits     Name       Gate      :     Value\n",
      "0     (0,)       (0,)       theta      Ry        :  0.000000\n",
      "1     (1,)       (0, 1)     A          SO4       :  0.000000\n",
      "2     (1,)       (0, 1)     B          SO4       :  0.000000\n",
      "3     (1,)       (0, 1)     C          SO4       :  0.000000\n",
      "4     (1,)       (0, 1)     D          SO4       :  0.000000\n",
      "5     (1,)       (0, 1)     E          SO4       :  0.000000\n",
      "6     (1,)       (0, 1)     F          SO4       :  0.000000\n",
      "\n",
      "      (0,)       (0,): (0,)\n",
      "      (1,)     (0, 1): (1, 2, 3, 4, 5, 6)\n"
     ]
    }
   ],
   "source": [
    "circuit3 = quasar.Circuit().Ry(0).SO4(0,1)\n",
    "print(circuit3)\n",
    "print(circuit3.parameter_str)\n",
    "for key, parameter_indices in circuit3.parameter_indices.items():\n",
    "    times, qubits = key\n",
    "    print('%10r %10r: %r' % (times, qubits, parameter_indices))"
   ]
  },
  {
   "cell_type": "markdown",
   "metadata": {},
   "source": [
    "Now back to our case-study CIS circuit. We'll set the parameters to something deterministic but sensible before proceeding to the rest of the exercise:"
   ]
  },
  {
   "cell_type": "code",
   "execution_count": 14,
   "metadata": {},
   "outputs": [
    {
     "name": "stdout",
     "output_type": "stream",
     "text": [
      "Index Time       Qubits     Name       Gate      :     Value\n",
      "0     (0,)       (1,)       theta      Ry        :  1.000000\n",
      "1     (2,)       (1,)       theta      Ry        : -1.000000\n",
      "2     (3,)       (2,)       theta      Ry        :  0.941176\n",
      "3     (5,)       (2,)       theta      Ry        : -0.941176\n",
      "4     (6,)       (3,)       theta      Ry        :  0.882353\n",
      "5     (8,)       (3,)       theta      Ry        : -0.882353\n",
      "6     (9,)       (4,)       theta      Ry        :  0.823529\n",
      "7     (11,)      (4,)       theta      Ry        : -0.823529\n",
      "8     (12,)      (5,)       theta      Ry        :  0.764706\n",
      "9     (14,)      (5,)       theta      Ry        : -0.764706\n",
      "10    (15,)      (6,)       theta      Ry        :  0.705882\n",
      "11    (17,)      (6,)       theta      Ry        : -0.705882\n",
      "12    (18,)      (7,)       theta      Ry        :  0.647059\n",
      "13    (20,)      (7,)       theta      Ry        : -0.647059\n",
      "14    (21,)      (8,)       theta      Ry        :  0.588235\n",
      "15    (23,)      (8,)       theta      Ry        : -0.588235\n",
      "\n"
     ]
    }
   ],
   "source": [
    "parameter_values = []\n",
    "for I in range(N):\n",
    "    value = (1.0 - I / 17.0)\n",
    "    parameter_values.append(+value)\n",
    "    parameter_values.append(-value)\n",
    "circuit.set_parameter_values(parameter_values)\n",
    "print(circuit.parameter_str)"
   ]
  },
  {
   "cell_type": "markdown",
   "metadata": {},
   "source": [
    "## Pauli Expectation Values and Gradients"
   ]
  },
  {
   "cell_type": "markdown",
   "metadata": {},
   "source": [
    "Let us define $|\\Psi (\\{ \\theta_g \\}) \\rangle$ as the statevector generated by `circuit` at the current parameter values:"
   ]
  },
  {
   "cell_type": "code",
   "execution_count": 15,
   "metadata": {},
   "outputs": [
    {
     "name": "stdout",
     "output_type": "stream",
     "text": [
      "T  : |0 |1|2 |3 |4|5 |6 |7|8 |9 |10|11|12|13|14|15|16|17|18|19|20|21|22|23|24|\n",
      "\n",
      "q0 : -X--@----X---------------------------------------------------------------\n",
      "         |    |                                                               \n",
      "q1 : -Ry-Z-Ry-@--@----X-------------------------------------------------------\n",
      "                 |    |                                                       \n",
      "q2 : ---------Ry-Z-Ry-@--@----X-----------------------------------------------\n",
      "                         |    |                                               \n",
      "q3 : -----------------Ry-Z-Ry-@--@-----X--------------------------------------\n",
      "                                 |     |                                      \n",
      "q4 : -------------------------Ry-Z--Ry-@--@-----X-----------------------------\n",
      "                                          |     |                             \n",
      "q5 : ----------------------------------Ry-Z--Ry-@--@-----X--------------------\n",
      "                                                   |     |                    \n",
      "q6 : -------------------------------------------Ry-Z--Ry-@--@-----X-----------\n",
      "                                                            |     |           \n",
      "q7 : ----------------------------------------------------Ry-Z--Ry-@--@-----X--\n",
      "                                                                     |     |  \n",
      "q8 : -------------------------------------------------------------Ry-Z--Ry-@--\n",
      "                                                                              \n",
      "T  : |0 |1|2 |3 |4|5 |6 |7|8 |9 |10|11|12|13|14|15|16|17|18|19|20|21|22|23|24|\n",
      "\n",
      "Index Time       Qubits     Name       Gate      :     Value\n",
      "0     (0,)       (1,)       theta      Ry        :  1.000000\n",
      "1     (2,)       (1,)       theta      Ry        : -1.000000\n",
      "2     (3,)       (2,)       theta      Ry        :  0.941176\n",
      "3     (5,)       (2,)       theta      Ry        : -0.941176\n",
      "4     (6,)       (3,)       theta      Ry        :  0.882353\n",
      "5     (8,)       (3,)       theta      Ry        : -0.882353\n",
      "6     (9,)       (4,)       theta      Ry        :  0.823529\n",
      "7     (11,)      (4,)       theta      Ry        : -0.823529\n",
      "8     (12,)      (5,)       theta      Ry        :  0.764706\n",
      "9     (14,)      (5,)       theta      Ry        : -0.764706\n",
      "10    (15,)      (6,)       theta      Ry        :  0.705882\n",
      "11    (17,)      (6,)       theta      Ry        : -0.705882\n",
      "12    (18,)      (7,)       theta      Ry        :  0.647059\n",
      "13    (20,)      (7,)       theta      Ry        : -0.647059\n",
      "14    (21,)      (8,)       theta      Ry        :  0.588235\n",
      "15    (23,)      (8,)       theta      Ry        : -0.588235\n",
      "\n"
     ]
    }
   ],
   "source": [
    "print(circuit)\n",
    "print(circuit.parameter_str)"
   ]
  },
  {
   "cell_type": "markdown",
   "metadata": {},
   "source": [
    "We can also define a Pauli-sparse Hermitian operator $\\hat O$:"
   ]
  },
  {
   "cell_type": "code",
   "execution_count": 16,
   "metadata": {},
   "outputs": [
    {
     "name": "stdout",
     "output_type": "stream",
     "text": [
      "+0.1*Z0\n",
      "+0.2*Z1\n",
      "+0.3*Z2\n",
      "+0.4*Z3\n",
      "+0.5*Z4\n",
      "+0.6*Z5\n",
      "+0.7*Z6\n",
      "+0.8*Z7\n",
      "+0.9*Z8\n"
     ]
    }
   ],
   "source": [
    "I, X, Y, Z = quasar.Pauli.IXYZ()\n",
    "pauli = quasar.Pauli.zero()\n",
    "for k in range(N+1):\n",
    "    pauli += (k + 1) / 10.0 * Z[k]\n",
    "print(pauli)"
   ]
  },
  {
   "cell_type": "markdown",
   "metadata": {},
   "source": [
    "A common quantum primitive is to compute the total observable expectation value $O (\\{ \\theta_g \\}) \\equiv \\langle \\Psi (\\{ \\theta_g \\} ) | \\hat O | \\Psi (\\{ \\theta_g \\})\\rangle$ at the current parameter set $\\{ \\theta_g \\}$:"
   ]
  },
  {
   "cell_type": "code",
   "execution_count": 17,
   "metadata": {},
   "outputs": [
    {
     "name": "stdout",
     "output_type": "stream",
     "text": [
      "(3.1750752563368803+0j)\n",
      "  4.925E-03 s\n"
     ]
    }
   ],
   "source": [
    "backend1 = quasar.QuasarSimulatorBackend()\n",
    "start = time.time()\n",
    "print(backend1.run_pauli_expectation_value(\n",
    "    circuit=circuit,\n",
    "    pauli=pauli,\n",
    "    ))\n",
    "print('%11.3E s' % (time.time() - start))"
   ]
  },
  {
   "cell_type": "markdown",
   "metadata": {},
   "source": [
    "Another useful quantum primitive is to compute the gradient of the total observable expectation value with respect to the circuit parameters $\\frac{\\partial O}{\\partial \\theta_g}$. This can be done in either the ideal infinite sampling limit or with finite sampling by using the parameter shift method [e.g., $\\frac{\\partial O}{\\partial \\theta_g} = O (\\theta_g + \\pi/4) - O(\\theta_g - \\pi / 4)$ for $\\hat R$ gates]."
   ]
  },
  {
   "cell_type": "code",
   "execution_count": 18,
   "metadata": {},
   "outputs": [
    {
     "name": "stdout",
     "output_type": "stream",
     "text": [
      "[ 1.02966061+0.j -1.02966061+0.j  0.61804267+0.j -0.61804267+0.j\n",
      "  0.31802671+0.j -0.31802671+0.j  0.10169844+0.j -0.10169844+0.j\n",
      " -0.04323412+0.j  0.04323412+0.j -0.12153042+0.j  0.12153042+0.j\n",
      " -0.1358927 +0.j  0.1358927 +0.j -0.09163565+0.j  0.09163565+0.j]\n",
      "  8.971E-02 s\n"
     ]
    }
   ],
   "source": [
    "backend1 = quasar.QuasarSimulatorBackend()\n",
    "start = time.time()\n",
    "print(backend1.run_pauli_expectation_value_gradient(\n",
    "    circuit=circuit,\n",
    "    pauli=pauli,\n",
    "    ))\n",
    "print('%11.3E s' % (time.time() - start))"
   ]
  },
  {
   "cell_type": "markdown",
   "metadata": {},
   "source": [
    "This can be restricted to user-desired parameter indices to lower the cost, using the `parameter_indices` optional argument:"
   ]
  },
  {
   "cell_type": "code",
   "execution_count": 19,
   "metadata": {},
   "outputs": [
    {
     "name": "stdout",
     "output_type": "stream",
     "text": [
      "[ 1.02966061+0.j -1.02966061+0.j  0.61804267+0.j -0.61804267+0.j]\n",
      "  2.356E-02 s\n"
     ]
    }
   ],
   "source": [
    "backend1 = quasar.QuasarSimulatorBackend()\n",
    "start = time.time()\n",
    "print(backend1.run_pauli_expectation_value_gradient(\n",
    "    circuit=circuit,\n",
    "    pauli=pauli,\n",
    "    parameter_indices=[0,1,2,3]\n",
    "    ))\n",
    "print('%11.3E s' % (time.time() - start))"
   ]
  },
  {
   "cell_type": "markdown",
   "metadata": {},
   "source": [
    "If ideal infinite sampling is used, the `QuasarUltrafastBackend` can provide substantial savings in time for the gradient computation via efficient analytical gradient methodology. Changing the size of the problem by varying `N` near the top of this workbook shows that substantial gains are possible: "
   ]
  },
  {
   "cell_type": "code",
   "execution_count": 20,
   "metadata": {},
   "outputs": [
    {
     "name": "stdout",
     "output_type": "stream",
     "text": [
      "[ 1.02966061+0.j -1.02966061+0.j  0.61804267+0.j -0.61804267+0.j\n",
      "  0.31802671+0.j -0.31802671+0.j  0.10169844+0.j -0.10169844+0.j\n",
      " -0.04323412+0.j  0.04323412+0.j -0.12153042+0.j  0.12153042+0.j\n",
      " -0.1358927 +0.j  0.1358927 +0.j -0.09163565+0.j  0.09163565+0.j]\n",
      "  1.782E-02 s\n"
     ]
    }
   ],
   "source": [
    "backend2 = quasar.QuasarUltrafastBackend()\n",
    "start = time.time()\n",
    "print(backend2.run_pauli_expectation_value_gradient(\n",
    "    circuit=circuit,\n",
    "    pauli=pauli,\n",
    "    ))\n",
    "print('%11.3E s' % (time.time() - start))"
   ]
  },
  {
   "cell_type": "code",
   "execution_count": null,
   "metadata": {},
   "outputs": [],
   "source": []
  }
 ],
 "metadata": {
  "kernelspec": {
   "display_name": "Python 3",
   "language": "python",
   "name": "python3"
  },
  "language_info": {
   "codemirror_mode": {
    "name": "ipython",
    "version": 3
   },
   "file_extension": ".py",
   "mimetype": "text/x-python",
   "name": "python",
   "nbconvert_exporter": "python",
   "pygments_lexer": "ipython3",
   "version": "3.7.1"
  }
 },
 "nbformat": 4,
 "nbformat_minor": 2
}
