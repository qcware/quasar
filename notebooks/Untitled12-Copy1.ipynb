{
 "cells": [
  {
   "cell_type": "code",
   "execution_count": 37,
   "metadata": {},
   "outputs": [],
   "source": [
    "import quasar\n",
    "import mcvqe"
   ]
  },
  {
   "cell_type": "code",
   "execution_count": 38,
   "metadata": {},
   "outputs": [],
   "source": [
    "filenames = ['../data/aiem/bchl-a-8-stack/tc/%s/exciton.dat' \n",
    "             % (A) for A in range(1,8+1)]\n",
    "aiem_monomer = mcvqe.AIEMMonomer.from_tc_exciton_files(\n",
    "    filenames=filenames,\n",
    "    N=2,\n",
    "    connectivity='linear',\n",
    "    )"
   ]
  },
  {
   "cell_type": "code",
   "execution_count": 39,
   "metadata": {},
   "outputs": [],
   "source": [
    "backend = quasar.QuasarSimulatorBackend()"
   ]
  },
  {
   "cell_type": "code",
   "execution_count": 41,
   "metadata": {},
   "outputs": [
    {
     "name": "stdout",
     "output_type": "stream",
     "text": [
      "==> MC-VQE+AIEM <==\n",
      "\n",
      "Quantum Resources:\n",
      "  Backend        = Quasar Simulator Backend (Statevector)\n",
      "  Shots          = None\n",
      "  Shots Subspace = None\n",
      "  Shots Deriv    = None\n",
      "\n",
      "AIEM Problem:\n",
      " N            = 2\n",
      " Ncis         = 3\n",
      " Nstate       = 2\n",
      " Connectivity = linear\n",
      "\n",
      "CIS Verification:\n",
      "\n",
      "State:       Match\n",
      "0    :  -2.776E-17\n",
      "1    :   1.214E-17\n",
      "\n",
      "SA-VQE Weights:\n",
      "\n",
      "State:      Weight\n",
      "0    :   5.000E-01\n",
      "1    :   5.000E-01\n",
      "\n",
      "VQE Entangler Circuit:\n",
      "  vqe_circuit_type = mark1x\n",
      "  vqe_nparam       = 6\n",
      "\n",
      "Initital VQE params guessed as zero.\n",
      "\n",
      " > BFGS Optimizer <\n",
      "\n",
      "  maxiter       = 100\n",
      "  g_convergence = 1.000E-06\n",
      "\n",
      " > End BFGS Optimizer <\n",
      "\n",
      "Finished VQE Circuit:\n",
      "\n",
      "T  : |0 |1|2 |3|4 |\n",
      "                   \n",
      "q0 : -Ry-@-Ry-@-Ry-\n",
      "         |    |    \n",
      "q1 : -Ry-X-Ry-X-Ry-\n",
      "\n",
      "T  : |0 |1|2 |3|4 |\n",
      "\n",
      "Finished VQE Parameters:\n",
      "\n",
      "Index Time  Qubits     Name       Gate      :     Value\n",
      "0     0     (0,)       theta      Ry        :  0.068010\n",
      "1     0     (1,)       theta      Ry        :  0.045097\n",
      "2     2     (0,)       theta      Ry        : -0.007752\n",
      "3     2     (1,)       theta      Ry        : -0.194951\n",
      "4     4     (0,)       theta      Ry        :  0.117111\n",
      "5     4     (1,)       theta      Ry        :  0.045257\n",
      "\n",
      "State Energies (Total):\n",
      "\n",
      "State:                      FCI                      VQE                      CIS                     dVQE                     dCIS\n",
      "0    :  -2.6825781542973396E+03  -2.6825781542973396E+03  -2.6825770653328623E+03    0.000000000000000E+00   1.0889644772760221E-03\n",
      "1    :  -2.6825076718567448E+03  -2.6825076718567448E+03  -2.6825059594726322E+03    0.000000000000000E+00   1.7123841125794570E-03\n",
      "\n",
      "State Energies (Normal):\n",
      "\n",
      "State:                      FCI                      VQE                      CIS                     dVQE                     dCIS\n",
      "0    :  -8.7301918884035573E-02  -8.7301918884029633E-02  -8.6212954406634734E-02    5.939693181744587E-15   1.0889644774008389E-03\n",
      "1    :  -1.6819478288981431E-02  -1.6819478288936263E-02  -1.5107094176475966E-02    4.516872986748410E-14   1.7123841125054658E-03\n",
      "\n",
      "Excitation Energies:\n",
      "\n",
      "State:                      FCI                      VQE                      CIS                     dVQE                     dCIS\n",
      "1    :   7.0482440595054138E-02   7.0482440595093371E-02   7.1105860230158774E-02    3.923250613269147E-14   6.2341963510463561E-04\n",
      "\n",
      "Oscillator Strengths:\n",
      "\n",
      "State:                      FCI                      VQE                      CIS                     dVQE                     dCIS\n",
      "1    :   3.9666054763929690E-02   3.9665715125111203E-02   8.9250613172958584E-02   -3.396388184861987E-07   4.9584558409028895E-02\n",
      "\n",
      "FCI Excitation Fractions:\n",
      "\n",
      "A  :  I=  0  I=  1  \n",
      "0  :  0.009  0.705  \n",
      "1  :  0.044  0.312  \n",
      "\n",
      "VQE Excitation Fractions:\n",
      "\n",
      "A  :  I=  0  I=  1  \n",
      "0  :  0.009  0.705  \n",
      "1  :  0.044  0.312  \n",
      "\n",
      "CIS Excitation Fractions:\n",
      "\n",
      "A  :  I=  0  I=  1  \n",
      "0  :  0.001  0.760  \n",
      "1  :  0.045  0.235  \n",
      "\n",
      "  Viper:    \"That's pretty arrogant, considering the company you're in.\"\n",
      "  Maverick: \"Yes, sir.\"\n",
      "  Viper:    \"I like that in a pilot.\"\n",
      "\n",
      "==> End MC-VQE+AIEM <==\n",
      "\n"
     ]
    }
   ],
   "source": [
    "mcvqe_solver = mcvqe.MCVQE.from_options(\n",
    "    backend=backend,\n",
    "    aiem_monomer=aiem_monomer,\n",
    "    nstate=2,\n",
    "    )\n",
    "mcvqe_solver.compute_energy()"
   ]
  },
  {
   "cell_type": "code",
   "execution_count": 5,
   "metadata": {},
   "outputs": [
    {
     "name": "stdout",
     "output_type": "stream",
     "text": [
      "+0.013958292661992958*X0\n",
      "-0.03376113630025557*Z0\n",
      "+0.010972023904919113*X1\n",
      "-0.04283574018078509*Z1\n",
      "+0.017780394781136848*X0*X1\n",
      "-0.006896704529177866*X0*Z1\n",
      "+0.011474775121306156*Z0*X1\n",
      "-0.004444563032874407*Z0*Z1\n"
     ]
    }
   ],
   "source": [
    "print(mcvqe.hamiltonian_pauli)"
   ]
  },
  {
   "cell_type": "code",
   "execution_count": 42,
   "metadata": {},
   "outputs": [
    {
     "name": "stdout",
     "output_type": "stream",
     "text": [
      "[[-0.08104144  0.0224468   0.00706159  0.01778039]\n",
      " [ 0.0224468   0.01351917  0.01778039  0.020855  ]\n",
      " [ 0.00706159  0.01778039 -0.00463004 -0.00050275]\n",
      " [ 0.01778039  0.020855   -0.00050275  0.07215231]]\n"
     ]
    }
   ],
   "source": [
    "H = mcvqe_solver.hamiltonian_pauli.compute_hilbert_matrix(dtype=float)\n",
    "print(H)"
   ]
  },
  {
   "cell_type": "code",
   "execution_count": 44,
   "metadata": {},
   "outputs": [
    {
     "name": "stdout",
     "output_type": "stream",
     "text": [
      "  0.000E+00\n",
      "  0.000E+00\n"
     ]
    }
   ],
   "source": [
    "import numpy as np\n",
    "E = np.linalg.eigh(H)[0]\n",
    "for I in range(mcvqe_solver.nstate):\n",
    "    print('%11.3E' % (E[I] - mcvqe_solver.fci_E[I]))"
   ]
  },
  {
   "cell_type": "code",
   "execution_count": 46,
   "metadata": {},
   "outputs": [
    {
     "name": "stdout",
     "output_type": "stream",
     "text": [
      "[ 0.01778039  0.020855   -0.00050275  0.07215231]\n",
      "[ 0.01778039  0.020855   -0.00050275  0.07215231]\n"
     ]
    }
   ],
   "source": [
    "I = 3\n",
    "statevector = np.zeros((2**mcvqe_solver.N,))\n",
    "statevector[I] = 1.0\n",
    "Hrow = mcvqe_solver.hamiltonian_pauli.compute_hilbert_matrix_vector_product(statevector)\n",
    "\n",
    "print(Hrow)\n",
    "print(H[I,:])"
   ]
  },
  {
   "cell_type": "code",
   "execution_count": null,
   "metadata": {},
   "outputs": [],
   "source": []
  }
 ],
 "metadata": {
  "kernelspec": {
   "display_name": "Python 3",
   "language": "python",
   "name": "python3"
  },
  "language_info": {
   "codemirror_mode": {
    "name": "ipython",
    "version": 3
   },
   "file_extension": ".py",
   "mimetype": "text/x-python",
   "name": "python",
   "nbconvert_exporter": "python",
   "pygments_lexer": "ipython3",
   "version": "3.7.1"
  }
 },
 "nbformat": 4,
 "nbformat_minor": 2
}
