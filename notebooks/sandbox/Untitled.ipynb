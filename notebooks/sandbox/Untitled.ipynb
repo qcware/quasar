{
 "cells": [
  {
   "cell_type": "code",
   "execution_count": 1,
   "metadata": {},
   "outputs": [],
   "source": [
    "import quasar"
   ]
  },
  {
   "cell_type": "code",
   "execution_count": 2,
   "metadata": {},
   "outputs": [
    {
     "name": "stdout",
     "output_type": "stream",
     "text": [
      "T   : |0 |\n",
      "          \n",
      "|0> : -Rx-\n",
      "          \n",
      "|1> : -Rz-\n",
      "          \n",
      "|2> : -Rx-\n",
      "\n",
      "T   : |0 |\n"
     ]
    }
   ],
   "source": [
    "circuit = quasar.Circuit(N=3).Rx(0, theta=-0.342).Rz(1, theta=-0.213).Rx(2, theta=0.653)\n",
    "print(circuit)"
   ]
  },
  {
   "cell_type": "code",
   "execution_count": 3,
   "metadata": {},
   "outputs": [
    {
     "name": "stdout",
     "output_type": "stream",
     "text": [
      "[ 0.73135551+0.15817812j  0.12099819-0.55944964j  0.        +0.j\n",
      "  0.        +0.j         -0.05630963+0.26035432j  0.19915777+0.04307399j\n",
      "  0.        +0.j          0.        +0.j        ]\n"
     ]
    },
    {
     "name": "stderr",
     "output_type": "stream",
     "text": [
      "/anaconda3/lib/python3.7/site-packages/marshmallow/schema.py:364: ChangedInMarshmallow3Warning: strict=False is not recommended. In marshmallow 3.0, schemas will always be strict. See https://marshmallow.readthedocs.io/en/latest/upgrading.html#schemas-are-always-strict\n",
      "  ChangedInMarshmallow3Warning\n"
     ]
    },
    {
     "name": "stdout",
     "output_type": "stream",
     "text": [
      "[ 0.73135551+0.15817812j  0.12099819-0.55944964j  0.        +0.j\n",
      "  0.        +0.j         -0.05630963+0.26035432j  0.19915777+0.04307399j\n",
      "  0.        +0.j          0.        +0.j        ]\n",
      "[ 0.73135555+0.15817812j  0.12099819-0.55944967j  0.        +0.j\n",
      "  0.        +0.j         -0.05630963+0.26035434j  0.19915779+0.04307399j\n",
      "  0.        +0.j          0.        +0.j        ]\n"
     ]
    }
   ],
   "source": [
    "print(quasar.run_statevector(quasar.QuasarSimulatorBackend(), circuit))\n",
    "print(quasar.run_statevector(quasar.QiskitSimulatorBackend(), circuit))\n",
    "print(quasar.run_statevector(quasar.CirqSimulatorBackend(), circuit))"
   ]
  },
  {
   "cell_type": "code",
   "execution_count": 4,
   "metadata": {},
   "outputs": [
    {
     "name": "stdout",
     "output_type": "stream",
     "text": [
      "+1.0*Y0\n",
      "+1.0*Y1\n",
      "+1.0*Y2\n"
     ]
    }
   ],
   "source": [
    "I, X, Y, Z = quasar.Pauli.IXYZ()\n",
    "pauli = Y[0] + Y[1] + Y[2]\n",
    "print(pauli)"
   ]
  },
  {
   "cell_type": "code",
   "execution_count": 5,
   "metadata": {},
   "outputs": [
    {
     "name": "stdout",
     "output_type": "stream",
     "text": [
      "-0.63164*Y0\n",
      "+0.00128*Y1\n",
      "+0.96638*Y2\n"
     ]
    },
    {
     "name": "stderr",
     "output_type": "stream",
     "text": [
      "/anaconda3/lib/python3.7/site-packages/marshmallow/schema.py:364: ChangedInMarshmallow3Warning: strict=False is not recommended. In marshmallow 3.0, schemas will always be strict. See https://marshmallow.readthedocs.io/en/latest/upgrading.html#schemas-are-always-strict\n",
      "  ChangedInMarshmallow3Warning\n"
     ]
    },
    {
     "name": "stdout",
     "output_type": "stream",
     "text": [
      "-0.63314*Y0\n",
      "-0.0024*Y1\n",
      "+0.9655*Y2\n",
      "-0.62916*Y0\n",
      "-0.00394*Y1\n",
      "+0.96614*Y2\n"
     ]
    }
   ],
   "source": [
    "print(quasar.run_pauli_expectation(quasar.QuasarSimulatorBackend(), circuit, pauli, nmeasurement=100000))\n",
    "print(quasar.run_pauli_expectation(quasar.QiskitSimulatorBackend(), circuit, pauli, nmeasurement=100000))\n",
    "print(quasar.run_pauli_expectation(quasar.CirqSimulatorBackend(), circuit, pauli, nmeasurement=100000))"
   ]
  },
  {
   "cell_type": "code",
   "execution_count": 6,
   "metadata": {},
   "outputs": [
    {
     "name": "stdout",
     "output_type": "stream",
     "text": [
      "-0.631898276261885*Y0\n",
      "+0.0*Y1\n",
      "+0.9651458247636946*Y2\n"
     ]
    }
   ],
   "source": [
    "print(quasar.run_pauli_expectation(quasar.QuasarSimulatorBackend(), circuit, pauli, nmeasurement=None))"
   ]
  },
  {
   "cell_type": "code",
   "execution_count": null,
   "metadata": {},
   "outputs": [],
   "source": []
  }
 ],
 "metadata": {
  "kernelspec": {
   "display_name": "Python 3",
   "language": "python",
   "name": "python3"
  },
  "language_info": {
   "codemirror_mode": {
    "name": "ipython",
    "version": 3
   },
   "file_extension": ".py",
   "mimetype": "text/x-python",
   "name": "python",
   "nbconvert_exporter": "python",
   "pygments_lexer": "ipython3",
   "version": "3.7.1"
  }
 },
 "nbformat": 4,
 "nbformat_minor": 2
}
