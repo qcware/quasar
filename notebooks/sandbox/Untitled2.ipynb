{
 "cells": [
  {
   "cell_type": "code",
   "execution_count": 1,
   "metadata": {},
   "outputs": [],
   "source": [
    "import quasar\n",
    "import numpy as np"
   ]
  },
  {
   "cell_type": "code",
   "execution_count": 2,
   "metadata": {},
   "outputs": [],
   "source": [
    "N = 16"
   ]
  },
  {
   "cell_type": "code",
   "execution_count": 3,
   "metadata": {},
   "outputs": [],
   "source": [
    "wfn = np.random.randn(2**N) + np.random.randn(2**N) * 1.j\n",
    "wfn = wfn / np.sqrt(np.sum(np.abs(wfn)**2))"
   ]
  },
  {
   "cell_type": "code",
   "execution_count": 4,
   "metadata": {},
   "outputs": [
    {
     "name": "stdout",
     "output_type": "stream",
     "text": [
      "(1.0000000000000002+0j)\n"
     ]
    }
   ],
   "source": [
    "print(np.sum(np.conj(wfn) * wfn))"
   ]
  },
  {
   "cell_type": "markdown",
   "metadata": {},
   "source": [
    "# Particle Basis"
   ]
  },
  {
   "cell_type": "markdown",
   "metadata": {},
   "source": [
    "## 1PDM"
   ]
  },
  {
   "cell_type": "code",
   "execution_count": 5,
   "metadata": {},
   "outputs": [
    {
     "name": "stdout",
     "output_type": "stream",
     "text": [
      "0.0\n"
     ]
    }
   ],
   "source": [
    "D1A = quasar.Circuit.compute_1pdm(wfn, wfn, 1)\n",
    "D1B = quasar.Circuit.compute_npdm(wfn, wfn, (1,))\n",
    "print(np.max(np.abs(D1A - D1B)))"
   ]
  },
  {
   "cell_type": "code",
   "execution_count": 6,
   "metadata": {},
   "outputs": [
    {
     "name": "stdout",
     "output_type": "stream",
     "text": [
      "0.0\n"
     ]
    }
   ],
   "source": [
    "D1A = quasar.Circuit.compute_1pdm(wfn, wfn, 0)\n",
    "D1B = quasar.Circuit.compute_npdm(wfn, wfn, (0,))\n",
    "print(np.max(np.abs(D1A - D1B)))"
   ]
  },
  {
   "cell_type": "code",
   "execution_count": 7,
   "metadata": {},
   "outputs": [
    {
     "name": "stdout",
     "output_type": "stream",
     "text": [
      "0.0\n"
     ]
    }
   ],
   "source": [
    "D1A = quasar.Circuit.compute_1pdm(wfn, wfn, N-1)\n",
    "D1B = quasar.Circuit.compute_npdm(wfn, wfn, (N-1,))\n",
    "print(np.max(np.abs(D1A - D1B)))"
   ]
  },
  {
   "cell_type": "markdown",
   "metadata": {},
   "source": [
    "## 2PDM"
   ]
  },
  {
   "cell_type": "code",
   "execution_count": 8,
   "metadata": {},
   "outputs": [
    {
     "name": "stdout",
     "output_type": "stream",
     "text": [
      "0.0\n"
     ]
    }
   ],
   "source": [
    "D2A = quasar.Circuit.compute_2pdm(wfn, wfn, 1, 3)\n",
    "D2B = quasar.Circuit.compute_npdm(wfn, wfn, (1,3))\n",
    "print(np.max(np.abs(D2A - D2B)))"
   ]
  },
  {
   "cell_type": "code",
   "execution_count": 9,
   "metadata": {},
   "outputs": [
    {
     "name": "stdout",
     "output_type": "stream",
     "text": [
      "0.0\n"
     ]
    }
   ],
   "source": [
    "D2A = quasar.Circuit.compute_2pdm(wfn, wfn, 3, 1)\n",
    "D2B = quasar.Circuit.compute_npdm(wfn, wfn, (3,1))\n",
    "print(np.max(np.abs(D2A - D2B)))"
   ]
  },
  {
   "cell_type": "code",
   "execution_count": 10,
   "metadata": {},
   "outputs": [
    {
     "name": "stdout",
     "output_type": "stream",
     "text": [
      "0.0\n"
     ]
    }
   ],
   "source": [
    "D2A = quasar.Circuit.compute_2pdm(wfn, wfn, 0, 3)\n",
    "D2B = quasar.Circuit.compute_npdm(wfn, wfn, (0,3))\n",
    "print(np.max(np.abs(D2A - D2B)))"
   ]
  },
  {
   "cell_type": "code",
   "execution_count": 11,
   "metadata": {},
   "outputs": [
    {
     "name": "stdout",
     "output_type": "stream",
     "text": [
      "0.0\n"
     ]
    }
   ],
   "source": [
    "D2A = quasar.Circuit.compute_2pdm(wfn, wfn, 3, 0)\n",
    "D2B = quasar.Circuit.compute_npdm(wfn, wfn, (3,0))\n",
    "print(np.max(np.abs(D2A - D2B)))"
   ]
  },
  {
   "cell_type": "code",
   "execution_count": 12,
   "metadata": {},
   "outputs": [
    {
     "name": "stdout",
     "output_type": "stream",
     "text": [
      "0.0\n"
     ]
    }
   ],
   "source": [
    "D2A = quasar.Circuit.compute_2pdm(wfn, wfn, 1, N-1)\n",
    "D2B = quasar.Circuit.compute_npdm(wfn, wfn, (1,N-1))\n",
    "print(np.max(np.abs(D2A - D2B)))"
   ]
  },
  {
   "cell_type": "code",
   "execution_count": 13,
   "metadata": {},
   "outputs": [
    {
     "name": "stdout",
     "output_type": "stream",
     "text": [
      "0.0\n"
     ]
    }
   ],
   "source": [
    "D2A = quasar.Circuit.compute_2pdm(wfn, wfn, N-1, 1)\n",
    "D2B = quasar.Circuit.compute_npdm(wfn, wfn, (N-1,1))\n",
    "print(np.max(np.abs(D2A - D2B)))"
   ]
  },
  {
   "cell_type": "code",
   "execution_count": 14,
   "metadata": {},
   "outputs": [
    {
     "name": "stdout",
     "output_type": "stream",
     "text": [
      "0.0\n"
     ]
    }
   ],
   "source": [
    "D2A = quasar.Circuit.compute_2pdm(wfn, wfn, 0, N-1)\n",
    "D2B = quasar.Circuit.compute_npdm(wfn, wfn, (0,N-1))\n",
    "print(np.max(np.abs(D2A - D2B)))"
   ]
  },
  {
   "cell_type": "code",
   "execution_count": 15,
   "metadata": {},
   "outputs": [
    {
     "name": "stdout",
     "output_type": "stream",
     "text": [
      "0.0\n"
     ]
    }
   ],
   "source": [
    "D2A = quasar.Circuit.compute_2pdm(wfn, wfn, N-1, 0)\n",
    "D2B = quasar.Circuit.compute_npdm(wfn, wfn, (N-1, 0))\n",
    "print(np.max(np.abs(D2A - D2B)))"
   ]
  },
  {
   "cell_type": "markdown",
   "metadata": {},
   "source": [
    "## 3PDM"
   ]
  },
  {
   "cell_type": "code",
   "execution_count": 16,
   "metadata": {},
   "outputs": [
    {
     "name": "stdout",
     "output_type": "stream",
     "text": [
      "0.0\n"
     ]
    }
   ],
   "source": [
    "D3A = quasar.Circuit.compute_3pdm(wfn, wfn, N-1, 3, 0)\n",
    "D3B = quasar.Circuit.compute_npdm(wfn, wfn, (N-1, 3, 0))\n",
    "print(np.max(np.abs(D3A - D3B)))"
   ]
  },
  {
   "cell_type": "markdown",
   "metadata": {},
   "source": [
    "## 4PDM"
   ]
  },
  {
   "cell_type": "code",
   "execution_count": 17,
   "metadata": {},
   "outputs": [
    {
     "name": "stdout",
     "output_type": "stream",
     "text": [
      "0.0\n"
     ]
    }
   ],
   "source": [
    "D4A = quasar.Circuit.compute_4pdm(wfn, wfn, N-1, 3, 2, 0)\n",
    "D4B = quasar.Circuit.compute_npdm(wfn, wfn, (N-1, 3, 2, 0))\n",
    "print(np.max(np.abs(D4A - D4B)))"
   ]
  },
  {
   "cell_type": "code",
   "execution_count": 18,
   "metadata": {},
   "outputs": [
    {
     "name": "stdout",
     "output_type": "stream",
     "text": [
      "0.0\n"
     ]
    }
   ],
   "source": [
    "D4A = quasar.Circuit.compute_4pdm(wfn, wfn, 0, 3, 5, N-1)\n",
    "D4B = quasar.Circuit.compute_npdm(wfn, wfn, (0, 3, 5, N-1))\n",
    "print(np.max(np.abs(D4A - D4B)))"
   ]
  },
  {
   "cell_type": "code",
   "execution_count": 19,
   "metadata": {},
   "outputs": [
    {
     "name": "stdout",
     "output_type": "stream",
     "text": [
      "[[ 1.85661906e-03+0.00000000e+00j  1.92159575e-04+3.10651340e-05j\n",
      "  -8.38133835e-06+1.62480250e-04j ... -1.69065847e-04-5.62538364e-05j\n",
      "  -1.22696961e-04-8.78557097e-05j  2.13435696e-04+7.42598808e-05j]\n",
      " [ 1.92159575e-04-3.10651340e-05j  1.95408028e-03+0.00000000e+00j\n",
      "  -7.94737505e-05+1.21443985e-04j ... -2.67235113e-04-1.19216965e-04j\n",
      "   3.90787855e-05+2.17616543e-04j  2.41897610e-05-2.24870052e-04j]\n",
      " [-8.38133835e-06-1.62480250e-04j -7.94737505e-05-1.21443985e-04j\n",
      "   2.23685780e-03+0.00000000e+00j ... -8.60066084e-05-3.27496790e-05j\n",
      "  -1.82964461e-04+1.21839339e-04j  1.18972319e-04-4.33815479e-05j]\n",
      " ...\n",
      " [-1.69065847e-04+5.62538364e-05j -2.67235113e-04+1.19216965e-04j\n",
      "  -8.60066084e-05+3.27496790e-05j ...  1.86397602e-03+0.00000000e+00j\n",
      "  -5.64476476e-05-1.29816139e-05j  1.65482279e-04+2.60847888e-04j]\n",
      " [-1.22696961e-04+8.78557097e-05j  3.90787855e-05-2.17616543e-04j\n",
      "  -1.82964461e-04-1.21839339e-04j ... -5.64476476e-05+1.29816139e-05j\n",
      "   1.98892675e-03+0.00000000e+00j  8.96263963e-05-3.04275811e-05j]\n",
      " [ 2.13435696e-04-7.42598808e-05j  2.41897610e-05+2.24870052e-04j\n",
      "   1.18972319e-04+4.33815479e-05j ...  1.65482279e-04-2.60847888e-04j\n",
      "   8.96263963e-05+3.04275811e-05j  1.70426619e-03+0.00000000e+00j]]\n"
     ]
    }
   ],
   "source": [
    "D9B = quasar.Circuit.compute_npdm(wfn, wfn, (0,1,2,3,4,5,6,9,8))\n",
    "print(D9B)"
   ]
  },
  {
   "cell_type": "code",
   "execution_count": 20,
   "metadata": {},
   "outputs": [
    {
     "name": "stdout",
     "output_type": "stream",
     "text": [
      "0.0\n"
     ]
    }
   ],
   "source": [
    "D1A = quasar.Circuit.compute_pauli_1(wfn, 1)\n",
    "D1B = quasar.Circuit.compute_pauli_n(wfn, (1,))\n",
    "print(np.max(np.abs(D1A - D1B)))"
   ]
  },
  {
   "cell_type": "code",
   "execution_count": 21,
   "metadata": {},
   "outputs": [
    {
     "name": "stdout",
     "output_type": "stream",
     "text": [
      "0.0\n"
     ]
    }
   ],
   "source": [
    "D2A = quasar.Circuit.compute_pauli_2(wfn, 1, 2)\n",
    "D2B = quasar.Circuit.compute_pauli_n(wfn, (1, 2))\n",
    "print(np.max(np.abs(D2A - D2B)))"
   ]
  },
  {
   "cell_type": "code",
   "execution_count": 22,
   "metadata": {},
   "outputs": [
    {
     "name": "stdout",
     "output_type": "stream",
     "text": [
      "0.0\n"
     ]
    }
   ],
   "source": [
    "D3A = quasar.Circuit.compute_pauli_3(wfn, 1, 2, 3)\n",
    "D3B = quasar.Circuit.compute_pauli_n(wfn, (1, 2, 3))\n",
    "print(np.max(np.abs(D3A - D3B)))"
   ]
  },
  {
   "cell_type": "code",
   "execution_count": 23,
   "metadata": {},
   "outputs": [
    {
     "name": "stdout",
     "output_type": "stream",
     "text": [
      "0.0\n"
     ]
    }
   ],
   "source": [
    "D4A = quasar.Circuit.compute_pauli_4(wfn, 1, 2, 3, 4)\n",
    "D4B = quasar.Circuit.compute_pauli_n(wfn, (1, 2, 3, 4))\n",
    "print(np.max(np.abs(D4A - D4B)))"
   ]
  },
  {
   "cell_type": "code",
   "execution_count": 24,
   "metadata": {},
   "outputs": [
    {
     "name": "stdout",
     "output_type": "stream",
     "text": [
      "0.0\n"
     ]
    }
   ],
   "source": [
    "D4A = quasar.Circuit.compute_pauli_4(wfn, N-1, 2, 1, 0)\n",
    "D4B = quasar.Circuit.compute_pauli_n(wfn, (N-1, 2, 1, 0))\n",
    "print(np.max(np.abs(D4A - D4B)))"
   ]
  },
  {
   "cell_type": "code",
   "execution_count": 25,
   "metadata": {},
   "outputs": [
    {
     "name": "stdout",
     "output_type": "stream",
     "text": [
      "(4, 4, 4, 4, 4, 4, 4)\n"
     ]
    }
   ],
   "source": [
    "D9B = quasar.Circuit.compute_pauli_n(wfn, (0,1,2,3,4,5,6))\n",
    "print(D9B.shape)"
   ]
  },
  {
   "cell_type": "code",
   "execution_count": null,
   "metadata": {},
   "outputs": [],
   "source": []
  }
 ],
 "metadata": {
  "kernelspec": {
   "display_name": "Python 3",
   "language": "python",
   "name": "python3"
  },
  "language_info": {
   "codemirror_mode": {
    "name": "ipython",
    "version": 3
   },
   "file_extension": ".py",
   "mimetype": "text/x-python",
   "name": "python",
   "nbconvert_exporter": "python",
   "pygments_lexer": "ipython3",
   "version": "3.7.1"
  }
 },
 "nbformat": 4,
 "nbformat_minor": 2
}
