{
 "cells": [
  {
   "cell_type": "code",
   "execution_count": 1,
   "metadata": {},
   "outputs": [],
   "source": [
    "import quasar"
   ]
  },
  {
   "cell_type": "code",
   "execution_count": 7,
   "metadata": {},
   "outputs": [
    {
     "name": "stdout",
     "output_type": "stream",
     "text": [
      "T   : |0 |\n",
      "          \n",
      "|0> : -Ry-\n",
      "\n",
      "T   : |0 |\n",
      "Index Time  Qubits     Name       Gate      :                    Value\n",
      "0     0     (0,)       theta      Ry        :   1.2340000000000000E-01\n",
      "\n"
     ]
    }
   ],
   "source": [
    "circuit1 = quasar.Circuit(N=1).Ry(0, theta=0.1234)\n",
    "print(circuit1)\n",
    "print(circuit1.param_str)"
   ]
  },
  {
   "cell_type": "code",
   "execution_count": 8,
   "metadata": {},
   "outputs": [
    {
     "name": "stdout",
     "output_type": "stream",
     "text": [
      "0: ───Ry(0.039π)───\n"
     ]
    }
   ],
   "source": [
    "import cirq\n",
    "q = [cirq.LineQubit(A) for A in range(10)]\n",
    "circuit = cirq.Circuit()\n",
    "circuit.append(cirq.Ry(0.1234)(q[0]))\n",
    "print(circuit)"
   ]
  },
  {
   "cell_type": "code",
   "execution_count": 9,
   "metadata": {},
   "outputs": [
    {
     "name": "stdout",
     "output_type": "stream",
     "text": [
      "T   : |0 |\n",
      "          \n",
      "|0> : -Ry-\n",
      "\n",
      "T   : |0 |\n",
      "Index Time  Qubits     Name       Gate      :                    Value\n",
      "0     0     (0,)       theta      Ry        :   1.2340000000000001E-01\n",
      "\n"
     ]
    }
   ],
   "source": [
    "circuit2 = quasar.build_native_circuit(quasar.CirqSimulatorBackend(), circuit1)\n",
    "circuit3 = quasar.build_native_circuit(quasar.QuasarSimulatorBackend(), circuit2)\n",
    "print(circuit3)\n",
    "print(circuit3.param_str)"
   ]
  },
  {
   "cell_type": "code",
   "execution_count": 10,
   "metadata": {},
   "outputs": [
    {
     "name": "stdout",
     "output_type": "stream",
     "text": [
      "[0.99239588+0.j 0.12308706+0.j]\n",
      "[0.99239588+0.j 0.12308706+0.j]\n",
      "[0.99239588+0.j 0.12308706+0.j]\n",
      "[0.99239588+0.j 0.12308706+0.j]\n",
      "[0.99239588+0.j 0.12308706+0.j]\n",
      "[0.99239588+0.j 0.12308706+0.j]\n"
     ]
    }
   ],
   "source": [
    "print(quasar.run_statevector(quasar.QuasarSimulatorBackend(), circuit1))\n",
    "print(quasar.run_statevector(quasar.QuasarSimulatorBackend(), circuit2))\n",
    "print(quasar.run_statevector(quasar.QuasarSimulatorBackend(), circuit3))\n",
    "print(quasar.run_statevector(quasar.CirqSimulatorBackend(), circuit1))\n",
    "print(quasar.run_statevector(quasar.CirqSimulatorBackend(), circuit2))\n",
    "print(quasar.run_statevector(quasar.CirqSimulatorBackend(), circuit3))"
   ]
  },
  {
   "cell_type": "code",
   "execution_count": null,
   "metadata": {},
   "outputs": [],
   "source": []
  }
 ],
 "metadata": {
  "kernelspec": {
   "display_name": "Python 3",
   "language": "python",
   "name": "python3"
  },
  "language_info": {
   "codemirror_mode": {
    "name": "ipython",
    "version": 3
   },
   "file_extension": ".py",
   "mimetype": "text/x-python",
   "name": "python",
   "nbconvert_exporter": "python",
   "pygments_lexer": "ipython3",
   "version": "3.7.1"
  }
 },
 "nbformat": 4,
 "nbformat_minor": 2
}
