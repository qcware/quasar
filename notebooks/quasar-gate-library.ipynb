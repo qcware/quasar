{
 "cells": [
  {
   "cell_type": "markdown",
   "metadata": {},
   "source": [
    "# Quasar Gate Library\n",
    "Any function which can generate a $2^N \\times 2^N$ unitary matrix $\\hat U$ for $N\\in\\{1,2\\}$ from an `OrderedDict` of parameters can be adapted to be used as a `Gate` object within quasar (see the custom gate demo: [quasar-custom-gates.ipynb](quasar-custom-gates.ipynb)). However, in QIS, there are a handful of extremely common gates that one expects in any quantum simulator environment. We provide these as static attributes (for parameter-free gates) or static methods (for parameter-including gates) of the `Gate` class. This tutorial enumerates the existing names quasar gate library.\n",
    "\n",
    "Note: quasar uses the convention $\\hat R_{\\hat P} (\\theta) \\equiv \\exp(-i \\theta \\hat P)$ to define rotation matrices. Other codes may use the \"half-turn notation\" $\\hat R_{\\hat P} (\\theta) \\equiv \\exp(-i (\\theta / 2) \\hat P)$."
   ]
  },
  {
   "cell_type": "code",
   "execution_count": 1,
   "metadata": {},
   "outputs": [],
   "source": [
    "import numpy as np\n",
    "import quasar"
   ]
  },
  {
   "cell_type": "markdown",
   "metadata": {},
   "source": [
    "## 1-Qubit Parameter-Free Gates\n",
    "The $\\hat I$ (identity) gate:"
   ]
  },
  {
   "cell_type": "code",
   "execution_count": 2,
   "metadata": {},
   "outputs": [
    {
     "name": "stdout",
     "output_type": "stream",
     "text": [
      "[[1.+0.j 0.+0.j]\n",
      " [0.+0.j 1.+0.j]]\n"
     ]
    }
   ],
   "source": [
    "print(quasar.Gate.I.U)"
   ]
  },
  {
   "cell_type": "markdown",
   "metadata": {},
   "source": [
    "The $\\hat X$ (NOT) gate:"
   ]
  },
  {
   "cell_type": "code",
   "execution_count": 3,
   "metadata": {},
   "outputs": [
    {
     "name": "stdout",
     "output_type": "stream",
     "text": [
      "[[0.+0.j 1.+0.j]\n",
      " [1.+0.j 0.+0.j]]\n"
     ]
    }
   ],
   "source": [
    "print(quasar.Gate.X.U)"
   ]
  },
  {
   "cell_type": "markdown",
   "metadata": {},
   "source": [
    "The $\\hat Y$ gate:"
   ]
  },
  {
   "cell_type": "code",
   "execution_count": 4,
   "metadata": {},
   "outputs": [
    {
     "name": "stdout",
     "output_type": "stream",
     "text": [
      "[[ 0.+0.j -0.-1.j]\n",
      " [ 0.+1.j  0.+0.j]]\n"
     ]
    }
   ],
   "source": [
    "print(quasar.Gate.Y.U)"
   ]
  },
  {
   "cell_type": "markdown",
   "metadata": {},
   "source": [
    "The $\\hat Z$ gate:"
   ]
  },
  {
   "cell_type": "code",
   "execution_count": 5,
   "metadata": {},
   "outputs": [
    {
     "name": "stdout",
     "output_type": "stream",
     "text": [
      "[[ 1.+0.j  0.+0.j]\n",
      " [ 0.+0.j -1.+0.j]]\n"
     ]
    }
   ],
   "source": [
    "print(quasar.Gate.Z.U)"
   ]
  },
  {
   "cell_type": "markdown",
   "metadata": {},
   "source": [
    "The $\\hat H$ (Hadamard) gate:"
   ]
  },
  {
   "cell_type": "code",
   "execution_count": 6,
   "metadata": {},
   "outputs": [
    {
     "name": "stdout",
     "output_type": "stream",
     "text": [
      "[[ 0.70710678+0.j  0.70710678+0.j]\n",
      " [ 0.70710678+0.j -0.70710678+0.j]]\n"
     ]
    }
   ],
   "source": [
    "print(quasar.Gate.H.U)"
   ]
  },
  {
   "cell_type": "markdown",
   "metadata": {},
   "source": [
    "The $\\hat S$ (phase) gate:"
   ]
  },
  {
   "cell_type": "code",
   "execution_count": 7,
   "metadata": {},
   "outputs": [
    {
     "name": "stdout",
     "output_type": "stream",
     "text": [
      "[[1.+0.j 0.+0.j]\n",
      " [0.+0.j 0.+1.j]]\n"
     ]
    }
   ],
   "source": [
    "print(quasar.Gate.S.U)"
   ]
  },
  {
   "cell_type": "markdown",
   "metadata": {},
   "source": [
    "The $\\hat T$ gate:"
   ]
  },
  {
   "cell_type": "code",
   "execution_count": 8,
   "metadata": {},
   "outputs": [
    {
     "name": "stdout",
     "output_type": "stream",
     "text": [
      "[[1.        +0.j         0.        +0.j        ]\n",
      " [0.        +0.j         0.70710678+0.70710678j]]\n"
     ]
    }
   ],
   "source": [
    "print(quasar.Gate.T.U)"
   ]
  },
  {
   "cell_type": "markdown",
   "metadata": {},
   "source": [
    "The $\\hat R_x (\\theta = -\\pi / 4) = \\exp(+i (\\pi / 4) \\hat X)$ gate (transforms to $\\hat Y$ basis): "
   ]
  },
  {
   "cell_type": "code",
   "execution_count": 9,
   "metadata": {},
   "outputs": [
    {
     "name": "stdout",
     "output_type": "stream",
     "text": [
      "[[0.70710678+0.j         0.        +0.70710678j]\n",
      " [0.        +0.70710678j 0.70710678+0.j        ]]\n"
     ]
    }
   ],
   "source": [
    "print(quasar.Gate.Rx2.U)"
   ]
  },
  {
   "cell_type": "markdown",
   "metadata": {},
   "source": [
    "The $\\hat R_x (\\theta = +\\pi / 4) = \\exp(-i (\\pi / 4) \\hat X)$ gate (transforms from the $\\hat Y$ basis): "
   ]
  },
  {
   "cell_type": "code",
   "execution_count": 10,
   "metadata": {},
   "outputs": [
    {
     "name": "stdout",
     "output_type": "stream",
     "text": [
      "[[0.70710678+0.j         0.        -0.70710678j]\n",
      " [0.        -0.70710678j 0.70710678+0.j        ]]\n"
     ]
    }
   ],
   "source": [
    "print(quasar.Gate.Rx2T.U)"
   ]
  },
  {
   "cell_type": "markdown",
   "metadata": {},
   "source": [
    "## 1-Qubit Parameter-Based Gates\n",
    "The $\\hat R_x (\\theta) \\equiv \\exp(-i \\theta \\hat X)$ gate:"
   ]
  },
  {
   "cell_type": "code",
   "execution_count": 11,
   "metadata": {},
   "outputs": [
    {
     "name": "stdout",
     "output_type": "stream",
     "text": [
      "[[0.70710678+0.j         0.        -0.70710678j]\n",
      " [0.        -0.70710678j 0.70710678+0.j        ]]\n"
     ]
    }
   ],
   "source": [
    "print(quasar.Gate.Rx(theta=np.pi/4.0).U)"
   ]
  },
  {
   "cell_type": "markdown",
   "metadata": {},
   "source": [
    "The $\\hat R_y (\\theta) \\equiv \\exp(-i \\theta \\hat Y)$ gate:"
   ]
  },
  {
   "cell_type": "code",
   "execution_count": 12,
   "metadata": {},
   "outputs": [
    {
     "name": "stdout",
     "output_type": "stream",
     "text": [
      "[[ 0.70710678+0.j -0.70710678+0.j]\n",
      " [ 0.70710678+0.j  0.70710678+0.j]]\n"
     ]
    }
   ],
   "source": [
    "print(quasar.Gate.Ry(theta=np.pi/4.0).U)"
   ]
  },
  {
   "cell_type": "markdown",
   "metadata": {},
   "source": [
    "The $\\hat R_z (\\theta) \\equiv \\exp(-i \\theta \\hat Z)$ gate:"
   ]
  },
  {
   "cell_type": "code",
   "execution_count": 13,
   "metadata": {},
   "outputs": [
    {
     "name": "stdout",
     "output_type": "stream",
     "text": [
      "[[0.70710678-0.70710678j 0.        +0.j        ]\n",
      " [0.        +0.j         0.70710678+0.70710678j]]\n"
     ]
    }
   ],
   "source": [
    "print(quasar.Gate.Rz(theta=np.pi/4.0).U)"
   ]
  },
  {
   "cell_type": "markdown",
   "metadata": {},
   "source": [
    "## 2-Qubit Parameter-Free Gates"
   ]
  },
  {
   "cell_type": "markdown",
   "metadata": {},
   "source": [
    "The controlled $\\hat X$ (aka CNOT) gate:"
   ]
  },
  {
   "cell_type": "code",
   "execution_count": 14,
   "metadata": {},
   "outputs": [
    {
     "name": "stdout",
     "output_type": "stream",
     "text": [
      "[[1.+0.j 0.+0.j 0.+0.j 0.+0.j]\n",
      " [0.+0.j 1.+0.j 0.+0.j 0.+0.j]\n",
      " [0.+0.j 0.+0.j 0.+0.j 1.+0.j]\n",
      " [0.+0.j 0.+0.j 1.+0.j 0.+0.j]]\n"
     ]
    }
   ],
   "source": [
    "print(quasar.Gate.CX.U)"
   ]
  },
  {
   "cell_type": "code",
   "execution_count": 15,
   "metadata": {},
   "outputs": [
    {
     "name": "stdout",
     "output_type": "stream",
     "text": [
      "[[1.+0.j 0.+0.j 0.+0.j 0.+0.j]\n",
      " [0.+0.j 1.+0.j 0.+0.j 0.+0.j]\n",
      " [0.+0.j 0.+0.j 0.+0.j 1.+0.j]\n",
      " [0.+0.j 0.+0.j 1.+0.j 0.+0.j]]\n"
     ]
    }
   ],
   "source": [
    "print(quasar.Gate.CNOT.U)"
   ]
  },
  {
   "cell_type": "markdown",
   "metadata": {},
   "source": [
    "The controlled $\\hat Y$ gate:"
   ]
  },
  {
   "cell_type": "code",
   "execution_count": 16,
   "metadata": {},
   "outputs": [
    {
     "name": "stdout",
     "output_type": "stream",
     "text": [
      "[[ 1.+0.j  0.+0.j  0.+0.j  0.+0.j]\n",
      " [ 0.+0.j  1.+0.j  0.+0.j  0.+0.j]\n",
      " [ 0.+0.j  0.+0.j  0.+0.j -0.-1.j]\n",
      " [ 0.+0.j  0.+0.j  0.+1.j  0.+0.j]]\n"
     ]
    }
   ],
   "source": [
    "print(quasar.Gate.CY.U)"
   ]
  },
  {
   "cell_type": "markdown",
   "metadata": {},
   "source": [
    "The controlled $\\hat Z$ gate:"
   ]
  },
  {
   "cell_type": "code",
   "execution_count": 17,
   "metadata": {},
   "outputs": [
    {
     "name": "stdout",
     "output_type": "stream",
     "text": [
      "[[ 1.+0.j  0.+0.j  0.+0.j  0.+0.j]\n",
      " [ 0.+0.j  1.+0.j  0.+0.j  0.+0.j]\n",
      " [ 0.+0.j  0.+0.j  1.+0.j  0.+0.j]\n",
      " [ 0.+0.j  0.+0.j  0.+0.j -1.+0.j]]\n"
     ]
    }
   ],
   "source": [
    "print(quasar.Gate.CZ.U)"
   ]
  },
  {
   "cell_type": "markdown",
   "metadata": {},
   "source": [
    "The controlled $\\hat S$ gate:"
   ]
  },
  {
   "cell_type": "code",
   "execution_count": 29,
   "metadata": {},
   "outputs": [
    {
     "name": "stdout",
     "output_type": "stream",
     "text": [
      "[[1.+0.j 0.+0.j 0.+0.j 0.+0.j]\n",
      " [0.+0.j 1.+0.j 0.+0.j 0.+0.j]\n",
      " [0.+0.j 0.+0.j 1.+0.j 0.+0.j]\n",
      " [0.+0.j 0.+0.j 0.+0.j 0.+1.j]]\n"
     ]
    }
   ],
   "source": [
    "print(quasar.Gate.CS.U)"
   ]
  },
  {
   "cell_type": "markdown",
   "metadata": {},
   "source": [
    "The SWAP gate:"
   ]
  },
  {
   "cell_type": "code",
   "execution_count": 19,
   "metadata": {},
   "outputs": [
    {
     "name": "stdout",
     "output_type": "stream",
     "text": [
      "[[1.+0.j 0.+0.j 0.+0.j 0.+0.j]\n",
      " [0.+0.j 0.+0.j 1.+0.j 0.+0.j]\n",
      " [0.+0.j 1.+0.j 0.+0.j 0.+0.j]\n",
      " [0.+0.j 0.+0.j 0.+0.j 1.+0.j]]\n"
     ]
    }
   ],
   "source": [
    "print(quasar.Gate.SWAP.U)"
   ]
  },
  {
   "cell_type": "markdown",
   "metadata": {},
   "source": [
    "## 2-Qubit Parameter-Based Gates\n",
    "The controlled $\\hat F$ gate:\n",
    "\\begin{equation}\n",
    "\\hat U_{\\mathrm{CF}} (\\theta)\n",
    "\\equiv\n",
    "\\left [\n",
    "\\begin{array}{cccc}\n",
    "1 & 0 & 0 & 0 \\\\\n",
    "0 & 1 & 0 & 0 \\\\\n",
    "0 & 0 & +\\cos(\\theta) & +\\sin(\\theta) \\\\\n",
    "0 & 0 & +\\sin(\\theta) & -\\cos(\\theta) \\\\\n",
    "\\end{array}\n",
    "\\right ]\n",
    "\\end{equation}"
   ]
  },
  {
   "cell_type": "code",
   "execution_count": 20,
   "metadata": {},
   "outputs": [
    {
     "name": "stdout",
     "output_type": "stream",
     "text": [
      "[[ 1.        +0.j  0.        +0.j  0.        +0.j  0.        +0.j]\n",
      " [ 0.        +0.j  1.        +0.j  0.        +0.j  0.        +0.j]\n",
      " [ 0.        +0.j  0.        +0.j  0.70710678+0.j  0.70710678+0.j]\n",
      " [ 0.        +0.j  0.        +0.j  0.70710678+0.j -0.70710678+0.j]]\n"
     ]
    }
   ],
   "source": [
    "print(quasar.Gate.CF(theta=np.pi/4.0).U)"
   ]
  },
  {
   "cell_type": "markdown",
   "metadata": {},
   "source": [
    "The exponential parametrization of $SO(4)$: https://arxiv.org/pdf/1901.01234.pdf"
   ]
  },
  {
   "cell_type": "code",
   "execution_count": 21,
   "metadata": {},
   "outputs": [
    {
     "name": "stdout",
     "output_type": "stream",
     "text": [
      "[[ 0.9348924 +0.j -0.01339019+0.j  0.09978843+0.j  0.34035154+0.j]\n",
      " [-0.19968474+0.j  0.80519462+0.j  0.19761001+0.j  0.52224316+0.j]\n",
      " [-0.22948621+0.j -0.49406208+0.j  0.74034573+0.j  0.39386157+0.j]\n",
      " [-0.18286137+0.j -0.32769648+0.j -0.63472888+0.j  0.67549684+0.j]]\n"
     ]
    }
   ],
   "source": [
    "print(quasar.Gate.SO4(A=0.1, B=0.2, C=0.3, D=0.4, E=0.5, F=0.6).U)"
   ]
  },
  {
   "cell_type": "markdown",
   "metadata": {},
   "source": [
    "An alternative parametrization of $SO(4)$:"
   ]
  },
  {
   "cell_type": "code",
   "execution_count": 22,
   "metadata": {},
   "outputs": [
    {
     "name": "stdout",
     "output_type": "stream",
     "text": [
      "[[ 0.36051638+0.j -0.33891257+0.j -0.44175252+0.j -0.74834546+0.j]\n",
      " [ 0.51034913+0.j  0.77196413+0.j -0.36256602+0.j  0.11027705+0.j]\n",
      " [ 0.73319467+0.j -0.18603098+0.j  0.65195854+0.j  0.05261287+0.j]\n",
      " [ 0.26832308+0.j -0.50458114+0.j -0.49834793+0.j  0.65195854+0.j]]\n"
     ]
    }
   ],
   "source": [
    "print(quasar.Gate.SO42(thetaIY=0.1, thetaYI=0.2, thetaXY=0.3, thetaYX=0.4, thetaZY=0.5, thetaYZ=0.6).U)"
   ]
  },
  {
   "cell_type": "markdown",
   "metadata": {},
   "source": [
    "## Special Parameter-Free Gates\n",
    "Sometimes the user has a known, parameter-free unitary matrix $\\hat U$, and wants a gate corresponding to this. To help in this case, we provide the simple `U1` and `U2` methods to construct custom parameter-free gates:"
   ]
  },
  {
   "cell_type": "code",
   "execution_count": 23,
   "metadata": {},
   "outputs": [
    {
     "name": "stdout",
     "output_type": "stream",
     "text": [
      "[[1.+0.j 0.+0.j]\n",
      " [0.+0.j 1.+0.j]]\n"
     ]
    }
   ],
   "source": [
    "print(quasar.Gate.U1(U=np.eye(2, dtype=np.complex128)).U)"
   ]
  },
  {
   "cell_type": "code",
   "execution_count": 24,
   "metadata": {},
   "outputs": [
    {
     "name": "stdout",
     "output_type": "stream",
     "text": [
      "[[1.+0.j 0.+0.j 0.+0.j 0.+0.j]\n",
      " [0.+0.j 1.+0.j 0.+0.j 0.+0.j]\n",
      " [0.+0.j 0.+0.j 1.+0.j 0.+0.j]\n",
      " [0.+0.j 0.+0.j 0.+0.j 1.+0.j]]\n"
     ]
    }
   ],
   "source": [
    "print(quasar.Gate.U2(U=np.eye(4, dtype=np.complex128)).U)"
   ]
  },
  {
   "cell_type": "markdown",
   "metadata": {},
   "source": [
    "The updated gate library can be found by looking at the documentation of the `Gate` class:"
   ]
  },
  {
   "cell_type": "code",
   "execution_count": 32,
   "metadata": {},
   "outputs": [
    {
     "name": "stdout",
     "output_type": "stream",
     "text": [
      "Help on class Gate in module quasar.quasar:\n",
      "\n",
      "class Gate(builtins.object)\n",
      " |  Gate(N, Ufun, params, name, ascii_symbols)\n",
      " |  \n",
      " |  Class Gate represents a general N-body quantum gate. \n",
      " |  \n",
      " |  An N-body quantum gate applies a unitary operator to the state of a subset\n",
      " |  of N qubits, with an implicit identity matrix acting on the remaining\n",
      " |  qubits. The Gate class specifies the (2**N,)*2 unitary matrix U for the N\n",
      " |  active qubits, but does not specify which qubits are active.\n",
      " |  \n",
      " |  Usually, most users will not initialize their own Gates, but will use gates\n",
      " |  from the standard library, which are defined as Gate class members (for\n",
      " |  parameter-free gates) or Gate class methods (for parameter-including gates).\n",
      " |  Some simple examples include:\n",
      " |  \n",
      " |  >>> I = Gate.I\n",
      " |  >>> Ry = Gate.Ry(theta=np.pi/4.0)\n",
      " |  >>> SO4 = Gate.SO4(A=0.0, B=0.0, C=0.0, D=0.0, E=0.0, F=0.0)\n",
      " |  >>> CF = Gate.CF(theta=np.pi/3.0)\n",
      " |  \n",
      " |  Methods defined here:\n",
      " |  \n",
      " |  __init__(self, N, Ufun, params, name, ascii_symbols)\n",
      " |      Initializer. Params are set as object attributes.\n",
      " |      \n",
      " |      Params:\n",
      " |          N (int > 0) - the dimensionality of the quantum gate, e.g, 1 for\n",
      " |              1-body, 2 for 2-body, etc.\n",
      " |          Ufun (function of OrderedDict of str : float -> np.ndarray of shape\n",
      " |              (2**N,)*2) - a function which generates the unitary\n",
      " |              matrix for this gate from the current parameter set.\n",
      " |          params (OrderedDict of str : float) - the dictionary of initial\n",
      " |              gate parameters.\n",
      " |          name (str) - a simple name for the gate, e.g., 'CNOT'\n",
      " |          ascii_symbols (list of str of len N) - a list of ASCII symbols for\n",
      " |              each active qubit of the gate, for use in generating textual diagrams, e.g.,\n",
      " |              ['@', 'X'] for CNOT.\n",
      " |  \n",
      " |  __str__(self)\n",
      " |      String representation of this Gate (self.name)\n",
      " |  \n",
      " |  copy(self)\n",
      " |      Make a deep copy of the current Gate. \n",
      " |      \n",
      " |      Returns:\n",
      " |          (Gate) - a copy of this Gate whose parameters may be modified\n",
      " |              without modifying the parameters of self.\n",
      " |  \n",
      " |  set_param(self, key, param)\n",
      " |      Set the value of a parameter of this Gate. \n",
      " |      \n",
      " |      Params:\n",
      " |          key (str) - the key of the parameter\n",
      " |          param (float) - the value of the parameter\n",
      " |      Result:\n",
      " |          self.params[key] = param. If the Gate does not have a parameter\n",
      " |              corresponding to key, a RuntimeError is thrown.\n",
      " |  \n",
      " |  set_params(self, params)\n",
      " |      Set the values of multiple parameters of this Gate.\n",
      " |      \n",
      " |      Params:\n",
      " |          params (dict of str : float) -  dict of param values\n",
      " |      Result:\n",
      " |          self.params is updated with the contents of params by calling\n",
      " |              self.set_param for each key/value pair.\n",
      " |  \n",
      " |  ----------------------------------------------------------------------\n",
      " |  Static methods defined here:\n",
      " |  \n",
      " |  CF = _CF(theta)\n",
      " |      Controlled F gate\n",
      " |  \n",
      " |  Rx = _GateRx(theta)\n",
      " |      Rx (theta) = exp(-i * theta * x)\n",
      " |  \n",
      " |  Ry = _GateRy(theta)\n",
      " |      Ry (theta) = exp(-i * theta * Y)\n",
      " |  \n",
      " |  Rz = _GateRz(theta)\n",
      " |      Rz (theta) = exp(-i * theta * Z)\n",
      " |  \n",
      " |  SO4 = _GateSO4(A, B, C, D, E, F)\n",
      " |  \n",
      " |  SO42 = _GateSO42(thetaIY, thetaYI, thetaXY, thetaYX, thetaZY, thetaYZ)\n",
      " |  \n",
      " |  U1 = _GateU1(U)\n",
      " |      An explicit 1-body gate that is specified by the user.\n",
      " |  \n",
      " |  U2 = _GateU2(U)\n",
      " |      An explicit 2-body gate that is specified by the user.\n",
      " |  \n",
      " |  ----------------------------------------------------------------------\n",
      " |  Data descriptors defined here:\n",
      " |  \n",
      " |  U\n",
      " |      The (2**N,)*2 unitary matrix underlying this Gate. \n",
      " |      \n",
      " |      The action of the gate on a given state is given graphically as,\n",
      " |      \n",
      " |      |\\Psi> -G- |\\Psi'>\n",
      " |      \n",
      " |      and mathematically as,\n",
      " |      \n",
      " |      |\\Psi_I'> = \\sum_J U_IJ |\\Psi_J>\n",
      " |      \n",
      " |      Returns:\n",
      " |          (np.ndarray of shape (2**N,)*2) - the unitary matrix underlying\n",
      " |              this gate, built from the current parameter state.\n",
      " |  \n",
      " |  __dict__\n",
      " |      dictionary for instance variables (if defined)\n",
      " |  \n",
      " |  __weakref__\n",
      " |      list of weak references to the object (if defined)\n",
      " |  \n",
      " |  ----------------------------------------------------------------------\n",
      " |  Data and other attributes defined here:\n",
      " |  \n",
      " |  CNOT = <quasar.quasar.Gate object>\n",
      " |  \n",
      " |  CS = <quasar.quasar.Gate object>\n",
      " |  \n",
      " |  CX = <quasar.quasar.Gate object>\n",
      " |  \n",
      " |  CY = <quasar.quasar.Gate object>\n",
      " |  \n",
      " |  CZ = <quasar.quasar.Gate object>\n",
      " |  \n",
      " |  H = <quasar.quasar.Gate object>\n",
      " |  \n",
      " |  I = <quasar.quasar.Gate object>\n",
      " |  \n",
      " |  Rx2 = <quasar.quasar.Gate object>\n",
      " |  \n",
      " |  Rx2T = <quasar.quasar.Gate object>\n",
      " |  \n",
      " |  S = <quasar.quasar.Gate object>\n",
      " |  \n",
      " |  SWAP = <quasar.quasar.Gate object>\n",
      " |  \n",
      " |  T = <quasar.quasar.Gate object>\n",
      " |  \n",
      " |  X = <quasar.quasar.Gate object>\n",
      " |  \n",
      " |  Y = <quasar.quasar.Gate object>\n",
      " |  \n",
      " |  Z = <quasar.quasar.Gate object>\n",
      "\n"
     ]
    }
   ],
   "source": [
    "help(quasar.Gate)"
   ]
  },
  {
   "cell_type": "markdown",
   "metadata": {},
   "source": [
    "## Matrix Library\n",
    "We also provide a utility library of common matrices used to build many of the above gates in the `Matrix` class. For instance:"
   ]
  },
  {
   "cell_type": "code",
   "execution_count": 25,
   "metadata": {},
   "outputs": [
    {
     "name": "stdout",
     "output_type": "stream",
     "text": [
      "[[1.+0.j 0.+0.j 0.+0.j 0.+0.j]\n",
      " [0.+0.j 1.+0.j 0.+0.j 0.+0.j]\n",
      " [0.+0.j 0.+0.j 0.+0.j 1.+0.j]\n",
      " [0.+0.j 0.+0.j 1.+0.j 0.+0.j]]\n"
     ]
    }
   ],
   "source": [
    "print(quasar.Matrix.CNOT)"
   ]
  },
  {
   "cell_type": "code",
   "execution_count": 26,
   "metadata": {},
   "outputs": [
    {
     "name": "stdout",
     "output_type": "stream",
     "text": [
      "[[0.70710678+0.j         0.        -0.70710678j]\n",
      " [0.        -0.70710678j 0.70710678+0.j        ]]\n"
     ]
    }
   ],
   "source": [
    "print(quasar.Matrix.Rx(theta=np.pi/4.0))"
   ]
  },
  {
   "cell_type": "markdown",
   "metadata": {},
   "source": [
    "To see the list of available matrices:"
   ]
  },
  {
   "cell_type": "code",
   "execution_count": 27,
   "metadata": {},
   "outputs": [
    {
     "name": "stdout",
     "output_type": "stream",
     "text": [
      "Help on class Matrix in module quasar.quasar:\n",
      "\n",
      "class Matrix(builtins.object)\n",
      " |  Class Matrix holds several common matrices encountered in quantum circuits.\n",
      " |  \n",
      " |  These matrices are stored in np.ndarray with dtype=np.complex128.\n",
      " |  \n",
      " |  The naming/ordering of the matrices in Quasar follows that of Nielsen and\n",
      " |  Chuang, *except* that rotation matrices are specfied in full turns:\n",
      " |  \n",
      " |      Rz(theta) = exp(-i*theta*Z)\n",
      " |  \n",
      " |  whereas Nielsen and Chuang define these in half turns:\n",
      " |  \n",
      " |      Rz^NC(theta) = exp(-i*theta*Z/2)\n",
      " |  \n",
      " |  Static methods defined here:\n",
      " |  \n",
      " |  Rx(theta)\n",
      " |  \n",
      " |  Ry(theta)\n",
      " |  \n",
      " |  Rz(theta)\n",
      " |  \n",
      " |  ----------------------------------------------------------------------\n",
      " |  Data descriptors defined here:\n",
      " |  \n",
      " |  __dict__\n",
      " |      dictionary for instance variables (if defined)\n",
      " |  \n",
      " |  __weakref__\n",
      " |      list of weak references to the object (if defined)\n",
      " |  \n",
      " |  ----------------------------------------------------------------------\n",
      " |  Data and other attributes defined here:\n",
      " |  \n",
      " |  CNOT = array([[1.+0.j, 0.+0.j, 0.+0.j, 0.+0.j],\n",
      " |         ....+0.j],\n",
      " |      ...\n",
      " |  \n",
      " |  CS = array([[1.+0.j, 0.+0.j, 0.+0.j, 0.+0.j],\n",
      " |         ....+0.j],\n",
      " |        ...\n",
      " |  \n",
      " |  CX = array([[1.+0.j, 0.+0.j, 0.+0.j, 0.+0.j],\n",
      " |         ....+0.j],\n",
      " |        ...\n",
      " |  \n",
      " |  CY = array([[ 1.+0.j,  0.+0.j,  0.+0.j,  0.+0.j],\n",
      " |     ...j],\n",
      " |         [ 0...\n",
      " |  \n",
      " |  CZ = array([[ 1.+0.j,  0.+0.j,  0.+0.j,  0.+0.j],\n",
      " |     ...j],\n",
      " |         [ 0...\n",
      " |  \n",
      " |  H = array([[ 0.70710678+0.j,  0.70710678+0.j],\n",
      " |         [ 0.70710678+0.j...\n",
      " |  \n",
      " |  I = array([[1.+0.j, 0.+0.j],\n",
      " |         [0.+0.j, 1.+0.j]])\n",
      " |  \n",
      " |  II = array([[1.+0.j, 0.+0.j, 0.+0.j, 0.+0.j],\n",
      " |         ....+0.j],\n",
      " |        ...\n",
      " |  \n",
      " |  IX = array([[0.+0.j, 1.+0.j, 0.+0.j, 0.+0.j],\n",
      " |         ....+0.j],\n",
      " |        ...\n",
      " |  \n",
      " |  IY = array([[0.+0.j, 0.-1.j, 0.+0.j, 0.-0.j],\n",
      " |         ....-1.j],\n",
      " |        ...\n",
      " |  \n",
      " |  IZ = array([[ 1.+0.j,  0.+0.j,  0.+0.j,  0.+0.j],\n",
      " |     ...j],\n",
      " |         [ 0...\n",
      " |  \n",
      " |  Rx2 = array([[0.70710678+0.j        , 0.        +0.707...0.        +0....\n",
      " |  \n",
      " |  Rx2T = array([[0.70710678+0.j        , 0.        -0.707...0.        -0...\n",
      " |  \n",
      " |  S = array([[1.+0.j, 0.+0.j],\n",
      " |         [0.+0.j, 0.+1.j]])\n",
      " |  \n",
      " |  SWAP = array([[1.+0.j, 0.+0.j, 0.+0.j, 0.+0.j],\n",
      " |         ....+0.j],\n",
      " |      ...\n",
      " |  \n",
      " |  T = array([[1.        +0.j        , 0.        +0.j  ...0.        +0.j ...\n",
      " |  \n",
      " |  X = array([[0.+0.j, 1.+0.j],\n",
      " |         [1.+0.j, 0.+0.j]])\n",
      " |  \n",
      " |  XI = array([[0.+0.j, 0.+0.j, 1.+0.j, 0.+0.j],\n",
      " |         ....+0.j],\n",
      " |        ...\n",
      " |  \n",
      " |  XX = array([[0.+0.j, 0.+0.j, 0.+0.j, 1.+0.j],\n",
      " |         ....+0.j],\n",
      " |        ...\n",
      " |  \n",
      " |  XY = array([[0.+0.j, 0.-0.j, 0.+0.j, 0.-1.j],\n",
      " |         ....-0.j],\n",
      " |        ...\n",
      " |  \n",
      " |  XZ = array([[ 0.+0.j,  0.+0.j,  1.+0.j,  0.+0.j],\n",
      " |     ...j],\n",
      " |         [ 0...\n",
      " |  \n",
      " |  Y = array([[ 0.+0.j, -0.-1.j],\n",
      " |         [ 0.+1.j,  0.+0.j]])\n",
      " |  \n",
      " |  YI = array([[0.+0.j, 0.+0.j, 0.-1.j, 0.-0.j],\n",
      " |         ....+0.j],\n",
      " |        ...\n",
      " |  \n",
      " |  YX = array([[0.+0.j, 0.+0.j, 0.-0.j, 0.-1.j],\n",
      " |         ....+0.j],\n",
      " |        ...\n",
      " |  \n",
      " |  YY = array([[ 0.+0.j,  0.-0.j,  0.-0.j, -1.+0.j],\n",
      " |     ...j],\n",
      " |         [-1...\n",
      " |  \n",
      " |  YZ = array([[ 0.+0.j,  0.+0.j,  0.-1.j,  0.-0.j],\n",
      " |     ...j],\n",
      " |         [ 0...\n",
      " |  \n",
      " |  Z = array([[ 1.+0.j,  0.+0.j],\n",
      " |         [ 0.+0.j, -1.+0.j]])\n",
      " |  \n",
      " |  ZI = array([[ 1.+0.j,  0.+0.j,  0.+0.j,  0.+0.j],\n",
      " |     ...j],\n",
      " |         [ 0...\n",
      " |  \n",
      " |  ZX = array([[ 0.+0.j,  1.+0.j,  0.+0.j,  0.+0.j],\n",
      " |     ...j],\n",
      " |         [ 0...\n",
      " |  \n",
      " |  ZY = array([[ 0.+0.j,  0.-1.j,  0.+0.j,  0.-0.j],\n",
      " |     ...j],\n",
      " |         [ 0...\n",
      " |  \n",
      " |  ZZ = array([[ 1.+0.j,  0.+0.j,  0.+0.j,  0.+0.j],\n",
      " |     ...j],\n",
      " |         [ 0...\n",
      "\n"
     ]
    }
   ],
   "source": [
    "help(quasar.Matrix)"
   ]
  }
 ],
 "metadata": {
  "kernelspec": {
   "display_name": "Python 3",
   "language": "python",
   "name": "python3"
  },
  "language_info": {
   "codemirror_mode": {
    "name": "ipython",
    "version": 3
   },
   "file_extension": ".py",
   "mimetype": "text/x-python",
   "name": "python",
   "nbconvert_exporter": "python",
   "pygments_lexer": "ipython3",
   "version": "3.7.1"
  }
 },
 "nbformat": 4,
 "nbformat_minor": 2
}
