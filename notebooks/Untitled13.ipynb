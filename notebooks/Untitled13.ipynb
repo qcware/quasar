{
 "cells": [
  {
   "cell_type": "code",
   "execution_count": 1,
   "metadata": {},
   "outputs": [],
   "source": [
    "import quasar\n",
    "import qaoa"
   ]
  },
  {
   "cell_type": "code",
   "execution_count": 2,
   "metadata": {},
   "outputs": [
    {
     "name": "stdout",
     "output_type": "stream",
     "text": [
      "-0.5*Z0\n",
      "+0.5*Z1\n",
      "-0.5*Z2\n",
      "-0.25*Z0*Z1\n",
      "-0.25*Z1*Z2\n",
      "+1.33*I\n"
     ]
    }
   ],
   "source": [
    "I, X, Y, Z = quasar.Pauli.IXYZ()\n",
    "hamiltonian = quasar.Pauli()\n",
    "hamiltonian += 1.33 - (0.5 * Z[0] - 0.5 * Z[1] + 0.5 * Z[2] + 0.25 * Z[0] * Z[1] + 0.25 * Z[1] * Z[2])\n",
    "print(hamiltonian)"
   ]
  },
  {
   "cell_type": "code",
   "execution_count": 6,
   "metadata": {},
   "outputs": [],
   "source": [
    "# optimizer = quasar.PowellOptimizer.from_options()\n",
    "optimizer = quasar.BFGSOptimizer.from_options()"
   ]
  },
  {
   "cell_type": "code",
   "execution_count": 11,
   "metadata": {},
   "outputs": [
    {
     "name": "stdout",
     "output_type": "stream",
     "text": [
      "==> QAOA <==\n",
      "\n",
      "Backend     = Quasar Simulator Backend (Statevector)\n",
      "Shots       = None\n",
      "Shots Final = 1000\n",
      "\n",
      "Pauli Hamiltonian:\n",
      "-0.5*Z0\n",
      "+0.5*Z1\n",
      "-0.5*Z2\n",
      "-0.25*Z0*Z1\n",
      "-0.25*Z1*Z2\n",
      "+1.33*I\n",
      "\n",
      "Nreference = 1\n",
      "\n",
      "Reference Weights:\n",
      "\n",
      "State:      Weight\n",
      "0    :   1.000E+00\n",
      "\n",
      "Reference Circuit 0:\n",
      "\n",
      "T  : |0|\n",
      "        \n",
      "q0 : -H-\n",
      "        \n",
      "q1 : -H-\n",
      "        \n",
      "q2 : -H-\n",
      "\n",
      "T  : |0|\n",
      "\n",
      "Hamiltonian Circuit:\n",
      "\n",
      "T  : |0 |1|2 |3|4|5 |6|\n",
      "                       \n",
      "q0 : -Rz-@----@--------\n",
      "         |    |        \n",
      "q1 : -Rz-X-Rz-X-@----@-\n",
      "                |    | \n",
      "q2 : -Rz--------X-Rz-X-\n",
      "\n",
      "T  : |0 |1|2 |3|4|5 |6|\n",
      "\n",
      "Driver Circuit:\n",
      "\n",
      "T  : |0 |\n",
      "         \n",
      "q0 : -Rx-\n",
      "         \n",
      "q1 : -Rx-\n",
      "         \n",
      "q2 : -Rx-\n",
      "\n",
      "T  : |0 |\n",
      "\n",
      "Nlayer = 2\n",
      "\n",
      "Params guessed by user.\n",
      "\n",
      " > BFGS Optimizer <\n",
      "\n",
      "  maxiter       = 100\n",
      "  g_convergence = 1.000E-07\n",
      "\n",
      " > End BFGS Optimizer <\n",
      "\n",
      "|000> :   0.330000 1000\n",
      "\n",
      "==> End QAOA <==\n",
      "\n"
     ]
    }
   ],
   "source": [
    "qaoa_solver = qaoa.QAOA.build(\n",
    "    backend=quasar.QuasarSimulatorBackend(),\n",
    "    hamiltonian=hamiltonian,\n",
    "    nlayer=2,\n",
    "    optimizer=optimizer,\n",
    "    )\n",
    "qaoa_solver.run(guess_params=[0.1, 0.1, 0.1, 0.1])"
   ]
  },
  {
   "cell_type": "code",
   "execution_count": 12,
   "metadata": {},
   "outputs": [
    {
     "name": "stdout",
     "output_type": "stream",
     "text": [
      "|000> :   0.330000 1000\n",
      "\n"
     ]
    }
   ],
   "source": [
    "print(qaoa_solver.solutions[0])"
   ]
  },
  {
   "cell_type": "code",
   "execution_count": null,
   "metadata": {},
   "outputs": [],
   "source": []
  }
 ],
 "metadata": {
  "kernelspec": {
   "display_name": "Python 3",
   "language": "python",
   "name": "python3"
  },
  "language_info": {
   "codemirror_mode": {
    "name": "ipython",
    "version": 3
   },
   "file_extension": ".py",
   "mimetype": "text/x-python",
   "name": "python",
   "nbconvert_exporter": "python",
   "pygments_lexer": "ipython3",
   "version": "3.7.1"
  }
 },
 "nbformat": 4,
 "nbformat_minor": 2
}
