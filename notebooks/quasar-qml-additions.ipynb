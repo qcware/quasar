{
 "cells": [
  {
   "cell_type": "code",
   "execution_count": null,
   "metadata": {},
   "outputs": [],
   "source": [
    "import quasar"
   ]
  },
  {
   "cell_type": "code",
   "execution_count": null,
   "metadata": {},
   "outputs": [],
   "source": [
    "# gadget = quasar.Circuit().CX(0, 1)\n",
    "# gadget = quasar.Circuit().Ry(0, theta=0.1).CX(0, 1)\n",
    "gadget = quasar.Circuit().Ry(0, theta=0.1).Ry(1, theta=-0.1) \n",
    "print(gadget)\n",
    "print(gadget.gates)"
   ]
  },
  {
   "cell_type": "code",
   "execution_count": null,
   "metadata": {},
   "outputs": [],
   "source": [
    "tracker = quasar.IndexAllocator.build(2)\n",
    "ancilla0 = tracker.allocate()\n",
    "ancilla1 = tracker.allocate()\n",
    "print(ancilla0)\n",
    "print(ancilla1)"
   ]
  },
  {
   "cell_type": "code",
   "execution_count": null,
   "metadata": {},
   "outputs": [],
   "source": [
    "circuit = quasar.Circuit()\n",
    "circuit.add_controlled_gate(\n",
    "    gate=gadget,\n",
    "    controls=[False, True],\n",
    "    qubits=(ancilla0, ancilla1, 0, 1),\n",
    "    # qubits=(-2, -1, 0, 1)\n",
    "    # qubits=(2, 3, 0, 1)\n",
    "    )\n",
    "print(circuit)\n",
    "print(circuit.gates)"
   ]
  },
  {
   "cell_type": "code",
   "execution_count": null,
   "metadata": {},
   "outputs": [],
   "source": [
    "print(circuit.center())\n",
    "circuit = circuit.center()"
   ]
  },
  {
   "cell_type": "code",
   "execution_count": null,
   "metadata": {},
   "outputs": [],
   "source": [
    "print(circuit)"
   ]
  },
  {
   "cell_type": "code",
   "execution_count": null,
   "metadata": {},
   "outputs": [],
   "source": [
    "# Put the controls on top\n",
    "# circuit = circuit.slice(qubits=[0, 1, 2, 3], qubits_to=[2, 3, 0, 1])\n",
    "# print(circuit)"
   ]
  },
  {
   "cell_type": "code",
   "execution_count": null,
   "metadata": {},
   "outputs": [],
   "source": [
    "# Add two extra wires below qubit wire 0\n",
    "# circuit = circuit.slice(qubits=[0, 1, 2, 3], qubits_to=[0, 3, 4, 5])\n",
    "# print(circuit)"
   ]
  },
  {
   "cell_type": "code",
   "execution_count": null,
   "metadata": {},
   "outputs": [],
   "source": [
    "# print(circuit.slice(qubits=[-2,-1,0,1], qubits_to=[0, 2, 3, 4]))"
   ]
  },
  {
   "cell_type": "code",
   "execution_count": null,
   "metadata": {},
   "outputs": [],
   "source": [
    "circuit = circuit.join_in_time([circuit, circuit.adjoint()])\n",
    "print(circuit)"
   ]
  },
  {
   "cell_type": "code",
   "execution_count": null,
   "metadata": {},
   "outputs": [],
   "source": [
    "circuit = circuit.explode()\n",
    "print(circuit)"
   ]
  },
  {
   "cell_type": "code",
   "execution_count": null,
   "metadata": {},
   "outputs": [],
   "source": [
    "circuit = quasar.Transpiler.polarize_controls(circuit)\n",
    "print(circuit)"
   ]
  },
  {
   "cell_type": "code",
   "execution_count": null,
   "metadata": {},
   "outputs": [],
   "source": [
    "print(circuit.parameter_str)"
   ]
  },
  {
   "cell_type": "code",
   "execution_count": null,
   "metadata": {},
   "outputs": [],
   "source": [
    "tracker.deallocate(ancilla0)\n",
    "tracker.deallocate(ancilla1)\n",
    "print(tracker.next_index)"
   ]
  },
  {
   "cell_type": "markdown",
   "metadata": {},
   "source": [
    "## Other Stuff"
   ]
  },
  {
   "cell_type": "code",
   "execution_count": null,
   "metadata": {},
   "outputs": [],
   "source": [
    "circuit = quasar.Circuit()\n",
    "circuit.add_gate(quasar.Gate.Z.adjoint(), 0)\n",
    "circuit.add_gate(quasar.Gate.S.adjoint(), 0)\n",
    "circuit.add_gate(quasar.Gate.T.adjoint().adjoint(), 0)\n",
    "circuit.add_gate(quasar.Gate.Ry(theta=0.2).adjoint(), 0)\n",
    "print(circuit)\n",
    "print(circuit.parameter_str)"
   ]
  },
  {
   "cell_type": "code",
   "execution_count": null,
   "metadata": {},
   "outputs": [],
   "source": []
  }
 ],
 "metadata": {
  "kernelspec": {
   "display_name": "Python 3",
   "language": "python",
   "name": "python3"
  },
  "language_info": {
   "codemirror_mode": {
    "name": "ipython",
    "version": 3
   },
   "file_extension": ".py",
   "mimetype": "text/x-python",
   "name": "python",
   "nbconvert_exporter": "python",
   "pygments_lexer": "ipython3",
   "version": "3.7.1"
  }
 },
 "nbformat": 4,
 "nbformat_minor": 2
}
