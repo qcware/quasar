{
 "cells": [
  {
   "cell_type": "code",
   "execution_count": 1,
   "metadata": {},
   "outputs": [],
   "source": [
    "import quasar"
   ]
  },
  {
   "cell_type": "code",
   "execution_count": 16,
   "metadata": {},
   "outputs": [
    {
     "name": "stdout",
     "output_type": "stream",
     "text": [
      "T  : |0 |\n",
      "         \n",
      "q0 : -Ry-\n",
      "         \n",
      "q1 : -Ry-\n",
      "\n",
      "T  : |0 |\n",
      "SortedDict({((0,), (0,)): <quasar.circuit.Gate object at 0x11743ab70>, ((0,), (1,)): <quasar.circuit.Gate object at 0x11743a390>})\n"
     ]
    }
   ],
   "source": [
    "# gadget = quasar.Circuit().CX(0, 1)\n",
    "# gadget = quasar.Circuit().Ry(0, theta=0.1).CX(0, 1)\n",
    "gadget = quasar.Circuit().Ry(0, theta=0.1).Ry(1, theta=-0.1) \n",
    "print(gadget)\n",
    "print(gadget.gates)"
   ]
  },
  {
   "cell_type": "code",
   "execution_count": 17,
   "metadata": {},
   "outputs": [
    {
     "name": "stdout",
     "output_type": "stream",
     "text": [
      "2\n",
      "3\n"
     ]
    }
   ],
   "source": [
    "tracker = quasar.IndexAllocator.build(2)\n",
    "ancilla0 = tracker.allocate()\n",
    "ancilla1 = tracker.allocate()\n",
    "print(ancilla0)\n",
    "print(ancilla1)"
   ]
  },
  {
   "cell_type": "code",
   "execution_count": 18,
   "metadata": {},
   "outputs": [
    {
     "name": "stdout",
     "output_type": "stream",
     "text": [
      "T  : |0 |\n",
      "         \n",
      "q0 : -CG-\n",
      "      |  \n",
      "q1 : -CG-\n",
      "      |  \n",
      "q2 : -O--\n",
      "      |  \n",
      "q3 : -@--\n",
      "\n",
      "T  : |0 |\n",
      "SortedDict({((0,), (2, 3, 0, 1)): <quasar.circuit.ControlledGate object at 0x117453048>})\n"
     ]
    }
   ],
   "source": [
    "circuit = quasar.Circuit()\n",
    "circuit.add_controlled_gate(\n",
    "    gate=gadget,\n",
    "    controls=[False, True],\n",
    "    qubits=(ancilla0, ancilla1, 0, 1),\n",
    "    # qubits=(-2, -1, 0, 1)\n",
    "    # qubits=(2, 3, 0, 1)\n",
    "    )\n",
    "print(circuit)\n",
    "print(circuit.gates)"
   ]
  },
  {
   "cell_type": "code",
   "execution_count": 19,
   "metadata": {},
   "outputs": [
    {
     "name": "stdout",
     "output_type": "stream",
     "text": [
      "T  : |0 |\n",
      "         \n",
      "q0 : -CG-\n",
      "      |  \n",
      "q1 : -CG-\n",
      "      |  \n",
      "q2 : -O--\n",
      "      |  \n",
      "q3 : -@--\n",
      "\n",
      "T  : |0 |\n"
     ]
    }
   ],
   "source": [
    "print(circuit.center())\n",
    "circuit = circuit.center()"
   ]
  },
  {
   "cell_type": "code",
   "execution_count": 20,
   "metadata": {},
   "outputs": [
    {
     "name": "stdout",
     "output_type": "stream",
     "text": [
      "T  : |0 |\n",
      "         \n",
      "q0 : -CG-\n",
      "      |  \n",
      "q1 : -CG-\n",
      "      |  \n",
      "q2 : -O--\n",
      "      |  \n",
      "q3 : -@--\n",
      "\n",
      "T  : |0 |\n"
     ]
    }
   ],
   "source": [
    "print(circuit)"
   ]
  },
  {
   "cell_type": "code",
   "execution_count": 21,
   "metadata": {},
   "outputs": [],
   "source": [
    "# Put the controls on top\n",
    "# circuit = circuit.slice(qubits=[0, 1, 2, 3], qubits_to=[2, 3, 0, 1])\n",
    "# print(circuit)"
   ]
  },
  {
   "cell_type": "code",
   "execution_count": 22,
   "metadata": {},
   "outputs": [],
   "source": [
    "# Add two extra wires below qubit wire 0\n",
    "# circuit = circuit.slice(qubits=[0, 1, 2, 3], qubits_to=[0, 3, 4, 5])\n",
    "# print(circuit)"
   ]
  },
  {
   "cell_type": "code",
   "execution_count": 23,
   "metadata": {},
   "outputs": [],
   "source": [
    "# print(circuit.slice(qubits=[-2,-1,0,1], qubits_to=[0, 2, 3, 4]))"
   ]
  },
  {
   "cell_type": "code",
   "execution_count": 24,
   "metadata": {},
   "outputs": [
    {
     "name": "stdout",
     "output_type": "stream",
     "text": [
      "T  : |0 |1   |\n",
      "              \n",
      "q0 : -CG-CG^+-\n",
      "      |  |    \n",
      "q1 : -CG-CG^+-\n",
      "      |  |    \n",
      "q2 : -O--O----\n",
      "      |  |    \n",
      "q3 : -@--@----\n",
      "\n",
      "T  : |0 |1   |\n"
     ]
    }
   ],
   "source": [
    "circuit = circuit.join_in_time([circuit, circuit.dagger()])\n",
    "print(circuit)"
   ]
  },
  {
   "cell_type": "code",
   "execution_count": 25,
   "metadata": {},
   "outputs": [
    {
     "name": "stdout",
     "output_type": "stream",
     "text": [
      "T  : |0 |1 |2 |3 |\n",
      "                  \n",
      "q0 : -Ry----Ry----\n",
      "      |     |     \n",
      "q1 : -|--Ry-|--Ry-\n",
      "      |  |  |  |  \n",
      "q2 : -O--O--O--O--\n",
      "      |  |  |  |  \n",
      "q3 : -@--@--@--@--\n",
      "\n",
      "T  : |0 |1 |2 |3 |\n"
     ]
    }
   ],
   "source": [
    "circuit = circuit.explode()\n",
    "print(circuit)"
   ]
  },
  {
   "cell_type": "code",
   "execution_count": 26,
   "metadata": {},
   "outputs": [
    {
     "name": "stdout",
     "output_type": "stream",
     "text": [
      "T  : |0|1 |2|3|4 |5|6|7 |8|9|10|11|\n",
      "                                   \n",
      "q0 : ---Ry------------Ry-----------\n",
      "        |             |            \n",
      "q1 : ---|------Ry-----|------Ry----\n",
      "        |      |      |      |     \n",
      "q2 : -X-@--X-X-@--X-X-@--X-X-@--X--\n",
      "        |      |      |      |     \n",
      "q3 : ---@------@------@------@-----\n",
      "\n",
      "T  : |0|1 |2|3|4 |5|6|7 |8|9|10|11|\n"
     ]
    }
   ],
   "source": [
    "circuit = quasar.Transpiler.polarize_controls(circuit)\n",
    "print(circuit)"
   ]
  },
  {
   "cell_type": "code",
   "execution_count": 27,
   "metadata": {},
   "outputs": [
    {
     "name": "stdout",
     "output_type": "stream",
     "text": [
      "Index Time       Qubits     Name       Gate      :     Value\n",
      "0     (1,)       (2, 3, 0)  theta      ccRy      :  0.100000\n",
      "1     (4,)       (2, 3, 1)  theta      ccRy      : -0.100000\n",
      "2     (7,)       (2, 3, 0)  theta      ccRy      : -0.100000\n",
      "3     (10,)      (2, 3, 1)  theta      ccRy      :  0.100000\n",
      "\n"
     ]
    }
   ],
   "source": [
    "print(circuit.parameter_str)"
   ]
  },
  {
   "cell_type": "code",
   "execution_count": 28,
   "metadata": {},
   "outputs": [
    {
     "name": "stdout",
     "output_type": "stream",
     "text": [
      "2\n"
     ]
    }
   ],
   "source": [
    "tracker.deallocate(ancilla0)\n",
    "tracker.deallocate(ancilla1)\n",
    "print(tracker.next_index)"
   ]
  },
  {
   "cell_type": "markdown",
   "metadata": {},
   "source": [
    "## Other Stuff"
   ]
  },
  {
   "cell_type": "code",
   "execution_count": 29,
   "metadata": {},
   "outputs": [
    {
     "name": "stdout",
     "output_type": "stream",
     "text": [
      "T  : |0|1  |2|3 |\n",
      "                 \n",
      "q0 : -Z-S^+-T-Ry-\n",
      "\n",
      "T  : |0|1  |2|3 |\n",
      "Index Time       Qubits     Name       Gate      :     Value\n",
      "0     (3,)       (0,)       theta      Ry        : -0.200000\n",
      "\n"
     ]
    }
   ],
   "source": [
    "circuit = quasar.Circuit()\n",
    "circuit.add_gate(quasar.Gate.Z.dagger(), 0)\n",
    "circuit.add_gate(quasar.Gate.S.dagger(), 0)\n",
    "circuit.add_gate(quasar.Gate.T.dagger().dagger(), 0)\n",
    "circuit.add_gate(quasar.Gate.Ry(theta=0.2).dagger(), 0)\n",
    "print(circuit)\n",
    "print(circuit.parameter_str)"
   ]
  },
  {
   "cell_type": "code",
   "execution_count": null,
   "metadata": {},
   "outputs": [],
   "source": []
  }
 ],
 "metadata": {
  "kernelspec": {
   "display_name": "Python 3",
   "language": "python",
   "name": "python3"
  },
  "language_info": {
   "codemirror_mode": {
    "name": "ipython",
    "version": 3
   },
   "file_extension": ".py",
   "mimetype": "text/x-python",
   "name": "python",
   "nbconvert_exporter": "python",
   "pygments_lexer": "ipython3",
   "version": "3.7.1"
  }
 },
 "nbformat": 4,
 "nbformat_minor": 2
}
