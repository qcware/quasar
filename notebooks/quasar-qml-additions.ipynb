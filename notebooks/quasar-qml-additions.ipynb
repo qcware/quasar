{
 "cells": [
  {
   "cell_type": "code",
   "execution_count": 1,
   "metadata": {},
   "outputs": [],
   "source": [
    "import quasar"
   ]
  },
  {
   "cell_type": "code",
   "execution_count": 2,
   "metadata": {},
   "outputs": [
    {
     "name": "stdout",
     "output_type": "stream",
     "text": [
      "T  : |0 |1|\n",
      "\n",
      "q0 : -Ry-@-\n",
      "         | \n",
      "q1 : ----X-\n",
      "           \n",
      "T  : |0 |1|\n",
      "\n",
      "SortedDict({((0,), (0,)): <quasar.circuit.Gate object at 0x11a6aad30>, ((1,), (0, 1)): <quasar.circuit.Gate object at 0x11a6aacf8>})\n"
     ]
    }
   ],
   "source": [
    "# gadget = quasar.Circuit().CX(0, 1)\n",
    "gadget = quasar.Circuit().Ry(0, theta=0.1).CX(0, 1)\n",
    "# gadget = quasar.Circuit().Ry(0, theta=0.1).Ry(1, theta=-0.1) \n",
    "print(gadget)\n",
    "print(gadget.gates)"
   ]
  },
  {
   "cell_type": "code",
   "execution_count": 3,
   "metadata": {},
   "outputs": [
    {
     "name": "stdout",
     "output_type": "stream",
     "text": [
      "2\n",
      "3\n"
     ]
    }
   ],
   "source": [
    "tracker = quasar.IndexAllocator.build(2)\n",
    "ancilla0 = tracker.allocate()\n",
    "ancilla1 = tracker.allocate()\n",
    "print(ancilla0)\n",
    "print(ancilla1)"
   ]
  },
  {
   "cell_type": "code",
   "execution_count": 4,
   "metadata": {},
   "outputs": [
    {
     "name": "stdout",
     "output_type": "stream",
     "text": [
      "T  : |0 |1 |\n",
      "\n",
      "q0 : -CG=CG-\n",
      "      |  |  \n",
      "q1 : -CG=CG-\n",
      "      |  |  \n",
      "q2 : -O==O--\n",
      "      |  |  \n",
      "q3 : -@==@--\n",
      "            \n",
      "T  : |0 |1 |\n",
      "\n",
      "SortedDict({((0, 1), (2, 3, 0, 1)): <quasar.circuit.ControlledGate object at 0x11a6c55f8>})\n"
     ]
    }
   ],
   "source": [
    "circuit = quasar.Circuit()\n",
    "circuit.add_controlled_gate(\n",
    "    gate=gadget,\n",
    "    controls=[False, True],\n",
    "    qubits=(ancilla0, ancilla1, 0, 1),\n",
    "    # qubits=(-2, -1, 0, 1)\n",
    "    # qubits=(2, 3, 0, 1)\n",
    "    )\n",
    "print(circuit)\n",
    "print(circuit.gates)"
   ]
  },
  {
   "cell_type": "code",
   "execution_count": 5,
   "metadata": {},
   "outputs": [
    {
     "name": "stdout",
     "output_type": "stream",
     "text": [
      "T  : |0 |1 |\n",
      "\n",
      "q0 : -CG=CG-\n",
      "      |  |  \n",
      "q1 : -CG=CG-\n",
      "      |  |  \n",
      "q2 : -O==O--\n",
      "      |  |  \n",
      "q3 : -@==@--\n",
      "            \n",
      "T  : |0 |1 |\n",
      "\n"
     ]
    }
   ],
   "source": [
    "print(circuit.center())\n",
    "circuit = circuit.center()"
   ]
  },
  {
   "cell_type": "code",
   "execution_count": 6,
   "metadata": {},
   "outputs": [
    {
     "name": "stdout",
     "output_type": "stream",
     "text": [
      "T  : |0 |1 |\n",
      "\n",
      "q0 : -CG=CG-\n",
      "      |  |  \n",
      "q1 : -CG=CG-\n",
      "      |  |  \n",
      "q2 : -O==O--\n",
      "      |  |  \n",
      "q3 : -@==@--\n",
      "            \n",
      "T  : |0 |1 |\n",
      "\n"
     ]
    }
   ],
   "source": [
    "print(circuit)"
   ]
  },
  {
   "cell_type": "code",
   "execution_count": 7,
   "metadata": {},
   "outputs": [],
   "source": [
    "# Put the controls on top\n",
    "# circuit = circuit.slice(qubits=[0, 1, 2, 3], qubits_to=[2, 3, 0, 1])\n",
    "# print(circuit)"
   ]
  },
  {
   "cell_type": "code",
   "execution_count": 8,
   "metadata": {},
   "outputs": [],
   "source": [
    "# Add two extra wires below qubit wire 0\n",
    "# circuit = circuit.slice(qubits=[0, 1, 2, 3], qubits_to=[0, 3, 4, 5])\n",
    "# print(circuit)"
   ]
  },
  {
   "cell_type": "code",
   "execution_count": 9,
   "metadata": {},
   "outputs": [],
   "source": [
    "# print(circuit.slice(qubits=[-2,-1,0,1], qubits_to=[0, 2, 3, 4]))"
   ]
  },
  {
   "cell_type": "code",
   "execution_count": 10,
   "metadata": {},
   "outputs": [
    {
     "name": "stdout",
     "output_type": "stream",
     "text": [
      "T  : |0 |1 |2   |3   |\n",
      "\n",
      "q0 : -CG=CG-CG^+=CG^+-\n",
      "      |  |  |    |    \n",
      "q1 : -CG=CG-CG^+=CG^+-\n",
      "      |  |  |    |    \n",
      "q2 : -O==O--O====O----\n",
      "      |  |  |    |    \n",
      "q3 : -@==@--@====@----\n",
      "                      \n",
      "T  : |0 |1 |2   |3   |\n",
      "\n"
     ]
    }
   ],
   "source": [
    "circuit = circuit.join_in_time([circuit, circuit.adjoint()])\n",
    "print(circuit)"
   ]
  },
  {
   "cell_type": "code",
   "execution_count": 11,
   "metadata": {},
   "outputs": [
    {
     "name": "stdout",
     "output_type": "stream",
     "text": [
      "T  : |0 |1|2|3 |\n",
      "\n",
      "q0 : -Ry-@-@-Ry-\n",
      "      |  | | |  \n",
      "q1 : -|--X-X-|--\n",
      "      |  | | |  \n",
      "q2 : -O--O-O-O--\n",
      "      |  | | |  \n",
      "q3 : -@--@-@-@--\n",
      "                \n",
      "T  : |0 |1|2|3 |\n",
      "\n"
     ]
    }
   ],
   "source": [
    "circuit = circuit.explode()\n",
    "print(circuit)"
   ]
  },
  {
   "cell_type": "code",
   "execution_count": 12,
   "metadata": {},
   "outputs": [
    {
     "name": "stdout",
     "output_type": "stream",
     "text": [
      "T  : |0|1 |2|3|4|5|6|7|8|9|10|11|\n",
      "\n",
      "q0 : ---Ry-----@-----@-----Ry----\n",
      "        |      |     |     |     \n",
      "q1 : ---|------X-----X-----|-----\n",
      "        |      |     |     |     \n",
      "q2 : -X-@--X-X-@-X-X-@-X-X-@--X--\n",
      "        |      |     |     |     \n",
      "q3 : ---@------@-----@-----@-----\n",
      "                                 \n",
      "T  : |0|1 |2|3|4|5|6|7|8|9|10|11|\n",
      "\n"
     ]
    }
   ],
   "source": [
    "circuit = quasar.Transpiler.polarize_controls(circuit)\n",
    "print(circuit)"
   ]
  },
  {
   "cell_type": "code",
   "execution_count": 13,
   "metadata": {},
   "outputs": [
    {
     "name": "stdout",
     "output_type": "stream",
     "text": [
      "Index Time       Qubits     Name       Gate      :     Value\n",
      "0     (1,)       (2, 3, 0)  theta      ccRy      :  0.100000\n",
      "1     (10,)      (2, 3, 0)  theta      ccRy      : -0.100000\n",
      "\n"
     ]
    }
   ],
   "source": [
    "print(circuit.parameter_str)"
   ]
  },
  {
   "cell_type": "code",
   "execution_count": 14,
   "metadata": {},
   "outputs": [
    {
     "name": "stdout",
     "output_type": "stream",
     "text": [
      "2\n"
     ]
    }
   ],
   "source": [
    "tracker.deallocate(ancilla0)\n",
    "tracker.deallocate(ancilla1)\n",
    "print(tracker.next_index)"
   ]
  },
  {
   "cell_type": "markdown",
   "metadata": {},
   "source": [
    "## Other Stuff"
   ]
  },
  {
   "cell_type": "code",
   "execution_count": 15,
   "metadata": {},
   "outputs": [
    {
     "name": "stdout",
     "output_type": "stream",
     "text": [
      "T  : |0|1  |2|3 |\n",
      "\n",
      "q0 : -Z-S^+-T-Ry-\n",
      "                 \n",
      "T  : |0|1  |2|3 |\n",
      "\n",
      "Index Time       Qubits     Name       Gate      :     Value\n",
      "0     (3,)       (0,)       theta      Ry        : -0.200000\n",
      "\n"
     ]
    }
   ],
   "source": [
    "circuit = quasar.Circuit()\n",
    "circuit.add_gate(quasar.Gate.Z.adjoint(), 0)\n",
    "circuit.add_gate(quasar.Gate.S.adjoint(), 0)\n",
    "circuit.add_gate(quasar.Gate.T.adjoint().adjoint(), 0)\n",
    "circuit.add_gate(quasar.Gate.Ry(theta=0.2).adjoint(), 0)\n",
    "print(circuit)\n",
    "print(circuit.parameter_str)"
   ]
  },
  {
   "cell_type": "code",
   "execution_count": null,
   "metadata": {},
   "outputs": [],
   "source": []
  }
 ],
 "metadata": {
  "kernelspec": {
   "display_name": "Python 3",
   "language": "python",
   "name": "python3"
  },
  "language_info": {
   "codemirror_mode": {
    "name": "ipython",
    "version": 3
   },
   "file_extension": ".py",
   "mimetype": "text/x-python",
   "name": "python",
   "nbconvert_exporter": "python",
   "pygments_lexer": "ipython3",
   "version": "3.7.1"
  }
 },
 "nbformat": 4,
 "nbformat_minor": 2
}
