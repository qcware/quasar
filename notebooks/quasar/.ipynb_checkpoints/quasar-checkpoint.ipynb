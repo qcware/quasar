{
 "cells": [
  {
   "cell_type": "markdown",
   "metadata": {},
   "source": [
    "Import the quasar library stack:"
   ]
  },
  {
   "cell_type": "code",
   "execution_count": 1,
   "metadata": {},
   "outputs": [],
   "source": [
    "import quasar"
   ]
  },
  {
   "cell_type": "markdown",
   "metadata": {},
   "source": [
    "Build a quasar circuit (N=2 GHZ state). See quasar docs for full current implementation:"
   ]
  },
  {
   "cell_type": "code",
   "execution_count": 2,
   "metadata": {},
   "outputs": [
    {
     "name": "stdout",
     "output_type": "stream",
     "text": [
      "T   : |0|1|\n",
      "           \n",
      "|0> : -H-@-\n",
      "         | \n",
      "|1> : ---X-\n",
      "\n",
      "T   : |0|1|\n"
     ]
    }
   ],
   "source": [
    "circuit = quasar.Circuit(N=2)\n",
    "circuit.add_gate(T=0, key=0, gate=quasar.Gate.H)\n",
    "circuit.add_gate(T=1, key=(0,1), gate=quasar.Gate.CX)\n",
    "print(circuit)"
   ]
  },
  {
   "cell_type": "markdown",
   "metadata": {},
   "source": [
    "Spin up a Qiskit statevector simulator backend and have a look at its properties:"
   ]
  },
  {
   "cell_type": "code",
   "execution_count": 10,
   "metadata": {},
   "outputs": [
    {
     "name": "stdout",
     "output_type": "stream",
     "text": [
      "Qiskit Simulator Backend (Basic Aer Statevector)\n",
      "True\n",
      "True\n"
     ]
    }
   ],
   "source": [
    "backend = quasar.QiskitSimulatorBackend()\n",
    "print(backend)\n",
    "print(backend.has_statevector)\n",
    "print(backend.has_measurement)"
   ]
  },
  {
   "cell_type": "markdown",
   "metadata": {},
   "source": [
    "Ask the backend for the Qiskit native object representation of the circuit:"
   ]
  },
  {
   "cell_type": "code",
   "execution_count": 4,
   "metadata": {},
   "outputs": [
    {
     "name": "stdout",
     "output_type": "stream",
     "text": [
      "         ┌───┐     \n",
      "q0_0: |0>┤ H ├──■──\n",
      "         └───┘┌─┴─┐\n",
      "q0_1: |0>─────┤ X ├\n",
      "              └───┘\n"
     ]
    }
   ],
   "source": [
    "qiskit_circuit = backend.native_circuit(circuit)\n",
    "print(qiskit_circuit)"
   ]
  },
  {
   "cell_type": "markdown",
   "metadata": {},
   "source": [
    "Ask Qiskit to simulate the statevector (always comes back in Quasar order, regardless of backend):"
   ]
  },
  {
   "cell_type": "code",
   "execution_count": 11,
   "metadata": {},
   "outputs": [
    {
     "name": "stdout",
     "output_type": "stream",
     "text": [
      "[0.70710678+0.j 0.        +0.j 0.        +0.j 0.70710678+0.j]\n"
     ]
    }
   ],
   "source": [
    "wfn = backend.run_statevector(circuit)\n",
    "print(wfn)"
   ]
  },
  {
   "cell_type": "markdown",
   "metadata": {},
   "source": []
  },
  {
   "cell_type": "code",
   "execution_count": 6,
   "metadata": {},
   "outputs": [
    {
     "name": "stdout",
     "output_type": "stream",
     "text": [
      "{0: 506, 3: 494}\n"
     ]
    }
   ],
   "source": [
    "measurement = backend.run_measurement(circuit, nmeasurement=1000)\n",
    "print(measurement)"
   ]
  },
  {
   "cell_type": "code",
   "execution_count": 7,
   "metadata": {},
   "outputs": [
    {
     "name": "stdout",
     "output_type": "stream",
     "text": [
      "Pauli:\n",
      "  N          = 2\n",
      "  nterm      = 3\n",
      "  max_order  = 2\n",
      "\n",
      "0.0*Z0\n",
      "0.0*Z1\n",
      "0.0*Z0*Z1\n"
     ]
    }
   ],
   "source": [
    "pauli = quasar.Pauli(strings=tuple([\n",
    "    quasar.PauliString.from_string('Z0'),\n",
    "    quasar.PauliString.from_string('Z1'),\n",
    "    quasar.PauliString.from_string('Z0*Z1'),\n",
    "    ]))\n",
    "print(pauli)\n",
    "print(pauli.content_str)"
   ]
  },
  {
   "cell_type": "code",
   "execution_count": 8,
   "metadata": {},
   "outputs": [
    {
     "name": "stdout",
     "output_type": "stream",
     "text": [
      "2.220446049250313e-16*Z0\n",
      "2.220446049250313e-16*Z1\n",
      "1.0*Z0*Z1\n"
     ]
    }
   ],
   "source": [
    "pauli_expectation = backend.compute_pauli_dm(circuit, pauli, nmeasurement=None)\n",
    "print(pauli_expectation.content_str)"
   ]
  },
  {
   "cell_type": "code",
   "execution_count": 9,
   "metadata": {},
   "outputs": [
    {
     "name": "stdout",
     "output_type": "stream",
     "text": [
      "-0.01*Z0\n",
      "-0.01*Z1\n",
      "1.0*Z0*Z1\n"
     ]
    }
   ],
   "source": [
    "pauli_expectation = backend.compute_pauli_dm(circuit, pauli, nmeasurement=1000)\n",
    "print(pauli_expectation.content_str)"
   ]
  }
 ],
 "metadata": {
  "kernelspec": {
   "display_name": "Python 3",
   "language": "python",
   "name": "python3"
  },
  "language_info": {
   "codemirror_mode": {
    "name": "ipython",
    "version": 3
   },
   "file_extension": ".py",
   "mimetype": "text/x-python",
   "name": "python",
   "nbconvert_exporter": "python",
   "pygments_lexer": "ipython3",
   "version": "3.7.1"
  }
 },
 "nbformat": 4,
 "nbformat_minor": 2
}
