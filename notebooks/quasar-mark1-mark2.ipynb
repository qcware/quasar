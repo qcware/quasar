{
 "cells": [
  {
   "cell_type": "markdown",
   "metadata": {},
   "source": [
    "# Historical Note\n",
    "\n",
    "This notebook provides some possibly useful information on the changes to `quasar` between the `mark1` (current in 09/2019) and `mark2` (migrating in 10/2019) major versions.\n",
    "\n",
    "Changed `Gate` attributes:\n",
    " * `N` -> `nqubit`\n",
    " * `U` -> `operator`\n",
    " * `Ufun` -> `operator_function`\n",
    " * `params` -> `parameters`\n",
    "\n",
    "Added `Gate` attributes:\n",
    " * `ntime` for multi-time `Gate` objects (must have sequential time keys)\n",
    " * `adjoint` and related functions\n",
    " * `ControlledGate`\n",
    " * `CompositeGate`\n",
    " * `is_controlled`\n",
    " * `is_composite`\n",
    "\n",
    "Changed `Circuit` attributes:\n",
    " * `N` -> `nqubit`\n",
    " * Negative time and qubit indices permitted\n",
    " * Data structures (`gates`, `qubits`, `times`, `times_and_qubits`) now fully lexical (`SortedDict` or `SortedSet`).\n",
    " * `Ts` -> `times`\n",
    " * `TAs` -> `times_and_qubits`\n",
    " * `concatenate` -> `join_in_time`\n",
    " * `adjoin` -> `joint_in_qubits`\n",
    " * `subset` -> `slice` (with `times` argument active)\n",
    " * `deadjoin` -> `slice` (with `qubits` argument active)\n",
    " * `add_circuit` -> `add_gates`\n",
    " * `nonredundant` -> `sparse`\n",
    " * `params` -> `parameters`\n",
    " * `reversed` -> `reverse`\n",
    " \n",
    "Added `Circuit` attributes:\n",
    " * `add_controlled_gate`\n",
    " * `remove_gate`\n",
    " * `replace_gate`\n",
    " * Ability to cast `Circuit` to `CompositeGate` in `add_gate`\n",
    " * `is_controlled`\n",
    " * `is_composite`\n",
    " * `last_qubits/last_times`\n",
    " * `adjoint`\n",
    " * `center`"
   ]
  },
  {
   "cell_type": "code",
   "execution_count": null,
   "metadata": {},
   "outputs": [],
   "source": []
  },
  {
   "cell_type": "code",
   "execution_count": null,
   "metadata": {},
   "outputs": [],
   "source": []
  },
  {
   "cell_type": "code",
   "execution_count": null,
   "metadata": {},
   "outputs": [],
   "source": []
  }
 ],
 "metadata": {
  "kernelspec": {
   "display_name": "Python 3",
   "language": "python",
   "name": "python3"
  },
  "language_info": {
   "codemirror_mode": {
    "name": "ipython",
    "version": 3
   },
   "file_extension": ".py",
   "mimetype": "text/x-python",
   "name": "python",
   "nbconvert_exporter": "python",
   "pygments_lexer": "ipython3",
   "version": "3.7.1"
  }
 },
 "nbformat": 4,
 "nbformat_minor": 2
}
