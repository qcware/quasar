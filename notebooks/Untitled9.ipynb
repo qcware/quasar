{
 "cells": [
  {
   "cell_type": "code",
   "execution_count": 1,
   "metadata": {},
   "outputs": [],
   "source": [
    "import quasar"
   ]
  },
  {
   "cell_type": "code",
   "execution_count": 7,
   "metadata": {},
   "outputs": [
    {
     "name": "stdout",
     "output_type": "stream",
     "text": [
      "T  : |0 |1|2|\n",
      "             \n",
      "q0 : -Rx-@---\n",
      "         |   \n",
      "q1 : ----X-@-\n",
      "           | \n",
      "q2 : ------X-\n",
      "\n",
      "T  : |0 |1|2|\n"
     ]
    }
   ],
   "source": [
    "circuit = quasar.Circuit(3).Rx(0,theta=-0.3).CX(0,1).CX(1,2)\n",
    "print(circuit)"
   ]
  },
  {
   "cell_type": "code",
   "execution_count": 8,
   "metadata": {},
   "outputs": [
    {
     "name": "stdout",
     "output_type": "stream",
     "text": [
      "[0.95533649+0.j         0.        +0.j         0.        +0.j\n",
      " 0.        +0.j         0.        +0.j         0.        +0.j\n",
      " 0.        +0.j         0.        +0.29552021j]\n"
     ]
    }
   ],
   "source": [
    "print(circuit.simulate())"
   ]
  },
  {
   "cell_type": "code",
   "execution_count": 9,
   "metadata": {},
   "outputs": [
    {
     "name": "stdout",
     "output_type": "stream",
     "text": [
      "+(+0.955336+0.000000j)|000>\n",
      "+(+0.000000+0.295520j)|111>\n"
     ]
    }
   ],
   "source": [
    "print(quasar.format_statevector(circuit.simulate(), real=False, cutoff=0.0001))"
   ]
  },
  {
   "cell_type": "code",
   "execution_count": 11,
   "metadata": {},
   "outputs": [
    {
     "name": "stdout",
     "output_type": "stream",
     "text": [
      "+0.955336|000>\n",
      "+0.295520|001>\n"
     ]
    }
   ],
   "source": [
    "circuit = quasar.Circuit(3).Ry(2, theta=0.3)\n",
    "print(quasar.format_statevector(circuit.simulate(), real=True))"
   ]
  },
  {
   "cell_type": "code",
   "execution_count": null,
   "metadata": {},
   "outputs": [],
   "source": []
  },
  {
   "cell_type": "code",
   "execution_count": null,
   "metadata": {},
   "outputs": [],
   "source": []
  }
 ],
 "metadata": {
  "kernelspec": {
   "display_name": "Python 3",
   "language": "python",
   "name": "python3"
  },
  "language_info": {
   "codemirror_mode": {
    "name": "ipython",
    "version": 3
   },
   "file_extension": ".py",
   "mimetype": "text/x-python",
   "name": "python",
   "nbconvert_exporter": "python",
   "pygments_lexer": "ipython3",
   "version": "3.7.1"
  }
 },
 "nbformat": 4,
 "nbformat_minor": 2
}
