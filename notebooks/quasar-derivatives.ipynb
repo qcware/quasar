{
 "cells": [
  {
   "cell_type": "code",
   "execution_count": 1,
   "metadata": {},
   "outputs": [],
   "source": [
    "import quasar"
   ]
  },
  {
   "cell_type": "code",
   "execution_count": 2,
   "metadata": {},
   "outputs": [],
   "source": [
    "backend = quasar.QuasarSimulatorBackend()\n",
    "nmeasurement = 10000"
   ]
  },
  {
   "cell_type": "code",
   "execution_count": 3,
   "metadata": {},
   "outputs": [
    {
     "name": "stdout",
     "output_type": "stream",
     "text": [
      "T   : |0 |1|2 |3|\n",
      "                 \n",
      "|0> : -Ry-@----X-\n",
      "          |    | \n",
      "|1> : -Ry-Z-Ry-@-\n",
      "\n",
      "T   : |0 |1|2 |3|\n"
     ]
    }
   ],
   "source": [
    "circuit = quasar.Circuit(N=2).Ry(0,theta=0.1).Ry(1, theta=-0.2).CZ(0,1).Ry(1, theta=+0.2).CX(1,0)\n",
    "print(circuit)"
   ]
  },
  {
   "cell_type": "code",
   "execution_count": 4,
   "metadata": {},
   "outputs": [
    {
     "name": "stdout",
     "output_type": "stream",
     "text": [
      "+1.0*I\n",
      "+1.0*Z0\n",
      "+2.0*Z1\n",
      "+3.0*Z0*Z1\n"
     ]
    }
   ],
   "source": [
    "I, X, Y, Z = quasar.Pauli.IXYZ()\n",
    "pauli = I + Z[0] + 2.0 * Z[1] + 3.0 * Z[0] * Z[1]\n",
    "print(pauli)"
   ]
  },
  {
   "cell_type": "markdown",
   "metadata": {},
   "source": [
    "## Derivatives"
   ]
  },
  {
   "cell_type": "code",
   "execution_count": 5,
   "metadata": {},
   "outputs": [
    {
     "name": "stdout",
     "output_type": "stream",
     "text": [
      "6.9277999999999995\n"
     ]
    }
   ],
   "source": [
    "value = quasar.run_observable_expectation_value(\n",
    "    backend, circuit, pauli, nmeasurement=nmeasurement)\n",
    "print(value)"
   ]
  },
  {
   "cell_type": "code",
   "execution_count": 6,
   "metadata": {},
   "outputs": [
    {
     "name": "stdout",
     "output_type": "stream",
     "text": [
      "[-1.531   0.0952 -0.0396]\n"
     ]
    }
   ],
   "source": [
    "gradient = quasar.run_observable_expectation_value_gradient(\n",
    "        backend, circuit, pauli, nmeasurement=nmeasurement)\n",
    "print(gradient)"
   ]
  },
  {
   "cell_type": "code",
   "execution_count": 7,
   "metadata": {},
   "outputs": [
    {
     "name": "stdout",
     "output_type": "stream",
     "text": [
      "[ 0.0166 -0.0076]\n"
     ]
    }
   ],
   "source": [
    "gradient = quasar.run_observable_expectation_value_gradient(\n",
    "        backend, circuit, pauli, param_indices=[1,2], nmeasurement=nmeasurement)\n",
    "print(gradient)"
   ]
  },
  {
   "cell_type": "code",
   "execution_count": 8,
   "metadata": {},
   "outputs": [
    {
     "name": "stdout",
     "output_type": "stream",
     "text": [
      "[[-16.2878   0.27    -0.3394]\n",
      " [  0.27   -11.9224 -11.857 ]\n",
      " [ -0.3394 -11.857  -11.9068]]\n"
     ]
    }
   ],
   "source": [
    "hessian = quasar.run_observable_expectation_value_hessian(\n",
    "        backend, circuit, pauli, nmeasurement=nmeasurement)\n",
    "print(hessian)"
   ]
  },
  {
   "cell_type": "code",
   "execution_count": 9,
   "metadata": {},
   "outputs": [
    {
     "name": "stdout",
     "output_type": "stream",
     "text": [
      "[[  0.3768 -11.9126]\n",
      " [ -0.288  -11.873 ]]\n"
     ]
    }
   ],
   "source": [
    "hessian = quasar.run_observable_expectation_value_hessian(\n",
    "        backend, circuit, pauli, param_indices1=[1,2], param_indices2=[0,1], nmeasurement=nmeasurement)\n",
    "print(hessian)"
   ]
  },
  {
   "cell_type": "code",
   "execution_count": 10,
   "metadata": {},
   "outputs": [
    {
     "name": "stdout",
     "output_type": "stream",
     "text": [
      "[  0.253    0.253  -11.9222]\n"
     ]
    }
   ],
   "source": [
    "hessian2 = quasar.run_observable_expectation_value_hessian_selected(\n",
    "    backend, circuit, pauli, param_index_pairs=[(0,1), (1,0), (1,1)], nmeasurement=nmeasurement)\n",
    "print(hessian2)"
   ]
  },
  {
   "cell_type": "code",
   "execution_count": 11,
   "metadata": {},
   "outputs": [
    {
     "name": "stdout",
     "output_type": "stream",
     "text": [
      "+0.0*I\n",
      "+0.0798*Z0\n",
      "+0.059199999999999996*Z1\n",
      "-0.0013999999999998458*Z0*Z1\n"
     ]
    }
   ],
   "source": [
    "pauli_expectation = quasar.run_observable_expectation_value_gradient_pauli_contraction(\n",
    "    backend, circuit, pauli, param_indices=[1,2], param_coefs=[1.0, 2.0], nmeasurement=nmeasurement)\n",
    "print(pauli_expectation)"
   ]
  },
  {
   "cell_type": "code",
   "execution_count": null,
   "metadata": {},
   "outputs": [],
   "source": []
  },
  {
   "cell_type": "markdown",
   "metadata": {},
   "source": [
    "## Tomography"
   ]
  },
  {
   "cell_type": "code",
   "execution_count": 12,
   "metadata": {},
   "outputs": [],
   "source": [
    "tomography = quasar.run_observable_expectation_value_tomography(\n",
    "    backend, circuit, pauli, param_indices=[0,1], nmeasurement=nmeasurement)"
   ]
  },
  {
   "cell_type": "code",
   "execution_count": 13,
   "metadata": {},
   "outputs": [
    {
     "name": "stdout",
     "output_type": "stream",
     "text": [
      "[[[-1.04719755 -1.04719755 -1.04719755]\n",
      "  [ 0.          0.          0.        ]\n",
      "  [ 1.04719755  1.04719755  1.04719755]]\n",
      "\n",
      " [[-1.04719755  0.          1.04719755]\n",
      "  [-1.04719755  0.          1.04719755]\n",
      "  [-1.04719755  0.          1.04719755]]]\n"
     ]
    }
   ],
   "source": [
    "T = quasar.RotationTomography.quad_x(tomography.nparam)\n",
    "print(T)"
   ]
  },
  {
   "cell_type": "code",
   "execution_count": 14,
   "metadata": {},
   "outputs": [],
   "source": [
    "import numpy as np\n",
    "params = np.array(np.meshgrid(*([np.linspace(-np.pi / 2.0, +np.pi / 2.0, 50)]*2), indexing='ij'))\n",
    "O = tomography.compute_observable_expectation_value(params)"
   ]
  },
  {
   "cell_type": "code",
   "execution_count": 15,
   "metadata": {},
   "outputs": [
    {
     "name": "stdout",
     "output_type": "stream",
     "text": [
      "[-1.5675811  -1.37749234]\n"
     ]
    }
   ],
   "source": [
    "params_opt = tomography.optimize_jacobi_1_best()\n",
    "print(params_opt[:,-1])"
   ]
  },
  {
   "cell_type": "code",
   "execution_count": 17,
   "metadata": {},
   "outputs": [
    {
     "data": {
      "image/png": "[encoded data removed]",
      "text/plain": [
       "<Figure size 432x288 with 2 Axes>"
      ]
     },
     "metadata": {
      "needs_background": "light"
     },
     "output_type": "display_data"
    }
   ],
   "source": [
    "import matplotlib.pyplot as plt\n",
    "levels = np.linspace(np.min(O), np.max(O), 100)\n",
    "plt.clf()\n",
    "plt.contourf(params[0], params[1], O, levels, cmap=plt.get_cmap('coolwarm'))\n",
    "plt.plot(T[0], T[1], 'kx')\n",
    "plt.plot(params_opt[0], params_opt[1], 'm-o')\n",
    "plt.xlabel(r'$\\theta_0$')\n",
    "plt.ylabel(r'$\\theta_1$')\n",
    "plt.axis('square')\n",
    "plt.colorbar()\n",
    "plt.show()"
   ]
  },
  {
   "cell_type": "code",
   "execution_count": null,
   "metadata": {},
   "outputs": [],
   "source": []
  },
  {
   "cell_type": "code",
   "execution_count": null,
   "metadata": {},
   "outputs": [],
   "source": []
  }
 ],
 "metadata": {
  "kernelspec": {
   "display_name": "Python 3",
   "language": "python",
   "name": "python3"
  },
  "language_info": {
   "codemirror_mode": {
    "name": "ipython",
    "version": 3
   },
   "file_extension": ".py",
   "mimetype": "text/x-python",
   "name": "python",
   "nbconvert_exporter": "python",
   "pygments_lexer": "ipython3",
   "version": "3.7.1"
  }
 },
 "nbformat": 4,
 "nbformat_minor": 2
}
