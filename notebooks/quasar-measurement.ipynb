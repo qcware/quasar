{
 "cells": [
  {
   "cell_type": "markdown",
   "metadata": {},
   "source": [
    "# Ket and MeasurementResult Objects"
   ]
  },
  {
   "cell_type": "markdown",
   "metadata": {},
   "source": [
    "## Introduction"
   ]
  },
  {
   "cell_type": "markdown",
   "metadata": {},
   "source": [
    "A fundamental operation encountered in qubit hardware is the process of measurement. Generally, one prepares a quantum state by running a quantum circuit and then projectively measures each qubit to determine if that qubit ends up in the $|0\\rangle$ or $|1\\rangle$ state. The collective measurement result over all qubits is a binary string, e.g., $|0011\\rangle$, which we refer to as a `Ket`. This procedure is repeated `nmeasurement` times, with different `Ket`s appearing probabilistically according to the square of the amplitude of each `Ket` in the quantum state. The fundamental output from this overall process is a histogram of `Ket` strings observed together with the number of times each was observed. We refer to this overall output as a `MeasurementResult` object.\n",
    "\n",
    "**Naming:** The names of these two classes were selected after much debate. For `Ket`, we could have used `int` with a fixed endian condition, `str` which we would trust the user to always be composed of `0` and `1`, or a class which could alternatively be named `Ket`, `String`, or `Configuration`. We decided to use `Ket` to force the order, typing, and correctness of this concept, and to make the indexing of `MeasurementResult` also support direct indexing by `str` (cast to `Ket` under the hood) to make things easy. For `MeasurementResult`, we could have used a `dict` or other map, or a class which could alternatively be named `MeasurementResult`, `Histogram`, `Counts`, `Shots`, or any variation thereof. We decided to use `MeasurementResult` to keep things maximally explicit. Note that most users will encounter these objects as the output of `quasar` library methods, and will rarely need to explicitly construct `Ket` or `MeasurementResult` objects. In this case, the manipulation of these data structures seems straightforward, and allows for easy casting to other data structures that the user might prefer."
   ]
  },
  {
   "cell_type": "markdown",
   "metadata": {},
   "source": [
    "## The Ket Object"
   ]
  },
  {
   "cell_type": "markdown",
   "metadata": {},
   "source": [
    "There are some minor ambiguities encountered in the literature and codes principally revolving around the question of whether the qubits in the `Ket`s are indexed as `|0123>` or `|3210>` (e.g., big- vs. little-endian binary ordering). To help combat this, we always use a well-defined `Ket` object in `quasar` that forces the use of the standard Nielson-Chuang order of `|0123>`. This `Ket` object is constructed from a binary string of the measurement result for each qubit in Nielson-Chuang order:"
   ]
  },
  {
   "cell_type": "code",
   "execution_count": 1,
   "metadata": {},
   "outputs": [
    {
     "name": "stdout",
     "output_type": "stream",
     "text": [
      "0011\n"
     ]
    }
   ],
   "source": [
    "import quasar\n",
    "ket = quasar.Ket('0011')\n",
    "print(ket)"
   ]
  },
  {
   "cell_type": "markdown",
   "metadata": {},
   "source": [
    "If someone provides you a pre-built `Ket` object (e.g., the output of a call to `run_measurement`), you can simply index the qubits of the `Ket` to see what the individual qubit measurement results are (returned as `int` which is either `0` or `1`), without even needing to think about the qubit ordering:"
   ]
  },
  {
   "cell_type": "code",
   "execution_count": 2,
   "metadata": {},
   "outputs": [
    {
     "name": "stdout",
     "output_type": "stream",
     "text": [
      "0\n",
      "0\n",
      "1\n",
      "1\n"
     ]
    }
   ],
   "source": [
    "print(ket[0])\n",
    "print(ket[1])\n",
    "print(ket[2])\n",
    "print(ket[3])"
   ]
  },
  {
   "cell_type": "markdown",
   "metadata": {},
   "source": [
    "The number of qubits is provided in the `N` attribute:"
   ]
  },
  {
   "cell_type": "code",
   "execution_count": 3,
   "metadata": {},
   "outputs": [
    {
     "name": "stdout",
     "output_type": "stream",
     "text": [
      "4\n"
     ]
    }
   ],
   "source": [
    "print(ket.N)"
   ]
  },
  {
   "cell_type": "markdown",
   "metadata": {},
   "source": [
    "For the advanced user, `Ket` simply inherits from `str` and provides minor extensions and validity checks."
   ]
  },
  {
   "cell_type": "markdown",
   "metadata": {},
   "source": [
    "## The MeasurementResult Object"
   ]
  },
  {
   "cell_type": "markdown",
   "metadata": {},
   "source": [
    "To standardize the representation of the full histogram of results of a complete measurement process, `quasar` provides the `MeasurementResult` object, which is a slightly-extended `dict` object:"
   ]
  },
  {
   "cell_type": "code",
   "execution_count": 4,
   "metadata": {},
   "outputs": [
    {
     "name": "stdout",
     "output_type": "stream",
     "text": [
      "|0011> :   23\n",
      "|1100> : 2345\n",
      "\n"
     ]
    }
   ],
   "source": [
    "measurement = quasar.MeasurementResult({\n",
    "    quasar.Ket('0011') : 23,\n",
    "    quasar.Ket('1100') : 2345,\n",
    " })\n",
    "print(measurement)"
   ]
  },
  {
   "cell_type": "markdown",
   "metadata": {},
   "source": [
    "As a subclass of `dict`, `MeasurementResult` supports indexing:"
   ]
  },
  {
   "cell_type": "code",
   "execution_count": 5,
   "metadata": {},
   "outputs": [
    {
     "name": "stdout",
     "output_type": "stream",
     "text": [
      "|0011> :     23\n",
      "|1001> : 234567\n",
      "|1100> :   2345\n",
      "\n"
     ]
    }
   ],
   "source": [
    "measurement[quasar.Ket('1001')] = 234567\n",
    "print(measurement)"
   ]
  },
  {
   "cell_type": "markdown",
   "metadata": {},
   "source": [
    "For convenience, you can also use `str` objects to index a `MeasurementResult`:"
   ]
  },
  {
   "cell_type": "code",
   "execution_count": 6,
   "metadata": {},
   "outputs": [
    {
     "name": "stdout",
     "output_type": "stream",
     "text": [
      "|0011> :     23\n",
      "|1001> : 234567\n",
      "|1011> : 234567\n",
      "|1100> :   2345\n",
      "\n"
     ]
    }
   ],
   "source": [
    "measurement['1011'] = 234567\n",
    "print(measurement)"
   ]
  },
  {
   "cell_type": "markdown",
   "metadata": {},
   "source": [
    "The total number of measurements is provided in the `nmeasurement` attribute:"
   ]
  },
  {
   "cell_type": "code",
   "execution_count": 7,
   "metadata": {},
   "outputs": [
    {
     "name": "stdout",
     "output_type": "stream",
     "text": [
      "471502\n"
     ]
    }
   ],
   "source": [
    "print(measurement.nmeasurement)"
   ]
  },
  {
   "cell_type": "markdown",
   "metadata": {},
   "source": [
    "The number of qubits is provided in the `N` attribute. One of the main tasks of `MeasurementResult` is to ensure that all `Ket` keys added to the histogram have the same `N` attribute:"
   ]
  },
  {
   "cell_type": "code",
   "execution_count": 8,
   "metadata": {},
   "outputs": [
    {
     "name": "stdout",
     "output_type": "stream",
     "text": [
      "4\n"
     ]
    }
   ],
   "source": [
    "print(measurement.N)"
   ]
  },
  {
   "cell_type": "markdown",
   "metadata": {},
   "source": [
    "Often, it is desirable to consider the measurement results from only a subset of the qubits (e.g., to look at the measurements of the ancilla qubits in phase estimation). This can be accomplished with the `subset` method:"
   ]
  },
  {
   "cell_type": "code",
   "execution_count": 9,
   "metadata": {},
   "outputs": [
    {
     "name": "stdout",
     "output_type": "stream",
     "text": [
      "|00> :     23\n",
      "|10> : 469134\n",
      "|11> :   2345\n",
      "\n"
     ]
    }
   ],
   "source": [
    "print(measurement.subset((0,1)))"
   ]
  }
 ],
 "metadata": {
  "kernelspec": {
   "display_name": "Python 3",
   "language": "python",
   "name": "python3"
  },
  "language_info": {
   "codemirror_mode": {
    "name": "ipython",
    "version": 3
   },
   "file_extension": ".py",
   "mimetype": "text/x-python",
   "name": "python",
   "nbconvert_exporter": "python",
   "pygments_lexer": "ipython3",
   "version": "3.7.1"
  }
 },
 "nbformat": 4,
 "nbformat_minor": 2
}
