{
 "cells": [
  {
   "cell_type": "markdown",
   "metadata": {},
   "source": [
    "# Cross-Compilation Demonstration"
   ]
  },
  {
   "cell_type": "markdown",
   "metadata": {},
   "source": [
    "## Introduction and Imports"
   ]
  },
  {
   "cell_type": "code",
   "execution_count": 1,
   "metadata": {},
   "outputs": [
    {
     "name": "stderr",
     "output_type": "stream",
     "text": [
      "/anaconda3/lib/python3.7/site-packages/marshmallow/schema.py:364: ChangedInMarshmallow3Warning: strict=False is not recommended. In marshmallow 3.0, schemas will always be strict. See https://marshmallow.readthedocs.io/en/latest/upgrading.html#schemas-are-always-strict\n",
      "  ChangedInMarshmallow3Warning\n"
     ]
    }
   ],
   "source": [
    "import quasar\n",
    "import qiskit\n",
    "import cirq"
   ]
  },
  {
   "cell_type": "markdown",
   "metadata": {},
   "source": [
    "## Backends"
   ]
  },
  {
   "cell_type": "code",
   "execution_count": 2,
   "metadata": {},
   "outputs": [
    {
     "name": "stdout",
     "output_type": "stream",
     "text": [
      "Quasar Simulator Backend (Statevector)\n",
      "Quasar: An Ultralite Quantum Circuit Simulator\n",
      "   By Rob Parrish (rob.parrish@qcware.com)    \n",
      "True\n",
      "True\n",
      "<class 'quasar.circuit.Circuit'>\n"
     ]
    }
   ],
   "source": [
    "quasar_backend = quasar.QuasarSimulatorBackend()\n",
    "print(quasar_backend)\n",
    "print(quasar_backend.summary_str)\n",
    "print(quasar_backend.has_statevector)\n",
    "print(quasar_backend.has_measurement)\n",
    "print(quasar_backend.native_circuit_type)"
   ]
  },
  {
   "cell_type": "code",
   "execution_count": 3,
   "metadata": {},
   "outputs": [
    {
     "name": "stdout",
     "output_type": "stream",
     "text": [
      "Qiskit Simulator Backend\n",
      "Qiskit Simulator Backend\n",
      "True\n",
      "True\n",
      "<class 'qiskit.circuit.quantumcircuit.QuantumCircuit'>\n"
     ]
    }
   ],
   "source": [
    "qiskit_backend = quasar.QiskitSimulatorBackend()\n",
    "print(qiskit_backend)\n",
    "print(qiskit_backend.summary_str)\n",
    "print(qiskit_backend.has_statevector)\n",
    "print(qiskit_backend.has_measurement)\n",
    "print(qiskit_backend.native_circuit_type)"
   ]
  },
  {
   "cell_type": "code",
   "execution_count": 4,
   "metadata": {},
   "outputs": [
    {
     "name": "stdout",
     "output_type": "stream",
     "text": [
      "Cirq Simulator Backend\n",
      "Cirq Simulator Backend\n",
      "True\n",
      "True\n",
      "<class 'cirq.circuits.circuit.Circuit'>\n"
     ]
    }
   ],
   "source": [
    "cirq_backend = quasar.CirqSimulatorBackend()\n",
    "print(cirq_backend)\n",
    "print(cirq_backend.summary_str)\n",
    "print(cirq_backend.has_statevector)\n",
    "print(cirq_backend.has_measurement)\n",
    "print(cirq_backend.native_circuit_type)"
   ]
  },
  {
   "cell_type": "markdown",
   "metadata": {},
   "source": [
    "## Circuit Construction"
   ]
  },
  {
   "cell_type": "code",
   "execution_count": 5,
   "metadata": {},
   "outputs": [
    {
     "name": "stdout",
     "output_type": "stream",
     "text": [
      "T   : |0|1|2|3|\n",
      "               \n",
      "|0> : -H-@-----\n",
      "         |     \n",
      "|1> : ---X-@---\n",
      "           |   \n",
      "|2> : -----X-@-\n",
      "             | \n",
      "|3> : -------X-\n",
      "\n",
      "T   : |0|1|2|3|\n"
     ]
    }
   ],
   "source": [
    "quasar_circuit = quasar.Circuit(N=4).H(0).CX(0,1).CX(1,2).CX(2,3)\n",
    "print(quasar_circuit)"
   ]
  },
  {
   "cell_type": "code",
   "execution_count": 6,
   "metadata": {},
   "outputs": [
    {
     "name": "stdout",
     "output_type": "stream",
     "text": [
      "0: ───H───@───────────\n",
      "          │\n",
      "1: ───────X───@───────\n",
      "              │\n",
      "2: ───────────X───@───\n",
      "                  │\n",
      "3: ───────────────X───\n"
     ]
    }
   ],
   "source": [
    "cirq_qubits = [cirq.LineQubit(A) for A in range(4)]\n",
    "cirq_circuit = cirq.Circuit()\n",
    "cirq_circuit.append(cirq.H(cirq_qubits[0]))\n",
    "cirq_circuit.append(cirq.CNOT(cirq_qubits[0], cirq_qubits[1]))\n",
    "cirq_circuit.append(cirq.CNOT(cirq_qubits[1], cirq_qubits[2]))\n",
    "cirq_circuit.append(cirq.CNOT(cirq_qubits[2], cirq_qubits[3]))\n",
    "print(cirq_circuit)"
   ]
  },
  {
   "cell_type": "code",
   "execution_count": 7,
   "metadata": {},
   "outputs": [
    {
     "name": "stdout",
     "output_type": "stream",
     "text": [
      "         ┌───┐               \n",
      "q0_0: |0>┤ H ├──■────────────\n",
      "         └───┘┌─┴─┐          \n",
      "q0_1: |0>─────┤ X ├──■───────\n",
      "              └───┘┌─┴─┐     \n",
      "q0_2: |0>──────────┤ X ├──■──\n",
      "                   └───┘┌─┴─┐\n",
      "q0_3: |0>───────────────┤ X ├\n",
      "                        └───┘\n"
     ]
    }
   ],
   "source": [
    "qiskit_register = qiskit.QuantumRegister(4)\n",
    "qiskit_circuit = qiskit.QuantumCircuit(qiskit_register)\n",
    "qiskit_circuit.h(qiskit_register[0])\n",
    "qiskit_circuit.cx(qiskit_register[0], qiskit_register[1])\n",
    "qiskit_circuit.cx(qiskit_register[1], qiskit_register[2])\n",
    "qiskit_circuit.cx(qiskit_register[2], qiskit_register[3])\n",
    "print(qiskit_circuit)"
   ]
  },
  {
   "cell_type": "markdown",
   "metadata": {},
   "source": [
    "## Cross-Compilation"
   ]
  },
  {
   "cell_type": "code",
   "execution_count": 8,
   "metadata": {},
   "outputs": [
    {
     "name": "stdout",
     "output_type": "stream",
     "text": [
      "T   : |0|1|2|3|\n",
      "               \n",
      "|0> : -H-@-----\n",
      "         |     \n",
      "|1> : ---X-@---\n",
      "           |   \n",
      "|2> : -----X-@-\n",
      "             | \n",
      "|3> : -------X-\n",
      "\n",
      "T   : |0|1|2|3|\n"
     ]
    }
   ],
   "source": [
    "print(quasar.build_native_circuit(quasar_backend, quasar_circuit))"
   ]
  },
  {
   "cell_type": "code",
   "execution_count": 9,
   "metadata": {},
   "outputs": [
    {
     "name": "stdout",
     "output_type": "stream",
     "text": [
      "T   : |0|1|2|3|\n",
      "               \n",
      "|0> : -H-@-----\n",
      "         |     \n",
      "|1> : ---X-@---\n",
      "           |   \n",
      "|2> : -----X-@-\n",
      "             | \n",
      "|3> : -------X-\n",
      "\n",
      "T   : |0|1|2|3|\n"
     ]
    }
   ],
   "source": [
    "print(quasar.build_native_circuit(quasar_backend, qiskit_circuit))"
   ]
  },
  {
   "cell_type": "code",
   "execution_count": 10,
   "metadata": {},
   "outputs": [
    {
     "name": "stdout",
     "output_type": "stream",
     "text": [
      "T   : |0|1|2|3|\n",
      "               \n",
      "|0> : -H-@-----\n",
      "         |     \n",
      "|1> : ---X-@---\n",
      "           |   \n",
      "|2> : -----X-@-\n",
      "             | \n",
      "|3> : -------X-\n",
      "\n",
      "T   : |0|1|2|3|\n"
     ]
    }
   ],
   "source": [
    "print(quasar.build_native_circuit(quasar_backend, cirq_circuit))"
   ]
  },
  {
   "cell_type": "code",
   "execution_count": 11,
   "metadata": {},
   "outputs": [
    {
     "name": "stdout",
     "output_type": "stream",
     "text": [
      "         ┌───┐               \n",
      "q1_0: |0>┤ H ├──■────────────\n",
      "         └───┘┌─┴─┐          \n",
      "q1_1: |0>─────┤ X ├──■───────\n",
      "              └───┘┌─┴─┐     \n",
      "q1_2: |0>──────────┤ X ├──■──\n",
      "                   └───┘┌─┴─┐\n",
      "q1_3: |0>───────────────┤ X ├\n",
      "                        └───┘\n"
     ]
    }
   ],
   "source": [
    "print(quasar.build_native_circuit(qiskit_backend, quasar_circuit))"
   ]
  },
  {
   "cell_type": "code",
   "execution_count": 12,
   "metadata": {},
   "outputs": [
    {
     "name": "stdout",
     "output_type": "stream",
     "text": [
      "         ┌───┐               \n",
      "q0_0: |0>┤ H ├──■────────────\n",
      "         └───┘┌─┴─┐          \n",
      "q0_1: |0>─────┤ X ├──■───────\n",
      "              └───┘┌─┴─┐     \n",
      "q0_2: |0>──────────┤ X ├──■──\n",
      "                   └───┘┌─┴─┐\n",
      "q0_3: |0>───────────────┤ X ├\n",
      "                        └───┘\n"
     ]
    }
   ],
   "source": [
    "print(quasar.build_native_circuit(qiskit_backend, qiskit_circuit))"
   ]
  },
  {
   "cell_type": "code",
   "execution_count": 13,
   "metadata": {},
   "outputs": [
    {
     "name": "stdout",
     "output_type": "stream",
     "text": [
      "         ┌───┐               \n",
      "q2_0: |0>┤ H ├──■────────────\n",
      "         └───┘┌─┴─┐          \n",
      "q2_1: |0>─────┤ X ├──■───────\n",
      "              └───┘┌─┴─┐     \n",
      "q2_2: |0>──────────┤ X ├──■──\n",
      "                   └───┘┌─┴─┐\n",
      "q2_3: |0>───────────────┤ X ├\n",
      "                        └───┘\n"
     ]
    }
   ],
   "source": [
    "print(quasar.build_native_circuit(qiskit_backend, cirq_circuit))"
   ]
  },
  {
   "cell_type": "code",
   "execution_count": 14,
   "metadata": {},
   "outputs": [
    {
     "name": "stdout",
     "output_type": "stream",
     "text": [
      "0: ───H───@───────────\n",
      "          │\n",
      "1: ───────X───@───────\n",
      "              │\n",
      "2: ───────────X───@───\n",
      "                  │\n",
      "3: ───────────────X───\n"
     ]
    }
   ],
   "source": [
    "print(quasar.build_native_circuit(cirq_backend, quasar_circuit))"
   ]
  },
  {
   "cell_type": "code",
   "execution_count": 15,
   "metadata": {},
   "outputs": [
    {
     "name": "stdout",
     "output_type": "stream",
     "text": [
      "0: ───H───@───────────\n",
      "          │\n",
      "1: ───────X───@───────\n",
      "              │\n",
      "2: ───────────X───@───\n",
      "                  │\n",
      "3: ───────────────X───\n"
     ]
    }
   ],
   "source": [
    "print(quasar.build_native_circuit(cirq_backend, qiskit_circuit))"
   ]
  },
  {
   "cell_type": "code",
   "execution_count": 16,
   "metadata": {},
   "outputs": [
    {
     "name": "stdout",
     "output_type": "stream",
     "text": [
      "0: ───H───@───────────\n",
      "          │\n",
      "1: ───────X───@───────\n",
      "              │\n",
      "2: ───────────X───@───\n",
      "                  │\n",
      "3: ───────────────X───\n"
     ]
    }
   ],
   "source": [
    "print(quasar.build_native_circuit(cirq_backend, cirq_circuit))"
   ]
  },
  {
   "cell_type": "markdown",
   "metadata": {},
   "source": [
    "## Statevector Simulation"
   ]
  },
  {
   "cell_type": "code",
   "execution_count": 17,
   "metadata": {},
   "outputs": [
    {
     "name": "stdout",
     "output_type": "stream",
     "text": [
      "[0.70710678+0.j 0.        +0.j 0.        +0.j 0.        +0.j\n",
      " 0.        +0.j 0.        +0.j 0.        +0.j 0.        +0.j\n",
      " 0.        +0.j 0.        +0.j 0.        +0.j 0.        +0.j\n",
      " 0.        +0.j 0.        +0.j 0.        +0.j 0.70710678+0.j]\n",
      "[0.70710678+0.j 0.        +0.j 0.        +0.j 0.        +0.j\n",
      " 0.        +0.j 0.        +0.j 0.        +0.j 0.        +0.j\n",
      " 0.        +0.j 0.        +0.j 0.        +0.j 0.        +0.j\n",
      " 0.        +0.j 0.        +0.j 0.        +0.j 0.70710678+0.j]\n",
      "[0.70710678+0.j 0.        +0.j 0.        +0.j 0.        +0.j\n",
      " 0.        +0.j 0.        +0.j 0.        +0.j 0.        +0.j\n",
      " 0.        +0.j 0.        +0.j 0.        +0.j 0.        +0.j\n",
      " 0.        +0.j 0.        +0.j 0.        +0.j 0.70710678+0.j]\n",
      "[0.70710678+0.j 0.        +0.j 0.        +0.j 0.        +0.j\n",
      " 0.        +0.j 0.        +0.j 0.        +0.j 0.        +0.j\n",
      " 0.        +0.j 0.        +0.j 0.        +0.j 0.        +0.j\n",
      " 0.        +0.j 0.        +0.j 0.        +0.j 0.70710678+0.j]\n",
      "[0.70710678+0.j 0.        +0.j 0.        +0.j 0.        +0.j\n",
      " 0.        +0.j 0.        +0.j 0.        +0.j 0.        +0.j\n",
      " 0.        +0.j 0.        +0.j 0.        +0.j 0.        +0.j\n",
      " 0.        +0.j 0.        +0.j 0.        +0.j 0.70710678+0.j]\n",
      "[0.70710678+0.j 0.        +0.j 0.        +0.j 0.        +0.j\n",
      " 0.        +0.j 0.        +0.j 0.        +0.j 0.        +0.j\n",
      " 0.        +0.j 0.        +0.j 0.        +0.j 0.        +0.j\n",
      " 0.        +0.j 0.        +0.j 0.        +0.j 0.70710678+0.j]\n",
      "[ 0.70710677+0.j  0.        +0.j  0.        +0.j  0.        +0.j\n",
      "  0.        +0.j  0.        +0.j  0.        +0.j  0.        +0.j\n",
      " -0.        +0.j -0.        +0.j -0.        +0.j -0.        +0.j\n",
      " -0.        +0.j -0.        +0.j -0.        +0.j  0.70710677+0.j]\n",
      "[ 0.70710677+0.j  0.        +0.j  0.        +0.j  0.        +0.j\n",
      "  0.        +0.j  0.        +0.j  0.        +0.j  0.        +0.j\n",
      " -0.        +0.j -0.        +0.j -0.        +0.j -0.        +0.j\n",
      " -0.        +0.j -0.        +0.j -0.        +0.j  0.70710677+0.j]\n",
      "[ 0.70710677+0.j  0.        +0.j  0.        +0.j  0.        +0.j\n",
      "  0.        +0.j  0.        +0.j  0.        +0.j  0.        +0.j\n",
      " -0.        +0.j -0.        +0.j -0.        +0.j -0.        +0.j\n",
      " -0.        +0.j -0.        +0.j -0.        +0.j  0.70710677+0.j]\n"
     ]
    },
    {
     "name": "stderr",
     "output_type": "stream",
     "text": [
      "/anaconda3/lib/python3.7/site-packages/marshmallow/schema.py:364: ChangedInMarshmallow3Warning: strict=False is not recommended. In marshmallow 3.0, schemas will always be strict. See https://marshmallow.readthedocs.io/en/latest/upgrading.html#schemas-are-always-strict\n",
      "  ChangedInMarshmallow3Warning\n"
     ]
    }
   ],
   "source": [
    "print(quasar.run_statevector(quasar_backend, quasar_circuit))\n",
    "print(quasar.run_statevector(quasar_backend, qiskit_circuit))\n",
    "print(quasar.run_statevector(quasar_backend, cirq_circuit))\n",
    "print(quasar.run_statevector(qiskit_backend, quasar_circuit))\n",
    "print(quasar.run_statevector(qiskit_backend, qiskit_circuit))\n",
    "print(quasar.run_statevector(qiskit_backend, cirq_circuit))\n",
    "print(quasar.run_statevector(cirq_backend, quasar_circuit))\n",
    "print(quasar.run_statevector(cirq_backend, qiskit_circuit))\n",
    "print(quasar.run_statevector(cirq_backend, cirq_circuit))"
   ]
  },
  {
   "cell_type": "markdown",
   "metadata": {},
   "source": [
    "## Measurement"
   ]
  },
  {
   "cell_type": "code",
   "execution_count": 18,
   "metadata": {},
   "outputs": [
    {
     "name": "stdout",
     "output_type": "stream",
     "text": [
      "|0000> : 496\n",
      "|1111> : 504\n",
      "\n",
      "|0000> : 493\n",
      "|1111> : 507\n",
      "\n",
      "|0000> : 512\n",
      "|1111> : 488\n",
      "\n",
      "|0000> : 499\n",
      "|1111> : 501\n",
      "\n",
      "|0000> : 504\n",
      "|1111> : 496\n",
      "\n",
      "|0000> : 499\n",
      "|1111> : 501\n",
      "\n",
      "|0000> : 494\n",
      "|1111> : 506\n",
      "\n",
      "|0000> : 519\n",
      "|1111> : 481\n",
      "\n",
      "|0000> : 493\n",
      "|1111> : 507\n",
      "\n"
     ]
    }
   ],
   "source": [
    "print(quasar.run_measurement(quasar_backend, quasar_circuit, nmeasurement=1000))\n",
    "print(quasar.run_measurement(quasar_backend, qiskit_circuit, nmeasurement=1000))\n",
    "print(quasar.run_measurement(quasar_backend, cirq_circuit, nmeasurement=1000))\n",
    "print(quasar.run_measurement(qiskit_backend, quasar_circuit, nmeasurement=1000))\n",
    "print(quasar.run_measurement(qiskit_backend, qiskit_circuit, nmeasurement=1000))\n",
    "print(quasar.run_measurement(qiskit_backend, cirq_circuit, nmeasurement=1000))\n",
    "print(quasar.run_measurement(cirq_backend, quasar_circuit, nmeasurement=1000))\n",
    "print(quasar.run_measurement(cirq_backend, qiskit_circuit, nmeasurement=1000))\n",
    "print(quasar.run_measurement(cirq_backend, cirq_circuit, nmeasurement=1000))"
   ]
  },
  {
   "cell_type": "markdown",
   "metadata": {},
   "source": [
    "## Pauli Expectation Values"
   ]
  },
  {
   "cell_type": "code",
   "execution_count": 19,
   "metadata": {},
   "outputs": [
    {
     "name": "stdout",
     "output_type": "stream",
     "text": [
      "+1.0*I\n",
      "+1.0*Z0\n",
      "+1.0*Z1\n",
      "+1.0*Z0*Z1\n"
     ]
    }
   ],
   "source": [
    "I, X, Y, Z = quasar.Pauli.IXYZ()\n",
    "pauli = I + Z[0] + Z[1] + Z[0] * Z[1]\n",
    "print(pauli)"
   ]
  },
  {
   "cell_type": "code",
   "execution_count": 20,
   "metadata": {},
   "outputs": [
    {
     "name": "stdout",
     "output_type": "stream",
     "text": [
      "+1.0*I\n",
      "+0.0*Z0\n",
      "+0.0*Z1\n",
      "+0.9999999999999998*Z0*Z1\n",
      "+1.0*I\n",
      "+0.0*Z0\n",
      "+0.0*Z1\n",
      "+0.9999999999999998*Z0*Z1\n",
      "+1.0*I\n",
      "+0.0*Z0\n",
      "+0.0*Z1\n",
      "+0.9999999999999998*Z0*Z1\n",
      "+1.0*I\n",
      "+2.220446049250313e-16*Z0\n",
      "+2.220446049250313e-16*Z1\n",
      "+1.0*Z0*Z1\n",
      "+1.0*I\n",
      "+2.220446049250313e-16*Z0\n",
      "+2.220446049250313e-16*Z1\n",
      "+1.0*Z0*Z1\n",
      "+1.0*I\n",
      "+2.220446049250313e-16*Z0\n",
      "+2.220446049250313e-16*Z1\n",
      "+1.0*Z0*Z1\n",
      "+1.0*I\n",
      "+0.0*Z0\n",
      "+0.0*Z1\n",
      "+0.9999999657714582*Z0*Z1\n",
      "+1.0*I\n",
      "+0.0*Z0\n",
      "+0.0*Z1\n",
      "+0.9999999657714582*Z0*Z1\n",
      "+1.0*I\n",
      "+0.0*Z0\n",
      "+0.0*Z1\n",
      "+0.9999999657714582*Z0*Z1\n"
     ]
    }
   ],
   "source": [
    "print(quasar.run_pauli_expectation(quasar_backend, quasar_circuit, pauli, nmeasurement=None))\n",
    "print(quasar.run_pauli_expectation(quasar_backend, qiskit_circuit, pauli, nmeasurement=None))\n",
    "print(quasar.run_pauli_expectation(quasar_backend, cirq_circuit, pauli, nmeasurement=None))\n",
    "print(quasar.run_pauli_expectation(qiskit_backend, quasar_circuit, pauli, nmeasurement=None))\n",
    "print(quasar.run_pauli_expectation(qiskit_backend, qiskit_circuit, pauli, nmeasurement=None))\n",
    "print(quasar.run_pauli_expectation(qiskit_backend, cirq_circuit, pauli, nmeasurement=None))\n",
    "print(quasar.run_pauli_expectation(cirq_backend, quasar_circuit, pauli, nmeasurement=None))\n",
    "print(quasar.run_pauli_expectation(cirq_backend, qiskit_circuit, pauli, nmeasurement=None))\n",
    "print(quasar.run_pauli_expectation(cirq_backend, cirq_circuit, pauli, nmeasurement=None))"
   ]
  },
  {
   "cell_type": "code",
   "execution_count": 21,
   "metadata": {},
   "outputs": [
    {
     "name": "stdout",
     "output_type": "stream",
     "text": [
      "+1.0*I\n",
      "-0.074*Z0\n",
      "-0.074*Z1\n",
      "+1.0*Z0*Z1\n",
      "+1.0*I\n",
      "+0.01*Z0\n",
      "+0.01*Z1\n",
      "+1.0*Z0*Z1\n",
      "+1.0*I\n",
      "+0.012*Z0\n",
      "+0.012*Z1\n",
      "+1.0*Z0*Z1\n",
      "+1.0*I\n",
      "-0.02*Z0\n",
      "-0.02*Z1\n",
      "+1.0*Z0*Z1\n",
      "+1.0*I\n",
      "+0.002*Z0\n",
      "+0.002*Z1\n",
      "+1.0*Z0*Z1\n",
      "+1.0*I\n",
      "-0.048*Z0\n",
      "-0.048*Z1\n",
      "+1.0*Z0*Z1\n",
      "+1.0*I\n",
      "+0.028*Z0\n",
      "+0.028*Z1\n",
      "+1.0*Z0*Z1\n",
      "+1.0*I\n",
      "+0.002*Z0\n",
      "+0.002*Z1\n",
      "+1.0*Z0*Z1\n",
      "+1.0*I\n",
      "-0.032*Z0\n",
      "-0.032*Z1\n",
      "+1.0*Z0*Z1\n"
     ]
    }
   ],
   "source": [
    "print(quasar.run_pauli_expectation(quasar_backend, quasar_circuit, pauli, nmeasurement=1000))\n",
    "print(quasar.run_pauli_expectation(quasar_backend, qiskit_circuit, pauli, nmeasurement=1000))\n",
    "print(quasar.run_pauli_expectation(quasar_backend, cirq_circuit, pauli, nmeasurement=1000))\n",
    "print(quasar.run_pauli_expectation(qiskit_backend, quasar_circuit, pauli, nmeasurement=1000))\n",
    "print(quasar.run_pauli_expectation(qiskit_backend, qiskit_circuit, pauli, nmeasurement=1000))\n",
    "print(quasar.run_pauli_expectation(qiskit_backend, cirq_circuit, pauli, nmeasurement=1000))\n",
    "print(quasar.run_pauli_expectation(cirq_backend, quasar_circuit, pauli, nmeasurement=1000))\n",
    "print(quasar.run_pauli_expectation(cirq_backend, qiskit_circuit, pauli, nmeasurement=1000))\n",
    "print(quasar.run_pauli_expectation(cirq_backend, cirq_circuit, pauli, nmeasurement=1000))"
   ]
  },
  {
   "cell_type": "markdown",
   "metadata": {},
   "source": [
    "## A CIS Example"
   ]
  },
  {
   "cell_type": "code",
   "execution_count": 22,
   "metadata": {},
   "outputs": [
    {
     "name": "stdout",
     "output_type": "stream",
     "text": [
      "T   : |0 |1|2 |3 |4|5 |6|\n",
      "                         \n",
      "|0> : -Ry-@----X---------\n",
      "          |    |         \n",
      "|1> : -Ry-Z-Ry-@--@----X-\n",
      "                  |    | \n",
      "|2> : ---------Ry-Z-Ry-@-\n",
      "\n",
      "T   : |0 |1|2 |3 |4|5 |6|\n",
      "\n",
      "[ 0.2675   0.21803 -0.61324  0.      -0.71052  0.      -0.      -0.     ]\n",
      "[ 0.2675   0.21803 -0.61324  0.      -0.71052  0.       0.       0.     ]\n",
      "[ 0.2675   0.21803 -0.61324  0.      -0.71052 -0.       0.      -0.     ]\n",
      "\n",
      "|000> :  63\n",
      "|001> :  41\n",
      "|010> : 360\n",
      "|100> : 536\n",
      "\n",
      "|000> :  83\n",
      "|001> :  45\n",
      "|010> : 383\n",
      "|100> : 489\n",
      "\n",
      "|000> :  68\n",
      "|001> :  48\n",
      "|010> : 391\n",
      "|100> : 493\n",
      "\n"
     ]
    }
   ],
   "source": [
    "circuit = quasar.Circuit(N=3).Ry(0, theta=1.3)\n",
    "circuit.Ry(1, theta=-1.2).CZ(0,1).Ry(1, theta=+1.2).CX(1,0)\n",
    "circuit.Ry(2, theta=-1.4, time_placement='late').CZ(1,2).Ry(2, theta=+1.4).CX(2,1)\n",
    "print(circuit)\n",
    "print('')\n",
    "\n",
    "print(quasar.run_statevector(quasar_backend, circuit).real.round(5))\n",
    "print(quasar.run_statevector(qiskit_backend, circuit).real.round(5))\n",
    "print(quasar.run_statevector(cirq_backend, circuit).real.round(5))\n",
    "print('')\n",
    "\n",
    "print(quasar.run_measurement(quasar_backend, circuit))\n",
    "print(quasar.run_measurement(qiskit_backend, circuit))\n",
    "print(quasar.run_measurement(cirq_backend, circuit))"
   ]
  },
  {
   "cell_type": "code",
   "execution_count": 23,
   "metadata": {},
   "outputs": [
    {
     "name": "stdout",
     "output_type": "stream",
     "text": [
      "+1.0*I\n",
      "+1.0*Z0\n",
      "+1.0*Z1\n",
      "+1.0*Z2\n",
      "+1.0*X0*X1\n",
      "+1.0*X0*Z1\n",
      "+1.0*Z0*X1\n",
      "+1.0*Z0*Z1\n",
      "+1.0*X1*X2\n",
      "+1.0*X1*Z2\n",
      "+1.0*Z1*X2\n",
      "+1.0*Z1*Z2\n",
      "+1.0*Z0*Z1*Z2\n"
     ]
    }
   ],
   "source": [
    "I, X, Y, Z = quasar.Pauli.IXYZ()\n",
    "pauli = I + Z[0] + Z[1] + Z[2]\n",
    "pauli += X[0] * X[1] + X[0] * Z[1] + Z[0] * X[1] + Z[0] * Z[1]\n",
    "pauli += X[1] * X[2] + X[1] * Z[2] + Z[1] * X[2] + Z[1] * Z[2]\n",
    "pauli += Z[0] * Z[1] * Z[2]\n",
    "print(pauli)"
   ]
  },
  {
   "cell_type": "code",
   "execution_count": 24,
   "metadata": {},
   "outputs": [
    {
     "name": "stdout",
     "output_type": "stream",
     "text": [
      "+1.0*I\n",
      "-0.02*Z0\n",
      "+0.227*Z1\n",
      "+0.916*Z2\n",
      "+0.858*X0*X1\n",
      "-0.416*X0*Z1\n",
      "-0.344*Z0*X1\n",
      "-0.808*Z0*Z1\n",
      "-0.246*X1*X2\n",
      "-0.29*X1*Z2\n",
      "+0.064*Z1*X2\n",
      "+0.126*Z1*Z2\n",
      "-0.874*Z0*Z1*Z2\n",
      "+1.0*I\n",
      "+0.013*Z0\n",
      "+0.231*Z1\n",
      "+0.907*Z2\n",
      "+0.856*X0*X1\n",
      "-0.36*X0*Z1\n",
      "-0.372*Z0*X1\n",
      "-0.758*Z0*Z1\n",
      "-0.218*X1*X2\n",
      "-0.32*X1*Z2\n",
      "+0.108*Z1*X2\n",
      "+0.134*Z1*Z2\n",
      "-0.846*Z0*Z1*Z2\n",
      "+1.0*I\n",
      "+0.021*Z0\n",
      "+0.239*Z1\n",
      "+0.903*Z2\n",
      "+0.858*X0*X1\n",
      "-0.386*X0*Z1\n",
      "-0.37*Z0*X1\n",
      "-0.77*Z0*Z1\n",
      "-0.222*X1*X2\n",
      "-0.334*X1*Z2\n",
      "+0.102*Z1*X2\n",
      "+0.138*Z1*Z2\n",
      "-0.854*Z0*Z1*Z2\n"
     ]
    }
   ],
   "source": [
    "print(quasar.run_pauli_expectation(quasar_backend, circuit, pauli, nmeasurement=1000))\n",
    "print(quasar.run_pauli_expectation(qiskit_backend, circuit, pauli, nmeasurement=1000))\n",
    "print(quasar.run_pauli_expectation(cirq_backend, circuit, pauli, nmeasurement=1000))"
   ]
  },
  {
   "cell_type": "code",
   "execution_count": 25,
   "metadata": {},
   "outputs": [
    {
     "name": "stdout",
     "output_type": "stream",
     "text": [
      "+1.0*I\n",
      "-0.009682315824435461*Z0\n",
      "+0.24786457872086992*Z1\n",
      "+0.9049289837346179*Z2\n",
      "+0.8714458296249395*X0*X1\n",
      "-0.3801274719340384*X0*Z1\n",
      "-0.328083888319174*Z0*X1\n",
      "-0.7618177371035654*Z0*Z1\n",
      "-0.2674065797062554*X1*X2\n",
      "-0.328083888319174*X1*Z2\n",
      "+0.11664360958157917*Z1*X2\n",
      "+0.15279356245548809*Z1*Z2\n",
      "-0.8568887533689471*Z0*Z1*Z2\n",
      "+1.0*I\n",
      "-0.00968231582443524*Z0\n",
      "+0.2478645787208698*Z1\n",
      "+0.904928983734618*Z2\n",
      "+0.8714458296249397*X0*X1\n",
      "-0.3801274719340384*X0*Z1\n",
      "-0.32808388831917407*Z0*X1\n",
      "-0.7618177371035654*Z0*Z1\n",
      "-0.26740657970625575*X1*X2\n",
      "-0.32808388831917407*X1*Z2\n",
      "+0.1166436095815793*Z1*X2\n",
      "+0.15279356245548786*Z1*Z2\n",
      "-0.8568887533689473*Z0*Z1*Z2\n",
      "+1.0*I\n",
      "-0.009682276502338327*Z0\n",
      "+0.2478645368525682*Z1\n",
      "+0.904929037695383*Z2\n",
      "+0.8714459016311358*X0*X1\n",
      "-0.3801274486243099*X0*Z1\n",
      "-0.3280838804700251*Z0*X1\n",
      "-0.7618177992010675*Z0*Z1\n",
      "-0.26740659500975916*X1*X2\n",
      "-0.32808392175432766*X1*Z2\n",
      "+0.11664361459845586*Z1*X2\n",
      "+0.1527935149966531*Z1*Z2\n",
      "-0.8568888210569827*Z0*Z1*Z2\n"
     ]
    }
   ],
   "source": [
    "print(quasar.run_pauli_expectation(quasar_backend, circuit, pauli, nmeasurement=None))\n",
    "print(quasar.run_pauli_expectation(qiskit_backend, circuit, pauli, nmeasurement=None))\n",
    "print(quasar.run_pauli_expectation(cirq_backend, circuit, pauli, nmeasurement=None))"
   ]
  },
  {
   "cell_type": "code",
   "execution_count": null,
   "metadata": {},
   "outputs": [],
   "source": []
  },
  {
   "cell_type": "code",
   "execution_count": null,
   "metadata": {},
   "outputs": [],
   "source": []
  }
 ],
 "metadata": {
  "kernelspec": {
   "display_name": "Python 3",
   "language": "python",
   "name": "python3"
  },
  "language_info": {
   "codemirror_mode": {
    "name": "ipython",
    "version": 3
   },
   "file_extension": ".py",
   "mimetype": "text/x-python",
   "name": "python",
   "nbconvert_exporter": "python",
   "pygments_lexer": "ipython3",
   "version": "3.7.1"
  }
 },
 "nbformat": 4,
 "nbformat_minor": 2
}
