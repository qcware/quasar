{
 "cells": [
  {
   "cell_type": "code",
   "execution_count": 1,
   "metadata": {},
   "outputs": [],
   "source": [
    "import quasar"
   ]
  },
  {
   "cell_type": "code",
   "execution_count": 2,
   "metadata": {},
   "outputs": [
    {
     "name": "stdout",
     "output_type": "stream",
     "text": [
      "T  : |0|1|2  |3  |4 |5 |6    |7    |8    |9    |10   |11   |12   |13   |14   |\n",
      "\n",
      "q0 : -H-@-@---@---A0=A0-A0====A0----A0====A0----A0====A0----A0====A0----A0====\n",
      "        | |   |   |**|  |*****|     |*****|     |*****|     |*****|     |*****\n",
      "q1 : -X-X-|-X-|-X-A1=A1-|--B1=|==B1-|--B1=|==B1-A1====A1----|--B1=|==B1-|--B1=\n",
      "          | | | |       |**|**|**|  |**|**|**|  |*****|     |**|**|**|  |**|**\n",
      "q2 : -Y-@-|-@-X-|-B1=B1-|--B0=|==B0-A1=|==A1-|--|--B1=|==B1-|--B0=|==B0-A1=|==\n",
      "        | |     | |**|  |*****|        |*****|  |**|**|**|  |**|**|**|  |**|**\n",
      "q3 : -Z-X-X-----@-B0=B0-A1====A1-------B0====B0-|--B0=|==B0-A1=|==A1-|--|--B0=\n",
      "                                                |**|**|**|  |**|**|**|  |**|**\n",
      "q4 : -------------------------------------------@==|==@--|--@==|==@--|--@==|==\n",
      "                                                   |*****|     |*****|     |**\n",
      "q5 : ----------------------------------------------@=====@-----@=====@-----@==\n",
      "                                                                              \n",
      "T  : |0|1|2  |3  |4 |5 |6    |7    |8    |9    |10   |11   |12   |13   |14   |\n",
      "\n",
      "T  :  15   |16   |17   |18   |19   |\n",
      "\n",
      "q0 :  A0----A0====A0----A0====A0----\n",
      "      |     |*****|     |*****|     \n",
      "q1 :  |==B1-|--B1=|==B1-|--B1=|==B1-\n",
      "      |**|  |**|**|**|  |**|**|**|  \n",
      "q2 :  A1-|--A1=|==A1-|--A1=|==A1-|--\n",
      "      |**|  |**|**|**|  |**|**|**|  \n",
      "q3 :  |==B0-|--B0=|==B0-|--B0=|==B0-\n",
      "      |**|  |**|**|**|  |**|**|**|  \n",
      "q4 :  @--|--@==|==@--|--@==|==@--|--\n",
      "      ***|     |*****|     |*****|  \n",
      "q5 :  ===@-----@=====@-----@=====@--\n",
      "                                    \n",
      "T  :  15   |16   |17   |18   |19   |\n",
      "\n",
      "  6.258E-04\n"
     ]
    }
   ],
   "source": [
    "circuit = quasar.Circuit()\n",
    "circuit.H(0).X(1).Y(2).Z(3)\n",
    "circuit.CX(0,1).CX(2,3)\n",
    "circuit.CX(0,3).CX(2,1)\n",
    "circuit.CX(0,2).CX(3,1)\n",
    "gadget = quasar.Circuit().Ry(0).CX(0,1)\n",
    "circuit.add_gate(gadget, (0,1), ascii_symbols=['A0', 'A1'])\n",
    "circuit.add_gate(gadget, (3,2), ascii_symbols=['B0', 'B1'])\n",
    "circuit.add_gate(gadget, (0,3), ascii_symbols=['A0', 'A1'])\n",
    "circuit.add_gate(gadget, (2,1), ascii_symbols=['B0', 'B1'])\n",
    "circuit.add_gate(gadget, (0,2), ascii_symbols=['A0', 'A1'])\n",
    "circuit.add_gate(gadget, (3,1), ascii_symbols=['B0', 'B1'])\n",
    "circuit.add_controlled_gate(gadget, (4,0,1), ascii_symbols=['A0', 'A1'])\n",
    "circuit.add_controlled_gate(gadget, (5,3,2), ascii_symbols=['B0', 'B1'])\n",
    "circuit.add_controlled_gate(gadget, (4,0,3), ascii_symbols=['A0', 'A1'])\n",
    "circuit.add_controlled_gate(gadget, (5,2,1), ascii_symbols=['B0', 'B1'])\n",
    "circuit.add_controlled_gate(gadget, (4,0,2), ascii_symbols=['A0', 'A1'])\n",
    "circuit.add_controlled_gate(gadget, (5,3,1), ascii_symbols=['B0', 'B1'])\n",
    "circuit.add_controlled_gate(gadget, (4,0,2), ascii_symbols=['A0', 'A1'])\n",
    "circuit.add_controlled_gate(gadget, (5,3,1), ascii_symbols=['B0', 'B1'])\n",
    "circuit.add_controlled_gate(gadget, (4,0,2), ascii_symbols=['A0', 'A1'])\n",
    "circuit.add_controlled_gate(gadget, (5,3,1), ascii_symbols=['B0', 'B1'])\n",
    "import time\n",
    "start = time.time()\n",
    "print(circuit)\n",
    "print('%11.3E' % (time.time() - start))"
   ]
  },
  {
   "cell_type": "code",
   "execution_count": 3,
   "metadata": {},
   "outputs": [
    {
     "name": "stdout",
     "output_type": "stream",
     "text": [
      "T  : |-1|0|1|2|3|4|5|6|7|8|9|10|11|12|13|14|15|16|17|\n",
      "\n",
      "q0 : -X--X-X-X-X-X-----------X--X--X--X--X--X--X--X--\n",
      "                                                     \n",
      "T  : |-1|0|1|2|3|4|5|6|7|8|9|10|11|12|13|14|15|16|17|\n",
      "\n"
     ]
    }
   ],
   "source": [
    "print(quasar.Circuit().X(0, times=-1).X(0).X(0).X(0).X(0).X(0).X(0, time_start=10).X(0).X(0).X(0).X(0).X(0).X(0).X(0))"
   ]
  },
  {
   "cell_type": "code",
   "execution_count": 4,
   "metadata": {},
   "outputs": [
    {
     "name": "stdout",
     "output_type": "stream",
     "text": [
      "T  : |\n",
      "\n",
      "T  : |\n",
      "\n"
     ]
    }
   ],
   "source": [
    "print(quasar.Circuit())"
   ]
  },
  {
   "cell_type": "code",
   "execution_count": null,
   "metadata": {},
   "outputs": [],
   "source": []
  },
  {
   "cell_type": "code",
   "execution_count": null,
   "metadata": {},
   "outputs": [],
   "source": []
  }
 ],
 "metadata": {
  "kernelspec": {
   "display_name": "Python 3",
   "language": "python",
   "name": "python3"
  },
  "language_info": {
   "codemirror_mode": {
    "name": "ipython",
    "version": 3
   },
   "file_extension": ".py",
   "mimetype": "text/x-python",
   "name": "python",
   "nbconvert_exporter": "python",
   "pygments_lexer": "ipython3",
   "version": "3.7.1"
  }
 },
 "nbformat": 4,
 "nbformat_minor": 2
}
