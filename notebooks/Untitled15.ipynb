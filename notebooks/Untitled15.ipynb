{
 "cells": [
  {
   "cell_type": "code",
   "execution_count": 1,
   "metadata": {},
   "outputs": [],
   "source": [
    "import quasar"
   ]
  },
  {
   "cell_type": "code",
   "execution_count": 12,
   "metadata": {},
   "outputs": [
    {
     "name": "stdout",
     "output_type": "stream",
     "text": [
      "T  : |0|1 |2 |3 |\n",
      "                 \n",
      "q0 : -R-XX-Ry-Rz-\n",
      "        |        \n",
      "q1 : ---XX-Rx----\n",
      "\n",
      "T  : |0|1 |2 |3 |\n",
      "\n",
      "Index Time  Qubits     Name       Gate      :     Value\n",
      "0     0     (0,)       theta      R_ion     :  0.200000\n",
      "1     0     (0,)       phi        R_ion     :  0.400000\n",
      "2     1     (1, 0)     chi        XX_ion    :  0.200000\n",
      "3     2     (0,)       theta      Ry_ion    :  0.100000\n",
      "4     2     (1,)       theta      Rx_ion    :  0.200000\n",
      "5     3     (0,)       theta      Rz_ion    :  0.300000\n",
      "\n"
     ]
    }
   ],
   "source": [
    "circuit = quasar.Circuit(N=2)\n",
    "circuit.R_ion(0, theta=0.2, phi=0.4)\n",
    "circuit.XX_ion(1, 0, chi=0.2)\n",
    "circuit.Ry_ion(0, theta=0.1)\n",
    "circuit.Rx_ion(1, theta=0.2)\n",
    "circuit.Rz_ion(0, theta=0.3)\n",
    "print(circuit)\n",
    "print('')\n",
    "print(circuit.param_str)"
   ]
  },
  {
   "cell_type": "code",
   "execution_count": null,
   "metadata": {},
   "outputs": [],
   "source": []
  }
 ],
 "metadata": {
  "kernelspec": {
   "display_name": "Python 3",
   "language": "python",
   "name": "python3"
  },
  "language_info": {
   "codemirror_mode": {
    "name": "ipython",
    "version": 3
   },
   "file_extension": ".py",
   "mimetype": "text/x-python",
   "name": "python",
   "nbconvert_exporter": "python",
   "pygments_lexer": "ipython3",
   "version": "3.7.1"
  }
 },
 "nbformat": 4,
 "nbformat_minor": 2
}
