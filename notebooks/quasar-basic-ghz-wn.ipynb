{
 "cells": [
  {
   "cell_type": "markdown",
   "metadata": {},
   "source": [
    "# Basic Quasar Demo: GHZ and $|W_N\\rangle$ Circuits"
   ]
  },
  {
   "cell_type": "markdown",
   "metadata": {},
   "source": [
    "## Circuit 1: GHZ Circuit\n",
    "This demo shows how to use quasar to produce an $N=4$ GHZ state $(|0000\\rangle + |1111\\rangle) / \\sqrt(2)$ and to perform 1- and 2-body Pauli expectation values for this state. This covers most of the day-to-day basics of quasar, including interactions with the `Circuit` and `Gate` classes, and construction, simulation, and expectation value observation of quantum circuits."
   ]
  },
  {
   "cell_type": "markdown",
   "metadata": {},
   "source": [
    "### Import\n",
    "First, import numpy and quasar:"
   ]
  },
  {
   "cell_type": "code",
   "execution_count": 1,
   "metadata": {},
   "outputs": [],
   "source": [
    "import numpy as np\n",
    "import quasar"
   ]
  },
  {
   "cell_type": "markdown",
   "metadata": {},
   "source": [
    "### Circuit Construction\n",
    "Now build the circuit. We always start with an empty quasar `Circuit` object with a known number of qubits $N$, arranged in a line. We then add quantum gates to the circuit with the `add_gate` function. `add_gate` takes positional kwargs of `T` (moment in time in the circuit, starting at 0) and `key` (single qubit index or tuple of qubit indices). `add_gate` also requires the `gate` kwarg which takes a quasar `Gate` object. Common `Gate` objects can be obtained as static attributes of the `Gate` class (for parameter-free gates like the `I` and `CNOT` gates seen here) or by calling static methods of the `Gate` class to provide the initial values of required paramters (for parameter-based gates like `Ry(theta)`). \n",
    "\n",
    "In this case, we start an empty `Circuit` object with $N=4$. We then add a Hadamard gate `H` to bring qubit 0 into the even superposition state $(|0\\rangle + |1\\rangle)/\\sqrt{2}$. Next, we add a chain of 3x controlled not gates `CNOT` to entangle all 4 qubits into the GHZ state $(|0000\\rangle + |1111\\rangle) / \\sqrt(2)$. Finally, we `print` the circuit, which draws a simple ASCII diagram of the circuit:"
   ]
  },
  {
   "cell_type": "code",
   "execution_count": 2,
   "metadata": {
    "scrolled": true
   },
   "outputs": [
    {
     "name": "stdout",
     "output_type": "stream",
     "text": [
      "T   : |0|1|2|3|\n",
      "               \n",
      "|0> : -H-@-----\n",
      "         |     \n",
      "|1> : ---X-@---\n",
      "           |   \n",
      "|2> : -----X-@-\n",
      "             | \n",
      "|3> : -------X-\n",
      "\n",
      "T   : |0|1|2|3|\n"
     ]
    }
   ],
   "source": [
    "circuit = quasar.Circuit(N=4)\n",
    "circuit.add_gate(T=0, key=0, gate=quasar.Gate.H)\n",
    "circuit.add_gate(T=1, key=(0,1), gate=quasar.Gate.CNOT)\n",
    "circuit.add_gate(T=2, key=(1,2), gate=quasar.Gate.CNOT)\n",
    "circuit.add_gate(T=3, key=(2,3), gate=quasar.Gate.CNOT)\n",
    "print(circuit)"
   ]
  },
  {
   "cell_type": "code",
   "execution_count": 3,
   "metadata": {},
   "outputs": [
    {
     "name": "stdout",
     "output_type": "stream",
     "text": [
      "N: 4\n",
      "nmoment: 4\n",
      "ngate: 4\n",
      "ngate1: 1\n",
      "ngate2: 3\n"
     ]
    }
   ],
   "source": [
    "print('N: %d' % circuit.N)\n",
    "print('nmoment: %d' % circuit.nmoment)\n",
    "print('ngate: %d' % circuit.ngate)\n",
    "print('ngate1: %d' % circuit.ngate1)\n",
    "print('ngate2: %d' % circuit.ngate2)"
   ]
  },
  {
   "cell_type": "markdown",
   "metadata": {},
   "source": [
    "### Simulation\n",
    "Now we simulate the propagation of the state vector through the circuit, using the `simulate` method:"
   ]
  },
  {
   "cell_type": "code",
   "execution_count": 4,
   "metadata": {
    "scrolled": true
   },
   "outputs": [
    {
     "name": "stdout",
     "output_type": "stream",
     "text": [
      "[0.70710678+0.j 0.        +0.j 0.        +0.j 0.        +0.j\n",
      " 0.        +0.j 0.        +0.j 0.        +0.j 0.        +0.j\n",
      " 0.        +0.j 0.        +0.j 0.        +0.j 0.        +0.j\n",
      " 0.        +0.j 0.        +0.j 0.        +0.j 0.70710678+0.j]\n",
      "complex128\n"
     ]
    }
   ],
   "source": [
    "wfn = circuit.simulate()\n",
    "print(wfn)\n",
    "print(wfn.dtype)"
   ]
  },
  {
   "cell_type": "markdown",
   "metadata": {},
   "source": [
    "State vector simulation defaults to `np.complex128` precision (double complex), but we can override this to a real type if we know that all gate operations are real [$U(2^N)$ vs $O(2^N)$] or if we want reduced precision, by invoking the `dtype` kwarg:"
   ]
  },
  {
   "cell_type": "code",
   "execution_count": 5,
   "metadata": {},
   "outputs": [
    {
     "name": "stdout",
     "output_type": "stream",
     "text": [
      "[0.70710677 0.         0.         0.         0.         0.\n",
      " 0.         0.         0.         0.         0.         0.\n",
      " 0.         0.         0.         0.70710677]\n",
      "float32\n"
     ]
    },
    {
     "name": "stderr",
     "output_type": "stream",
     "text": [
      "/Users/parrish/Code/quasar/quasar/quasar.py:1533: ComplexWarning: Casting complex values to real discards the imaginary part\n",
      "  U=np.array(gate.U, dtype=dtype),\n",
      "/Users/parrish/Code/quasar/quasar/quasar.py:1540: ComplexWarning: Casting complex values to real discards the imaginary part\n",
      "  U=np.array(gate.U, dtype=dtype),\n"
     ]
    }
   ],
   "source": [
    "wfn = circuit.simulate(dtype=np.float32)\n",
    "print(wfn)\n",
    "print(wfn.dtype)"
   ]
  },
  {
   "cell_type": "markdown",
   "metadata": {},
   "source": [
    "By default, circuit simulation starts from the reference state $|00\\ldots \\rangle$. We can also provide a custom starting state vector through the `wfn` kwarg:"
   ]
  },
  {
   "cell_type": "code",
   "execution_count": 6,
   "metadata": {},
   "outputs": [
    {
     "name": "stdout",
     "output_type": "stream",
     "text": [
      "[0.70710678+0.j 0.        +0.j 0.        +0.j 0.        +0.j\n",
      " 0.        +0.j 0.        +0.j 0.        +0.j 0.        +0.j\n",
      " 0.        +0.j 0.        +0.j 0.        +0.j 0.        +0.j\n",
      " 0.        +0.j 0.        +0.j 0.        +0.j 0.70710678+0.j]\n"
     ]
    }
   ],
   "source": [
    "wfn0 = np.zeros((2**circuit.N), dtype=np.complex128)\n",
    "wfn0[0] = 1.0 # The reference ket |0000>\n",
    "wfn = circuit.simulate(wfn=wfn0)\n",
    "print(wfn)"
   ]
  },
  {
   "cell_type": "markdown",
   "metadata": {},
   "source": [
    "### Detailed Simulation Steps\n",
    "Sometimes it can really help debugging to see the state vector through time during circuit evolution. To this end, the `simulate_steps` method yields the time moment and state vector after each time moment in the circuit. Note that the yielded `wfn` array is a buffer owned by `simulate_steps` to avoid repeated memory allocations in deep circuit simulations - for long term storage of the wavefunction state vector history, this value should be copied. `simulate_steps` takes the same arguments as `simulate`: "
   ]
  },
  {
   "cell_type": "code",
   "execution_count": 7,
   "metadata": {},
   "outputs": [
    {
     "name": "stdout",
     "output_type": "stream",
     "text": [
      "Time: 0\n",
      "\n",
      "[0.70710678 0.         0.         0.         0.         0.\n",
      " 0.         0.         0.70710678 0.         0.         0.\n",
      " 0.         0.         0.         0.        ]\n",
      "Time: 1\n",
      "\n",
      "[0.70710678 0.         0.         0.         0.         0.\n",
      " 0.         0.         0.         0.         0.         0.\n",
      " 0.70710678 0.         0.         0.        ]\n",
      "Time: 2\n",
      "\n",
      "[0.70710678 0.         0.         0.         0.         0.\n",
      " 0.         0.         0.         0.         0.         0.\n",
      " 0.         0.         0.70710678 0.        ]\n",
      "Time: 3\n",
      "\n",
      "[0.70710678 0.         0.         0.         0.         0.\n",
      " 0.         0.         0.         0.         0.         0.\n",
      " 0.         0.         0.         0.70710678]\n"
     ]
    }
   ],
   "source": [
    "for T, wfn in circuit.simulate_steps(dtype=np.float64):\n",
    "        print('Time: %d\\n' % T)\n",
    "        print(wfn)"
   ]
  },
  {
   "cell_type": "markdown",
   "metadata": {},
   "source": [
    "### Quasar Qubit Ordering\n",
    "Looking at the details of the simulation steps above, we can see that the state vector after the Hadamard gate at time 0 on qubit 0 corresponded to a coefficient of $+1/\\sqrt{2}$ in the 0-th and 8-th positions of the state vector, corresponding to a state of $(|0000\\rangle + |1000\\rangle) / \\sqrt{2}$. This is the standard QIS ordering of Nielson and Chuang - this ordering is used in, e.g., Cirq, but the opposite ordering is also sometimes seen, e.g., in Qiskit. For explicit definition of our ordering convention, consider the quasar CNOT gate: "
   ]
  },
  {
   "cell_type": "code",
   "execution_count": 8,
   "metadata": {},
   "outputs": [
    {
     "name": "stdout",
     "output_type": "stream",
     "text": [
      "[[1.+0.j 0.+0.j 0.+0.j 0.+0.j]\n",
      " [0.+0.j 1.+0.j 0.+0.j 0.+0.j]\n",
      " [0.+0.j 0.+0.j 0.+0.j 1.+0.j]\n",
      " [0.+0.j 0.+0.j 1.+0.j 0.+0.j]]\n"
     ]
    }
   ],
   "source": [
    "print(quasar.Gate.CNOT.U)"
   ]
  },
  {
   "cell_type": "markdown",
   "metadata": {},
   "source": [
    "### 1-Body Density Matrices and Pauli Expectation Values\n",
    "As a quantum chemist, the state vector is a highly compelling object, but it cannot ever be observed. Instead, we must content ourselves with observable quantities such as low-order density matrices. Utility routines are provided in quasar to compute these by contractions of the wavefunction, i.e., assuming infinite statistical convergence of observations. The 1-particle (transition) density matrix (1PDM) is defined as $D_{pq}^{A} = \\langle\\Psi_1 | \\left (|p_A\\rangle \\langle|q_A |\\right) | \\Psi_2 \\rangle$. This can be computed for a given state vector or pair of state vectors by the `compute_1pdm` static method of `Circuit`:"
   ]
  },
  {
   "cell_type": "code",
   "execution_count": 9,
   "metadata": {},
   "outputs": [
    {
     "name": "stdout",
     "output_type": "stream",
     "text": [
      "[[0.5 0. ]\n",
      " [0.  0.5]]\n"
     ]
    }
   ],
   "source": [
    "DA = quasar.Circuit.compute_1pdm(wfn1=wfn, wfn2=wfn, A=0)\n",
    "print(DA)"
   ]
  },
  {
   "cell_type": "markdown",
   "metadata": {},
   "source": [
    "Often in QIS, one works in the more-familiar ansatz of Pauli expectation values restricted to a diagonal (non-transition) case. To facilitate this, we also provide the `compute_pauli_1` static method of `Circuit`. This returns a list of real Pauli expectation values corresponding to $\\langle \\Psi | \\hat O_A | \\Psi \\rangle$ for operators $\\hat O_A \\in [\\hat I_A, \\hat X_A, \\hat Y_A, \\hat Z_A]$:"
   ]
  },
  {
   "cell_type": "code",
   "execution_count": 10,
   "metadata": {},
   "outputs": [
    {
     "name": "stdout",
     "output_type": "stream",
     "text": [
      "[1. 0. 0. 0.]\n"
     ]
    }
   ],
   "source": [
    "PA = quasar.Circuit.compute_pauli_1(wfn=wfn, A=0)\n",
    "print(PA)"
   ]
  },
  {
   "cell_type": "markdown",
   "metadata": {},
   "source": [
    "Both of these observations indicate that the GHZ state has $\\langle\\hat Z_0\\rangle = 0$. Repeating for $A>0$ would show the same for all qubits."
   ]
  },
  {
   "cell_type": "markdown",
   "metadata": {},
   "source": [
    "### 2-Body Density Matrices and Pauli Expectation Values\n",
    "Similarly, we can define the 2-particle (transition) density matrix (2PDM) as $D_{pqrs}^{AB} = \\langle\\Psi_1 | \\left (|p_A\\rangle \\langle|q_A \\otimes |r_B \\rangle \\langle s_B| \\right) | \\Psi_2 \\rangle$. This can be computed for a given state vector or pair of state vectors by the `compute_2pdm` static method of `Circuit`, and is returned with $|p_A\\rangle \\otimes |r_B\\rangle$ on the rows and $\\langle q_A | \\otimes \\langle s_B|$ on the columns:"
   ]
  },
  {
   "cell_type": "code",
   "execution_count": 11,
   "metadata": {},
   "outputs": [
    {
     "name": "stdout",
     "output_type": "stream",
     "text": [
      "[[0.5 0.  0.  0. ]\n",
      " [0.  0.  0.  0. ]\n",
      " [0.  0.  0.  0. ]\n",
      " [0.  0.  0.  0.5]]\n"
     ]
    }
   ],
   "source": [
    "DAB = quasar.Circuit.compute_2pdm(wfn1=wfn, wfn2=wfn, A=0, B=1)\n",
    "print(DAB)"
   ]
  },
  {
   "cell_type": "markdown",
   "metadata": {},
   "source": [
    "Similarly, we can define the 2-body Pauli expectation vmalues restricted to a diagonal (non-transition) case. $\\langle \\Psi | \\hat O_A \\otimes \\hat P_B | \\Psi \\rangle$ for operators $\\hat O_A \\in [\\hat I_A, \\hat X_A, \\hat Y_A, \\hat Z_A]$ (in rows) and $\\hat P_B \\in [\\hat I_B, \\hat X_B, \\hat Y_B, \\hat Z_B]$ (in columns):"
   ]
  },
  {
   "cell_type": "code",
   "execution_count": 12,
   "metadata": {},
   "outputs": [
    {
     "name": "stdout",
     "output_type": "stream",
     "text": [
      "[[1. 0. 0. 0.]\n",
      " [0. 0. 0. 0.]\n",
      " [0. 0. 0. 0.]\n",
      " [0. 0. 0. 1.]]\n"
     ]
    }
   ],
   "source": [
    "P = circuit.compute_pauli_2(wfn=wfn, A=0, B=1)\n",
    "print(P)"
   ]
  },
  {
   "cell_type": "markdown",
   "metadata": {},
   "source": [
    "This study shows the remarkable property of the GHZ state: looking at the observations any one qubit, we are equally likely to get $|0\\rangle$ or $|1\\rangle$ ($\\langle \\hat Z_A \\rangle = 0$), but if we look at the simultaneous observations of any two qubits, they are perfectly positively correlated ($\\langle Z_A \\otimes Z_B \\rangle = 1$). "
   ]
  },
  {
   "cell_type": "markdown",
   "metadata": {},
   "source": [
    "## Circuit 2: $|W_N\\rangle$ Circuit\n",
    "This demo shows how to construct a $|W_N\\rangle$ state $(|1000\\rangle + |0100\\rangle + |0010\\rangle + |0001\\rangle) / 2$, and demonstrates interacting with circuit parameters. We first construct our circuit, making noteworthy use of a number of \"controlled F\" (CF) gates, each of which requires an input parameter $\\theta$:\n",
    "\\begin{equation}\n",
    "\\hat U_{\\mathrm{CF}} (\\theta)\n",
    "\\equiv\n",
    "\\left [\n",
    "\\begin{array}{cccc}\n",
    "1 & 0 & 0 & 0 \\\\\n",
    "0 & 1 & 0 & 0 \\\\\n",
    "0 & 0 & +\\cos(\\theta) & +\\sin(\\theta) \\\\\n",
    "0 & 0 & +\\sin(\\theta) & -\\cos(\\theta) \\\\\n",
    "\\end{array}\n",
    "\\right ]\n",
    "\\end{equation}\n",
    "The circuit is:"
   ]
  },
  {
   "cell_type": "code",
   "execution_count": 13,
   "metadata": {
    "scrolled": true
   },
   "outputs": [
    {
     "name": "stdout",
     "output_type": "stream",
     "text": [
      "T   : |0|1|2|3|4|5|6|7|8|9|\n",
      "                           \n",
      "|0> : -X-@-----------X-X-X-\n",
      "         |           | | | \n",
      "|1> : ---F-@-----X-X-|-|-@-\n",
      "           |     | | | |   \n",
      "|2> : -----F-@-X-|-@-|-@---\n",
      "             | | |   |     \n",
      "|3> : -------F-@-@---@-----\n",
      "\n",
      "T   : |0|1|2|3|4|5|6|7|8|9|\n"
     ]
    }
   ],
   "source": [
    "A = np.arccos(0.5)\n",
    "B = np.arccos(0.5 / np.sin(A))\n",
    "C = np.arccos(0.5 / (np.sin(A) * np.sin(B)))\n",
    "circuit = quasar.Circuit(N=4)\n",
    "circuit.add_gate(T=0, key=0, gate=quasar.Gate.X)\n",
    "circuit.add_gate(T=1, key=(0,1), gate=quasar.Gate.CF(theta=A))\n",
    "circuit.add_gate(T=2, key=(1,2), gate=quasar.Gate.CF(theta=B))\n",
    "circuit.add_gate(T=3, key=(2,3), gate=quasar.Gate.CF(theta=C))\n",
    "circuit.add_gate(T=4, key=(3,2), gate=quasar.Gate.CNOT)\n",
    "circuit.add_gate(T=5, key=(3,1), gate=quasar.Gate.CNOT)\n",
    "circuit.add_gate(T=6, key=(2,1), gate=quasar.Gate.CNOT)\n",
    "circuit.add_gate(T=7, key=(3,0), gate=quasar.Gate.CNOT)\n",
    "circuit.add_gate(T=8, key=(2,0), gate=quasar.Gate.CNOT)\n",
    "circuit.add_gate(T=9, key=(1,0), gate=quasar.Gate.CNOT)\n",
    "print(circuit)"
   ]
  },
  {
   "cell_type": "markdown",
   "metadata": {},
   "source": [
    "The resultant state vector is:"
   ]
  },
  {
   "cell_type": "code",
   "execution_count": 14,
   "metadata": {},
   "outputs": [
    {
     "name": "stdout",
     "output_type": "stream",
     "text": [
      "[0. +0.j 0.5+0.j 0.5+0.j 0. +0.j 0.5+0.j 0. +0.j 0. +0.j 0. +0.j 0.5+0.j\n",
      " 0. +0.j 0. +0.j 0. +0.j 0. +0.j 0. +0.j 0. +0.j 0. +0.j]\n"
     ]
    }
   ],
   "source": [
    "print(circuit.simulate())"
   ]
  },
  {
   "cell_type": "markdown",
   "metadata": {},
   "source": [
    "This provides the \"canonical\" $|W_N\\rangle$ state, with same-amplitude configurations. However, by tweaking the parameters of the CF gates, we can easily produce configuration interaction singles (CIS) states with variable-amplitude configurations (see https://arxiv.org/pdf/1901.01234.pdf for details). To accomplish, there are a number of utility methods to access the parameters of a circuit. Note that all param entries are always sorted lexically according to param_keys [tuple of `(T, key, param_name_in_gate)`]:"
   ]
  },
  {
   "cell_type": "code",
   "execution_count": 15,
   "metadata": {},
   "outputs": [
    {
     "name": "stdout",
     "output_type": "stream",
     "text": [
      "3\n",
      "[(1, (0, 1), 'theta'), (2, (1, 2), 'theta'), (3, (2, 3), 'theta')]\n",
      "[1.0471975511965976, 0.9553166181245092, 0.7853981633974481]\n",
      "OrderedDict([((1, (0, 1), 'theta'), 1.0471975511965976), ((2, (1, 2), 'theta'), 0.9553166181245092), ((3, (2, 3), 'theta'), 0.7853981633974481)])\n"
     ]
    }
   ],
   "source": [
    "print(circuit.nparam)\n",
    "print(circuit.param_keys)\n",
    "print(circuit.param_values)\n",
    "print(circuit.params)"
   ]
  },
  {
   "cell_type": "markdown",
   "metadata": {},
   "source": [
    "We also provide a utility string to print a summary of the parameter values:"
   ]
  },
  {
   "cell_type": "code",
   "execution_count": 16,
   "metadata": {},
   "outputs": [
    {
     "name": "stdout",
     "output_type": "stream",
     "text": [
      "T     Qubits     Name       Gate      :                    Value\n",
      "1     (0, 1)     theta      CF        :   1.0471975511965976E+00\n",
      "2     (1, 2)     theta      CF        :   9.5531661812450919E-01\n",
      "3     (2, 3)     theta      CF        :   7.8539816339744806E-01\n",
      "\n"
     ]
    }
   ],
   "source": [
    "print(circuit.param_str)"
   ]
  },
  {
   "cell_type": "markdown",
   "metadata": {},
   "source": [
    "Before tweaking parameters, we must point out that `Gate` and `Circuit` objects are *mutable* with respect to parameter values. Therefore, we often want to make a copy of these objects before tweaking parameters. This can be accomplished by the `Gate` or `Circuit` copy methods:"
   ]
  },
  {
   "cell_type": "code",
   "execution_count": 17,
   "metadata": {},
   "outputs": [],
   "source": [
    "circuit2 = circuit.copy()"
   ]
  },
  {
   "cell_type": "markdown",
   "metadata": {},
   "source": [
    "One way to set circuit parameters is by providing a dictionary of key -> value pairs (most useful for tweaking only a subset of parameters):"
   ]
  },
  {
   "cell_type": "code",
   "execution_count": 18,
   "metadata": {},
   "outputs": [],
   "source": [
    "circuit2.set_params({ (1, (0, 1), 'theta') : 1.0 })"
   ]
  },
  {
   "cell_type": "markdown",
   "metadata": {},
   "source": [
    "This affects the parameters of `circuit2`:"
   ]
  },
  {
   "cell_type": "code",
   "execution_count": 19,
   "metadata": {},
   "outputs": [
    {
     "name": "stdout",
     "output_type": "stream",
     "text": [
      "T     Qubits     Name       Gate      :                    Value\n",
      "1     (0, 1)     theta      CF        :   1.0000000000000000E+00\n",
      "2     (1, 2)     theta      CF        :   9.5531661812450919E-01\n",
      "3     (2, 3)     theta      CF        :   7.8539816339744806E-01\n",
      "\n"
     ]
    }
   ],
   "source": [
    "print(circuit2.param_str)"
   ]
  },
  {
   "cell_type": "markdown",
   "metadata": {},
   "source": [
    "But not `circuit`:"
   ]
  },
  {
   "cell_type": "code",
   "execution_count": 20,
   "metadata": {},
   "outputs": [
    {
     "name": "stdout",
     "output_type": "stream",
     "text": [
      "T     Qubits     Name       Gate      :                    Value\n",
      "1     (0, 1)     theta      CF        :   1.0471975511965976E+00\n",
      "2     (1, 2)     theta      CF        :   9.5531661812450919E-01\n",
      "3     (2, 3)     theta      CF        :   7.8539816339744806E-01\n",
      "\n"
     ]
    }
   ],
   "source": [
    "print(circuit.param_str)"
   ]
  },
  {
   "cell_type": "markdown",
   "metadata": {},
   "source": [
    "Another way to set circuit parameters is to provide the values of all parameters in an iterable with the same order as `param_keys` (useful in optimizations, in which all parameters are usually treated as an ordered array):"
   ]
  },
  {
   "cell_type": "code",
   "execution_count": 21,
   "metadata": {},
   "outputs": [
    {
     "name": "stdout",
     "output_type": "stream",
     "text": [
      "T     Qubits     Name       Gate      :                    Value\n",
      "1     (0, 1)     theta      CF        :   1.0000000000000000E+00\n",
      "2     (1, 2)     theta      CF        :   1.0000000000000000E+00\n",
      "3     (2, 3)     theta      CF        :   1.0000000000000000E+00\n",
      "\n"
     ]
    }
   ],
   "source": [
    "circuit2.set_param_values([1.0]*3)\n",
    "print(circuit2.param_str)"
   ]
  },
  {
   "cell_type": "markdown",
   "metadata": {},
   "source": [
    "This now provides for variable-amplitude CIS states:"
   ]
  },
  {
   "cell_type": "code",
   "execution_count": 22,
   "metadata": {
    "scrolled": true
   },
   "outputs": [
    {
     "name": "stdout",
     "output_type": "stream",
     "text": [
      "[0.        +0.j 0.59582324+0.j 0.3825737 +0.j 0.        +0.j\n",
      " 0.45464871+0.j 0.        +0.j 0.        +0.j 0.        +0.j\n",
      " 0.54030231+0.j 0.        +0.j 0.        +0.j 0.        +0.j\n",
      " 0.        +0.j 0.        +0.j 0.        +0.j 0.        +0.j]\n"
     ]
    }
   ],
   "source": [
    "print(circuit2.simulate())"
   ]
  },
  {
   "cell_type": "markdown",
   "metadata": {},
   "source": [
    "## Advanced Features\n",
    "Side note: it is often useful to access and inspect individual gates:"
   ]
  },
  {
   "cell_type": "code",
   "execution_count": 23,
   "metadata": {
    "scrolled": false
   },
   "outputs": [
    {
     "name": "stdout",
     "output_type": "stream",
     "text": [
      "OrderedDict([('theta', 1.0)])\n",
      "[[ 1.        +0.j  0.        +0.j  0.        +0.j  0.        +0.j]\n",
      " [ 0.        +0.j  1.        +0.j  0.        +0.j  0.        +0.j]\n",
      " [ 0.        +0.j  0.        +0.j  0.54030231+0.j  0.84147098+0.j]\n",
      " [ 0.        +0.j  0.        +0.j  0.84147098+0.j -0.54030231+0.j]]\n"
     ]
    }
   ],
   "source": [
    "CF01 = circuit2.gate(T=1, key=(0,1))\n",
    "print(CF01.params)\n",
    "print(CF01.U)"
   ]
  },
  {
   "cell_type": "markdown",
   "metadata": {},
   "source": [
    "And for advanced users, it can be useful to know about the following `Circuit` attributes:"
   ]
  },
  {
   "cell_type": "code",
   "execution_count": 24,
   "metadata": {},
   "outputs": [
    {
     "name": "stdout",
     "output_type": "stream",
     "text": [
      "OrderedDict([((0, (0,)), <quasar.quasar.Gate object at 0x111413160>), ((1, (0, 1)), <quasar.quasar.Gate object at 0x11141a780>), ((2, (1, 2)), <quasar.quasar.Gate object at 0x11141a748>), ((3, (2, 3)), <quasar.quasar.Gate object at 0x11126c780>), ((4, (3, 2)), <quasar.quasar.Gate object at 0x111413390>), ((5, (3, 1)), <quasar.quasar.Gate object at 0x111413390>), ((6, (2, 1)), <quasar.quasar.Gate object at 0x111413390>), ((7, (3, 0)), <quasar.quasar.Gate object at 0x111413390>), ((8, (2, 0)), <quasar.quasar.Gate object at 0x111413390>), ((9, (1, 0)), <quasar.quasar.Gate object at 0x111413390>)])\n"
     ]
    }
   ],
   "source": [
    "print(circuit.gates)"
   ]
  },
  {
   "cell_type": "code",
   "execution_count": 25,
   "metadata": {},
   "outputs": [
    {
     "name": "stdout",
     "output_type": "stream",
     "text": [
      "[0, 1, 2, 3, 4, 5, 6, 7, 8, 9]\n"
     ]
    }
   ],
   "source": [
    "print(circuit.Ts)"
   ]
  },
  {
   "cell_type": "code",
   "execution_count": 26,
   "metadata": {},
   "outputs": [
    {
     "name": "stdout",
     "output_type": "stream",
     "text": [
      "{(7, 3), (9, 1), (8, 0), (2, 1), (6, 2), (5, 1), (9, 0), (3, 3), (2, 2), (1, 1), (3, 2), (0, 0), (8, 2), (4, 2), (1, 0), (5, 3), (7, 0), (6, 1), (4, 3)}\n"
     ]
    }
   ],
   "source": [
    "print(circuit.TAs)"
   ]
  }
 ],
 "metadata": {
  "kernelspec": {
   "display_name": "Python 3",
   "language": "python",
   "name": "python3"
  },
  "language_info": {
   "codemirror_mode": {
    "name": "ipython",
    "version": 3
   },
   "file_extension": ".py",
   "mimetype": "text/x-python",
   "name": "python",
   "nbconvert_exporter": "python",
   "pygments_lexer": "ipython3",
   "version": "3.7.1"
  }
 },
 "nbformat": 4,
 "nbformat_minor": 2
}
