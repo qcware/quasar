{
 "cells": [
  {
   "cell_type": "markdown",
   "metadata": {},
   "source": [
    "# Quasar Demo Jupyter Notebooks\n",
    "The following is a small collection of Jupyter notebooks designed to demonstrate the key features of `quasar` and help new users get started:\n",
    "\n",
    " * [quasar-basic-ghz-wn.ipynb](quasar-basic-ghz-wn.ipynb)\n",
    " * [quasar-circuit-composition.ipynb](quasar-circuit-composition.ipynb)\n",
    " * [quasar-gate-library.ipynb](quasar-gate-library.ipynb)\n",
    " * [quasar-custom-gates.ipynb](quasar-custom-gates.ipynb)"
   ]
  }
 ],
 "metadata": {
  "kernelspec": {
   "display_name": "Python 3",
   "language": "python",
   "name": "python3"
  },
  "language_info": {
   "codemirror_mode": {
    "name": "ipython",
    "version": 3
   },
   "file_extension": ".py",
   "mimetype": "text/x-python",
   "name": "python",
   "nbconvert_exporter": "python",
   "pygments_lexer": "ipython3",
   "version": "3.7.1"
  }
 },
 "nbformat": 4,
 "nbformat_minor": 2
}
