{
 "cells": [
  {
   "cell_type": "markdown",
   "metadata": {},
   "source": [
    "# Quasar Demo"
   ]
  },
  {
   "cell_type": "code",
   "execution_count": 1,
   "metadata": {},
   "outputs": [],
   "source": [
    "import quasar"
   ]
  },
  {
   "cell_type": "markdown",
   "metadata": {},
   "source": [
    "## Layer 1: The Quasar Circuit Class"
   ]
  },
  {
   "cell_type": "markdown",
   "metadata": {},
   "source": [
    "### Simple Example: a GHZ Circuit"
   ]
  },
  {
   "cell_type": "code",
   "execution_count": 2,
   "metadata": {},
   "outputs": [
    {
     "name": "stdout",
     "output_type": "stream",
     "text": [
      "T  : |0|1|2|\n",
      "            \n",
      "q0 : -H-@---\n",
      "        |   \n",
      "q1 : ---X-@-\n",
      "          | \n",
      "q2 : -----X-\n",
      "\n",
      "T  : |0|1|2|\n"
     ]
    }
   ],
   "source": [
    "circuit = quasar.Circuit(N=3).H(0).CX(0,1).CX(1,2)\n",
    "print(circuit)"
   ]
  },
  {
   "cell_type": "code",
   "execution_count": 3,
   "metadata": {},
   "outputs": [
    {
     "name": "stdout",
     "output_type": "stream",
     "text": [
      "0   (0,):  H\n",
      "1 (0, 1): CX\n",
      "2 (1, 2): CX\n"
     ]
    }
   ],
   "source": [
    "for key, gate in circuit.gates.items():\n",
    "    time, qubits = key # Gates are keyed on (time, qubits) pairs\n",
    "    print('%1d %6s: %2s' % (time, qubits, gate))"
   ]
  },
  {
   "cell_type": "code",
   "execution_count": 4,
   "metadata": {},
   "outputs": [
    {
     "name": "stdout",
     "output_type": "stream",
     "text": [
      "CX\n",
      "CX\n",
      "2\n",
      "[[1. 0. 0. 0.]\n",
      " [0. 1. 0. 0.]\n",
      " [0. 0. 0. 1.]\n",
      " [0. 0. 1. 0.]]\n",
      "OrderedDict()\n"
     ]
    }
   ],
   "source": [
    "gate = circuit.gate(time=1, qubits=(0,1))\n",
    "print(gate)\n",
    "print(gate.name)\n",
    "print(gate.N)\n",
    "print(gate.U.real)\n",
    "print(gate.params)"
   ]
  },
  {
   "cell_type": "code",
   "execution_count": 5,
   "metadata": {},
   "outputs": [
    {
     "name": "stdout",
     "output_type": "stream",
     "text": [
      "3\n",
      "3\n",
      "1\n",
      "2\n",
      "3\n"
     ]
    }
   ],
   "source": [
    "print(circuit.N)\n",
    "print(circuit.ngate)\n",
    "print(circuit.ngate1)\n",
    "print(circuit.ngate2)\n",
    "print(circuit.ntime)"
   ]
  },
  {
   "cell_type": "markdown",
   "metadata": {},
   "source": [
    "### Next Example: a CIS Circuit"
   ]
  },
  {
   "cell_type": "code",
   "execution_count": 6,
   "metadata": {},
   "outputs": [
    {
     "name": "stdout",
     "output_type": "stream",
     "text": [
      "T  : |0 |1|2 |3|\n",
      "                \n",
      "q0 : ----@----X-\n",
      "         |    | \n",
      "q1 : -Ry-Z-Ry-@-\n",
      "\n",
      "T  : |0 |1|2 |3|\n"
     ]
    }
   ],
   "source": [
    "gadget = quasar.Circuit(N=2).Ry(1).CZ(0,1).Ry(1).CX(1,0)\n",
    "print(gadget)"
   ]
  },
  {
   "cell_type": "code",
   "execution_count": 7,
   "metadata": {},
   "outputs": [
    {
     "name": "stdout",
     "output_type": "stream",
     "text": [
      "T  : |0 |1|2 |3 |4|5 |6 |7|8 |9|\n",
      "                                \n",
      "q0 : -Ry-@----X-----------------\n",
      "         |    |                 \n",
      "q1 : -Ry-Z-Ry-@--@----X---------\n",
      "                 |    |         \n",
      "q2 : ---------Ry-Z-Ry-@--@----X-\n",
      "                         |    | \n",
      "q3 : -----------------Ry-Z-Ry-@-\n",
      "\n",
      "T  : |0 |1|2 |3 |4|5 |6 |7|8 |9|\n"
     ]
    }
   ],
   "source": [
    "circuit = quasar.Circuit(N=4)\n",
    "circuit.Ry(0, theta=0.1)\n",
    "circuit.add_circuit(gadget, (0,1))\n",
    "circuit.add_circuit(gadget, (1,2))\n",
    "circuit.add_circuit(gadget, (2,3))\n",
    "print(circuit)"
   ]
  },
  {
   "cell_type": "code",
   "execution_count": 8,
   "metadata": {},
   "outputs": [
    {
     "name": "stdout",
     "output_type": "stream",
     "text": [
      "Index Time  Qubits     Name       Gate      :     Value\n",
      "0     0     (0,)       theta      Ry        :  0.100000\n",
      "1     0     (1,)       theta      Ry        :  0.000000\n",
      "2     2     (1,)       theta      Ry        :  0.000000\n",
      "3     3     (2,)       theta      Ry        :  0.000000\n",
      "4     5     (2,)       theta      Ry        :  0.000000\n",
      "5     6     (3,)       theta      Ry        :  0.000000\n",
      "6     8     (3,)       theta      Ry        :  0.000000\n",
      "\n"
     ]
    }
   ],
   "source": [
    "print(circuit.param_str)"
   ]
  },
  {
   "cell_type": "code",
   "execution_count": 9,
   "metadata": {},
   "outputs": [
    {
     "name": "stdout",
     "output_type": "stream",
     "text": [
      " 0   (0,)  theta:       0.100000\n",
      " 0   (1,)  theta:       0.000000\n",
      " 2   (1,)  theta:       0.000000\n",
      " 3   (2,)  theta:       0.000000\n",
      " 5   (2,)  theta:       0.000000\n",
      " 6   (3,)  theta:       0.000000\n",
      " 8   (3,)  theta:       0.000000\n"
     ]
    }
   ],
   "source": [
    "for key, param in circuit.params.items():\n",
    "    time, qubits, name = key\n",
    "    print('%2d %6s %6s: %14.6f' % (time, qubits, name, param))"
   ]
  },
  {
   "cell_type": "code",
   "execution_count": 10,
   "metadata": {},
   "outputs": [
    {
     "name": "stdout",
     "output_type": "stream",
     "text": [
      "Index Time  Qubits     Name       Gate      :     Value\n",
      "0     0     (0,)       theta      Ry        :  0.600000\n",
      "1     0     (1,)       theta      Ry        :  0.500000\n",
      "2     2     (1,)       theta      Ry        : -0.500000\n",
      "3     3     (2,)       theta      Ry        :  0.400000\n",
      "4     5     (2,)       theta      Ry        : -0.400000\n",
      "5     6     (3,)       theta      Ry        :  0.300000\n",
      "6     8     (3,)       theta      Ry        : -0.300000\n",
      "\n"
     ]
    }
   ],
   "source": [
    "circuit.set_param_values([0.6, 0.5, -0.5, 0.4, -0.4, 0.3, -0.3])\n",
    "print(circuit.param_str)"
   ]
  },
  {
   "cell_type": "code",
   "execution_count": 11,
   "metadata": {},
   "outputs": [
    {
     "name": "stdout",
     "output_type": "stream",
     "text": [
      "[ 0.825 -0.192  0.281  0.    -0.331  0.     0.     0.     0.305  0.\n",
      "  0.     0.     0.     0.    -0.     0.   ]\n"
     ]
    }
   ],
   "source": [
    "print(circuit.simulate().real.round(3))"
   ]
  },
  {
   "cell_type": "code",
   "execution_count": 12,
   "metadata": {},
   "outputs": [
    {
     "name": "stdout",
     "output_type": "stream",
     "text": [
      "+0.825336|0000>\n",
      "-0.192451|0001>\n",
      "+0.281305|0010>\n",
      "-0.331026|0100>\n",
      "+0.305078|1000>\n"
     ]
    }
   ],
   "source": [
    "print(quasar.format_statevector(circuit.simulate(), real=True))"
   ]
  },
  {
   "cell_type": "code",
   "execution_count": 13,
   "metadata": {},
   "outputs": [
    {
     "name": "stdout",
     "output_type": "stream",
     "text": [
      "|0000> : 683\n",
      "|0001> :  35\n",
      "|0010> :  77\n",
      "|0100> : 109\n",
      "|1000> :  96\n",
      "\n"
     ]
    }
   ],
   "source": [
    "measurement = circuit.measure(nmeasurement=1000)\n",
    "print(measurement)"
   ]
  },
  {
   "cell_type": "code",
   "execution_count": 14,
   "metadata": {},
   "outputs": [
    {
     "name": "stdout",
     "output_type": "stream",
     "text": [
      "109\n"
     ]
    }
   ],
   "source": [
    "print(measurement['0100'])"
   ]
  },
  {
   "cell_type": "code",
   "execution_count": 15,
   "metadata": {},
   "outputs": [
    {
     "name": "stdout",
     "output_type": "stream",
     "text": [
      " 0000 : 683\n",
      " 0001 :  35\n",
      " 0010 :  77\n",
      " 0100 : 109\n",
      " 1000 :  96\n"
     ]
    }
   ],
   "source": [
    "for ket, count in measurement.items():\n",
    "    print('%5s : %3d' % (ket, count))"
   ]
  },
  {
   "cell_type": "code",
   "execution_count": 16,
   "metadata": {},
   "outputs": [
    {
     "name": "stdout",
     "output_type": "stream",
     "text": [
      "1\n",
      "0\n",
      "0\n",
      "0\n"
     ]
    }
   ],
   "source": [
    "print(ket[0])\n",
    "print(ket[1])\n",
    "print(ket[2])\n",
    "print(ket[3])"
   ]
  },
  {
   "cell_type": "markdown",
   "metadata": {},
   "source": [
    "## Layer 2: Backends, Statevectors, Measurements, and Paulis"
   ]
  },
  {
   "cell_type": "code",
   "execution_count": 17,
   "metadata": {},
   "outputs": [
    {
     "name": "stdout",
     "output_type": "stream",
     "text": [
      "T  : |0|1|2|\n",
      "            \n",
      "q0 : -H-@---\n",
      "        |   \n",
      "q1 : ---X-@-\n",
      "          | \n",
      "q2 : -----X-\n",
      "\n",
      "T  : |0|1|2|\n"
     ]
    }
   ],
   "source": [
    "quasar_circuit = quasar.Circuit(N=3).H(0).CX(0,1).CX(1,2)\n",
    "print(quasar_circuit)"
   ]
  },
  {
   "cell_type": "code",
   "execution_count": 18,
   "metadata": {},
   "outputs": [
    {
     "name": "stdout",
     "output_type": "stream",
     "text": [
      "Quasar Simulator Backend (Statevector)\n",
      "Quasar: An Ultralite Quantum Circuit Simulator\n",
      "   By Rob Parrish (rob.parrish@qcware.com)    \n",
      "True\n",
      "True\n",
      "<class 'quasar.circuit.Circuit'>\n"
     ]
    }
   ],
   "source": [
    "quasar_backend = quasar.QuasarSimulatorBackend()\n",
    "print(quasar_backend)\n",
    "print(quasar_backend.summary_str)\n",
    "print(quasar_backend.has_statevector)\n",
    "print(quasar_backend.has_measurement)\n",
    "print(quasar_backend.native_circuit_type)"
   ]
  },
  {
   "cell_type": "code",
   "execution_count": 19,
   "metadata": {},
   "outputs": [
    {
     "name": "stdout",
     "output_type": "stream",
     "text": [
      "Qiskit Simulator Backend\n",
      "Qiskit Simulator Backend\n",
      "True\n",
      "True\n",
      "<class 'qiskit.circuit.quantumcircuit.QuantumCircuit'>\n"
     ]
    },
    {
     "name": "stderr",
     "output_type": "stream",
     "text": [
      "/anaconda3/lib/python3.7/site-packages/marshmallow/schema.py:364: ChangedInMarshmallow3Warning: strict=False is not recommended. In marshmallow 3.0, schemas will always be strict. See https://marshmallow.readthedocs.io/en/latest/upgrading.html#schemas-are-always-strict\n",
      "  ChangedInMarshmallow3Warning\n"
     ]
    }
   ],
   "source": [
    "qiskit_backend = quasar.QiskitSimulatorBackend()\n",
    "print(qiskit_backend)\n",
    "print(qiskit_backend.summary_str)\n",
    "print(qiskit_backend.has_statevector)\n",
    "print(qiskit_backend.has_measurement)\n",
    "print(qiskit_backend.native_circuit_type)"
   ]
  },
  {
   "cell_type": "code",
   "execution_count": 20,
   "metadata": {},
   "outputs": [
    {
     "name": "stdout",
     "output_type": "stream",
     "text": [
      "Cirq Simulator Backend\n",
      "Cirq Simulator Backend\n",
      "True\n",
      "True\n",
      "<class 'cirq.circuits.circuit.Circuit'>\n"
     ]
    }
   ],
   "source": [
    "cirq_backend = quasar.CirqSimulatorBackend()\n",
    "print(cirq_backend)\n",
    "print(cirq_backend.summary_str)\n",
    "print(cirq_backend.has_statevector)\n",
    "print(cirq_backend.has_measurement)\n",
    "print(cirq_backend.native_circuit_type)"
   ]
  },
  {
   "cell_type": "code",
   "execution_count": 21,
   "metadata": {},
   "outputs": [
    {
     "name": "stdout",
     "output_type": "stream",
     "text": [
      "         ┌───┐          \n",
      "q0_0: |0>┤ H ├──■───────\n",
      "         └───┘┌─┴─┐     \n",
      "q0_1: |0>─────┤ X ├──■──\n",
      "              └───┘┌─┴─┐\n",
      "q0_2: |0>──────────┤ X ├\n",
      "                   └───┘\n"
     ]
    }
   ],
   "source": [
    "qiskit_circuit = quasar.build_native_circuit(qiskit_backend, quasar_circuit)\n",
    "print(qiskit_circuit)"
   ]
  },
  {
   "cell_type": "code",
   "execution_count": 22,
   "metadata": {},
   "outputs": [
    {
     "name": "stdout",
     "output_type": "stream",
     "text": [
      "0: ───H───@───────\n",
      "          │\n",
      "1: ───────X───@───\n",
      "              │\n",
      "2: ───────────X───\n"
     ]
    }
   ],
   "source": [
    "cirq_circuit = quasar.build_native_circuit(cirq_backend, quasar_circuit)\n",
    "print(cirq_circuit)"
   ]
  },
  {
   "cell_type": "code",
   "execution_count": 23,
   "metadata": {},
   "outputs": [
    {
     "name": "stdout",
     "output_type": "stream",
     "text": [
      "T  : |0|1|2|\n",
      "            \n",
      "q0 : -H-@---\n",
      "        |   \n",
      "q1 : ---X-@-\n",
      "          | \n",
      "q2 : -----X-\n",
      "\n",
      "T  : |0|1|2|\n"
     ]
    }
   ],
   "source": [
    "print(quasar.build_quasar_circuit(cirq_circuit))"
   ]
  },
  {
   "cell_type": "code",
   "execution_count": 24,
   "metadata": {},
   "outputs": [],
   "source": [
    "circuits = [quasar_circuit, qiskit_circuit, cirq_circuit]\n",
    "backends = [quasar_backend, qiskit_backend, cirq_backend]"
   ]
  },
  {
   "cell_type": "code",
   "execution_count": 25,
   "metadata": {},
   "outputs": [
    {
     "name": "stdout",
     "output_type": "stream",
     "text": [
      "[0.707 0.    0.    0.    0.    0.    0.    0.707]\n",
      "[0.707 0.    0.    0.    0.    0.    0.    0.707]\n",
      "[0.707 0.    0.    0.    0.    0.    0.    0.707]\n",
      "[0.707 0.    0.    0.    0.    0.    0.    0.707]\n",
      "[0.707 0.    0.    0.    0.    0.    0.    0.707]\n",
      "[0.707 0.    0.    0.    0.    0.    0.    0.707]\n",
      "[ 0.707  0.     0.     0.    -0.    -0.    -0.     0.707]\n",
      "[ 0.707  0.     0.     0.    -0.    -0.    -0.     0.707]\n",
      "[ 0.707  0.     0.     0.    -0.    -0.    -0.     0.707]\n"
     ]
    },
    {
     "name": "stderr",
     "output_type": "stream",
     "text": [
      "/anaconda3/lib/python3.7/site-packages/marshmallow/schema.py:364: ChangedInMarshmallow3Warning: strict=False is not recommended. In marshmallow 3.0, schemas will always be strict. See https://marshmallow.readthedocs.io/en/latest/upgrading.html#schemas-are-always-strict\n",
      "  ChangedInMarshmallow3Warning\n"
     ]
    }
   ],
   "source": [
    "for backend in backends:\n",
    "    for circuit in circuits:\n",
    "        print(quasar.run_statevector(backend, circuit).real.round(3))"
   ]
  },
  {
   "cell_type": "code",
   "execution_count": 26,
   "metadata": {},
   "outputs": [
    {
     "name": "stdout",
     "output_type": "stream",
     "text": [
      "|000> : 463\n",
      "|111> : 537\n",
      "\n",
      "|000> : 486\n",
      "|111> : 514\n",
      "\n",
      "|000> : 509\n",
      "|111> : 491\n",
      "\n",
      "|000> : 507\n",
      "|111> : 493\n",
      "\n",
      "|000> : 511\n",
      "|111> : 489\n",
      "\n",
      "|000> : 512\n",
      "|111> : 488\n",
      "\n",
      "|000> : 516\n",
      "|111> : 484\n",
      "\n",
      "|000> : 515\n",
      "|111> : 485\n",
      "\n",
      "|000> : 534\n",
      "|111> : 466\n",
      "\n"
     ]
    }
   ],
   "source": [
    "for backend in backends:\n",
    "    for circuit in circuits:\n",
    "        print(quasar.run_measurement(backend, circuit, nmeasurement=1000))"
   ]
  },
  {
   "cell_type": "code",
   "execution_count": 27,
   "metadata": {},
   "outputs": [
    {
     "name": "stdout",
     "output_type": "stream",
     "text": [
      "+1.0*I\n",
      "+1.0*Z0\n",
      "+1.0*Z1\n",
      "+1.0*Z2\n",
      "+1.0*Z0*Z1\n",
      "+1.0*Z1*Z2\n",
      "+1.0*Z0*Z1*Z2\n"
     ]
    }
   ],
   "source": [
    "I, X, Y, Z = quasar.Pauli.IXYZ()\n",
    "pauli = I + Z[0] + Z[1] + Z[2] \n",
    "pauli += Z[0] * Z[1] + Z[1] * Z[2] \n",
    "pauli += Z[0] * Z[1] * Z[2]\n",
    "print(pauli)"
   ]
  },
  {
   "cell_type": "code",
   "execution_count": 28,
   "metadata": {},
   "outputs": [
    {
     "name": "stdout",
     "output_type": "stream",
     "text": [
      "<I> = 1.0\n",
      "<Z0> = 2.220446049250313e-16\n",
      "<Z1> = 2.220446049250313e-16\n",
      "<Z2> = 2.220446049250313e-16\n",
      "<Z0*Z1> = 1.0\n",
      "<Z1*Z2> = 1.0\n",
      "<Z0*Z1*Z2> = 2.220446049250313e-16\n"
     ]
    }
   ],
   "source": [
    "print(quasar.run_pauli_expectation(qiskit_backend, quasar_circuit, pauli, nmeasurement=None))"
   ]
  },
  {
   "cell_type": "code",
   "execution_count": 29,
   "metadata": {},
   "outputs": [
    {
     "name": "stdout",
     "output_type": "stream",
     "text": [
      "<I> = 1.0\n",
      "<Z0> = -0.034\n",
      "<Z1> = -0.034\n",
      "<Z2> = -0.034\n",
      "<Z0*Z1> = 1.0\n",
      "<Z1*Z2> = 1.0\n",
      "<Z0*Z1*Z2> = -0.034\n"
     ]
    }
   ],
   "source": [
    "print(quasar.run_pauli_expectation(qiskit_backend, quasar_circuit, pauli, nmeasurement=1000))"
   ]
  },
  {
   "cell_type": "markdown",
   "metadata": {},
   "source": [
    "## Layer 3: Gradients, Hessians, and Tomography"
   ]
  },
  {
   "cell_type": "code",
   "execution_count": 30,
   "metadata": {},
   "outputs": [
    {
     "name": "stdout",
     "output_type": "stream",
     "text": [
      "T  : |0 |1|2 |3|4 |\n",
      "                   \n",
      "q0 : -Ry-@----X-Ry-\n",
      "         |    |    \n",
      "q1 : -Ry-Z-Ry-@-Ry-\n",
      "\n",
      "T  : |0 |1|2 |3|4 |\n",
      "\n",
      "Index Time  Qubits     Name       Gate      :     Value\n",
      "0     0     (0,)       theta      Ry        :  0.100000\n",
      "1     0     (1,)       theta      Ry        : -0.200000\n",
      "2     2     (1,)       theta      Ry        :  0.200000\n",
      "3     4     (0,)       theta      Ry        :  0.000000\n",
      "4     4     (1,)       theta      Ry        :  0.000000\n",
      "\n"
     ]
    }
   ],
   "source": [
    "circuit = quasar.Circuit(N=2).Ry(0, theta=0.1)\n",
    "circuit.Ry(1, theta=-0.2).CZ(0,1).Ry(1, theta=+0.2).CX(1,0)\n",
    "circuit.Ry(0, theta=0.0).Ry(1, theta=0.0)\n",
    "print(circuit)\n",
    "print('')\n",
    "print(circuit.param_str)"
   ]
  },
  {
   "cell_type": "code",
   "execution_count": 31,
   "metadata": {},
   "outputs": [
    {
     "name": "stdout",
     "output_type": "stream",
     "text": [
      "+1.0*I\n",
      "-0.4*Z0\n",
      "-0.5*Z1\n",
      "+0.1*X0*X1\n",
      "+0.2*X0*Z1\n",
      "+0.3*X1*Z0\n",
      "+0.4*Z0*Z1\n"
     ]
    }
   ],
   "source": [
    "pauli = I - 0.4 * Z[0] - 0.5 * Z[1]\n",
    "pauli += 0.1 * X[0] * X[1] + 0.2 * X[0] * Z[1] \n",
    "pauli += 0.3 * X[1] * Z[0] + 0.4 * Z[0] * Z[1]\n",
    "print(pauli)"
   ]
  },
  {
   "cell_type": "code",
   "execution_count": 32,
   "metadata": {},
   "outputs": [],
   "source": [
    "nmeasurement = 1000\n",
    "backend = quasar.QuasarSimulatorBackend()"
   ]
  },
  {
   "cell_type": "code",
   "execution_count": 33,
   "metadata": {},
   "outputs": [
    {
     "name": "stdout",
     "output_type": "stream",
     "text": [
      "0.5802999999999999\n"
     ]
    }
   ],
   "source": [
    "value = quasar.run_observable_expectation_value(\n",
    "    backend, circuit, pauli, nmeasurement=nmeasurement)\n",
    "print(value)"
   ]
  },
  {
   "cell_type": "code",
   "execution_count": 34,
   "metadata": {},
   "outputs": [
    {
     "name": "stdout",
     "output_type": "stream",
     "text": [
      "[0.4136 0.641 ]\n"
     ]
    }
   ],
   "source": [
    "gradient = quasar.run_observable_expectation_value_gradient(\n",
    "    backend, circuit, pauli, nmeasurement=nmeasurement, param_indices=[3,4])\n",
    "print(gradient)"
   ]
  },
  {
   "cell_type": "code",
   "execution_count": 35,
   "metadata": {},
   "outputs": [
    {
     "name": "stdout",
     "output_type": "stream",
     "text": [
      "[[-0.2498  0.0907]\n",
      " [ 0.0907  0.185 ]]\n"
     ]
    }
   ],
   "source": [
    "hessian = quasar.run_observable_expectation_value_hessian(\n",
    "    backend, circuit, pauli, nmeasurement=nmeasurement, param_indices1=[3,4], param_indices2=[3,4])\n",
    "print(hessian)"
   ]
  },
  {
   "cell_type": "code",
   "execution_count": 36,
   "metadata": {},
   "outputs": [
    {
     "name": "stdout",
     "output_type": "stream",
     "text": [
      "<quasar.tomography.RotationTomography object at 0xa1e50feb8>\n"
     ]
    }
   ],
   "source": [
    "tomography = quasar.run_observable_expectation_value_tomography(\n",
    "    backend, circuit, pauli, nmeasurement=nmeasurement, param_indices=[3,4])\n",
    "print(tomography)"
   ]
  },
  {
   "cell_type": "code",
   "execution_count": 37,
   "metadata": {},
   "outputs": [
    {
     "name": "stdout",
     "output_type": "stream",
     "text": [
      "[[[-1.04719755 -1.04719755 -1.04719755]\n",
      "  [ 0.          0.          0.        ]\n",
      "  [ 1.04719755  1.04719755  1.04719755]]\n",
      "\n",
      " [[-1.04719755  0.          1.04719755]\n",
      "  [-1.04719755  0.          1.04719755]\n",
      "  [-1.04719755  0.          1.04719755]]]\n"
     ]
    }
   ],
   "source": [
    "T = quasar.RotationTomography.quad_x(tomography.nparam)\n",
    "print(T)"
   ]
  },
  {
   "cell_type": "code",
   "execution_count": 38,
   "metadata": {},
   "outputs": [],
   "source": [
    "import numpy as np\n",
    "params = np.array(np.meshgrid(*([np.linspace(-np.pi / 2.0, +np.pi / 2.0, 50)]*2), indexing='ij'))\n",
    "O = tomography.compute_observable_expectation_value(params)"
   ]
  },
  {
   "cell_type": "code",
   "execution_count": 39,
   "metadata": {},
   "outputs": [
    {
     "name": "stdout",
     "output_type": "stream",
     "text": [
      "[-0.08459735 -0.63792055]\n"
     ]
    }
   ],
   "source": [
    "params_0 = tomography.optimize_jacobi_1(d=0)\n",
    "params_1 = tomography.optimize_jacobi_1(d=1)\n",
    "params_opt = tomography.optimize_jacobi_1_best()\n",
    "print(params_opt[:,-1])"
   ]
  },
  {
   "cell_type": "code",
   "execution_count": 40,
   "metadata": {},
   "outputs": [
    {
     "data": {
      "image/png": "[encoded data removed]",
      "text/plain": [
       "<Figure size 432x288 with 2 Axes>"
      ]
     },
     "metadata": {
      "needs_background": "light"
     },
     "output_type": "display_data"
    }
   ],
   "source": [
    "import matplotlib.pyplot as plt\n",
    "levels = np.linspace(np.min(O), np.max(O), 100)\n",
    "plt.clf()\n",
    "plt.contourf(params[0], params[1], O, levels, cmap=plt.get_cmap('coolwarm'))\n",
    "plt.plot(T[0], T[1], 'kx')\n",
    "plt.plot(params_0[0], params_0[1], 'm-o')\n",
    "plt.plot(params_1[0], params_1[1], 'c-o')\n",
    "plt.xlabel(r'$\\theta_0$')\n",
    "plt.ylabel(r'$\\theta_1$')\n",
    "plt.axis('square')\n",
    "plt.colorbar()\n",
    "plt.show()"
   ]
  },
  {
   "cell_type": "code",
   "execution_count": 41,
   "metadata": {},
   "outputs": [
    {
     "name": "stdout",
     "output_type": "stream",
     "text": [
      "0.2835\n"
     ]
    }
   ],
   "source": [
    "circuit.set_param_values(param_values=params_opt[:,-1], param_indices=[3,4])\n",
    "value = quasar.run_observable_expectation_value(\n",
    "    backend, circuit, pauli, nmeasurement=nmeasurement)\n",
    "print(value)"
   ]
  },
  {
   "cell_type": "code",
   "execution_count": 42,
   "metadata": {},
   "outputs": [
    {
     "name": "stdout",
     "output_type": "stream",
     "text": [
      "[-0.08459735 -0.63792055]\n"
     ]
    }
   ],
   "source": [
    "print(tomography.optimize())"
   ]
  },
  {
   "cell_type": "code",
   "execution_count": null,
   "metadata": {},
   "outputs": [],
   "source": []
  }
 ],
 "metadata": {
  "kernelspec": {
   "display_name": "Python 3",
   "language": "python",
   "name": "python3"
  },
  "language_info": {
   "codemirror_mode": {
    "name": "ipython",
    "version": 3
   },
   "file_extension": ".py",
   "mimetype": "text/x-python",
   "name": "python",
   "nbconvert_exporter": "python",
   "pygments_lexer": "ipython3",
   "version": "3.7.1"
  }
 },
 "nbformat": 4,
 "nbformat_minor": 2
}
