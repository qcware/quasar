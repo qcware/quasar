{
 "cells": [
  {
   "cell_type": "code",
   "execution_count": 1,
   "metadata": {},
   "outputs": [],
   "source": [
    "import quasar"
   ]
  },
  {
   "cell_type": "code",
   "execution_count": 23,
   "metadata": {},
   "outputs": [
    {
     "name": "stdout",
     "output_type": "stream",
     "text": [
      "T  : |0|1 |2 |\n",
      "              \n",
      "q0 : -X-@--Ry-\n",
      "        |  |  \n",
      "q1 : ---Ry-@--\n",
      "           |  \n",
      "q2 : -X----@--\n",
      "\n",
      "T  : |0|1 |2 |\n",
      "Index Time  Qubits     Name       Gate      :     Value\n",
      "0     1     (0, 1)     theta      CRy       :  0.100000\n",
      "1     2     (2, 1, 0)  theta      CCRy      :  0.200000\n",
      "\n",
      "[ 0.        +0.j  0.        +0.j  0.        +0.j -0.01983384+0.j\n",
      "  0.        +0.j  0.99500417+0.j  0.        +0.j  0.0978434 +0.j]\n"
     ]
    }
   ],
   "source": [
    "gate1 = quasar.ControlledGate(quasar.Gate.Ry(0.4))\n",
    "gate2 = quasar.ControlledGate(gate1)\n",
    "circuit = quasar.Circuit(3).X(0).X(2)\n",
    "circuit.add_gate(gate1, (0,1))\n",
    "circuit.add_gate(gate2, (2,1,0))\n",
    "circuit.set_param_values([0.1, 0.2])\n",
    "print(circuit)\n",
    "print(circuit.param_str)\n",
    "print(circuit.simulate())"
   ]
  },
  {
   "cell_type": "code",
   "execution_count": 3,
   "metadata": {},
   "outputs": [
    {
     "name": "stdout",
     "output_type": "stream",
     "text": [
      "CRy\n"
     ]
    }
   ],
   "source": [
    "print(gate)"
   ]
  },
  {
   "cell_type": "code",
   "execution_count": 4,
   "metadata": {},
   "outputs": [
    {
     "name": "stdout",
     "output_type": "stream",
     "text": [
      "2\n"
     ]
    }
   ],
   "source": [
    "print(gate.N)"
   ]
  },
  {
   "cell_type": "code",
   "execution_count": 5,
   "metadata": {},
   "outputs": [
    {
     "name": "stdout",
     "output_type": "stream",
     "text": [
      "<function ControlledGate.Ufun.<locals>.cU at 0x1104ac400>\n"
     ]
    }
   ],
   "source": [
    "print(gate.Ufun)"
   ]
  },
  {
   "cell_type": "code",
   "execution_count": 6,
   "metadata": {},
   "outputs": [
    {
     "name": "stdout",
     "output_type": "stream",
     "text": [
      "T  : |0 |\n",
      "         \n",
      "q0 : -Ry-\n",
      "      |  \n",
      "q1 : -@--\n",
      "\n",
      "T  : |0 |\n"
     ]
    }
   ],
   "source": [
    "circuit = quasar.Circuit(2).add_gate(gate, (1,0))\n",
    "print(circuit)"
   ]
  },
  {
   "cell_type": "code",
   "execution_count": 7,
   "metadata": {},
   "outputs": [
    {
     "name": "stdout",
     "output_type": "stream",
     "text": [
      "Index Time  Qubits     Name       Gate      :     Value\n",
      "0     0     (1, 0)     theta      CRy       :  0.400000\n",
      "\n"
     ]
    }
   ],
   "source": [
    "print(circuit.param_str)"
   ]
  },
  {
   "cell_type": "code",
   "execution_count": 8,
   "metadata": {},
   "outputs": [],
   "source": [
    "gate2 = quasar.ControlledGate(gate)"
   ]
  },
  {
   "cell_type": "code",
   "execution_count": 14,
   "metadata": {},
   "outputs": [
    {
     "name": "stdout",
     "output_type": "stream",
     "text": [
      "T  : |0    |\n",
      "            \n",
      "q0 : -Ry----\n",
      "      |     \n",
      "q1 : -|--@--\n",
      "      |  |  \n",
      "q2 : -@--|--\n",
      "      |  |  \n",
      "q3 : -|--Ry-\n",
      "      |  |  \n",
      "q4 : -|--@--\n",
      "      |     \n",
      "q5 : -@-----\n",
      "\n",
      "T  : |0    |\n",
      "Index Time  Qubits     Name       Gate      :     Value\n",
      "0     0     (1, 4, 3)  theta      CCRy      :  0.400000\n",
      "1     0     (5, 2, 0)  theta      CCRy      :  0.400000\n",
      "\n",
      "[[ 1.     0.     0.     0.     0.     0.     0.     0.   ]\n",
      " [ 0.     1.     0.     0.     0.     0.     0.     0.   ]\n",
      " [ 0.     0.     1.     0.     0.     0.     0.     0.   ]\n",
      " [ 0.     0.     0.     1.     0.     0.     0.     0.   ]\n",
      " [ 0.     0.     0.     0.     1.     0.     0.     0.   ]\n",
      " [ 0.     0.     0.     0.     0.     1.     0.     0.   ]\n",
      " [ 0.     0.     0.     0.     0.     0.     0.921 -0.389]\n",
      " [ 0.     0.     0.     0.     0.     0.     0.389  0.921]]\n"
     ]
    }
   ],
   "source": [
    "circuit=quasar.Circuit(6).add_gate(gate2, (5,2,0))\n",
    "circuit.add_gate(gate2, (1,4,3))\n",
    "print(circuit)\n",
    "print(circuit.param_str)\n",
    "print(gate2.U.real.round(3))"
   ]
  },
  {
   "cell_type": "code",
   "execution_count": 15,
   "metadata": {},
   "outputs": [
    {
     "name": "stdout",
     "output_type": "stream",
     "text": [
      "[1.+0.j 0.+0.j 0.+0.j 0.+0.j 0.+0.j 0.+0.j 0.+0.j 0.+0.j 0.+0.j 0.+0.j\n",
      " 0.+0.j 0.+0.j 0.+0.j 0.+0.j 0.+0.j 0.+0.j 0.+0.j 0.+0.j 0.+0.j 0.+0.j\n",
      " 0.+0.j 0.+0.j 0.+0.j 0.+0.j 0.+0.j 0.+0.j 0.+0.j 0.+0.j 0.+0.j 0.+0.j\n",
      " 0.+0.j 0.+0.j 0.+0.j 0.+0.j 0.+0.j 0.+0.j 0.+0.j 0.+0.j 0.+0.j 0.+0.j\n",
      " 0.+0.j 0.+0.j 0.+0.j 0.+0.j 0.+0.j 0.+0.j 0.+0.j 0.+0.j 0.+0.j 0.+0.j\n",
      " 0.+0.j 0.+0.j 0.+0.j 0.+0.j 0.+0.j 0.+0.j 0.+0.j 0.+0.j 0.+0.j 0.+0.j\n",
      " 0.+0.j 0.+0.j 0.+0.j 0.+0.j]\n"
     ]
    }
   ],
   "source": [
    "print(circuit.simulate())"
   ]
  },
  {
   "cell_type": "code",
   "execution_count": 16,
   "metadata": {},
   "outputs": [
    {
     "data": {
      "text/plain": [
       "<quasar.circuit.Circuit at 0x11f12a710>"
      ]
     },
     "execution_count": 16,
     "metadata": {},
     "output_type": "execute_result"
    }
   ],
   "source": [
    "circuit.set_param_values([0.3])"
   ]
  },
  {
   "cell_type": "code",
   "execution_count": 17,
   "metadata": {},
   "outputs": [
    {
     "name": "stdout",
     "output_type": "stream",
     "text": [
      "Index Time  Qubits     Name       Gate      :     Value\n",
      "0     0     (1, 4, 3)  theta      CCRy      :  0.300000\n",
      "1     0     (5, 2, 0)  theta      CCRy      :  0.400000\n",
      "\n"
     ]
    }
   ],
   "source": [
    "print(circuit.param_str)"
   ]
  },
  {
   "cell_type": "code",
   "execution_count": null,
   "metadata": {},
   "outputs": [],
   "source": []
  }
 ],
 "metadata": {
  "kernelspec": {
   "display_name": "Python 3",
   "language": "python",
   "name": "python3"
  },
  "language_info": {
   "codemirror_mode": {
    "name": "ipython",
    "version": 3
   },
   "file_extension": ".py",
   "mimetype": "text/x-python",
   "name": "python",
   "nbconvert_exporter": "python",
   "pygments_lexer": "ipython3",
   "version": "3.7.1"
  }
 },
 "nbformat": 4,
 "nbformat_minor": 2
}
