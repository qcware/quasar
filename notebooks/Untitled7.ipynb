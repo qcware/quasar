{
 "cells": [
  {
   "cell_type": "code",
   "execution_count": 1,
   "metadata": {},
   "outputs": [],
   "source": [
    "import quasar"
   ]
  },
  {
   "cell_type": "code",
   "execution_count": 2,
   "metadata": {},
   "outputs": [
    {
     "name": "stdout",
     "output_type": "stream",
     "text": [
      "3\n",
      "CCRy\n",
      "T  : |0|1 |2 |\n",
      "              \n",
      "q0 : -X-@--Ry-\n",
      "        |  |  \n",
      "q1 : ---Ry-@--\n",
      "           |  \n",
      "q2 : -X----@--\n",
      "\n",
      "T  : |0|1 |2 |\n",
      "Index Time  Qubits     Name       Gate      :     Value\n",
      "0     1     (0, 1)     theta      CRy       :  0.100000\n",
      "1     2     (2, 1, 0)  theta      CCRy      :  0.200000\n",
      "\n",
      "[ 0.        +0.j  0.        +0.j  0.        +0.j -0.01983384+0.j\n",
      "  0.        +0.j  0.99500417+0.j  0.        +0.j  0.0978434 +0.j]\n"
     ]
    }
   ],
   "source": [
    "gate1 = quasar.ControlledGate(quasar.Gate.Ry(0.4))\n",
    "gate2 = quasar.ControlledGate(gate1)\n",
    "gate2 = quasar.ControlledGate(quasar.Gate.Ry(0.4), ncontrol=2)\n",
    "circuit = quasar.Circuit(3).X(0).X(2)\n",
    "circuit.add_gate(gate1, (0,1))\n",
    "circuit.add_gate(gate2, (2,1,0))\n",
    "circuit.set_param_values([0.1, 0.2])\n",
    "print(gate2.N)\n",
    "print(gate2)\n",
    "print(circuit)\n",
    "print(circuit.param_str)\n",
    "print(circuit.simulate())"
   ]
  },
  {
   "cell_type": "code",
   "execution_count": 3,
   "metadata": {},
   "outputs": [
    {
     "ename": "NameError",
     "evalue": "name 'gate' is not defined",
     "output_type": "error",
     "traceback": [
      "\u001b[0;31m---------------------------------------------------------------------------\u001b[0m",
      "\u001b[0;31mNameError\u001b[0m                                 Traceback (most recent call last)",
      "\u001b[0;32m<ipython-input-3-0743bdb83f04>\u001b[0m in \u001b[0;36m<module>\u001b[0;34m\u001b[0m\n\u001b[0;32m----> 1\u001b[0;31m \u001b[0mprint\u001b[0m\u001b[0;34m(\u001b[0m\u001b[0mgate\u001b[0m\u001b[0;34m)\u001b[0m\u001b[0;34m\u001b[0m\u001b[0;34m\u001b[0m\u001b[0m\n\u001b[0m",
      "\u001b[0;31mNameError\u001b[0m: name 'gate' is not defined"
     ]
    }
   ],
   "source": [
    "print(gate)"
   ]
  },
  {
   "cell_type": "code",
   "execution_count": null,
   "metadata": {},
   "outputs": [],
   "source": [
    "print(gate.N)"
   ]
  },
  {
   "cell_type": "code",
   "execution_count": null,
   "metadata": {},
   "outputs": [],
   "source": [
    "print(gate.Ufun)"
   ]
  },
  {
   "cell_type": "code",
   "execution_count": null,
   "metadata": {},
   "outputs": [],
   "source": [
    "circuit = quasar.Circuit(2).add_gate(gate, (1,0))\n",
    "print(circuit)"
   ]
  },
  {
   "cell_type": "code",
   "execution_count": null,
   "metadata": {},
   "outputs": [],
   "source": [
    "print(circuit.param_str)"
   ]
  },
  {
   "cell_type": "code",
   "execution_count": null,
   "metadata": {},
   "outputs": [],
   "source": [
    "gate2 = quasar.ControlledGate(gate)"
   ]
  },
  {
   "cell_type": "code",
   "execution_count": null,
   "metadata": {},
   "outputs": [],
   "source": [
    "circuit=quasar.Circuit(6).add_gate(gate2, (5,2,0))\n",
    "circuit.add_gate(gate2, (1,4,3))\n",
    "print(circuit)\n",
    "print(circuit.param_str)\n",
    "print(gate2.U.real.round(3))"
   ]
  },
  {
   "cell_type": "code",
   "execution_count": null,
   "metadata": {},
   "outputs": [],
   "source": [
    "print(circuit.simulate())"
   ]
  },
  {
   "cell_type": "code",
   "execution_count": null,
   "metadata": {},
   "outputs": [],
   "source": [
    "circuit.set_param_values([0.3])"
   ]
  },
  {
   "cell_type": "code",
   "execution_count": null,
   "metadata": {},
   "outputs": [],
   "source": [
    "print(circuit.param_str)"
   ]
  },
  {
   "cell_type": "code",
   "execution_count": null,
   "metadata": {},
   "outputs": [],
   "source": []
  }
 ],
 "metadata": {
  "kernelspec": {
   "display_name": "Python 3",
   "language": "python",
   "name": "python3"
  },
  "language_info": {
   "codemirror_mode": {
    "name": "ipython",
    "version": 3
   },
   "file_extension": ".py",
   "mimetype": "text/x-python",
   "name": "python",
   "nbconvert_exporter": "python",
   "pygments_lexer": "ipython3",
   "version": "3.7.1"
  }
 },
 "nbformat": 4,
 "nbformat_minor": 2
}
