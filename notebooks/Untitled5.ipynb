{
 "cells": [
  {
   "cell_type": "code",
   "execution_count": 1,
   "metadata": {},
   "outputs": [],
   "source": [
    "import quasar"
   ]
  },
  {
   "cell_type": "code",
   "execution_count": 2,
   "metadata": {},
   "outputs": [
    {
     "name": "stdout",
     "output_type": "stream",
     "text": [
      "T  : |0|1|2 |\n",
      "\n",
      "q0 : -H-@----\n",
      "        |    \n",
      "q1 : ---X-Ry-\n",
      "             \n",
      "T  : |0|1|2 |\n",
      "\n"
     ]
    }
   ],
   "source": [
    "circuit = quasar.Circuit().H(0).CX(0,1).Ry(1)\n",
    "print(circuit)"
   ]
  },
  {
   "cell_type": "code",
   "execution_count": 5,
   "metadata": {},
   "outputs": [
    {
     "name": "stdout",
     "output_type": "stream",
     "text": [
      "Index Time       Qubits     Name       Gate      :     Value\n",
      "0     (2,)       (1,)       theta      Ry        :  0.300000\n",
      "\n"
     ]
    }
   ],
   "source": [
    "circuit.set_parameter_values([0.3])\n",
    "print(circuit.parameter_str)"
   ]
  },
  {
   "cell_type": "code",
   "execution_count": 6,
   "metadata": {},
   "outputs": [],
   "source": [
    "backend = quasar.QuasarSimulatorBackend()"
   ]
  },
  {
   "cell_type": "code",
   "execution_count": 7,
   "metadata": {},
   "outputs": [
    {
     "name": "stdout",
     "output_type": "stream",
     "text": [
      "nmeasurement : 1000\n",
      "|00> : 0.444000\n",
      "|01> : 0.046000\n",
      "|10> : 0.045000\n",
      "|11> : 0.465000\n",
      "\n"
     ]
    }
   ],
   "source": [
    "print(backend.run_measurement(circuit, nmeasurement=1000))"
   ]
  },
  {
   "cell_type": "code",
   "execution_count": 8,
   "metadata": {},
   "outputs": [
    {
     "name": "stdout",
     "output_type": "stream",
     "text": [
      "nmeasurement : None\n",
      "|00> : 0.456334\n",
      "|01> : 0.043666\n",
      "|10> : 0.043666\n",
      "|11> : 0.456334\n",
      "\n"
     ]
    }
   ],
   "source": [
    "print(backend.run_measurement(circuit, nmeasurement=None))"
   ]
  },
  {
   "cell_type": "code",
   "execution_count": 17,
   "metadata": {},
   "outputs": [],
   "source": [
    "I, X, Y, Z = quasar.Pauli.IXYZ()\n",
    "pauli = 0.1 * Z[0] + 0.3 * Z[1] + 0.02 * Z[0] * Z[1]"
   ]
  },
  {
   "cell_type": "code",
   "execution_count": 18,
   "metadata": {},
   "outputs": [
    {
     "name": "stdout",
     "output_type": "stream",
     "text": [
      "(0.016506712298193615+0j)\n"
     ]
    }
   ],
   "source": [
    "print(backend.run_pauli_expectation_value(circuit, pauli, nmeasurement=None))"
   ]
  },
  {
   "cell_type": "code",
   "execution_count": 19,
   "metadata": {},
   "outputs": [
    {
     "name": "stdout",
     "output_type": "stream",
     "text": [
      "[-0.0225857+0.j]\n"
     ]
    }
   ],
   "source": [
    "print(backend.run_pauli_expectation_value_gradient(circuit, pauli, nmeasurement=None))"
   ]
  },
  {
   "cell_type": "code",
   "execution_count": 22,
   "metadata": {},
   "outputs": [],
   "source": [
    "circuit = quasar.Circuit().CX(0,1, time_start=10).CX(2,3, time_start=10)"
   ]
  },
  {
   "cell_type": "code",
   "execution_count": 23,
   "metadata": {},
   "outputs": [
    {
     "name": "stdout",
     "output_type": "stream",
     "text": [
      "T  : |10|\n",
      "\n",
      "q0 : -@--\n",
      "      |  \n",
      "q1 : -X--\n",
      "         \n",
      "q2 : -@--\n",
      "      |  \n",
      "q3 : -X--\n",
      "         \n",
      "T  : |10|\n",
      "\n"
     ]
    }
   ],
   "source": [
    "print(circuit)"
   ]
  },
  {
   "cell_type": "code",
   "execution_count": null,
   "metadata": {},
   "outputs": [],
   "source": []
  }
 ],
 "metadata": {
  "kernelspec": {
   "display_name": "Python 3",
   "language": "python",
   "name": "python3"
  },
  "language_info": {
   "codemirror_mode": {
    "name": "ipython",
    "version": 3
   },
   "file_extension": ".py",
   "mimetype": "text/x-python",
   "name": "python",
   "nbconvert_exporter": "python",
   "pygments_lexer": "ipython3",
   "version": "3.7.1"
  }
 },
 "nbformat": 4,
 "nbformat_minor": 2
}
