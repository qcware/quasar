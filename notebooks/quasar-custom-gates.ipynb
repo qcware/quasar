{
 "cells": [
  {
   "cell_type": "markdown",
   "metadata": {},
   "source": [
    "# Custom Gates\n",
    "This tutorial shows how to extend quasar with user-specified custom gates with parameters (parameter-free custom gates should be build with the `U1` and `U2` static methods of class `Gate`). We will build a composite 2-qubit gate to cover all rotations in $SO(4)$ according to the description in https://arxiv.org/pdf/1203.0722.pdf (Figure 1)."
   ]
  },
  {
   "cell_type": "code",
   "execution_count": 1,
   "metadata": {},
   "outputs": [],
   "source": [
    "import numpy as np\n",
    "import collections\n",
    "import quasar"
   ]
  },
  {
   "cell_type": "markdown",
   "metadata": {},
   "source": [
    "In terms of more conventional gates, the $SO(4)$ gate can be written as 6x $R_y$ gates (each with parameter $\\theta$) and 2x CNOT gates."
   ]
  },
  {
   "cell_type": "code",
   "execution_count": 2,
   "metadata": {},
   "outputs": [
    {
     "name": "stdout",
     "output_type": "stream",
     "text": [
      "T   : |0 |1|2 |3|4 |\n",
      "                    \n",
      "|0> : -Ry-@-Ry-@-Ry-\n",
      "          |    |    \n",
      "|1> : -Ry-X-Ry-X-Ry-\n",
      "\n",
      "T   : |0 |1|2 |3|4 |\n",
      "\n",
      "T     Qubits     Name       Gate      :                    Value\n",
      "0     (0,)       theta      Ry        :   0.0000000000000000E+00\n",
      "0     (1,)       theta      Ry        :   0.0000000000000000E+00\n",
      "2     (0,)       theta      Ry        :   0.0000000000000000E+00\n",
      "2     (1,)       theta      Ry        :   0.0000000000000000E+00\n",
      "4     (0,)       theta      Ry        :   0.0000000000000000E+00\n",
      "4     (1,)       theta      Ry        :   0.0000000000000000E+00\n",
      "\n"
     ]
    }
   ],
   "source": [
    "circuit1 = quasar.Circuit(N=2)\n",
    "circuit1.add_gate(T=0, key=0, gate=quasar.Gate.Ry(theta=0.0))\n",
    "circuit1.add_gate(T=0, key=1, gate=quasar.Gate.Ry(theta=0.0))\n",
    "circuit1.add_gate(T=1, key=(0,1), gate=quasar.Gate.CNOT)\n",
    "circuit1.add_gate(T=2, key=0, gate=quasar.Gate.Ry(theta=0.0))\n",
    "circuit1.add_gate(T=2, key=1, gate=quasar.Gate.Ry(theta=0.0))\n",
    "circuit1.add_gate(T=3, key=(0,1), gate=quasar.Gate.CNOT)\n",
    "circuit1.add_gate(T=4, key=0, gate=quasar.Gate.Ry(theta=0.0))\n",
    "circuit1.add_gate(T=4, key=1, gate=quasar.Gate.Ry(theta=0.0))\n",
    "print(circuit1)\n",
    "print('')\n",
    "print(circuit1.param_str)"
   ]
  },
  {
   "cell_type": "markdown",
   "metadata": {},
   "source": [
    "But, it would get old typing all that out over and over again if we built a larger circuit with many $SO(4)$ gates in it. One solution is to declare a recipe for a new `Gate` that directly implements the action of the whole circuit above. To help with that, we have provided functionality for the user to specify the fine details of a `Gate` through the `__init__` function:"
   ]
  },
  {
   "cell_type": "code",
   "execution_count": 3,
   "metadata": {},
   "outputs": [
    {
     "name": "stdout",
     "output_type": "stream",
     "text": [
      "Help on function __init__ in module quasar.quasar:\n",
      "\n",
      "__init__(self, N, Ufun, params, name, ascii_symbols)\n",
      "    Initializer. Params are set as object attributes.\n",
      "    \n",
      "    Params:\n",
      "        N (int > 0) - the dimensionality of the quantum gate, e.g, 1 for\n",
      "            1-body, 2 for 2-body, etc.\n",
      "        Ufun (function of OrderedDict of str : float -> np.ndarray of shape\n",
      "            (2**N,)*2) - a function which generates the unitary\n",
      "            matrix for this gate from the current parameter set.\n",
      "        params (OrderedDict of str : float) - the dictionary of initial\n",
      "            gate parameters.\n",
      "        name (str) - a simple name for the gate, e.g., 'CNOT'\n",
      "        ascii_symbols (list of str of len N) - a list of ASCII symbols for\n",
      "            each active qubit of the gate, for use in generating textual diagrams, e.g.,\n",
      "            ['@', 'X'] for CNOT.\n",
      "\n"
     ]
    }
   ],
   "source": [
    "help(quasar.Gate.__init__)"
   ]
  },
  {
   "cell_type": "markdown",
   "metadata": {},
   "source": [
    "The main deliverable is to write a function that takes an `OrderedDict` of params and returns the $2^N \\times 2^N$ `np.ndarray` \"$\\hat U$\" of `dtype=np.complex128` (the unitary matrix defining the gate operation) for a given set of parameters. For instance:"
   ]
  },
  {
   "cell_type": "code",
   "execution_count": 18,
   "metadata": {},
   "outputs": [],
   "source": [
    "def composite_so4_u(params):\n",
    "    \n",
    "    theta1 = params['theta1']\n",
    "    theta2 = params['theta2']\n",
    "    theta3 = params['theta3']\n",
    "    theta4 = params['theta4']\n",
    "    theta5 = params['theta5']\n",
    "    theta6 = params['theta6']\n",
    "        \n",
    "    U12 = np.kron(quasar.Matrix.Ry(theta=theta1), quasar.Matrix.Ry(theta=theta2))\n",
    "    U34 = np.kron(quasar.Matrix.Ry(theta=theta3), quasar.Matrix.Ry(theta=theta4))\n",
    "    U56 = np.kron(quasar.Matrix.Ry(theta=theta5), quasar.Matrix.Ry(theta=theta6))\n",
    "        \n",
    "    U = np.dot(quasar.Matrix.CNOT, U12)\n",
    "    U = np.dot(U34, U)\n",
    "    U = np.dot(quasar.Matrix.CNOT, U)\n",
    "    U = np.dot(U56, U)\n",
    "        \n",
    "    return U"
   ]
  },
  {
   "cell_type": "markdown",
   "metadata": {},
   "source": [
    "We then write a method to build a custom $SO(4)$ gate, which calls the `Gate` `__init__` method with the $\\hat U$ function of the previous block, initial parameters, and a few other attributes declaring size `N`, gate name `name`, and a list of ASCII symbols `ascii_symbols` to use in displaying ASCII circuit diagrams:"
   ]
  },
  {
   "cell_type": "code",
   "execution_count": null,
   "metadata": {},
   "outputs": [],
   "source": [
    "def composite_so4(\n",
    "    theta1=0.0,\n",
    "    theta2=0.0,\n",
    "    theta3=0.0,\n",
    "    theta4=0.0,\n",
    "    theta5=0.0,\n",
    "    theta6=0.0,\n",
    "    ):\n",
    "    \n",
    "    params = collections.OrderedDict([\n",
    "        ('theta1', theta1),\n",
    "        ('theta2', theta2),\n",
    "        ('theta3', theta3),\n",
    "        ('theta4', theta4),\n",
    "        ('theta5', theta5),\n",
    "        ('theta6', theta6),\n",
    "    ])\n",
    "    \n",
    "    return quasar.Gate(\n",
    "        N=2,\n",
    "        Ufun=composite_so4_u,\n",
    "        params=params,\n",
    "        name='SO4',\n",
    "        ascii_symbols=['SO4A', 'SO4B']\n",
    "        ) "
   ]
  },
  {
   "cell_type": "markdown",
   "metadata": {},
   "source": [
    "We can now build a much simpler circuit with just 1x composite $SO(4)$ gate:"
   ]
  },
  {
   "cell_type": "code",
   "execution_count": 19,
   "metadata": {},
   "outputs": [
    {
     "name": "stdout",
     "output_type": "stream",
     "text": [
      "T   : |0   |\n",
      "            \n",
      "|0> : -SO4A-\n",
      "       |    \n",
      "|1> : -SO4B-\n",
      "\n",
      "T   : |0   |\n",
      "\n",
      "T     Qubits     Name       Gate      :                    Value\n",
      "0     (0, 1)     theta1     SO4       :   0.0000000000000000E+00\n",
      "0     (0, 1)     theta2     SO4       :   0.0000000000000000E+00\n",
      "0     (0, 1)     theta3     SO4       :   0.0000000000000000E+00\n",
      "0     (0, 1)     theta4     SO4       :   0.0000000000000000E+00\n",
      "0     (0, 1)     theta5     SO4       :   0.0000000000000000E+00\n",
      "0     (0, 1)     theta6     SO4       :   0.0000000000000000E+00\n",
      "\n"
     ]
    }
   ],
   "source": [
    "circuit2 = quasar.Circuit(N=2)\n",
    "circuit2.add_gate(T=0, key=(0,1), gate=composite_so4())\n",
    "print(circuit2)\n",
    "print('')\n",
    "print(circuit2.param_str)"
   ]
  },
  {
   "cell_type": "markdown",
   "metadata": {},
   "source": [
    "You can see the impact of the `ascii_symbols` flag in the output of the `print(circuit2)` statement. Note that the order of parameters of `circuit1` and `circuit2` are logically equivalent. This means we can generate an iterable list of test parameters:"
   ]
  },
  {
   "cell_type": "code",
   "execution_count": 25,
   "metadata": {},
   "outputs": [
    {
     "name": "stdout",
     "output_type": "stream",
     "text": [
      "[1.26894415 5.23400846 4.92822378 3.6233016  2.72294261 3.72618642]\n"
     ]
    }
   ],
   "source": [
    "theta = 2.0 * np.pi * np.random.rand(6)\n",
    "print(theta)"
   ]
  },
  {
   "cell_type": "markdown",
   "metadata": {},
   "source": [
    "And then call `set_param_values` with these parameters for both `circuit1` and `circuit2`. Simulation then indicates that the circuits are functionally equivalent:"
   ]
  },
  {
   "cell_type": "code",
   "execution_count": 26,
   "metadata": {},
   "outputs": [
    {
     "name": "stdout",
     "output_type": "stream",
     "text": [
      "wfn1: [ 0.514168  +0.j  0.55594969+0.j -0.65002155+0.j  0.06342861+0.j]\n",
      "wfn2: [ 0.514168  +0.j  0.55594969+0.j -0.65002155+0.j  0.06342861+0.j]\n",
      "Fidelity:   1.0000000000000009E+00\n"
     ]
    }
   ],
   "source": [
    "circuit1.set_param_values(theta)\n",
    "circuit2.set_param_values(theta)\n",
    "wfn1 = circuit1.simulate()\n",
    "wfn2 = circuit2.simulate()\n",
    "print('wfn1: %s' % wfn1)\n",
    "print('wfn2: %s' % wfn2)\n",
    "print('Fidelity: %24.16E' % np.abs(np.dot(wfn1.conj(), wfn2)**2))"
   ]
  },
  {
   "cell_type": "markdown",
   "metadata": {},
   "source": [
    "Using the new composite gate can make for shorter codes, can make it easier to set certain parameters, and may improve simulation runtimes (as less gate operations are performed). "
   ]
  }
 ],
 "metadata": {
  "kernelspec": {
   "display_name": "Python 3",
   "language": "python",
   "name": "python3"
  },
  "language_info": {
   "codemirror_mode": {
    "name": "ipython",
    "version": 3
   },
   "file_extension": ".py",
   "mimetype": "text/x-python",
   "name": "python",
   "nbconvert_exporter": "python",
   "pygments_lexer": "ipython3",
   "version": "3.7.1"
  }
 },
 "nbformat": 4,
 "nbformat_minor": 2
}
