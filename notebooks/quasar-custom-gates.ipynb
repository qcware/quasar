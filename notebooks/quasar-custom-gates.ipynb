{
 "cells": [
  {
   "cell_type": "markdown",
   "metadata": {},
   "source": [
    "# Custom Gates"
   ]
  },
  {
   "cell_type": "markdown",
   "metadata": {},
   "source": [
    "## Phase Gate Example"
   ]
  },
  {
   "cell_type": "markdown",
   "metadata": {},
   "source": [
    "This tutorial shows how to extend `quasar` with user-specified custom gates with parameters (parameter-free custom gates should usually be built with the `U1` and `U2` static methods of class `Gate`)."
   ]
  },
  {
   "cell_type": "code",
   "execution_count": null,
   "metadata": {},
   "outputs": [],
   "source": [
    "import numpy as np\n",
    "import collections\n",
    "import quasar\n",
    "backend = quasar.QuasarSimulatorBackend()"
   ]
  },
  {
   "cell_type": "markdown",
   "metadata": {},
   "source": [
    "Here we will build a custom one-qubit gate to apply a parametrized phase $\\exp(-i \\theta)$ with parameter $\\theta$ to the $|1\\rangle$ state, and leave the $|0\\rangle$ qubit state unaltered. To help with that, `quasar` provides functionality for the user to specify the fine details of a `Gate` through the `__init__` function:"
   ]
  },
  {
   "cell_type": "code",
   "execution_count": null,
   "metadata": {},
   "outputs": [],
   "source": [
    "help(quasar.Gate.__init__)"
   ]
  },
  {
   "cell_type": "markdown",
   "metadata": {},
   "source": [
    "The main deliverable is to write a function that takes an `OrderedDict` of params and returns the $2^N \\times 2^N$ `np.ndarray` \"$\\hat U$\" of `dtype=np.complex128` (the unitary matrix defining the gate operation) for a given set of parameters. For instance:"
   ]
  },
  {
   "cell_type": "code",
   "execution_count": null,
   "metadata": {},
   "outputs": [],
   "source": [
    "def fancy_phase_gate(theta=0.0):\n",
    "    \n",
    "    return quasar.Gate(\n",
    "        nqubit=1,\n",
    "        operator_function=lambda x : np.array([[1.0, 0.0], [0.0, np.exp(-1.j * x['theta'])]], dtype=np.complex128),\n",
    "        parameters=collections.OrderedDict([('theta', theta)]),\n",
    "        name='P',\n",
    "        ascii_symbols=['P'],\n",
    "        )"
   ]
  },
  {
   "cell_type": "markdown",
   "metadata": {},
   "source": [
    "Now we can use this phase gate, in concert with the `add_gate` method of `Circuit`:"
   ]
  },
  {
   "cell_type": "code",
   "execution_count": null,
   "metadata": {},
   "outputs": [],
   "source": [
    "circuit = quasar.Circuit().H(0).add_gate(fancy_phase_gate(theta=0.4), 0)\n",
    "print(circuit)"
   ]
  },
  {
   "cell_type": "markdown",
   "metadata": {},
   "source": [
    "And check that it acts as intended:"
   ]
  },
  {
   "cell_type": "code",
   "execution_count": null,
   "metadata": {},
   "outputs": [],
   "source": [
    "print(backend.run_statevector(circuit))"
   ]
  },
  {
   "cell_type": "markdown",
   "metadata": {},
   "source": [
    "If this gate is to be used many times, it might be convenient to add it to the `Circuit` class:"
   ]
  },
  {
   "cell_type": "code",
   "execution_count": null,
   "metadata": {},
   "outputs": [],
   "source": [
    "def _circuit_fancy_phase_gate(\n",
    "    self,\n",
    "    qubit,\n",
    "    theta=0.0,\n",
    "    **kwargs):\n",
    "    \n",
    "    return self.add_gate(\n",
    "        gate=fancy_phase_gate(theta=theta),\n",
    "        qubits=(qubit,),\n",
    "        **kwargs)\n",
    "quasar.Circuit.fancy_phase = _circuit_fancy_phase_gate"
   ]
  },
  {
   "cell_type": "code",
   "execution_count": null,
   "metadata": {},
   "outputs": [],
   "source": [
    "circuit = quasar.Circuit().H(0).fancy_phase(0, theta=0.4)\n",
    "print(circuit)"
   ]
  },
  {
   "cell_type": "markdown",
   "metadata": {},
   "source": [
    "## SO(4) Gate Example"
   ]
  },
  {
   "cell_type": "markdown",
   "metadata": {},
   "source": [
    "In a more-extended example, we will build a composite 2-qubit gate to cover all rotations in $SO(4)$ according to the description in https://arxiv.org/pdf/1203.0722.pdf (Figure 1)."
   ]
  },
  {
   "cell_type": "code",
   "execution_count": null,
   "metadata": {},
   "outputs": [],
   "source": [
    "import numpy as np\n",
    "import collections\n",
    "import quasar"
   ]
  },
  {
   "cell_type": "markdown",
   "metadata": {},
   "source": [
    "In terms of more conventional gates, the $SO(4)$ gate can be written as 6x $R_y$ gates (each with parameter $\\theta$) and 2x CNOT gates."
   ]
  },
  {
   "cell_type": "code",
   "execution_count": null,
   "metadata": {},
   "outputs": [],
   "source": [
    "circuit1 = quasar.Circuit()\n",
    "circuit1.Ry(0).Ry(1).CX(0,1).Ry(0).Ry(1).CX(0,1).Ry(0).Ry(1)\n",
    "print(circuit1)\n",
    "print('')\n",
    "print(circuit1.parameter_str)"
   ]
  },
  {
   "cell_type": "markdown",
   "metadata": {},
   "source": [
    "But, it would get old typing all that out over and over again if we built a larger circuit with many $SO(4)$ gates in it. One solution is to declare a recipe for a new `Gate` that directly implements the action of the whole circuit above (another solution is to use the `add_circuit` function - see the notebook on circuit composition for this). To help with that, we have provided functionality for the user to specify the fine details of a `Gate` through the `__init__` function:"
   ]
  },
  {
   "cell_type": "code",
   "execution_count": null,
   "metadata": {},
   "outputs": [],
   "source": [
    "help(quasar.Gate.__init__)"
   ]
  },
  {
   "cell_type": "markdown",
   "metadata": {},
   "source": [
    "The main deliverable is to write a function that takes an `OrderedDict` of params and returns the $2^N \\times 2^N$ `np.ndarray` \"$\\hat U$\" of `dtype=np.complex128` (the unitary matrix defining the gate operation) for a given set of parameters. For instance:"
   ]
  },
  {
   "cell_type": "code",
   "execution_count": null,
   "metadata": {},
   "outputs": [],
   "source": [
    "def composite_so4_u(params):\n",
    "    \n",
    "    theta1 = params['theta1']\n",
    "    theta2 = params['theta2']\n",
    "    theta3 = params['theta3']\n",
    "    theta4 = params['theta4']\n",
    "    theta5 = params['theta5']\n",
    "    theta6 = params['theta6']\n",
    "        \n",
    "    U12 = np.kron(quasar.Matrix.Ry(theta=theta1), quasar.Matrix.Ry(theta=theta2))\n",
    "    U34 = np.kron(quasar.Matrix.Ry(theta=theta3), quasar.Matrix.Ry(theta=theta4))\n",
    "    U56 = np.kron(quasar.Matrix.Ry(theta=theta5), quasar.Matrix.Ry(theta=theta6))\n",
    "        \n",
    "    U = np.dot(quasar.Matrix.CX, U12)\n",
    "    U = np.dot(U34, U)\n",
    "    U = np.dot(quasar.Matrix.CX, U)\n",
    "    U = np.dot(U56, U)\n",
    "        \n",
    "    return U"
   ]
  },
  {
   "cell_type": "markdown",
   "metadata": {},
   "source": [
    "We then write a method to build a custom $SO(4)$ gate, which calls the `Gate` `__init__` method with the $\\hat U$ function of the previous block, initial parameters, and a few other attributes declaring size `N`, gate name `name`, and a list of ASCII symbols `ascii_symbols` to use in displaying ASCII circuit diagrams:"
   ]
  },
  {
   "cell_type": "code",
   "execution_count": null,
   "metadata": {},
   "outputs": [],
   "source": [
    "def composite_so4(\n",
    "    theta1=0.0,\n",
    "    theta2=0.0,\n",
    "    theta3=0.0,\n",
    "    theta4=0.0,\n",
    "    theta5=0.0,\n",
    "    theta6=0.0,\n",
    "    ):\n",
    "    \n",
    "    params = collections.OrderedDict([\n",
    "        ('theta1', theta1),\n",
    "        ('theta2', theta2),\n",
    "        ('theta3', theta3),\n",
    "        ('theta4', theta4),\n",
    "        ('theta5', theta5),\n",
    "        ('theta6', theta6),\n",
    "    ])\n",
    "    \n",
    "    return quasar.Gate(\n",
    "        nqubit=2,\n",
    "        operator_function=composite_so4_u,\n",
    "        parameters=params,\n",
    "        name='SO4',\n",
    "        ascii_symbols=['SO4A', 'SO4B']\n",
    "        ) "
   ]
  },
  {
   "cell_type": "markdown",
   "metadata": {},
   "source": [
    "We can now build a much simpler circuit with just 1x composite $SO(4)$ gate:"
   ]
  },
  {
   "cell_type": "code",
   "execution_count": null,
   "metadata": {},
   "outputs": [],
   "source": [
    "circuit2 = quasar.Circuit()\n",
    "circuit2.add_gate(times=0, qubits=(0,1), gate=composite_so4())\n",
    "print(circuit2)\n",
    "print('')\n",
    "print(circuit2.parameter_str)"
   ]
  },
  {
   "cell_type": "markdown",
   "metadata": {},
   "source": [
    "You can see the impact of the `ascii_symbols` flag in the output of the `print(circuit2)` statement. Note that the order of parameters of `circuit1` and `circuit2` are logically equivalent. This means we can generate an iterable list of test parameters:"
   ]
  },
  {
   "cell_type": "code",
   "execution_count": null,
   "metadata": {},
   "outputs": [],
   "source": [
    "theta = 2.0 * np.pi * np.random.rand(6)\n",
    "print(theta)"
   ]
  },
  {
   "cell_type": "markdown",
   "metadata": {},
   "source": [
    "And then call `set_parameter_values` with these parameters for both `circuit1` and `circuit2`. Statevector simulation then indicates that the circuits are functionally equivalent:"
   ]
  },
  {
   "cell_type": "code",
   "execution_count": null,
   "metadata": {},
   "outputs": [],
   "source": [
    "circuit1.set_parameter_values(theta)\n",
    "circuit2.set_parameter_values(theta)\n",
    "statevector1 = backend.run_statevector(circuit1)\n",
    "statevector2 = backend.run_statevector(circuit2)\n",
    "print('statevector1: %s' % statevector1)\n",
    "print('statevector2: %s' % statevector2)\n",
    "print('Fidelity: %24.16E' % np.abs(np.dot(statevector1.conj(), statevector2)**2))"
   ]
  },
  {
   "cell_type": "markdown",
   "metadata": {},
   "source": [
    "Using the new composite gate can make for shorter codes, can make it easier to set certain parameters, and may improve simulation runtimes (as less gate operations are performed). "
   ]
  },
  {
   "cell_type": "markdown",
   "metadata": {},
   "source": [
    "Advanced users should consider providing the `adjoint_function` or marking the gate as `involutary` to provide efficient recipes for the `Gate`-level adjoint of a given custom `Gate` object."
   ]
  }
 ],
 "metadata": {
  "kernelspec": {
   "display_name": "Python 3",
   "language": "python",
   "name": "python3"
  },
  "language_info": {
   "codemirror_mode": {
    "name": "ipython",
    "version": 3
   },
   "file_extension": ".py",
   "mimetype": "text/x-python",
   "name": "python",
   "nbconvert_exporter": "python",
   "pygments_lexer": "ipython3",
   "version": "3.7.1"
  }
 },
 "nbformat": 4,
 "nbformat_minor": 2
}
